{
 "cells": [
  {
   "cell_type": "markdown",
   "metadata": {
    "cell_id": "00000-e61b8f99-434b-4848-a553-4bbae63045cc",
    "deepnote_cell_height": 156.390625,
    "deepnote_cell_type": "markdown",
    "id": "XUZ1dFPHzAHl"
   },
   "source": [
    "<h1><center>Laboratorio 9: Benchmark Estadístico con Reddit 🧮</center></h1>\n",
    "\n",
    "<center><strong>MDS7202: Laboratorio de Programación Científica para Ciencia de Datos</strong></center>"
   ]
  },
  {
   "cell_type": "markdown",
   "metadata": {
    "cell_id": "00001-231091e0-d755-42af-83b0-809301b54cfe",
    "deepnote_cell_height": 165.1875,
    "deepnote_cell_type": "markdown",
    "id": "UD8X1uhGzAHq"
   },
   "source": [
    "### Cuerpo Docente:\n",
    "\n",
    "- Profesor: Pablo Badilla\n",
    "- Auxiliar: Ignacio Meza D.\n",
    "- Ayudante: Patricio Ortiz"
   ]
  },
  {
   "cell_type": "markdown",
   "metadata": {
    "cell_id": "00002-65747a66-3e34-4df6-9e4a-c63f6d47f1f1",
    "deepnote_cell_height": 171.796875,
    "deepnote_cell_type": "markdown",
    "id": "tXflExjqzAHr"
   },
   "source": [
    "### Equipo: SUPER IMPORTANTE - notebooks sin nombre no serán revisados\n",
    "\n",
    "- Nombre de alumno 1:Pablo Esteban Zúñiga Varela\n",
    "- Nombre de alumno 2:\n"
   ]
  },
  {
   "cell_type": "markdown",
   "metadata": {
    "cell_id": "00003-f842b0e0-851a-405c-a104-53fa53260fa5",
    "deepnote_cell_height": 62,
    "deepnote_cell_type": "markdown",
    "id": "AD-V0bbZzAHr"
   },
   "source": [
    "### **Link de repositorio de GitHub:** `https://github.com/PabloZV/Laboratorio-de-Programacion-Cientifica-para-Ciencia-de-Datos`"
   ]
  },
  {
   "cell_type": "markdown",
   "metadata": {
    "cell_id": "00004-d2b77039-39dd-4985-bec7-914bd5a67d98",
    "deepnote_cell_height": 669,
    "deepnote_cell_type": "markdown",
    "id": "6uBLPj1PzAHs"
   },
   "source": [
    "# Temas a tratar\n",
    "\n",
    "- Optimización de Código en Python.\n",
    "- Utilización de librerías para medir el tiempo de ejecución de funciones.\n",
    "- Métodos para optimizar el rendimiento de las funciones.\n",
    "\n",
    "# Reglas:\n",
    "\n",
    "- Fecha de entrega: 3/12/2021\n",
    "- **Grupos de 2 personas**\n",
    "- **Ausentes** deberán realizar la actividad solos. \n",
    "- Cualquier duda fuera del horario de clases al foro. Mensajes al equipo docente serán respondidos por este medio.\n",
    "- Prohibidas las copias. \n",
    "- Pueden usar cualquer matrial del curso que estimen conveniente.\n",
    "\n",
    "# Objetivos principales del laboratorio\n",
    "\n",
    "- Utilizar la API de Reddit a partir de la librería `praw` y visualizar cuales post son más probables que sean puntuados positivamente.\n",
    "- Utilizar `cache_lru` para cachear resultados de funciones.\n",
    "- Aplicar un atajo estadístico para obtener la mean posterior de datos.\n",
    "- Medir el tiempo de ejecución como también el uso de memoria de la función anterior.\n",
    "- Optimizar la función anterior a través de `numba`."
   ]
  },
  {
   "cell_type": "markdown",
   "metadata": {
    "cell_id": "00005-5a5cbaa6-e809-4c62-9709-7e650430b7ba",
    "deepnote_cell_height": 52.390625,
    "deepnote_cell_type": "markdown",
    "id": "MhISwri4zAHy"
   },
   "source": [
    "#Importamos librerias utiles 😸"
   ]
  },
  {
   "cell_type": "code",
   "execution_count": 6,
   "metadata": {
    "cell_id": "00006-375e81a0-63bd-4f61-a2c2-561059d97241",
    "deepnote_cell_height": 168,
    "deepnote_cell_type": "code",
    "deepnote_to_be_reexecuted": false,
    "execution_millis": 214,
    "execution_start": 1638299125300,
    "source_hash": "251d15fd",
    "tags": []
   },
   "outputs": [
    {
     "name": "stdout",
     "output_type": "stream",
     "text": [
      "The autoreload extension is already loaded. To reload it, use:\n",
      "  %reload_ext autoreload\n"
     ]
    }
   ],
   "source": [
    "%load_ext autoreload\n",
    "%autoreload 2\n"
   ]
  },
  {
   "cell_type": "code",
   "execution_count": 7,
   "metadata": {
    "cell_id": "00006-00a9ab85-c6e5-4b3d-b6ba-2004ff409a6d",
    "deepnote_cell_height": 432.1875,
    "deepnote_cell_type": "code",
    "deepnote_to_be_reexecuted": false,
    "executionInfo": {
     "elapsed": 10379,
     "status": "ok",
     "timestamp": 1627484630448,
     "user": {
      "displayName": "IGNACIO ALEJANDRO MEZA",
      "photoUrl": "",
      "userId": "17011121633069169364"
     },
     "user_tz": 240
    },
    "execution_millis": 24248,
    "execution_start": 1638299092849,
    "id": "cO7AQ9ciQ59U",
    "source_hash": "1240e4a3"
   },
   "outputs": [],
   "source": [
    "%%capture\n",
    "!pip install praw\n",
    "!pip install line_profiler\n",
    "!pip install numba\n",
    "\n",
    "%load_ext autoreload\n",
    "%autoreload 2\n",
    "\n",
    "import sys\n",
    "import praw\n",
    "import time\n",
    "import numpy as np\n",
    "import pandas as pd\n",
    "from numba import jit\n",
    "import plotly.express as px\n",
    "from functools import lru_cache\n",
    "from IPython.core.display import Image"
   ]
  },
  {
   "cell_type": "markdown",
   "metadata": {
    "cell_id": "00007-853a08fe-06d7-4051-b347-1e29226924ee",
    "deepnote_cell_height": 82,
    "deepnote_cell_type": "markdown",
    "id": "xpOTbQcxbSiy"
   },
   "source": [
    "# 1. Recomendando Posts de Subreddit"
   ]
  },
  {
   "cell_type": "markdown",
   "metadata": {
    "cell_id": "00008-ca941d35-4377-406f-8b9c-cdf3ce096c64",
    "deepnote_cell_height": 376,
    "deepnote_cell_type": "markdown",
    "id": "3Q93vbNS25bM",
    "owner_user_id": "d50c3174-babb-4861-9c71-7e3af66458b8"
   },
   "source": [
    "<p align=\"center\">\n",
    "  <img src=\"https://preview.redd.it/3sxusxcjge791.png?auto=webp&s=88bc1f9a3c59eafda24b0e32dd87d7cf596d205d\">\n",
    "</p>"
   ]
  },
  {
   "cell_type": "markdown",
   "metadata": {
    "cell_id": "00009-bb6e6ae1-d939-400e-aa39-a9b5cf6fe725",
    "deepnote_cell_height": 245.59375,
    "deepnote_cell_type": "markdown",
    "id": "jnmZfFpxTTYX"
   },
   "source": [
    "Unos intrépidos alumnos del curso, quienes frecuentemente participan en subreddits y foros de reviews, se preguntan lo siguiente: ¿Podremos confiar que un post es bueno, si este tiene solamente 1 o 3 votos positivos?. los compañeros, creen que esto claramente no representa una opinión general, ya que estamos mucho menos seguros acerca de la verdadera proporción de votos a favor de los comentarios con pocos datos. ¿Pero cómo podemos obtener una representación más creíble para este problema?.\n",
    "\n",
    "Lo señalado forma parte de un problema estadísticos, donde a través del cálculo de la posterior se puede conocer que tan probable es que un post sea bueno. Para efectos de este laboratorio, no se exige un conocimiento previo para resolver este problema, simplemente se deberá aplicar las ecuaciones presentadas más adelante (De igual forma si quedan interesados sobre el tema se les invita a tomar el ramo [CC6104](https://github.com/dccuchile/CC6104))."
   ]
  },
  {
   "cell_type": "markdown",
   "metadata": {
    "cell_id": "00010-11ff1022-47d3-4e16-a067-862aff4fa1e6",
    "deepnote_cell_height": 70,
    "deepnote_cell_type": "markdown",
    "id": "xdbrb3AMi6EF"
   },
   "source": [
    "## 1.1 Obtención de Subrredits y Análisis [1 Punto]"
   ]
  },
  {
   "cell_type": "markdown",
   "metadata": {
    "cell_id": "00011-098a5246-642a-47aa-9f10-2261697c2603",
    "deepnote_cell_height": 363.796875,
    "deepnote_cell_type": "markdown",
    "id": "YI-IRspcjPee"
   },
   "source": [
    "Para estudiar que tan probable es que un post sea positivo se comenzará cargando datos reales del subreddit chile desde reddit (si usted desea puede cambiar el subreddit a uno de su gusto). Para esto le proponemos la utilización de la función que aparece mas abajo, la que presenta un usuario ya creado por el equipo docente. Dese un tiempo para entender que hace cada parte de la función, visualizando que se obtiene de estas.\n",
    "\n",
    "Revisada la función, utilice un **perfilador** para monitorear el tiempo y memoria que les toma a cada liena de código para ser ejecutada. Señale cuales son los procesos que mas tiempo consumen en la ejecución del Código, comentando si es posible mejorar el desempeño de la función.\n",
    "\n",
    "**TO-DO:**\n",
    "- [X] Estudiar la función propuesta por el equipo docente.\n",
    "- [X] Estudiar los tiempos de ejecución del código a través de un perfilador.\n",
    "- [X] Estudiar la memoria ocupada por el código a través de un perfilador.\n",
    "- [X] Comente los resultados. ¿Qué lineas ocupan más memoria o más/menos tiempo?¿Por qué?"
   ]
  },
  {
   "cell_type": "code",
   "execution_count": 10,
   "metadata": {
    "cell_id": "00012-48fd53e5-c751-4583-b193-5f95afab5819",
    "deepnote_cell_height": 675,
    "deepnote_cell_type": "code",
    "deepnote_to_be_reexecuted": false,
    "executionInfo": {
     "elapsed": 7,
     "status": "ok",
     "timestamp": 1627484630449,
     "user": {
      "displayName": "IGNACIO ALEJANDRO MEZA",
      "photoUrl": "",
      "userId": "17011121633069169364"
     },
     "user_tz": 240
    },
    "execution_millis": 1,
    "execution_start": 1637947497504,
    "id": "R4PQbceVPJzh",
    "source_hash": "a55fad36"
   },
   "outputs": [
    {
     "name": "stderr",
     "output_type": "stream",
     "text": [
      "UsageError: Line magic function `%%file` not found.\n"
     ]
    }
   ],
   "source": [
    "def praw_reddit(nombre_subreddit=\"chile\", n_hot=1000):\n",
    "    reddit = praw.Reddit(\n",
    "        client_id=\"-w2hyFINxZ8T3g\",\n",
    "        client_secret=\"zGPCI4s3g6Ic6AsRi7vIpP0NoxbFdw\",\n",
    "        password=\"ClasesMDS7202\",\n",
    "        user_agent=\"Clases\",\n",
    "        username=\"DocenciaDataScience\",\n",
    "        check_for_async=False,\n",
    "    )\n",
    "    subreddit = reddit.subreddit(nombre_subreddit)\n",
    "\n",
    "    votes, post, url = {}, {}, {}\n",
    "    top_submissions = list(subreddit.hot(limit=n_hot))\n",
    "    for it, top_n in enumerate(range(50, len(top_submissions), 50)):\n",
    "        top_n_submissions = top_submissions[:top_n]\n",
    "        upvotes, downvotes, url[it], post[it] = [], [], [], []\n",
    "\n",
    "        for submission in top_n_submissions:\n",
    "            try:\n",
    "                ratio = submission.upvote_ratio\n",
    "                ups = int(\n",
    "                    round((ratio * submission.score) / (2 * ratio - 1))\n",
    "                    if ratio != 0.5\n",
    "                    else round(submission.score / 2)\n",
    "                )\n",
    "                upvotes.append(ups)\n",
    "                downvotes.append(ups - submission.score)\n",
    "                post[it].append(submission.title)\n",
    "                url[it].append(submission.url)\n",
    "            except Exception as e:\n",
    "                continue\n",
    "        votes[it] = np.array([upvotes, downvotes]).T\n",
    "    return votes, post, url\n",
    "\n",
    "%%file praw_reddit.py\n",
    "import praw\n",
    "import numpy as np\n",
    "\n",
    "def praw_reddit(nombre_subreddit=\"chile\", n_hot=1000):\n",
    "    reddit = praw.Reddit(\n",
    "        client_id=\"-w2hyFINxZ8T3g\",\n",
    "        client_secret=\"zGPCI4s3g6Ic6AsRi7vIpP0NoxbFdw\",\n",
    "        password=\"ClasesMDS7202\",\n",
    "        user_agent=\"Clases\",\n",
    "        username=\"DocenciaDataScience\",\n",
    "        check_for_async=False,\n",
    "    )\n",
    "    subreddit = reddit.subreddit(nombre_subreddit)\n",
    "\n",
    "    votes, post, url = {}, {}, {}\n",
    "    top_submissions = list(subreddit.hot(limit=n_hot))\n",
    "    for it, top_n in enumerate(range(50, len(top_submissions), 50)):\n",
    "        top_n_submissions = top_submissions[:top_n]\n",
    "        upvotes, downvotes, url[it], post[it] = [], [], [], []\n",
    "\n",
    "        for submission in top_n_submissions:\n",
    "            try:\n",
    "                ratio = submission.upvote_ratio\n",
    "                ups = int(\n",
    "                    round((ratio * submission.score) / (2 * ratio - 1))\n",
    "                    if ratio != 0.5\n",
    "                    else round(submission.score / 2)\n",
    "                )\n",
    "                upvotes.append(ups)\n",
    "                downvotes.append(ups - submission.score)\n",
    "                post[it].append(submission.title)\n",
    "                url[it].append(submission.url)\n",
    "            except Exception as e:\n",
    "                continue\n",
    "        votes[it] = np.array([upvotes, downvotes]).T\n",
    "    return votes, post, url\n",
    "\n"
   ]
  },
  {
   "cell_type": "code",
   "execution_count": 11,
   "metadata": {
    "cell_id": "00013-c9f108eb-9054-438f-9360-21669aced1bb",
    "deepnote_cell_height": 81,
    "deepnote_cell_type": "code",
    "deepnote_to_be_reexecuted": false,
    "executionInfo": {
     "elapsed": 14052,
     "status": "ok",
     "timestamp": 1627484649043,
     "user": {
      "displayName": "IGNACIO ALEJANDRO MEZA",
      "photoUrl": "",
      "userId": "17011121633069169364"
     },
     "user_tz": 240
    },
    "execution_millis": 11242,
    "execution_start": 1637947497523,
    "id": "v4rjrWf_pJHJ",
    "source_hash": "4b31fefe"
   },
   "outputs": [
    {
     "name": "stdout",
     "output_type": "stream",
     "text": [
      "CPU times: user 248 ms, sys: 6.3 ms, total: 254 ms\n",
      "Wall time: 19.2 s\n"
     ]
    }
   ],
   "source": [
    "%%time\n",
    "votes, post, url = praw_reddit()"
   ]
  },
  {
   "cell_type": "code",
   "execution_count": 89,
   "metadata": {
    "cell_id": "00014-ab26b98a-d355-4ce3-909a-c76ea78ab2b3",
    "deepnote_cell_height": 84,
    "deepnote_cell_type": "code"
   },
   "outputs": [
    {
     "name": "stdout",
     "output_type": "stream",
     "text": [
      "Timer unit: 1e-06 s\n",
      "\n",
      "Total time: 17.3982 s\n",
      "File: /home/pablo/Documents/U/Lab9/praw_reddit.py\n",
      "Function: praw_reddit at line 4\n",
      "\n",
      "Line #      Hits         Time  Per Hit   % Time  Line Contents\n",
      "==============================================================\n",
      "     4                                           def praw_reddit(nombre_subreddit=\"chile\", n_hot=1000):\n",
      "     5         2        663.0    331.5      0.0      reddit = praw.Reddit(\n",
      "     6         1          0.0      0.0      0.0          client_id=\"-w2hyFINxZ8T3g\",\n",
      "     7         1          1.0      1.0      0.0          client_secret=\"zGPCI4s3g6Ic6AsRi7vIpP0NoxbFdw\",\n",
      "     8         1          1.0      1.0      0.0          password=\"ClasesMDS7202\",\n",
      "     9         1          1.0      1.0      0.0          user_agent=\"Clases\",\n",
      "    10         1          0.0      0.0      0.0          username=\"DocenciaDataScience\",\n",
      "    11         1          1.0      1.0      0.0          check_for_async=False,\n",
      "    12                                               )\n",
      "    13         1         21.0     21.0      0.0      subreddit = reddit.subreddit(nombre_subreddit)\n",
      "    14                                           \n",
      "    15         1          0.0      0.0      0.0      votes, post, url = {}, {}, {}\n",
      "    16         1   17348659.0 17348659.0     99.7      top_submissions = list(subreddit.hot(limit=n_hot))\n",
      "    17        20         23.0      1.1      0.0      for it, top_n in enumerate(range(50, len(top_submissions), 50)):\n",
      "    18        19         59.0      3.1      0.0          top_n_submissions = top_submissions[:top_n]\n",
      "    19        19         48.0      2.5      0.0          upvotes, downvotes, url[it], post[it] = [], [], [], []\n",
      "    20                                           \n",
      "    21      9519       3402.0      0.4      0.0          for submission in top_n_submissions:\n",
      "    22      9500       3110.0      0.3      0.0              try:\n",
      "    23      9500       5591.0      0.6      0.0                  ratio = submission.upvote_ratio\n",
      "    24     19000       6769.0      0.4      0.0                  ups = int(\n",
      "    25      9500       5905.0      0.6      0.0                      round((ratio * submission.score) / (2 * ratio - 1))\n",
      "    26      9500       3321.0      0.3      0.0                      if ratio != 0.5\n",
      "    27       152         79.0      0.5      0.0                      else round(submission.score / 2)\n",
      "    28                                                           )\n",
      "    29      9500       3923.0      0.4      0.0                  upvotes.append(ups)\n",
      "    30      9500       4400.0      0.5      0.0                  downvotes.append(ups - submission.score)\n",
      "    31      9500       5376.0      0.6      0.0                  post[it].append(submission.title)\n",
      "    32      9500       6044.0      0.6      0.0                  url[it].append(submission.url)\n",
      "    33                                                       except Exception as e:\n",
      "    34                                                           continue\n",
      "    35        19        769.0     40.5      0.0          votes[it] = np.array([upvotes, downvotes]).T\n",
      "    36         1          1.0      1.0      0.0      return votes, post, url"
     ]
    }
   ],
   "source": [
    "#Analizamos tiempos de ejecución\n",
    "%reload_ext memory_profiler\n",
    "%reload_ext line_profiler\n",
    "%lprun -f praw_reddit praw_reddit()"
   ]
  },
  {
   "cell_type": "code",
   "execution_count": 90,
   "metadata": {},
   "outputs": [
    {
     "name": "stdout",
     "output_type": "stream",
     "text": [
      "\n"
     ]
    },
    {
     "name": "stdout",
     "output_type": "stream",
     "text": [
      "Filename: /home/pablo/Documents/U/Lab9/praw_reddit.py\n",
      "\n",
      "Line #    Mem usage    Increment  Occurrences   Line Contents\n",
      "=============================================================\n",
      "     4    259.2 MiB    259.2 MiB           1   def praw_reddit(nombre_subreddit=\"chile\", n_hot=1000):\n",
      "     5    259.2 MiB      0.0 MiB           2       reddit = praw.Reddit(\n",
      "     6    259.2 MiB      0.0 MiB           1           client_id=\"-w2hyFINxZ8T3g\",\n",
      "     7    259.2 MiB      0.0 MiB           1           client_secret=\"zGPCI4s3g6Ic6AsRi7vIpP0NoxbFdw\",\n",
      "     8    259.2 MiB      0.0 MiB           1           password=\"ClasesMDS7202\",\n",
      "     9    259.2 MiB      0.0 MiB           1           user_agent=\"Clases\",\n",
      "    10    259.2 MiB      0.0 MiB           1           username=\"DocenciaDataScience\",\n",
      "    11    259.2 MiB      0.0 MiB           1           check_for_async=False,\n",
      "    12                                             )\n",
      "    13    259.2 MiB      0.0 MiB           1       subreddit = reddit.subreddit(nombre_subreddit)\n",
      "    14                                         \n",
      "    15    259.2 MiB      0.0 MiB           1       votes, post, url = {}, {}, {}\n",
      "    16    259.2 MiB      0.0 MiB           1       top_submissions = list(subreddit.hot(limit=n_hot))\n",
      "    17    259.2 MiB      0.0 MiB          20       for it, top_n in enumerate(range(50, len(top_submissions), 50)):\n",
      "    18    259.2 MiB      0.0 MiB          19           top_n_submissions = top_submissions[:top_n]\n",
      "    19    259.2 MiB      0.0 MiB          19           upvotes, downvotes, url[it], post[it] = [], [], [], []\n",
      "    20                                         \n",
      "    21    259.2 MiB      0.0 MiB        9519           for submission in top_n_submissions:\n",
      "    22    259.2 MiB      0.0 MiB        9500               try:\n",
      "    23    259.2 MiB      0.0 MiB        9500                   ratio = submission.upvote_ratio\n",
      "    24    259.2 MiB      0.0 MiB       19000                   ups = int(\n",
      "    25    259.2 MiB      0.0 MiB        9500                       round((ratio * submission.score) / (2 * ratio - 1))\n",
      "    26    259.2 MiB      0.0 MiB        9500                       if ratio != 0.5\n",
      "    27    259.2 MiB      0.0 MiB         190                       else round(submission.score / 2)\n",
      "    28                                                         )\n",
      "    29    259.2 MiB      0.0 MiB        9500                   upvotes.append(ups)\n",
      "    30    259.2 MiB      0.0 MiB        9500                   downvotes.append(ups - submission.score)\n",
      "    31    259.2 MiB      0.0 MiB        9500                   post[it].append(submission.title)\n",
      "    32    259.2 MiB      0.0 MiB        9500                   url[it].append(submission.url)\n",
      "    33                                                     except Exception as e:\n",
      "    34                                                         continue\n",
      "    35    259.2 MiB      0.0 MiB          19           votes[it] = np.array([upvotes, downvotes]).T\n",
      "    36    259.2 MiB      0.0 MiB           1       return votes, post, url"
     ]
    }
   ],
   "source": [
    "#analizamos memoria\n",
    "%reload_ext memory_profiler\n",
    "%reload_ext line_profiler\n",
    "from praw_reddit import praw_reddit\n",
    "%mprun -f praw_reddit praw_reddit()\n"
   ]
  },
  {
   "cell_type": "markdown",
   "metadata": {
    "cell_id": "00015-ba1d4036-9f0c-49c7-885f-be416a89deb8",
    "deepnote_cell_height": 52.390625,
    "deepnote_cell_type": "markdown",
    "id": "-diI_GpXmzqS"
   },
   "source": [
    "**Respuesta:**"
   ]
  },
  {
   "cell_type": "markdown",
   "metadata": {
    "cell_id": "00016-64888967-a91d-455b-9d60-d105f449ae74",
    "deepnote_cell_height": 52.390625,
    "deepnote_cell_type": "markdown",
    "id": "6gdqQBi1m_cu"
   },
   "source": [
    "    Notamos que el proceso que consume más tiempo es subreddit.hot(limit=n_hot), y lo hace significativamente más que los demás comandos\n",
    "    Respecto a la memoria utilizada, notamos que usamos la misma cantidad de memoria todo el tiempo, la ejecución de la función termina con la misma memoria con la que se inicializa. esto puede ser porque la memoria que ocupa en cad aproceso no alacnza a sumar 0.01MB así que no alcanza a observarse a causa de la aproximación de la librería."
   ]
  },
  {
   "cell_type": "markdown",
   "metadata": {
    "cell_id": "00017-2673822e-79de-4fbe-86af-5fd583216f57",
    "deepnote_cell_height": 70,
    "deepnote_cell_type": "markdown",
    "id": "tNDS2OpFnMnH"
   },
   "source": [
    "## 1.2 LRU y Análisis de Tiempo con Cache [1 Punto]"
   ]
  },
  {
   "cell_type": "markdown",
   "metadata": {
    "cell_id": "00018-d9701b8d-f3fe-4cd1-9f59-295dfdaeca48",
    "deepnote_cell_height": 380.796875,
    "deepnote_cell_type": "markdown",
    "id": "i3nsxCbAna4t"
   },
   "source": [
    "Respondan las siguientes preguntas:\n",
    "\n",
    "1.\t¿Qué es la memoria cache y a que se refiere las siglas LRU?\n",
    "2.\t¿Cuáles son los costos que tiene la aplicación de técnicas de Caching?\n",
    "3. ¿Cuál es la consecuencía de ocupar caching en la función anterior?.\n",
    "\n",
    "Respondidas las preguntas, se le solicita que aplique alguna técnica de caching para mejorar el desempeño de la función `praw_reddit`. Para esto compare solo el tiempo de ejecución del algoritmo con y sin caching, señalando el tiempo total de ejecución y el tiempo promedio que le toma ejecutar cada loop a la función. Con lo anterior, ¿es posible visualizar mejoras en este caso?.\n",
    "\n",
    "\n",
    "**TO-DO:**\n",
    "- [X] Responder las preguntas.\n",
    "- [X] Mejorar el código con cache.\n",
    "- [X] Explicar las consecuencias de usar lru_cache sobre praw_reddit"
   ]
  },
  {
   "cell_type": "markdown",
   "metadata": {
    "cell_id": "00019-26287e8f-b23a-4e51-9645-b9fb99a93eea",
    "deepnote_cell_height": 52.390625,
    "deepnote_cell_type": "markdown",
    "id": "fbQPpvYorOAF"
   },
   "source": [
    "**Respuestas Teóricas:**"
   ]
  },
  {
   "cell_type": "markdown",
   "metadata": {
    "cell_id": "00020-9507e876-349d-4beb-94e8-c7adc0bbc210",
    "deepnote_cell_height": 52.390625,
    "deepnote_cell_type": "markdown",
    "id": "RKfLXDs_rO-w"
   },
   "source": [
    "    1) Caché se le llama a cualquier memoria creada con el fin de optimizar algún proceso, y no ser el output principal del proceso en si. Las siglas LRU se refiere a least-recently-used items. Es un tipo de memoria caché que guarda los últimos n objetos utilizados. En pyrhon una implementación está en la librería functools bajo el nombre de lru_cache.\n",
    "    2) Toma más memoria, y dependiendo del tipo de memoria, podría hasta requerir más procesamiento (por ejemplo si la memoria se va modificando continuamente y eso requiere un procesamiento), lo que uaríá más recursos del computador (procesamiento y memoria) a cambio de menores tiempos de ejecusión.\n",
    "    3) Se podría guardar el resultado en RAM de la operación que más demora para que vaya más rápido."
   ]
  },
  {
   "cell_type": "code",
   "execution_count": 108,
   "metadata": {
    "cell_id": "00021-ed8c6162-10ed-414a-a7c0-e5eed7d2715e",
    "deepnote_cell_height": 66,
    "deepnote_cell_type": "code",
    "id": "X0u4WU11rLJd"
   },
   "outputs": [],
   "source": [
    "#declaramos la función original\n",
    "import praw\n",
    "import numpy as np\n",
    "\n",
    "def praw_reddit(nombre_subreddit=\"chile\", n_hot=1000):\n",
    "    reddit = praw.Reddit(\n",
    "        client_id=\"-w2hyFINxZ8T3g\",\n",
    "        client_secret=\"zGPCI4s3g6Ic6AsRi7vIpP0NoxbFdw\",\n",
    "        password=\"ClasesMDS7202\",\n",
    "        user_agent=\"Clases\",\n",
    "        username=\"DocenciaDataScience\",\n",
    "        check_for_async=False,\n",
    "    )\n",
    "    subreddit = reddit.subreddit(nombre_subreddit)\n",
    "\n",
    "    votes, post, url = {}, {}, {}\n",
    "    top_submissions = list(subreddit.hot(limit=n_hot))\n",
    "    for it, top_n in enumerate(range(50, len(top_submissions), 50)):\n",
    "        top_n_submissions = top_submissions[:top_n]\n",
    "        upvotes, downvotes, url[it], post[it] = [], [], [], []\n",
    "\n",
    "        for submission in top_n_submissions:\n",
    "            try:\n",
    "                ratio = submission.upvote_ratio\n",
    "                ups = int(\n",
    "                    round((ratio * submission.score) / (2 * ratio - 1))\n",
    "                    if ratio != 0.5\n",
    "                    else round(submission.score / 2)\n",
    "                )\n",
    "                upvotes.append(ups)\n",
    "                downvotes.append(ups - submission.score)\n",
    "                post[it].append(submission.title)\n",
    "                url[it].append(submission.url)\n",
    "            except Exception as e:\n",
    "                continue\n",
    "        votes[it] = np.array([upvotes, downvotes]).T\n",
    "    return votes, post, url\n",
    "\n"
   ]
  },
  {
   "cell_type": "code",
   "execution_count": 112,
   "metadata": {},
   "outputs": [
    {
     "name": "stdout",
     "output_type": "stream",
     "text": [
      "18.4 s ± 1.05 s per loop (mean ± std. dev. of 7 runs, 1 loop each)\n"
     ]
    }
   ],
   "source": [
    "%%timeit\n",
    "#medimos cuanto demora\n",
    "praw_reddit()"
   ]
  },
  {
   "cell_type": "code",
   "execution_count": 100,
   "metadata": {},
   "outputs": [],
   "source": [
    "import praw\n",
    "import numpy as np\n",
    "\n",
    "@lru_cache(maxsize=100)\n",
    "def cached_praw_reddit(nombre_subreddit=\"chile\", n_hot=1000):\n",
    "    reddit = praw.Reddit(\n",
    "        client_id=\"-w2hyFINxZ8T3g\",\n",
    "        client_secret=\"zGPCI4s3g6Ic6AsRi7vIpP0NoxbFdw\",\n",
    "        password=\"ClasesMDS7202\",\n",
    "        user_agent=\"Clases\",\n",
    "        username=\"DocenciaDataScience\",\n",
    "        check_for_async=False,\n",
    "    )\n",
    "    subreddit = reddit.subreddit(nombre_subreddit)\n",
    "\n",
    "    votes, post, url = {}, {}, {}\n",
    "    top_submissions = list(subreddit.hot(limit=n_hot))\n",
    "    for it, top_n in enumerate(range(50, len(top_submissions), 50)):\n",
    "        top_n_submissions = top_submissions[:top_n]\n",
    "        upvotes, downvotes, url[it], post[it] = [], [], [], []\n",
    "\n",
    "        for submission in top_n_submissions:\n",
    "            try:\n",
    "                ratio = submission.upvote_ratio\n",
    "                ups = int(\n",
    "                    round((ratio * submission.score) / (2 * ratio - 1))\n",
    "                    if ratio != 0.5\n",
    "                    else round(submission.score / 2)\n",
    "                )\n",
    "                upvotes.append(ups)\n",
    "                downvotes.append(ups - submission.score)\n",
    "                post[it].append(submission.title)\n",
    "                url[it].append(submission.url)\n",
    "            except Exception as e:\n",
    "                continue\n",
    "        votes[it] = np.array([upvotes, downvotes]).T\n",
    "    return votes, post, url"
   ]
  },
  {
   "cell_type": "code",
   "execution_count": 103,
   "metadata": {},
   "outputs": [
    {
     "name": "stdout",
     "output_type": "stream",
     "text": [
      "The slowest run took 16.16 times longer than the fastest. This could mean that an intermediate result is being cached.\n",
      "256 ns ± 404 ns per loop (mean ± std. dev. of 7 runs, 1 loop each)\n"
     ]
    }
   ],
   "source": [
    "%%timeit\n",
    "#corremos el código una primera vez para armar el cache\n",
    "cached_praw_reddit()"
   ]
  },
  {
   "cell_type": "code",
   "execution_count": 104,
   "metadata": {},
   "outputs": [
    {
     "name": "stdout",
     "output_type": "stream",
     "text": [
      "26.3 ns ± 0.898 ns per loop (mean ± std. dev. of 7 runs, 10,000,000 loops each)\n"
     ]
    }
   ],
   "source": [
    "%%timeit\n",
    "#ejecutamos el código una segunda vez para ver el tiempo de ejecución usando el caché\n",
    "cached_praw_reddit()"
   ]
  },
  {
   "cell_type": "markdown",
   "metadata": {
    "cell_id": "00022-f295ab8f-b06d-4171-90b7-73dabfe0598d",
    "deepnote_cell_height": 52.390625,
    "deepnote_cell_type": "markdown"
   },
   "source": [
    "**Respuesta de lru_cache sobre praw_reddit**"
   ]
  },
  {
   "cell_type": "markdown",
   "metadata": {
    "cell_id": "00023-56264983-6b36-48c6-a43c-19d19702f8f4",
    "deepnote_cell_height": 52.390625,
    "deepnote_cell_type": "markdown"
   },
   "source": [
    "    Se observa que la función pasa de demorarse 18.4 segundos a demorarse 26.3 nano segundos, es un aumento en la "
   ]
  },
  {
   "cell_type": "markdown",
   "metadata": {
    "cell_id": "00024-87380659-431c-4ae7-9d12-6647f21ca9ff",
    "deepnote_cell_height": 542.5625,
    "deepnote_cell_type": "markdown",
    "id": "2pS26u-trdg6"
   },
   "source": [
    "## 1.3 Obtención de Mean Posterior y Standard Error [1 Punto]\n",
    "\n",
    "Una forma de obtener la mean posterior y el Standard Error de los datos de reddit es aplicando un atajo de inferencia estadística. Este atajo se define de la siguiente forma:\n",
    "\n",
    "Sea **u** los votos positivos y **d** los votos negativos del subreddit, tendremos que:\n",
    "\n",
    "$$a = 1+u$$\n",
    "\n",
    "$$b = 1+d$$\n",
    "\n",
    "$$\\sigma= 1.65\\sqrt(\\dfrac{ab}{(a + b)^2(a + b + 1)})$$\n",
    "\n",
    "$$\\mu = \\dfrac{a}{a+b}$$\n",
    "\n",
    "Donde $\\mu$ es la mean posterior y $\\sigma$ el standard error.\n",
    "\n",
    "Con lo anterior, genere dos funciones que tengan como salida $\\mu$ y $\\sigma$ de acuerdo a las ecuaciones señaladas. La primera función, deberá ser construida sin el uso de numpy, aplicando for y aplicando comandos nativos de Python. Por otro lado, deberá generar una segunda función con el uso exclusivo de numpy. **OJO** que las funciones deben tener como entrada solo un elemento del diccionario votes (por ejemplo `votes[1]`), por lo que estas no deben tener como entrada el conjunto completo de datos."
   ]
  },
  {
   "cell_type": "code",
   "execution_count": 12,
   "metadata": {},
   "outputs": [
    {
     "name": "stdout",
     "output_type": "stream",
     "text": [
      "(50, 2)\n",
      "(100, 2)\n",
      "dict_keys([0, 1, 2, 3, 4, 5, 6, 7, 8, 9, 10, 11, 12, 13, 14, 15, 16, 17])\n",
      "(150, 2)\n",
      "(200, 2)\n",
      "{0: array([[  0,   0],\n",
      "       [154,  12],\n",
      "       [ 76,   2],\n",
      "       [ 70,  14],\n",
      "       [361,  11],\n",
      "       [ 62,  11],\n",
      "       [ 37,   9],\n",
      "       [ 32,   4],\n",
      "       [ 15,   1],\n",
      "       [ 50,   8],\n",
      "       [ 69,   5],\n",
      "       [194,   8],\n",
      "       [ 25,   2],\n",
      "       [ 82,   2],\n",
      "       [ 67,   3],\n",
      "       [ 14,   2],\n",
      "       [ 59,   4],\n",
      "       [142,   4],\n",
      "       [ 20,   1],\n",
      "       [ 15,   3],\n",
      "       [ 90,   7],\n",
      "       [ 58,   3],\n",
      "       [562,  77],\n",
      "       [ 59,   4],\n",
      "       [ 51,   4],\n",
      "       [286,  43],\n",
      "       [420,  68],\n",
      "       [185,  38],\n",
      "       [  6,   2],\n",
      "       [120,   4],\n",
      "       [ 71,   2],\n",
      "       [ 38,   4],\n",
      "       [133,  52],\n",
      "       [160,  24],\n",
      "       [276,   3],\n",
      "       [161,  22],\n",
      "       [ 62,   5],\n",
      "       [160,  12],\n",
      "       [  4,   2],\n",
      "       [152,  19],\n",
      "       [133,  12],\n",
      "       [ 77,  15],\n",
      "       [ 37,  19],\n",
      "       [ 27,  15],\n",
      "       [ 32,   1],\n",
      "       [  8,   2],\n",
      "       [136,  10],\n",
      "       [196,   2],\n",
      "       [ 19,   5],\n",
      "       [ 88,   2]]), 1: array([[  0,   0],\n",
      "       [154,  12],\n",
      "       [ 76,   2],\n",
      "       [ 70,  14],\n",
      "       [361,  11],\n",
      "       [ 62,  11],\n",
      "       [ 37,   9],\n",
      "       [ 32,   4],\n",
      "       [ 15,   1],\n",
      "       [ 50,   8],\n",
      "       [ 69,   5],\n",
      "       [194,   8],\n",
      "       [ 25,   2],\n",
      "       [ 82,   2],\n",
      "       [ 67,   3],\n",
      "       [ 14,   2],\n",
      "       [ 59,   4],\n",
      "       [142,   4],\n",
      "       [ 20,   1],\n",
      "       [ 15,   3],\n",
      "       [ 90,   7],\n",
      "       [ 58,   3],\n",
      "       [562,  77],\n",
      "       [ 59,   4],\n",
      "       [ 51,   4],\n",
      "       [286,  43],\n",
      "       [420,  68],\n",
      "       [185,  38],\n",
      "       [  6,   2],\n",
      "       [120,   4],\n",
      "       [ 71,   2],\n",
      "       [ 38,   4],\n",
      "       [133,  52],\n",
      "       [160,  24],\n",
      "       [276,   3],\n",
      "       [161,  22],\n",
      "       [ 62,   5],\n",
      "       [160,  12],\n",
      "       [  4,   2],\n",
      "       [152,  19],\n",
      "       [133,  12],\n",
      "       [ 77,  15],\n",
      "       [ 37,  19],\n",
      "       [ 27,  15],\n",
      "       [ 32,   1],\n",
      "       [  8,   2],\n",
      "       [136,  10],\n",
      "       [196,   2],\n",
      "       [ 19,   5],\n",
      "       [ 88,   2],\n",
      "       [ 15,   3],\n",
      "       [ 14,   2],\n",
      "       [ 12,   3],\n",
      "       [  0,   0],\n",
      "       [ 13,   4],\n",
      "       [ 82,   4],\n",
      "       [ 51,   8],\n",
      "       [ 32,   3],\n",
      "       [ 15,   3],\n",
      "       [ 28,   4],\n",
      "       [ 33,  14],\n",
      "       [  8,   1],\n",
      "       [ 43,   2],\n",
      "       [ 17,   8],\n",
      "       [ 12,   6],\n",
      "       [ 37,  15],\n",
      "       [  7,   4],\n",
      "       [ 18,   4],\n",
      "       [549,  35],\n",
      "       [ 46,   6],\n",
      "       [ 45,   6],\n",
      "       [ 15,   6],\n",
      "       [332,  10],\n",
      "       [ 14,  11],\n",
      "       [280,  53],\n",
      "       [ 26,   5],\n",
      "       [ 33,  15],\n",
      "       [ 19,   2],\n",
      "       [ 16,   9],\n",
      "       [983, 147],\n",
      "       [ 37,  29],\n",
      "       [223,  12],\n",
      "       [ 71,  58],\n",
      "       [195,   4],\n",
      "       [  0,   0],\n",
      "       [ 20,   2],\n",
      "       [  7,   6],\n",
      "       [ 41,   1],\n",
      "       [  2,   1],\n",
      "       [ 99,   2],\n",
      "       [132,  23],\n",
      "       [ 49,   7],\n",
      "       [ 55,   4],\n",
      "       [ 38,   5],\n",
      "       [ 44,   2],\n",
      "       [ 40,   7],\n",
      "       [ 34,   8],\n",
      "       [ 55,   5],\n",
      "       [168,  19],\n",
      "       [241,  39]]), 2: array([[  0,   0],\n",
      "       [154,  12],\n",
      "       [ 76,   2],\n",
      "       [ 70,  14],\n",
      "       [361,  11],\n",
      "       [ 62,  11],\n",
      "       [ 37,   9],\n",
      "       [ 32,   4],\n",
      "       [ 15,   1],\n",
      "       [ 50,   8],\n",
      "       [ 69,   5],\n",
      "       [194,   8],\n",
      "       [ 25,   2],\n",
      "       [ 82,   2],\n",
      "       [ 67,   3],\n",
      "       [ 14,   2],\n",
      "       [ 59,   4],\n",
      "       [142,   4],\n",
      "       [ 20,   1],\n",
      "       [ 15,   3],\n",
      "       [ 90,   7],\n",
      "       [ 58,   3],\n",
      "       [562,  77],\n",
      "       [ 59,   4],\n",
      "       [ 51,   4],\n",
      "       [286,  43],\n",
      "       [420,  68],\n",
      "       [185,  38],\n",
      "       [  6,   2],\n",
      "       [120,   4],\n",
      "       [ 71,   2],\n",
      "       [ 38,   4],\n",
      "       [133,  52],\n",
      "       [160,  24],\n",
      "       [276,   3],\n",
      "       [161,  22],\n",
      "       [ 62,   5],\n",
      "       [160,  12],\n",
      "       [  4,   2],\n",
      "       [152,  19],\n",
      "       [133,  12],\n",
      "       [ 77,  15],\n",
      "       [ 37,  19],\n",
      "       [ 27,  15],\n",
      "       [ 32,   1],\n",
      "       [  8,   2],\n",
      "       [136,  10],\n",
      "       [196,   2],\n",
      "       [ 19,   5],\n",
      "       [ 88,   2],\n",
      "       [ 15,   3],\n",
      "       [ 14,   2],\n",
      "       [ 12,   3],\n",
      "       [  0,   0],\n",
      "       [ 13,   4],\n",
      "       [ 82,   4],\n",
      "       [ 51,   8],\n",
      "       [ 32,   3],\n",
      "       [ 15,   3],\n",
      "       [ 28,   4],\n",
      "       [ 33,  14],\n",
      "       [  8,   1],\n",
      "       [ 43,   2],\n",
      "       [ 17,   8],\n",
      "       [ 12,   6],\n",
      "       [ 37,  15],\n",
      "       [  7,   4],\n",
      "       [ 18,   4],\n",
      "       [549,  35],\n",
      "       [ 46,   6],\n",
      "       [ 45,   6],\n",
      "       [ 15,   6],\n",
      "       [332,  10],\n",
      "       [ 14,  11],\n",
      "       [280,  53],\n",
      "       [ 26,   5],\n",
      "       [ 33,  15],\n",
      "       [ 19,   2],\n",
      "       [ 16,   9],\n",
      "       [983, 147],\n",
      "       [ 37,  29],\n",
      "       [223,  12],\n",
      "       [ 71,  58],\n",
      "       [195,   4],\n",
      "       [  0,   0],\n",
      "       [ 20,   2],\n",
      "       [  7,   6],\n",
      "       [ 41,   1],\n",
      "       [  2,   1],\n",
      "       [ 99,   2],\n",
      "       [132,  23],\n",
      "       [ 49,   7],\n",
      "       [ 55,   4],\n",
      "       [ 38,   5],\n",
      "       [ 44,   2],\n",
      "       [ 40,   7],\n",
      "       [ 34,   8],\n",
      "       [ 55,   5],\n",
      "       [168,  19],\n",
      "       [241,  39],\n",
      "       [177,   5],\n",
      "       [172,   4],\n",
      "       [134,  38],\n",
      "       [ 51,  18],\n",
      "       [ 47,  12],\n",
      "       [ 27,   4],\n",
      "       [ 90,  30],\n",
      "       [108,   6],\n",
      "       [ 17,   2],\n",
      "       [ 16,  13],\n",
      "       [ 97,   2],\n",
      "       [107,   9],\n",
      "       [132,  42],\n",
      "       [ 86,   3],\n",
      "       [ 17,   1],\n",
      "       [324,  76],\n",
      "       [ 37,  11],\n",
      "       [  0,   0],\n",
      "       [ 61,  16],\n",
      "       [  0,   0],\n",
      "       [  9,   3],\n",
      "       [ 51,   6],\n",
      "       [597,  18],\n",
      "       [ 25,  24],\n",
      "       [ 19,   8],\n",
      "       [ 35,   3],\n",
      "       [  0,   0],\n",
      "       [446,  23],\n",
      "       [  8,   3],\n",
      "       [273,   0],\n",
      "       [ 11,   5],\n",
      "       [ 11,   6],\n",
      "       [ 16,   3],\n",
      "       [ 47,   3],\n",
      "       [ 36,  24],\n",
      "       [  0,   0],\n",
      "       [ 58,  13],\n",
      "       [ 28,  15],\n",
      "       [  0,   0],\n",
      "       [ 90,   5],\n",
      "       [ 51,   5],\n",
      "       [ 43,   3],\n",
      "       [ 29,   4],\n",
      "       [302, 112],\n",
      "       [ 16,   4],\n",
      "       [ 18,   9],\n",
      "       [  0,   0],\n",
      "       [ 21,   8],\n",
      "       [210,   4],\n",
      "       [  0,   0]]), 3: array([[  0,   0],\n",
      "       [154,  12],\n",
      "       [ 76,   2],\n",
      "       [ 70,  14],\n",
      "       [361,  11],\n",
      "       [ 62,  11],\n",
      "       [ 37,   9],\n",
      "       [ 32,   4],\n",
      "       [ 15,   1],\n",
      "       [ 50,   8],\n",
      "       [ 69,   5],\n",
      "       [194,   8],\n",
      "       [ 25,   2],\n",
      "       [ 82,   2],\n",
      "       [ 67,   3],\n",
      "       [ 14,   2],\n",
      "       [ 59,   4],\n",
      "       [142,   4],\n",
      "       [ 20,   1],\n",
      "       [ 15,   3],\n",
      "       [ 90,   7],\n",
      "       [ 58,   3],\n",
      "       [562,  77],\n",
      "       [ 59,   4],\n",
      "       [ 51,   4],\n",
      "       [286,  43],\n",
      "       [420,  68],\n",
      "       [185,  38],\n",
      "       [  6,   2],\n",
      "       [120,   4],\n",
      "       [ 71,   2],\n",
      "       [ 38,   4],\n",
      "       [133,  52],\n",
      "       [160,  24],\n",
      "       [276,   3],\n",
      "       [161,  22],\n",
      "       [ 62,   5],\n",
      "       [160,  12],\n",
      "       [  4,   2],\n",
      "       [152,  19],\n",
      "       [133,  12],\n",
      "       [ 77,  15],\n",
      "       [ 37,  19],\n",
      "       [ 27,  15],\n",
      "       [ 32,   1],\n",
      "       [  8,   2],\n",
      "       [136,  10],\n",
      "       [196,   2],\n",
      "       [ 19,   5],\n",
      "       [ 88,   2],\n",
      "       [ 15,   3],\n",
      "       [ 14,   2],\n",
      "       [ 12,   3],\n",
      "       [  0,   0],\n",
      "       [ 13,   4],\n",
      "       [ 82,   4],\n",
      "       [ 51,   8],\n",
      "       [ 32,   3],\n",
      "       [ 15,   3],\n",
      "       [ 28,   4],\n",
      "       [ 33,  14],\n",
      "       [  8,   1],\n",
      "       [ 43,   2],\n",
      "       [ 17,   8],\n",
      "       [ 12,   6],\n",
      "       [ 37,  15],\n",
      "       [  7,   4],\n",
      "       [ 18,   4],\n",
      "       [549,  35],\n",
      "       [ 46,   6],\n",
      "       [ 45,   6],\n",
      "       [ 15,   6],\n",
      "       [332,  10],\n",
      "       [ 14,  11],\n",
      "       [280,  53],\n",
      "       [ 26,   5],\n",
      "       [ 33,  15],\n",
      "       [ 19,   2],\n",
      "       [ 16,   9],\n",
      "       [983, 147],\n",
      "       [ 37,  29],\n",
      "       [223,  12],\n",
      "       [ 71,  58],\n",
      "       [195,   4],\n",
      "       [  0,   0],\n",
      "       [ 20,   2],\n",
      "       [  7,   6],\n",
      "       [ 41,   1],\n",
      "       [  2,   1],\n",
      "       [ 99,   2],\n",
      "       [132,  23],\n",
      "       [ 49,   7],\n",
      "       [ 55,   4],\n",
      "       [ 38,   5],\n",
      "       [ 44,   2],\n",
      "       [ 40,   7],\n",
      "       [ 34,   8],\n",
      "       [ 55,   5],\n",
      "       [168,  19],\n",
      "       [241,  39],\n",
      "       [177,   5],\n",
      "       [172,   4],\n",
      "       [134,  38],\n",
      "       [ 51,  18],\n",
      "       [ 47,  12],\n",
      "       [ 27,   4],\n",
      "       [ 90,  30],\n",
      "       [108,   6],\n",
      "       [ 17,   2],\n",
      "       [ 16,  13],\n",
      "       [ 97,   2],\n",
      "       [107,   9],\n",
      "       [132,  42],\n",
      "       [ 86,   3],\n",
      "       [ 17,   1],\n",
      "       [324,  76],\n",
      "       [ 37,  11],\n",
      "       [  0,   0],\n",
      "       [ 61,  16],\n",
      "       [  0,   0],\n",
      "       [  9,   3],\n",
      "       [ 51,   6],\n",
      "       [597,  18],\n",
      "       [ 25,  24],\n",
      "       [ 19,   8],\n",
      "       [ 35,   3],\n",
      "       [  0,   0],\n",
      "       [446,  23],\n",
      "       [  8,   3],\n",
      "       [273,   0],\n",
      "       [ 11,   5],\n",
      "       [ 11,   6],\n",
      "       [ 16,   3],\n",
      "       [ 47,   3],\n",
      "       [ 36,  24],\n",
      "       [  0,   0],\n",
      "       [ 58,  13],\n",
      "       [ 28,  15],\n",
      "       [  0,   0],\n",
      "       [ 90,   5],\n",
      "       [ 51,   5],\n",
      "       [ 43,   3],\n",
      "       [ 29,   4],\n",
      "       [302, 112],\n",
      "       [ 16,   4],\n",
      "       [ 18,   9],\n",
      "       [  0,   0],\n",
      "       [ 21,   8],\n",
      "       [210,   4],\n",
      "       [  0,   0],\n",
      "       [ 42,  14],\n",
      "       [  0,   0],\n",
      "       [ 42,   5],\n",
      "       [ 32,   2],\n",
      "       [ 27,   2],\n",
      "       [299,  12],\n",
      "       [ 40,   2],\n",
      "       [ 10,   6],\n",
      "       [ 44,  39],\n",
      "       [  0,   0],\n",
      "       [  0,   0],\n",
      "       [ 11,   3],\n",
      "       [423,  18],\n",
      "       [103,   8],\n",
      "       [ 23,  18],\n",
      "       [ 24,  14],\n",
      "       [283,  15],\n",
      "       [ 52,   3],\n",
      "       [147,   3],\n",
      "       [133,  10],\n",
      "       [ 68,   8],\n",
      "       [ 18,  10],\n",
      "       [249,   5],\n",
      "       [ 19,  15],\n",
      "       [ 34,   3],\n",
      "       [ 25,  24],\n",
      "       [ 70,   6],\n",
      "       [ 38,   1],\n",
      "       [116,   9],\n",
      "       [141,  17],\n",
      "       [  0,   0],\n",
      "       [262,   8],\n",
      "       [ 72,  31],\n",
      "       [  0,   0],\n",
      "       [ 14,  11],\n",
      "       [156,  12],\n",
      "       [175,  17],\n",
      "       [206,   2],\n",
      "       [ 59,   4],\n",
      "       [  7,   2],\n",
      "       [ 36,   9],\n",
      "       [ 21,   5],\n",
      "       [  0,   0],\n",
      "       [ 95,   4],\n",
      "       [ 55,   6],\n",
      "       [ 46,  26],\n",
      "       [ 44,   8],\n",
      "       [ 62,   4],\n",
      "       [ 39,  19],\n",
      "       [  0,   0]]), 4: array([[  0,   0],\n",
      "       [154,  12],\n",
      "       [ 76,   2],\n",
      "       [ 70,  14],\n",
      "       [361,  11],\n",
      "       [ 62,  11],\n",
      "       [ 37,   9],\n",
      "       [ 32,   4],\n",
      "       [ 15,   1],\n",
      "       [ 50,   8],\n",
      "       [ 69,   5],\n",
      "       [194,   8],\n",
      "       [ 25,   2],\n",
      "       [ 82,   2],\n",
      "       [ 67,   3],\n",
      "       [ 14,   2],\n",
      "       [ 59,   4],\n",
      "       [142,   4],\n",
      "       [ 20,   1],\n",
      "       [ 15,   3],\n",
      "       [ 90,   7],\n",
      "       [ 58,   3],\n",
      "       [562,  77],\n",
      "       [ 59,   4],\n",
      "       [ 51,   4],\n",
      "       [286,  43],\n",
      "       [420,  68],\n",
      "       [185,  38],\n",
      "       [  6,   2],\n",
      "       [120,   4],\n",
      "       [ 71,   2],\n",
      "       [ 38,   4],\n",
      "       [133,  52],\n",
      "       [160,  24],\n",
      "       [276,   3],\n",
      "       [161,  22],\n",
      "       [ 62,   5],\n",
      "       [160,  12],\n",
      "       [  4,   2],\n",
      "       [152,  19],\n",
      "       [133,  12],\n",
      "       [ 77,  15],\n",
      "       [ 37,  19],\n",
      "       [ 27,  15],\n",
      "       [ 32,   1],\n",
      "       [  8,   2],\n",
      "       [136,  10],\n",
      "       [196,   2],\n",
      "       [ 19,   5],\n",
      "       [ 88,   2],\n",
      "       [ 15,   3],\n",
      "       [ 14,   2],\n",
      "       [ 12,   3],\n",
      "       [  0,   0],\n",
      "       [ 13,   4],\n",
      "       [ 82,   4],\n",
      "       [ 51,   8],\n",
      "       [ 32,   3],\n",
      "       [ 15,   3],\n",
      "       [ 28,   4],\n",
      "       [ 33,  14],\n",
      "       [  8,   1],\n",
      "       [ 43,   2],\n",
      "       [ 17,   8],\n",
      "       [ 12,   6],\n",
      "       [ 37,  15],\n",
      "       [  7,   4],\n",
      "       [ 18,   4],\n",
      "       [549,  35],\n",
      "       [ 46,   6],\n",
      "       [ 45,   6],\n",
      "       [ 15,   6],\n",
      "       [332,  10],\n",
      "       [ 14,  11],\n",
      "       [280,  53],\n",
      "       [ 26,   5],\n",
      "       [ 33,  15],\n",
      "       [ 19,   2],\n",
      "       [ 16,   9],\n",
      "       [983, 147],\n",
      "       [ 37,  29],\n",
      "       [223,  12],\n",
      "       [ 71,  58],\n",
      "       [195,   4],\n",
      "       [  0,   0],\n",
      "       [ 20,   2],\n",
      "       [  7,   6],\n",
      "       [ 41,   1],\n",
      "       [  2,   1],\n",
      "       [ 99,   2],\n",
      "       [132,  23],\n",
      "       [ 49,   7],\n",
      "       [ 55,   4],\n",
      "       [ 38,   5],\n",
      "       [ 44,   2],\n",
      "       [ 40,   7],\n",
      "       [ 34,   8],\n",
      "       [ 55,   5],\n",
      "       [168,  19],\n",
      "       [241,  39],\n",
      "       [177,   5],\n",
      "       [172,   4],\n",
      "       [134,  38],\n",
      "       [ 51,  18],\n",
      "       [ 47,  12],\n",
      "       [ 27,   4],\n",
      "       [ 90,  30],\n",
      "       [108,   6],\n",
      "       [ 17,   2],\n",
      "       [ 16,  13],\n",
      "       [ 97,   2],\n",
      "       [107,   9],\n",
      "       [132,  42],\n",
      "       [ 86,   3],\n",
      "       [ 17,   1],\n",
      "       [324,  76],\n",
      "       [ 37,  11],\n",
      "       [  0,   0],\n",
      "       [ 61,  16],\n",
      "       [  0,   0],\n",
      "       [  9,   3],\n",
      "       [ 51,   6],\n",
      "       [597,  18],\n",
      "       [ 25,  24],\n",
      "       [ 19,   8],\n",
      "       [ 35,   3],\n",
      "       [  0,   0],\n",
      "       [446,  23],\n",
      "       [  8,   3],\n",
      "       [273,   0],\n",
      "       [ 11,   5],\n",
      "       [ 11,   6],\n",
      "       [ 16,   3],\n",
      "       [ 47,   3],\n",
      "       [ 36,  24],\n",
      "       [  0,   0],\n",
      "       [ 58,  13],\n",
      "       [ 28,  15],\n",
      "       [  0,   0],\n",
      "       [ 90,   5],\n",
      "       [ 51,   5],\n",
      "       [ 43,   3],\n",
      "       [ 29,   4],\n",
      "       [302, 112],\n",
      "       [ 16,   4],\n",
      "       [ 18,   9],\n",
      "       [  0,   0],\n",
      "       [ 21,   8],\n",
      "       [210,   4],\n",
      "       [  0,   0],\n",
      "       [ 42,  14],\n",
      "       [  0,   0],\n",
      "       [ 42,   5],\n",
      "       [ 32,   2],\n",
      "       [ 27,   2],\n",
      "       [299,  12],\n",
      "       [ 40,   2],\n",
      "       [ 10,   6],\n",
      "       [ 44,  39],\n",
      "       [  0,   0],\n",
      "       [  0,   0],\n",
      "       [ 11,   3],\n",
      "       [423,  18],\n",
      "       [103,   8],\n",
      "       [ 23,  18],\n",
      "       [ 24,  14],\n",
      "       [283,  15],\n",
      "       [ 52,   3],\n",
      "       [147,   3],\n",
      "       [133,  10],\n",
      "       [ 68,   8],\n",
      "       [ 18,  10],\n",
      "       [249,   5],\n",
      "       [ 19,  15],\n",
      "       [ 34,   3],\n",
      "       [ 25,  24],\n",
      "       [ 70,   6],\n",
      "       [ 38,   1],\n",
      "       [116,   9],\n",
      "       [141,  17],\n",
      "       [  0,   0],\n",
      "       [262,   8],\n",
      "       [ 72,  31],\n",
      "       [  0,   0],\n",
      "       [ 14,  11],\n",
      "       [156,  12],\n",
      "       [175,  17],\n",
      "       [206,   2],\n",
      "       [ 59,   4],\n",
      "       [  7,   2],\n",
      "       [ 36,   9],\n",
      "       [ 21,   5],\n",
      "       [  0,   0],\n",
      "       [ 95,   4],\n",
      "       [ 55,   6],\n",
      "       [ 46,  26],\n",
      "       [ 44,   8],\n",
      "       [ 62,   4],\n",
      "       [ 39,  19],\n",
      "       [  0,   0],\n",
      "       [  0,   0],\n",
      "       [ 60,   4],\n",
      "       [  0,   0],\n",
      "       [ 18,  11],\n",
      "       [ 70,  20],\n",
      "       [ 78,   9],\n",
      "       [  9,   8],\n",
      "       [  0,   0],\n",
      "       [ 12,   4],\n",
      "       [ 43,   3],\n",
      "       [  0,   0],\n",
      "       [  0,   0],\n",
      "       [ 47,  11],\n",
      "       [ 56,  24],\n",
      "       [ 56,   8],\n",
      "       [ 34,   9],\n",
      "       [ 54,  23],\n",
      "       [ 45,   7],\n",
      "       [ 24,   9],\n",
      "       [ 15,   1],\n",
      "       [480,  10],\n",
      "       [ 67,   4],\n",
      "       [  0,   0],\n",
      "       [  7,   3],\n",
      "       [461,  46],\n",
      "       [  9,   4],\n",
      "       [254,  19],\n",
      "       [ 28,  15],\n",
      "       [  0,   0],\n",
      "       [288,   9],\n",
      "       [ 30,  10],\n",
      "       [354,   7],\n",
      "       [342,   7],\n",
      "       [ 68,  23],\n",
      "       [ 15,   4],\n",
      "       [ 10,   7],\n",
      "       [ 81,  12],\n",
      "       [ 13,   6],\n",
      "       [ 50,   1],\n",
      "       [ 59,  21],\n",
      "       [ 91,   9],\n",
      "       [452,  50],\n",
      "       [560,  11],\n",
      "       [ 64,  12],\n",
      "       [ 87,  29],\n",
      "       [  0,   0],\n",
      "       [ 92,  34],\n",
      "       [103,   3],\n",
      "       [ 88,  18],\n",
      "       [235,   7]]), 5: array([[  0,   0],\n",
      "       [154,  12],\n",
      "       [ 76,   2],\n",
      "       [ 70,  14],\n",
      "       [361,  11],\n",
      "       [ 62,  11],\n",
      "       [ 37,   9],\n",
      "       [ 32,   4],\n",
      "       [ 15,   1],\n",
      "       [ 50,   8],\n",
      "       [ 69,   5],\n",
      "       [194,   8],\n",
      "       [ 25,   2],\n",
      "       [ 82,   2],\n",
      "       [ 67,   3],\n",
      "       [ 14,   2],\n",
      "       [ 59,   4],\n",
      "       [142,   4],\n",
      "       [ 20,   1],\n",
      "       [ 15,   3],\n",
      "       [ 90,   7],\n",
      "       [ 58,   3],\n",
      "       [562,  77],\n",
      "       [ 59,   4],\n",
      "       [ 51,   4],\n",
      "       [286,  43],\n",
      "       [420,  68],\n",
      "       [185,  38],\n",
      "       [  6,   2],\n",
      "       [120,   4],\n",
      "       [ 71,   2],\n",
      "       [ 38,   4],\n",
      "       [133,  52],\n",
      "       [160,  24],\n",
      "       [276,   3],\n",
      "       [161,  22],\n",
      "       [ 62,   5],\n",
      "       [160,  12],\n",
      "       [  4,   2],\n",
      "       [152,  19],\n",
      "       [133,  12],\n",
      "       [ 77,  15],\n",
      "       [ 37,  19],\n",
      "       [ 27,  15],\n",
      "       [ 32,   1],\n",
      "       [  8,   2],\n",
      "       [136,  10],\n",
      "       [196,   2],\n",
      "       [ 19,   5],\n",
      "       [ 88,   2],\n",
      "       [ 15,   3],\n",
      "       [ 14,   2],\n",
      "       [ 12,   3],\n",
      "       [  0,   0],\n",
      "       [ 13,   4],\n",
      "       [ 82,   4],\n",
      "       [ 51,   8],\n",
      "       [ 32,   3],\n",
      "       [ 15,   3],\n",
      "       [ 28,   4],\n",
      "       [ 33,  14],\n",
      "       [  8,   1],\n",
      "       [ 43,   2],\n",
      "       [ 17,   8],\n",
      "       [ 12,   6],\n",
      "       [ 37,  15],\n",
      "       [  7,   4],\n",
      "       [ 18,   4],\n",
      "       [549,  35],\n",
      "       [ 46,   6],\n",
      "       [ 45,   6],\n",
      "       [ 15,   6],\n",
      "       [332,  10],\n",
      "       [ 14,  11],\n",
      "       [280,  53],\n",
      "       [ 26,   5],\n",
      "       [ 33,  15],\n",
      "       [ 19,   2],\n",
      "       [ 16,   9],\n",
      "       [983, 147],\n",
      "       [ 37,  29],\n",
      "       [223,  12],\n",
      "       [ 71,  58],\n",
      "       [195,   4],\n",
      "       [  0,   0],\n",
      "       [ 20,   2],\n",
      "       [  7,   6],\n",
      "       [ 41,   1],\n",
      "       [  2,   1],\n",
      "       [ 99,   2],\n",
      "       [132,  23],\n",
      "       [ 49,   7],\n",
      "       [ 55,   4],\n",
      "       [ 38,   5],\n",
      "       [ 44,   2],\n",
      "       [ 40,   7],\n",
      "       [ 34,   8],\n",
      "       [ 55,   5],\n",
      "       [168,  19],\n",
      "       [241,  39],\n",
      "       [177,   5],\n",
      "       [172,   4],\n",
      "       [134,  38],\n",
      "       [ 51,  18],\n",
      "       [ 47,  12],\n",
      "       [ 27,   4],\n",
      "       [ 90,  30],\n",
      "       [108,   6],\n",
      "       [ 17,   2],\n",
      "       [ 16,  13],\n",
      "       [ 97,   2],\n",
      "       [107,   9],\n",
      "       [132,  42],\n",
      "       [ 86,   3],\n",
      "       [ 17,   1],\n",
      "       [324,  76],\n",
      "       [ 37,  11],\n",
      "       [  0,   0],\n",
      "       [ 61,  16],\n",
      "       [  0,   0],\n",
      "       [  9,   3],\n",
      "       [ 51,   6],\n",
      "       [597,  18],\n",
      "       [ 25,  24],\n",
      "       [ 19,   8],\n",
      "       [ 35,   3],\n",
      "       [  0,   0],\n",
      "       [446,  23],\n",
      "       [  8,   3],\n",
      "       [273,   0],\n",
      "       [ 11,   5],\n",
      "       [ 11,   6],\n",
      "       [ 16,   3],\n",
      "       [ 47,   3],\n",
      "       [ 36,  24],\n",
      "       [  0,   0],\n",
      "       [ 58,  13],\n",
      "       [ 28,  15],\n",
      "       [  0,   0],\n",
      "       [ 90,   5],\n",
      "       [ 51,   5],\n",
      "       [ 43,   3],\n",
      "       [ 29,   4],\n",
      "       [302, 112],\n",
      "       [ 16,   4],\n",
      "       [ 18,   9],\n",
      "       [  0,   0],\n",
      "       [ 21,   8],\n",
      "       [210,   4],\n",
      "       [  0,   0],\n",
      "       [ 42,  14],\n",
      "       [  0,   0],\n",
      "       [ 42,   5],\n",
      "       [ 32,   2],\n",
      "       [ 27,   2],\n",
      "       [299,  12],\n",
      "       [ 40,   2],\n",
      "       [ 10,   6],\n",
      "       [ 44,  39],\n",
      "       [  0,   0],\n",
      "       [  0,   0],\n",
      "       [ 11,   3],\n",
      "       [423,  18],\n",
      "       [103,   8],\n",
      "       [ 23,  18],\n",
      "       [ 24,  14],\n",
      "       [283,  15],\n",
      "       [ 52,   3],\n",
      "       [147,   3],\n",
      "       [133,  10],\n",
      "       [ 68,   8],\n",
      "       [ 18,  10],\n",
      "       [249,   5],\n",
      "       [ 19,  15],\n",
      "       [ 34,   3],\n",
      "       [ 25,  24],\n",
      "       [ 70,   6],\n",
      "       [ 38,   1],\n",
      "       [116,   9],\n",
      "       [141,  17],\n",
      "       [  0,   0],\n",
      "       [262,   8],\n",
      "       [ 72,  31],\n",
      "       [  0,   0],\n",
      "       [ 14,  11],\n",
      "       [156,  12],\n",
      "       [175,  17],\n",
      "       [206,   2],\n",
      "       [ 59,   4],\n",
      "       [  7,   2],\n",
      "       [ 36,   9],\n",
      "       [ 21,   5],\n",
      "       [  0,   0],\n",
      "       [ 95,   4],\n",
      "       [ 55,   6],\n",
      "       [ 46,  26],\n",
      "       [ 44,   8],\n",
      "       [ 62,   4],\n",
      "       [ 39,  19],\n",
      "       [  0,   0],\n",
      "       [  0,   0],\n",
      "       [ 60,   4],\n",
      "       [  0,   0],\n",
      "       [ 18,  11],\n",
      "       [ 70,  20],\n",
      "       [ 78,   9],\n",
      "       [  9,   8],\n",
      "       [  0,   0],\n",
      "       [ 12,   4],\n",
      "       [ 43,   3],\n",
      "       [  0,   0],\n",
      "       [  0,   0],\n",
      "       [ 47,  11],\n",
      "       [ 56,  24],\n",
      "       [ 56,   8],\n",
      "       [ 34,   9],\n",
      "       [ 54,  23],\n",
      "       [ 45,   7],\n",
      "       [ 24,   9],\n",
      "       [ 15,   1],\n",
      "       [480,  10],\n",
      "       [ 67,   4],\n",
      "       [  0,   0],\n",
      "       [  7,   3],\n",
      "       [461,  46],\n",
      "       [  9,   4],\n",
      "       [254,  19],\n",
      "       [ 28,  15],\n",
      "       [  0,   0],\n",
      "       [288,   9],\n",
      "       [ 30,  10],\n",
      "       [354,   7],\n",
      "       [342,   7],\n",
      "       [ 68,  23],\n",
      "       [ 15,   4],\n",
      "       [ 10,   7],\n",
      "       [ 81,  12],\n",
      "       [ 13,   6],\n",
      "       [ 50,   1],\n",
      "       [ 59,  21],\n",
      "       [ 91,   9],\n",
      "       [452,  50],\n",
      "       [560,  11],\n",
      "       [ 64,  12],\n",
      "       [ 87,  29],\n",
      "       [  0,   0],\n",
      "       [ 92,  34],\n",
      "       [103,   3],\n",
      "       [ 88,  18],\n",
      "       [235,   7],\n",
      "       [ 19,  15],\n",
      "       [ 65,  18],\n",
      "       [189,  28],\n",
      "       [ 43,   9],\n",
      "       [  0,   0],\n",
      "       [  0,   0],\n",
      "       [ 27,   7],\n",
      "       [155,   5],\n",
      "       [296,  12],\n",
      "       [ 83,   2],\n",
      "       [ 85,   4],\n",
      "       [ 29,  12],\n",
      "       [ 19,   3],\n",
      "       [ 42,   3],\n",
      "       [ 11,   5],\n",
      "       [  0,   0],\n",
      "       [174,   7],\n",
      "       [  0,   0],\n",
      "       [ 12,   4],\n",
      "       [ 14,   3],\n",
      "       [ 68,   9],\n",
      "       [149,  28],\n",
      "       [ 37,   5],\n",
      "       [ 28,   7],\n",
      "       [105,  17],\n",
      "       [ 45,   8],\n",
      "       [ 23,   7],\n",
      "       [ 91,  29],\n",
      "       [ 17,   9],\n",
      "       [  0,   0],\n",
      "       [ 32,   5],\n",
      "       [ 33,   8],\n",
      "       [ 17,   7],\n",
      "       [ 58,   8],\n",
      "       [914,  58],\n",
      "       [  0,   0],\n",
      "       [ 37,   5],\n",
      "       [  0,   0],\n",
      "       [  0,   0],\n",
      "       [  0,   0],\n",
      "       [407,  21],\n",
      "       [ 46,  17],\n",
      "       [ 17,   6],\n",
      "       [243,  27],\n",
      "       [ 16,   4],\n",
      "       [ 21,   3],\n",
      "       [ 41,  24],\n",
      "       [ 13,  11],\n",
      "       [ 79,   4],\n",
      "       [ 16,  12]]), 6: array([[  0,   0],\n",
      "       [154,  12],\n",
      "       [ 76,   2],\n",
      "       [ 70,  14],\n",
      "       [361,  11],\n",
      "       [ 62,  11],\n",
      "       [ 37,   9],\n",
      "       [ 32,   4],\n",
      "       [ 15,   1],\n",
      "       [ 50,   8],\n",
      "       [ 69,   5],\n",
      "       [194,   8],\n",
      "       [ 25,   2],\n",
      "       [ 82,   2],\n",
      "       [ 67,   3],\n",
      "       [ 14,   2],\n",
      "       [ 59,   4],\n",
      "       [142,   4],\n",
      "       [ 20,   1],\n",
      "       [ 15,   3],\n",
      "       [ 90,   7],\n",
      "       [ 58,   3],\n",
      "       [562,  77],\n",
      "       [ 59,   4],\n",
      "       [ 51,   4],\n",
      "       [286,  43],\n",
      "       [420,  68],\n",
      "       [185,  38],\n",
      "       [  6,   2],\n",
      "       [120,   4],\n",
      "       [ 71,   2],\n",
      "       [ 38,   4],\n",
      "       [133,  52],\n",
      "       [160,  24],\n",
      "       [276,   3],\n",
      "       [161,  22],\n",
      "       [ 62,   5],\n",
      "       [160,  12],\n",
      "       [  4,   2],\n",
      "       [152,  19],\n",
      "       [133,  12],\n",
      "       [ 77,  15],\n",
      "       [ 37,  19],\n",
      "       [ 27,  15],\n",
      "       [ 32,   1],\n",
      "       [  8,   2],\n",
      "       [136,  10],\n",
      "       [196,   2],\n",
      "       [ 19,   5],\n",
      "       [ 88,   2],\n",
      "       [ 15,   3],\n",
      "       [ 14,   2],\n",
      "       [ 12,   3],\n",
      "       [  0,   0],\n",
      "       [ 13,   4],\n",
      "       [ 82,   4],\n",
      "       [ 51,   8],\n",
      "       [ 32,   3],\n",
      "       [ 15,   3],\n",
      "       [ 28,   4],\n",
      "       [ 33,  14],\n",
      "       [  8,   1],\n",
      "       [ 43,   2],\n",
      "       [ 17,   8],\n",
      "       [ 12,   6],\n",
      "       [ 37,  15],\n",
      "       [  7,   4],\n",
      "       [ 18,   4],\n",
      "       [549,  35],\n",
      "       [ 46,   6],\n",
      "       [ 45,   6],\n",
      "       [ 15,   6],\n",
      "       [332,  10],\n",
      "       [ 14,  11],\n",
      "       [280,  53],\n",
      "       [ 26,   5],\n",
      "       [ 33,  15],\n",
      "       [ 19,   2],\n",
      "       [ 16,   9],\n",
      "       [983, 147],\n",
      "       [ 37,  29],\n",
      "       [223,  12],\n",
      "       [ 71,  58],\n",
      "       [195,   4],\n",
      "       [  0,   0],\n",
      "       [ 20,   2],\n",
      "       [  7,   6],\n",
      "       [ 41,   1],\n",
      "       [  2,   1],\n",
      "       [ 99,   2],\n",
      "       [132,  23],\n",
      "       [ 49,   7],\n",
      "       [ 55,   4],\n",
      "       [ 38,   5],\n",
      "       [ 44,   2],\n",
      "       [ 40,   7],\n",
      "       [ 34,   8],\n",
      "       [ 55,   5],\n",
      "       [168,  19],\n",
      "       [241,  39],\n",
      "       [177,   5],\n",
      "       [172,   4],\n",
      "       [134,  38],\n",
      "       [ 51,  18],\n",
      "       [ 47,  12],\n",
      "       [ 27,   4],\n",
      "       [ 90,  30],\n",
      "       [108,   6],\n",
      "       [ 17,   2],\n",
      "       [ 16,  13],\n",
      "       [ 97,   2],\n",
      "       [107,   9],\n",
      "       [132,  42],\n",
      "       [ 86,   3],\n",
      "       [ 17,   1],\n",
      "       [324,  76],\n",
      "       [ 37,  11],\n",
      "       [  0,   0],\n",
      "       [ 61,  16],\n",
      "       [  0,   0],\n",
      "       [  9,   3],\n",
      "       [ 51,   6],\n",
      "       [597,  18],\n",
      "       [ 25,  24],\n",
      "       [ 19,   8],\n",
      "       [ 35,   3],\n",
      "       [  0,   0],\n",
      "       [446,  23],\n",
      "       [  8,   3],\n",
      "       [273,   0],\n",
      "       [ 11,   5],\n",
      "       [ 11,   6],\n",
      "       [ 16,   3],\n",
      "       [ 47,   3],\n",
      "       [ 36,  24],\n",
      "       [  0,   0],\n",
      "       [ 58,  13],\n",
      "       [ 28,  15],\n",
      "       [  0,   0],\n",
      "       [ 90,   5],\n",
      "       [ 51,   5],\n",
      "       [ 43,   3],\n",
      "       [ 29,   4],\n",
      "       [302, 112],\n",
      "       [ 16,   4],\n",
      "       [ 18,   9],\n",
      "       [  0,   0],\n",
      "       [ 21,   8],\n",
      "       [210,   4],\n",
      "       [  0,   0],\n",
      "       [ 42,  14],\n",
      "       [  0,   0],\n",
      "       [ 42,   5],\n",
      "       [ 32,   2],\n",
      "       [ 27,   2],\n",
      "       [299,  12],\n",
      "       [ 40,   2],\n",
      "       [ 10,   6],\n",
      "       [ 44,  39],\n",
      "       [  0,   0],\n",
      "       [  0,   0],\n",
      "       [ 11,   3],\n",
      "       [423,  18],\n",
      "       [103,   8],\n",
      "       [ 23,  18],\n",
      "       [ 24,  14],\n",
      "       [283,  15],\n",
      "       [ 52,   3],\n",
      "       [147,   3],\n",
      "       [133,  10],\n",
      "       [ 68,   8],\n",
      "       [ 18,  10],\n",
      "       [249,   5],\n",
      "       [ 19,  15],\n",
      "       [ 34,   3],\n",
      "       [ 25,  24],\n",
      "       [ 70,   6],\n",
      "       [ 38,   1],\n",
      "       [116,   9],\n",
      "       [141,  17],\n",
      "       [  0,   0],\n",
      "       [262,   8],\n",
      "       [ 72,  31],\n",
      "       [  0,   0],\n",
      "       [ 14,  11],\n",
      "       [156,  12],\n",
      "       [175,  17],\n",
      "       [206,   2],\n",
      "       [ 59,   4],\n",
      "       [  7,   2],\n",
      "       [ 36,   9],\n",
      "       [ 21,   5],\n",
      "       [  0,   0],\n",
      "       [ 95,   4],\n",
      "       [ 55,   6],\n",
      "       [ 46,  26],\n",
      "       [ 44,   8],\n",
      "       [ 62,   4],\n",
      "       [ 39,  19],\n",
      "       [  0,   0],\n",
      "       [  0,   0],\n",
      "       [ 60,   4],\n",
      "       [  0,   0],\n",
      "       [ 18,  11],\n",
      "       [ 70,  20],\n",
      "       [ 78,   9],\n",
      "       [  9,   8],\n",
      "       [  0,   0],\n",
      "       [ 12,   4],\n",
      "       [ 43,   3],\n",
      "       [  0,   0],\n",
      "       [  0,   0],\n",
      "       [ 47,  11],\n",
      "       [ 56,  24],\n",
      "       [ 56,   8],\n",
      "       [ 34,   9],\n",
      "       [ 54,  23],\n",
      "       [ 45,   7],\n",
      "       [ 24,   9],\n",
      "       [ 15,   1],\n",
      "       [480,  10],\n",
      "       [ 67,   4],\n",
      "       [  0,   0],\n",
      "       [  7,   3],\n",
      "       [461,  46],\n",
      "       [  9,   4],\n",
      "       [254,  19],\n",
      "       [ 28,  15],\n",
      "       [  0,   0],\n",
      "       [288,   9],\n",
      "       [ 30,  10],\n",
      "       [354,   7],\n",
      "       [342,   7],\n",
      "       [ 68,  23],\n",
      "       [ 15,   4],\n",
      "       [ 10,   7],\n",
      "       [ 81,  12],\n",
      "       [ 13,   6],\n",
      "       [ 50,   1],\n",
      "       [ 59,  21],\n",
      "       [ 91,   9],\n",
      "       [452,  50],\n",
      "       [560,  11],\n",
      "       [ 64,  12],\n",
      "       [ 87,  29],\n",
      "       [  0,   0],\n",
      "       [ 92,  34],\n",
      "       [103,   3],\n",
      "       [ 88,  18],\n",
      "       [235,   7],\n",
      "       [ 19,  15],\n",
      "       [ 65,  18],\n",
      "       [189,  28],\n",
      "       [ 43,   9],\n",
      "       [  0,   0],\n",
      "       [  0,   0],\n",
      "       [ 27,   7],\n",
      "       [155,   5],\n",
      "       [296,  12],\n",
      "       [ 83,   2],\n",
      "       [ 85,   4],\n",
      "       [ 29,  12],\n",
      "       [ 19,   3],\n",
      "       [ 42,   3],\n",
      "       [ 11,   5],\n",
      "       [  0,   0],\n",
      "       [174,   7],\n",
      "       [  0,   0],\n",
      "       [ 12,   4],\n",
      "       [ 14,   3],\n",
      "       [ 68,   9],\n",
      "       [149,  28],\n",
      "       [ 37,   5],\n",
      "       [ 28,   7],\n",
      "       [105,  17],\n",
      "       [ 45,   8],\n",
      "       [ 23,   7],\n",
      "       [ 91,  29],\n",
      "       [ 17,   9],\n",
      "       [  0,   0],\n",
      "       [ 32,   5],\n",
      "       [ 33,   8],\n",
      "       [ 17,   7],\n",
      "       [ 58,   8],\n",
      "       [914,  58],\n",
      "       [  0,   0],\n",
      "       [ 37,   5],\n",
      "       [  0,   0],\n",
      "       [  0,   0],\n",
      "       [  0,   0],\n",
      "       [407,  21],\n",
      "       [ 46,  17],\n",
      "       [ 17,   6],\n",
      "       [243,  27],\n",
      "       [ 16,   4],\n",
      "       [ 21,   3],\n",
      "       [ 41,  24],\n",
      "       [ 13,  11],\n",
      "       [ 79,   4],\n",
      "       [ 16,  12],\n",
      "       [  0,   0],\n",
      "       [188,   6],\n",
      "       [233,  15],\n",
      "       [230,  10],\n",
      "       [127,  40],\n",
      "       [163,  12],\n",
      "       [  5,   1],\n",
      "       [275,  18],\n",
      "       [  0,   0],\n",
      "       [ 13,  12],\n",
      "       [210,  74],\n",
      "       [128,  26],\n",
      "       [  0,   0],\n",
      "       [263,  11],\n",
      "       [ 33,  14],\n",
      "       [132,   8],\n",
      "       [ 61,  11],\n",
      "       [  0,   0],\n",
      "       [258,  14],\n",
      "       [ 36,   5],\n",
      "       [  0,   0],\n",
      "       [  0,   0],\n",
      "       [ 89,   9],\n",
      "       [ 57,  23],\n",
      "       [ 62,   7],\n",
      "       [ 34,   4],\n",
      "       [  0,   0],\n",
      "       [ 60,   6],\n",
      "       [107,  19],\n",
      "       [ 47,  10],\n",
      "       [  0,   0],\n",
      "       [ 51,   5],\n",
      "       [ 46,   4],\n",
      "       [ 49,   4],\n",
      "       [  0,   0],\n",
      "       [222,  78],\n",
      "       [ 54,  12],\n",
      "       [ 30,   5],\n",
      "       [ 46,   6],\n",
      "       [ 15,   2],\n",
      "       [ 36,   7],\n",
      "       [ 47,   2],\n",
      "       [ 29,   5],\n",
      "       [ 69,  15],\n",
      "       [ 22,   4],\n",
      "       [ 26,   5],\n",
      "       [ 15,   8],\n",
      "       [ 26,   7],\n",
      "       [ 22,   0],\n",
      "       [ 68,   4]]), 7: array([[  0,   0],\n",
      "       [154,  12],\n",
      "       [ 76,   2],\n",
      "       [ 70,  14],\n",
      "       [361,  11],\n",
      "       [ 62,  11],\n",
      "       [ 37,   9],\n",
      "       [ 32,   4],\n",
      "       [ 15,   1],\n",
      "       [ 50,   8],\n",
      "       [ 69,   5],\n",
      "       [194,   8],\n",
      "       [ 25,   2],\n",
      "       [ 82,   2],\n",
      "       [ 67,   3],\n",
      "       [ 14,   2],\n",
      "       [ 59,   4],\n",
      "       [142,   4],\n",
      "       [ 20,   1],\n",
      "       [ 15,   3],\n",
      "       [ 90,   7],\n",
      "       [ 58,   3],\n",
      "       [562,  77],\n",
      "       [ 59,   4],\n",
      "       [ 51,   4],\n",
      "       [286,  43],\n",
      "       [420,  68],\n",
      "       [185,  38],\n",
      "       [  6,   2],\n",
      "       [120,   4],\n",
      "       [ 71,   2],\n",
      "       [ 38,   4],\n",
      "       [133,  52],\n",
      "       [160,  24],\n",
      "       [276,   3],\n",
      "       [161,  22],\n",
      "       [ 62,   5],\n",
      "       [160,  12],\n",
      "       [  4,   2],\n",
      "       [152,  19],\n",
      "       [133,  12],\n",
      "       [ 77,  15],\n",
      "       [ 37,  19],\n",
      "       [ 27,  15],\n",
      "       [ 32,   1],\n",
      "       [  8,   2],\n",
      "       [136,  10],\n",
      "       [196,   2],\n",
      "       [ 19,   5],\n",
      "       [ 88,   2],\n",
      "       [ 15,   3],\n",
      "       [ 14,   2],\n",
      "       [ 12,   3],\n",
      "       [  0,   0],\n",
      "       [ 13,   4],\n",
      "       [ 82,   4],\n",
      "       [ 51,   8],\n",
      "       [ 32,   3],\n",
      "       [ 15,   3],\n",
      "       [ 28,   4],\n",
      "       [ 33,  14],\n",
      "       [  8,   1],\n",
      "       [ 43,   2],\n",
      "       [ 17,   8],\n",
      "       [ 12,   6],\n",
      "       [ 37,  15],\n",
      "       [  7,   4],\n",
      "       [ 18,   4],\n",
      "       [549,  35],\n",
      "       [ 46,   6],\n",
      "       [ 45,   6],\n",
      "       [ 15,   6],\n",
      "       [332,  10],\n",
      "       [ 14,  11],\n",
      "       [280,  53],\n",
      "       [ 26,   5],\n",
      "       [ 33,  15],\n",
      "       [ 19,   2],\n",
      "       [ 16,   9],\n",
      "       [983, 147],\n",
      "       [ 37,  29],\n",
      "       [223,  12],\n",
      "       [ 71,  58],\n",
      "       [195,   4],\n",
      "       [  0,   0],\n",
      "       [ 20,   2],\n",
      "       [  7,   6],\n",
      "       [ 41,   1],\n",
      "       [  2,   1],\n",
      "       [ 99,   2],\n",
      "       [132,  23],\n",
      "       [ 49,   7],\n",
      "       [ 55,   4],\n",
      "       [ 38,   5],\n",
      "       [ 44,   2],\n",
      "       [ 40,   7],\n",
      "       [ 34,   8],\n",
      "       [ 55,   5],\n",
      "       [168,  19],\n",
      "       [241,  39],\n",
      "       [177,   5],\n",
      "       [172,   4],\n",
      "       [134,  38],\n",
      "       [ 51,  18],\n",
      "       [ 47,  12],\n",
      "       [ 27,   4],\n",
      "       [ 90,  30],\n",
      "       [108,   6],\n",
      "       [ 17,   2],\n",
      "       [ 16,  13],\n",
      "       [ 97,   2],\n",
      "       [107,   9],\n",
      "       [132,  42],\n",
      "       [ 86,   3],\n",
      "       [ 17,   1],\n",
      "       [324,  76],\n",
      "       [ 37,  11],\n",
      "       [  0,   0],\n",
      "       [ 61,  16],\n",
      "       [  0,   0],\n",
      "       [  9,   3],\n",
      "       [ 51,   6],\n",
      "       [597,  18],\n",
      "       [ 25,  24],\n",
      "       [ 19,   8],\n",
      "       [ 35,   3],\n",
      "       [  0,   0],\n",
      "       [446,  23],\n",
      "       [  8,   3],\n",
      "       [273,   0],\n",
      "       [ 11,   5],\n",
      "       [ 11,   6],\n",
      "       [ 16,   3],\n",
      "       [ 47,   3],\n",
      "       [ 36,  24],\n",
      "       [  0,   0],\n",
      "       [ 58,  13],\n",
      "       [ 28,  15],\n",
      "       [  0,   0],\n",
      "       [ 90,   5],\n",
      "       [ 51,   5],\n",
      "       [ 43,   3],\n",
      "       [ 29,   4],\n",
      "       [302, 112],\n",
      "       [ 16,   4],\n",
      "       [ 18,   9],\n",
      "       [  0,   0],\n",
      "       [ 21,   8],\n",
      "       [210,   4],\n",
      "       [  0,   0],\n",
      "       [ 42,  14],\n",
      "       [  0,   0],\n",
      "       [ 42,   5],\n",
      "       [ 32,   2],\n",
      "       [ 27,   2],\n",
      "       [299,  12],\n",
      "       [ 40,   2],\n",
      "       [ 10,   6],\n",
      "       [ 44,  39],\n",
      "       [  0,   0],\n",
      "       [  0,   0],\n",
      "       [ 11,   3],\n",
      "       [423,  18],\n",
      "       [103,   8],\n",
      "       [ 23,  18],\n",
      "       [ 24,  14],\n",
      "       [283,  15],\n",
      "       [ 52,   3],\n",
      "       [147,   3],\n",
      "       [133,  10],\n",
      "       [ 68,   8],\n",
      "       [ 18,  10],\n",
      "       [249,   5],\n",
      "       [ 19,  15],\n",
      "       [ 34,   3],\n",
      "       [ 25,  24],\n",
      "       [ 70,   6],\n",
      "       [ 38,   1],\n",
      "       [116,   9],\n",
      "       [141,  17],\n",
      "       [  0,   0],\n",
      "       [262,   8],\n",
      "       [ 72,  31],\n",
      "       [  0,   0],\n",
      "       [ 14,  11],\n",
      "       [156,  12],\n",
      "       [175,  17],\n",
      "       [206,   2],\n",
      "       [ 59,   4],\n",
      "       [  7,   2],\n",
      "       [ 36,   9],\n",
      "       [ 21,   5],\n",
      "       [  0,   0],\n",
      "       [ 95,   4],\n",
      "       [ 55,   6],\n",
      "       [ 46,  26],\n",
      "       [ 44,   8],\n",
      "       [ 62,   4],\n",
      "       [ 39,  19],\n",
      "       [  0,   0],\n",
      "       [  0,   0],\n",
      "       [ 60,   4],\n",
      "       [  0,   0],\n",
      "       [ 18,  11],\n",
      "       [ 70,  20],\n",
      "       [ 78,   9],\n",
      "       [  9,   8],\n",
      "       [  0,   0],\n",
      "       [ 12,   4],\n",
      "       [ 43,   3],\n",
      "       [  0,   0],\n",
      "       [  0,   0],\n",
      "       [ 47,  11],\n",
      "       [ 56,  24],\n",
      "       [ 56,   8],\n",
      "       [ 34,   9],\n",
      "       [ 54,  23],\n",
      "       [ 45,   7],\n",
      "       [ 24,   9],\n",
      "       [ 15,   1],\n",
      "       [480,  10],\n",
      "       [ 67,   4],\n",
      "       [  0,   0],\n",
      "       [  7,   3],\n",
      "       [461,  46],\n",
      "       [  9,   4],\n",
      "       [254,  19],\n",
      "       [ 28,  15],\n",
      "       [  0,   0],\n",
      "       [288,   9],\n",
      "       [ 30,  10],\n",
      "       [354,   7],\n",
      "       [342,   7],\n",
      "       [ 68,  23],\n",
      "       [ 15,   4],\n",
      "       [ 10,   7],\n",
      "       [ 81,  12],\n",
      "       [ 13,   6],\n",
      "       [ 50,   1],\n",
      "       [ 59,  21],\n",
      "       [ 91,   9],\n",
      "       [452,  50],\n",
      "       [560,  11],\n",
      "       [ 64,  12],\n",
      "       [ 87,  29],\n",
      "       [  0,   0],\n",
      "       [ 92,  34],\n",
      "       [103,   3],\n",
      "       [ 88,  18],\n",
      "       [235,   7],\n",
      "       [ 19,  15],\n",
      "       [ 65,  18],\n",
      "       [189,  28],\n",
      "       [ 43,   9],\n",
      "       [  0,   0],\n",
      "       [  0,   0],\n",
      "       [ 27,   7],\n",
      "       [155,   5],\n",
      "       [296,  12],\n",
      "       [ 83,   2],\n",
      "       [ 85,   4],\n",
      "       [ 29,  12],\n",
      "       [ 19,   3],\n",
      "       [ 42,   3],\n",
      "       [ 11,   5],\n",
      "       [  0,   0],\n",
      "       [174,   7],\n",
      "       [  0,   0],\n",
      "       [ 12,   4],\n",
      "       [ 14,   3],\n",
      "       [ 68,   9],\n",
      "       [149,  28],\n",
      "       [ 37,   5],\n",
      "       [ 28,   7],\n",
      "       [105,  17],\n",
      "       [ 45,   8],\n",
      "       [ 23,   7],\n",
      "       [ 91,  29],\n",
      "       [ 17,   9],\n",
      "       [  0,   0],\n",
      "       [ 32,   5],\n",
      "       [ 33,   8],\n",
      "       [ 17,   7],\n",
      "       [ 58,   8],\n",
      "       [914,  58],\n",
      "       [  0,   0],\n",
      "       [ 37,   5],\n",
      "       [  0,   0],\n",
      "       [  0,   0],\n",
      "       [  0,   0],\n",
      "       [407,  21],\n",
      "       [ 46,  17],\n",
      "       [ 17,   6],\n",
      "       [243,  27],\n",
      "       [ 16,   4],\n",
      "       [ 21,   3],\n",
      "       [ 41,  24],\n",
      "       [ 13,  11],\n",
      "       [ 79,   4],\n",
      "       [ 16,  12],\n",
      "       [  0,   0],\n",
      "       [188,   6],\n",
      "       [233,  15],\n",
      "       [230,  10],\n",
      "       [127,  40],\n",
      "       [163,  12],\n",
      "       [  5,   1],\n",
      "       [275,  18],\n",
      "       [  0,   0],\n",
      "       [ 13,  12],\n",
      "       [210,  74],\n",
      "       [128,  26],\n",
      "       [  0,   0],\n",
      "       [263,  11],\n",
      "       [ 33,  14],\n",
      "       [132,   8],\n",
      "       [ 61,  11],\n",
      "       [  0,   0],\n",
      "       [258,  14],\n",
      "       [ 36,   5],\n",
      "       [  0,   0],\n",
      "       [  0,   0],\n",
      "       [ 89,   9],\n",
      "       [ 57,  23],\n",
      "       [ 62,   7],\n",
      "       [ 34,   4],\n",
      "       [  0,   0],\n",
      "       [ 60,   6],\n",
      "       [107,  19],\n",
      "       [ 47,  10],\n",
      "       [  0,   0],\n",
      "       [ 51,   5],\n",
      "       [ 46,   4],\n",
      "       [ 49,   4],\n",
      "       [  0,   0],\n",
      "       [222,  78],\n",
      "       [ 54,  12],\n",
      "       [ 30,   5],\n",
      "       [ 46,   6],\n",
      "       [ 15,   2],\n",
      "       [ 36,   7],\n",
      "       [ 47,   2],\n",
      "       [ 29,   5],\n",
      "       [ 69,  15],\n",
      "       [ 22,   4],\n",
      "       [ 26,   5],\n",
      "       [ 15,   8],\n",
      "       [ 26,   7],\n",
      "       [ 22,   0],\n",
      "       [ 68,   4],\n",
      "       [ 21,   4],\n",
      "       [306,   3],\n",
      "       [ 35,  17],\n",
      "       [396,  30],\n",
      "       [ 18,   2],\n",
      "       [ 28,  18],\n",
      "       [ 15,   4],\n",
      "       [ 13,   3],\n",
      "       [  0,   0],\n",
      "       [ 13,   6],\n",
      "       [410,  41],\n",
      "       [ 15,   7],\n",
      "       [  8,   6],\n",
      "       [280,   9],\n",
      "       [145,   6],\n",
      "       [167,  21],\n",
      "       [225,  14],\n",
      "       [ 56,   8],\n",
      "       [131,  11],\n",
      "       [ 43,   7],\n",
      "       [ 37,   3],\n",
      "       [115,  62],\n",
      "       [ 38,   2],\n",
      "       [  0,   0],\n",
      "       [284,  32],\n",
      "       [ 99,  15],\n",
      "       [ 32,   4],\n",
      "       [  3,   2],\n",
      "       [  0,   0],\n",
      "       [ 51,   1],\n",
      "       [  4,   3],\n",
      "       [ 30,   1],\n",
      "       [107,   8],\n",
      "       [ 22,   5],\n",
      "       [ 34,   3],\n",
      "       [112,  18],\n",
      "       [ 10,   5],\n",
      "       [ 46,   3],\n",
      "       [  0,   0],\n",
      "       [165,   5],\n",
      "       [ 43,   1],\n",
      "       [ 28,   2],\n",
      "       [ 23,   6],\n",
      "       [ 21,   2],\n",
      "       [  0,   0],\n",
      "       [100,  45],\n",
      "       [  0,   0],\n",
      "       [  0,   0],\n",
      "       [ 51,   7],\n",
      "       [ 15,   1]]), 8: array([[  0,   0],\n",
      "       [154,  12],\n",
      "       [ 76,   2],\n",
      "       [ 70,  14],\n",
      "       [361,  11],\n",
      "       [ 62,  11],\n",
      "       [ 37,   9],\n",
      "       [ 32,   4],\n",
      "       [ 15,   1],\n",
      "       [ 50,   8],\n",
      "       [ 69,   5],\n",
      "       [194,   8],\n",
      "       [ 25,   2],\n",
      "       [ 82,   2],\n",
      "       [ 67,   3],\n",
      "       [ 14,   2],\n",
      "       [ 59,   4],\n",
      "       [142,   4],\n",
      "       [ 20,   1],\n",
      "       [ 15,   3],\n",
      "       [ 90,   7],\n",
      "       [ 58,   3],\n",
      "       [562,  77],\n",
      "       [ 59,   4],\n",
      "       [ 51,   4],\n",
      "       [286,  43],\n",
      "       [420,  68],\n",
      "       [185,  38],\n",
      "       [  6,   2],\n",
      "       [120,   4],\n",
      "       [ 71,   2],\n",
      "       [ 38,   4],\n",
      "       [133,  52],\n",
      "       [160,  24],\n",
      "       [276,   3],\n",
      "       [161,  22],\n",
      "       [ 62,   5],\n",
      "       [160,  12],\n",
      "       [  4,   2],\n",
      "       [152,  19],\n",
      "       [133,  12],\n",
      "       [ 77,  15],\n",
      "       [ 37,  19],\n",
      "       [ 27,  15],\n",
      "       [ 32,   1],\n",
      "       [  8,   2],\n",
      "       [136,  10],\n",
      "       [196,   2],\n",
      "       [ 19,   5],\n",
      "       [ 88,   2],\n",
      "       [ 15,   3],\n",
      "       [ 14,   2],\n",
      "       [ 12,   3],\n",
      "       [  0,   0],\n",
      "       [ 13,   4],\n",
      "       [ 82,   4],\n",
      "       [ 51,   8],\n",
      "       [ 32,   3],\n",
      "       [ 15,   3],\n",
      "       [ 28,   4],\n",
      "       [ 33,  14],\n",
      "       [  8,   1],\n",
      "       [ 43,   2],\n",
      "       [ 17,   8],\n",
      "       [ 12,   6],\n",
      "       [ 37,  15],\n",
      "       [  7,   4],\n",
      "       [ 18,   4],\n",
      "       [549,  35],\n",
      "       [ 46,   6],\n",
      "       [ 45,   6],\n",
      "       [ 15,   6],\n",
      "       [332,  10],\n",
      "       [ 14,  11],\n",
      "       [280,  53],\n",
      "       [ 26,   5],\n",
      "       [ 33,  15],\n",
      "       [ 19,   2],\n",
      "       [ 16,   9],\n",
      "       [983, 147],\n",
      "       [ 37,  29],\n",
      "       [223,  12],\n",
      "       [ 71,  58],\n",
      "       [195,   4],\n",
      "       [  0,   0],\n",
      "       [ 20,   2],\n",
      "       [  7,   6],\n",
      "       [ 41,   1],\n",
      "       [  2,   1],\n",
      "       [ 99,   2],\n",
      "       [132,  23],\n",
      "       [ 49,   7],\n",
      "       [ 55,   4],\n",
      "       [ 38,   5],\n",
      "       [ 44,   2],\n",
      "       [ 40,   7],\n",
      "       [ 34,   8],\n",
      "       [ 55,   5],\n",
      "       [168,  19],\n",
      "       [241,  39],\n",
      "       [177,   5],\n",
      "       [172,   4],\n",
      "       [134,  38],\n",
      "       [ 51,  18],\n",
      "       [ 47,  12],\n",
      "       [ 27,   4],\n",
      "       [ 90,  30],\n",
      "       [108,   6],\n",
      "       [ 17,   2],\n",
      "       [ 16,  13],\n",
      "       [ 97,   2],\n",
      "       [107,   9],\n",
      "       [132,  42],\n",
      "       [ 86,   3],\n",
      "       [ 17,   1],\n",
      "       [324,  76],\n",
      "       [ 37,  11],\n",
      "       [  0,   0],\n",
      "       [ 61,  16],\n",
      "       [  0,   0],\n",
      "       [  9,   3],\n",
      "       [ 51,   6],\n",
      "       [597,  18],\n",
      "       [ 25,  24],\n",
      "       [ 19,   8],\n",
      "       [ 35,   3],\n",
      "       [  0,   0],\n",
      "       [446,  23],\n",
      "       [  8,   3],\n",
      "       [273,   0],\n",
      "       [ 11,   5],\n",
      "       [ 11,   6],\n",
      "       [ 16,   3],\n",
      "       [ 47,   3],\n",
      "       [ 36,  24],\n",
      "       [  0,   0],\n",
      "       [ 58,  13],\n",
      "       [ 28,  15],\n",
      "       [  0,   0],\n",
      "       [ 90,   5],\n",
      "       [ 51,   5],\n",
      "       [ 43,   3],\n",
      "       [ 29,   4],\n",
      "       [302, 112],\n",
      "       [ 16,   4],\n",
      "       [ 18,   9],\n",
      "       [  0,   0],\n",
      "       [ 21,   8],\n",
      "       [210,   4],\n",
      "       [  0,   0],\n",
      "       [ 42,  14],\n",
      "       [  0,   0],\n",
      "       [ 42,   5],\n",
      "       [ 32,   2],\n",
      "       [ 27,   2],\n",
      "       [299,  12],\n",
      "       [ 40,   2],\n",
      "       [ 10,   6],\n",
      "       [ 44,  39],\n",
      "       [  0,   0],\n",
      "       [  0,   0],\n",
      "       [ 11,   3],\n",
      "       [423,  18],\n",
      "       [103,   8],\n",
      "       [ 23,  18],\n",
      "       [ 24,  14],\n",
      "       [283,  15],\n",
      "       [ 52,   3],\n",
      "       [147,   3],\n",
      "       [133,  10],\n",
      "       [ 68,   8],\n",
      "       [ 18,  10],\n",
      "       [249,   5],\n",
      "       [ 19,  15],\n",
      "       [ 34,   3],\n",
      "       [ 25,  24],\n",
      "       [ 70,   6],\n",
      "       [ 38,   1],\n",
      "       [116,   9],\n",
      "       [141,  17],\n",
      "       [  0,   0],\n",
      "       [262,   8],\n",
      "       [ 72,  31],\n",
      "       [  0,   0],\n",
      "       [ 14,  11],\n",
      "       [156,  12],\n",
      "       [175,  17],\n",
      "       [206,   2],\n",
      "       [ 59,   4],\n",
      "       [  7,   2],\n",
      "       [ 36,   9],\n",
      "       [ 21,   5],\n",
      "       [  0,   0],\n",
      "       [ 95,   4],\n",
      "       [ 55,   6],\n",
      "       [ 46,  26],\n",
      "       [ 44,   8],\n",
      "       [ 62,   4],\n",
      "       [ 39,  19],\n",
      "       [  0,   0],\n",
      "       [  0,   0],\n",
      "       [ 60,   4],\n",
      "       [  0,   0],\n",
      "       [ 18,  11],\n",
      "       [ 70,  20],\n",
      "       [ 78,   9],\n",
      "       [  9,   8],\n",
      "       [  0,   0],\n",
      "       [ 12,   4],\n",
      "       [ 43,   3],\n",
      "       [  0,   0],\n",
      "       [  0,   0],\n",
      "       [ 47,  11],\n",
      "       [ 56,  24],\n",
      "       [ 56,   8],\n",
      "       [ 34,   9],\n",
      "       [ 54,  23],\n",
      "       [ 45,   7],\n",
      "       [ 24,   9],\n",
      "       [ 15,   1],\n",
      "       [480,  10],\n",
      "       [ 67,   4],\n",
      "       [  0,   0],\n",
      "       [  7,   3],\n",
      "       [461,  46],\n",
      "       [  9,   4],\n",
      "       [254,  19],\n",
      "       [ 28,  15],\n",
      "       [  0,   0],\n",
      "       [288,   9],\n",
      "       [ 30,  10],\n",
      "       [354,   7],\n",
      "       [342,   7],\n",
      "       [ 68,  23],\n",
      "       [ 15,   4],\n",
      "       [ 10,   7],\n",
      "       [ 81,  12],\n",
      "       [ 13,   6],\n",
      "       [ 50,   1],\n",
      "       [ 59,  21],\n",
      "       [ 91,   9],\n",
      "       [452,  50],\n",
      "       [560,  11],\n",
      "       [ 64,  12],\n",
      "       [ 87,  29],\n",
      "       [  0,   0],\n",
      "       [ 92,  34],\n",
      "       [103,   3],\n",
      "       [ 88,  18],\n",
      "       [235,   7],\n",
      "       [ 19,  15],\n",
      "       [ 65,  18],\n",
      "       [189,  28],\n",
      "       [ 43,   9],\n",
      "       [  0,   0],\n",
      "       [  0,   0],\n",
      "       [ 27,   7],\n",
      "       [155,   5],\n",
      "       [296,  12],\n",
      "       [ 83,   2],\n",
      "       [ 85,   4],\n",
      "       [ 29,  12],\n",
      "       [ 19,   3],\n",
      "       [ 42,   3],\n",
      "       [ 11,   5],\n",
      "       [  0,   0],\n",
      "       [174,   7],\n",
      "       [  0,   0],\n",
      "       [ 12,   4],\n",
      "       [ 14,   3],\n",
      "       [ 68,   9],\n",
      "       [149,  28],\n",
      "       [ 37,   5],\n",
      "       [ 28,   7],\n",
      "       [105,  17],\n",
      "       [ 45,   8],\n",
      "       [ 23,   7],\n",
      "       [ 91,  29],\n",
      "       [ 17,   9],\n",
      "       [  0,   0],\n",
      "       [ 32,   5],\n",
      "       [ 33,   8],\n",
      "       [ 17,   7],\n",
      "       [ 58,   8],\n",
      "       [914,  58],\n",
      "       [  0,   0],\n",
      "       [ 37,   5],\n",
      "       [  0,   0],\n",
      "       [  0,   0],\n",
      "       [  0,   0],\n",
      "       [407,  21],\n",
      "       [ 46,  17],\n",
      "       [ 17,   6],\n",
      "       [243,  27],\n",
      "       [ 16,   4],\n",
      "       [ 21,   3],\n",
      "       [ 41,  24],\n",
      "       [ 13,  11],\n",
      "       [ 79,   4],\n",
      "       [ 16,  12],\n",
      "       [  0,   0],\n",
      "       [188,   6],\n",
      "       [233,  15],\n",
      "       [230,  10],\n",
      "       [127,  40],\n",
      "       [163,  12],\n",
      "       [  5,   1],\n",
      "       [275,  18],\n",
      "       [  0,   0],\n",
      "       [ 13,  12],\n",
      "       [210,  74],\n",
      "       [128,  26],\n",
      "       [  0,   0],\n",
      "       [263,  11],\n",
      "       [ 33,  14],\n",
      "       [132,   8],\n",
      "       [ 61,  11],\n",
      "       [  0,   0],\n",
      "       [258,  14],\n",
      "       [ 36,   5],\n",
      "       [  0,   0],\n",
      "       [  0,   0],\n",
      "       [ 89,   9],\n",
      "       [ 57,  23],\n",
      "       [ 62,   7],\n",
      "       [ 34,   4],\n",
      "       [  0,   0],\n",
      "       [ 60,   6],\n",
      "       [107,  19],\n",
      "       [ 47,  10],\n",
      "       [  0,   0],\n",
      "       [ 51,   5],\n",
      "       [ 46,   4],\n",
      "       [ 49,   4],\n",
      "       [  0,   0],\n",
      "       [222,  78],\n",
      "       [ 54,  12],\n",
      "       [ 30,   5],\n",
      "       [ 46,   6],\n",
      "       [ 15,   2],\n",
      "       [ 36,   7],\n",
      "       [ 47,   2],\n",
      "       [ 29,   5],\n",
      "       [ 69,  15],\n",
      "       [ 22,   4],\n",
      "       [ 26,   5],\n",
      "       [ 15,   8],\n",
      "       [ 26,   7],\n",
      "       [ 22,   0],\n",
      "       [ 68,   4],\n",
      "       [ 21,   4],\n",
      "       [306,   3],\n",
      "       [ 35,  17],\n",
      "       [396,  30],\n",
      "       [ 18,   2],\n",
      "       [ 28,  18],\n",
      "       [ 15,   4],\n",
      "       [ 13,   3],\n",
      "       [  0,   0],\n",
      "       [ 13,   6],\n",
      "       [410,  41],\n",
      "       [ 15,   7],\n",
      "       [  8,   6],\n",
      "       [280,   9],\n",
      "       [145,   6],\n",
      "       [167,  21],\n",
      "       [225,  14],\n",
      "       [ 56,   8],\n",
      "       [131,  11],\n",
      "       [ 43,   7],\n",
      "       [ 37,   3],\n",
      "       [115,  62],\n",
      "       [ 38,   2],\n",
      "       [  0,   0],\n",
      "       [284,  32],\n",
      "       [ 99,  15],\n",
      "       [ 32,   4],\n",
      "       [  3,   2],\n",
      "       [  0,   0],\n",
      "       [ 51,   1],\n",
      "       [  4,   3],\n",
      "       [ 30,   1],\n",
      "       [107,   8],\n",
      "       [ 22,   5],\n",
      "       [ 34,   3],\n",
      "       [112,  18],\n",
      "       [ 10,   5],\n",
      "       [ 46,   3],\n",
      "       [  0,   0],\n",
      "       [165,   5],\n",
      "       [ 43,   1],\n",
      "       [ 28,   2],\n",
      "       [ 23,   6],\n",
      "       [ 21,   2],\n",
      "       [  0,   0],\n",
      "       [100,  45],\n",
      "       [  0,   0],\n",
      "       [  0,   0],\n",
      "       [ 51,   7],\n",
      "       [ 15,   1],\n",
      "       [ 12,   5],\n",
      "       [ 49,   4],\n",
      "       [ 53,   4],\n",
      "       [ 47,  10],\n",
      "       [ 34,   5],\n",
      "       [ 12,   2],\n",
      "       [ 83,  10],\n",
      "       [  7,   6],\n",
      "       [  0,   0],\n",
      "       [ 61,  11],\n",
      "       [ 91,  15],\n",
      "       [  0,   0],\n",
      "       [ 74,  21],\n",
      "       [ 17,   3],\n",
      "       [ 16,   2],\n",
      "       [ 18,   2],\n",
      "       [ 29,   9],\n",
      "       [318,  31],\n",
      "       [ 28,   6],\n",
      "       [ 48,  14],\n",
      "       [ 18,  13],\n",
      "       [  8,   1],\n",
      "       [ 23,   4],\n",
      "       [ 15,   2],\n",
      "       [  0,   0],\n",
      "       [ 65,  40],\n",
      "       [ 12,   3],\n",
      "       [476,   5],\n",
      "       [135,  10],\n",
      "       [363,  27],\n",
      "       [354,  15],\n",
      "       [ 36,  23],\n",
      "       [  9,   3],\n",
      "       [ 13,  12],\n",
      "       [466,  19],\n",
      "       [ 25,  24],\n",
      "       [137,  10],\n",
      "       [383,   4],\n",
      "       [ 17,   5],\n",
      "       [429,   4],\n",
      "       [226,  12],\n",
      "       [  0,   0],\n",
      "       [  6,   2],\n",
      "       [ 12,   8],\n",
      "       [ 65,  17],\n",
      "       [  6,   4],\n",
      "       [ 11,   7],\n",
      "       [  3,   1],\n",
      "       [ 81,   7],\n",
      "       [ 31,   4]]), 9: array([[  0,   0],\n",
      "       [154,  12],\n",
      "       [ 76,   2],\n",
      "       [ 70,  14],\n",
      "       [361,  11],\n",
      "       [ 62,  11],\n",
      "       [ 37,   9],\n",
      "       [ 32,   4],\n",
      "       [ 15,   1],\n",
      "       [ 50,   8],\n",
      "       [ 69,   5],\n",
      "       [194,   8],\n",
      "       [ 25,   2],\n",
      "       [ 82,   2],\n",
      "       [ 67,   3],\n",
      "       [ 14,   2],\n",
      "       [ 59,   4],\n",
      "       [142,   4],\n",
      "       [ 20,   1],\n",
      "       [ 15,   3],\n",
      "       [ 90,   7],\n",
      "       [ 58,   3],\n",
      "       [562,  77],\n",
      "       [ 59,   4],\n",
      "       [ 51,   4],\n",
      "       [286,  43],\n",
      "       [420,  68],\n",
      "       [185,  38],\n",
      "       [  6,   2],\n",
      "       [120,   4],\n",
      "       [ 71,   2],\n",
      "       [ 38,   4],\n",
      "       [133,  52],\n",
      "       [160,  24],\n",
      "       [276,   3],\n",
      "       [161,  22],\n",
      "       [ 62,   5],\n",
      "       [160,  12],\n",
      "       [  4,   2],\n",
      "       [152,  19],\n",
      "       [133,  12],\n",
      "       [ 77,  15],\n",
      "       [ 37,  19],\n",
      "       [ 27,  15],\n",
      "       [ 32,   1],\n",
      "       [  8,   2],\n",
      "       [136,  10],\n",
      "       [196,   2],\n",
      "       [ 19,   5],\n",
      "       [ 88,   2],\n",
      "       [ 15,   3],\n",
      "       [ 14,   2],\n",
      "       [ 12,   3],\n",
      "       [  0,   0],\n",
      "       [ 13,   4],\n",
      "       [ 82,   4],\n",
      "       [ 51,   8],\n",
      "       [ 32,   3],\n",
      "       [ 15,   3],\n",
      "       [ 28,   4],\n",
      "       [ 33,  14],\n",
      "       [  8,   1],\n",
      "       [ 43,   2],\n",
      "       [ 17,   8],\n",
      "       [ 12,   6],\n",
      "       [ 37,  15],\n",
      "       [  7,   4],\n",
      "       [ 18,   4],\n",
      "       [549,  35],\n",
      "       [ 46,   6],\n",
      "       [ 45,   6],\n",
      "       [ 15,   6],\n",
      "       [332,  10],\n",
      "       [ 14,  11],\n",
      "       [280,  53],\n",
      "       [ 26,   5],\n",
      "       [ 33,  15],\n",
      "       [ 19,   2],\n",
      "       [ 16,   9],\n",
      "       [983, 147],\n",
      "       [ 37,  29],\n",
      "       [223,  12],\n",
      "       [ 71,  58],\n",
      "       [195,   4],\n",
      "       [  0,   0],\n",
      "       [ 20,   2],\n",
      "       [  7,   6],\n",
      "       [ 41,   1],\n",
      "       [  2,   1],\n",
      "       [ 99,   2],\n",
      "       [132,  23],\n",
      "       [ 49,   7],\n",
      "       [ 55,   4],\n",
      "       [ 38,   5],\n",
      "       [ 44,   2],\n",
      "       [ 40,   7],\n",
      "       [ 34,   8],\n",
      "       [ 55,   5],\n",
      "       [168,  19],\n",
      "       [241,  39],\n",
      "       [177,   5],\n",
      "       [172,   4],\n",
      "       [134,  38],\n",
      "       [ 51,  18],\n",
      "       [ 47,  12],\n",
      "       [ 27,   4],\n",
      "       [ 90,  30],\n",
      "       [108,   6],\n",
      "       [ 17,   2],\n",
      "       [ 16,  13],\n",
      "       [ 97,   2],\n",
      "       [107,   9],\n",
      "       [132,  42],\n",
      "       [ 86,   3],\n",
      "       [ 17,   1],\n",
      "       [324,  76],\n",
      "       [ 37,  11],\n",
      "       [  0,   0],\n",
      "       [ 61,  16],\n",
      "       [  0,   0],\n",
      "       [  9,   3],\n",
      "       [ 51,   6],\n",
      "       [597,  18],\n",
      "       [ 25,  24],\n",
      "       [ 19,   8],\n",
      "       [ 35,   3],\n",
      "       [  0,   0],\n",
      "       [446,  23],\n",
      "       [  8,   3],\n",
      "       [273,   0],\n",
      "       [ 11,   5],\n",
      "       [ 11,   6],\n",
      "       [ 16,   3],\n",
      "       [ 47,   3],\n",
      "       [ 36,  24],\n",
      "       [  0,   0],\n",
      "       [ 58,  13],\n",
      "       [ 28,  15],\n",
      "       [  0,   0],\n",
      "       [ 90,   5],\n",
      "       [ 51,   5],\n",
      "       [ 43,   3],\n",
      "       [ 29,   4],\n",
      "       [302, 112],\n",
      "       [ 16,   4],\n",
      "       [ 18,   9],\n",
      "       [  0,   0],\n",
      "       [ 21,   8],\n",
      "       [210,   4],\n",
      "       [  0,   0],\n",
      "       [ 42,  14],\n",
      "       [  0,   0],\n",
      "       [ 42,   5],\n",
      "       [ 32,   2],\n",
      "       [ 27,   2],\n",
      "       [299,  12],\n",
      "       [ 40,   2],\n",
      "       [ 10,   6],\n",
      "       [ 44,  39],\n",
      "       [  0,   0],\n",
      "       [  0,   0],\n",
      "       [ 11,   3],\n",
      "       [423,  18],\n",
      "       [103,   8],\n",
      "       [ 23,  18],\n",
      "       [ 24,  14],\n",
      "       [283,  15],\n",
      "       [ 52,   3],\n",
      "       [147,   3],\n",
      "       [133,  10],\n",
      "       [ 68,   8],\n",
      "       [ 18,  10],\n",
      "       [249,   5],\n",
      "       [ 19,  15],\n",
      "       [ 34,   3],\n",
      "       [ 25,  24],\n",
      "       [ 70,   6],\n",
      "       [ 38,   1],\n",
      "       [116,   9],\n",
      "       [141,  17],\n",
      "       [  0,   0],\n",
      "       [262,   8],\n",
      "       [ 72,  31],\n",
      "       [  0,   0],\n",
      "       [ 14,  11],\n",
      "       [156,  12],\n",
      "       [175,  17],\n",
      "       [206,   2],\n",
      "       [ 59,   4],\n",
      "       [  7,   2],\n",
      "       [ 36,   9],\n",
      "       [ 21,   5],\n",
      "       [  0,   0],\n",
      "       [ 95,   4],\n",
      "       [ 55,   6],\n",
      "       [ 46,  26],\n",
      "       [ 44,   8],\n",
      "       [ 62,   4],\n",
      "       [ 39,  19],\n",
      "       [  0,   0],\n",
      "       [  0,   0],\n",
      "       [ 60,   4],\n",
      "       [  0,   0],\n",
      "       [ 18,  11],\n",
      "       [ 70,  20],\n",
      "       [ 78,   9],\n",
      "       [  9,   8],\n",
      "       [  0,   0],\n",
      "       [ 12,   4],\n",
      "       [ 43,   3],\n",
      "       [  0,   0],\n",
      "       [  0,   0],\n",
      "       [ 47,  11],\n",
      "       [ 56,  24],\n",
      "       [ 56,   8],\n",
      "       [ 34,   9],\n",
      "       [ 54,  23],\n",
      "       [ 45,   7],\n",
      "       [ 24,   9],\n",
      "       [ 15,   1],\n",
      "       [480,  10],\n",
      "       [ 67,   4],\n",
      "       [  0,   0],\n",
      "       [  7,   3],\n",
      "       [461,  46],\n",
      "       [  9,   4],\n",
      "       [254,  19],\n",
      "       [ 28,  15],\n",
      "       [  0,   0],\n",
      "       [288,   9],\n",
      "       [ 30,  10],\n",
      "       [354,   7],\n",
      "       [342,   7],\n",
      "       [ 68,  23],\n",
      "       [ 15,   4],\n",
      "       [ 10,   7],\n",
      "       [ 81,  12],\n",
      "       [ 13,   6],\n",
      "       [ 50,   1],\n",
      "       [ 59,  21],\n",
      "       [ 91,   9],\n",
      "       [452,  50],\n",
      "       [560,  11],\n",
      "       [ 64,  12],\n",
      "       [ 87,  29],\n",
      "       [  0,   0],\n",
      "       [ 92,  34],\n",
      "       [103,   3],\n",
      "       [ 88,  18],\n",
      "       [235,   7],\n",
      "       [ 19,  15],\n",
      "       [ 65,  18],\n",
      "       [189,  28],\n",
      "       [ 43,   9],\n",
      "       [  0,   0],\n",
      "       [  0,   0],\n",
      "       [ 27,   7],\n",
      "       [155,   5],\n",
      "       [296,  12],\n",
      "       [ 83,   2],\n",
      "       [ 85,   4],\n",
      "       [ 29,  12],\n",
      "       [ 19,   3],\n",
      "       [ 42,   3],\n",
      "       [ 11,   5],\n",
      "       [  0,   0],\n",
      "       [174,   7],\n",
      "       [  0,   0],\n",
      "       [ 12,   4],\n",
      "       [ 14,   3],\n",
      "       [ 68,   9],\n",
      "       [149,  28],\n",
      "       [ 37,   5],\n",
      "       [ 28,   7],\n",
      "       [105,  17],\n",
      "       [ 45,   8],\n",
      "       [ 23,   7],\n",
      "       [ 91,  29],\n",
      "       [ 17,   9],\n",
      "       [  0,   0],\n",
      "       [ 32,   5],\n",
      "       [ 33,   8],\n",
      "       [ 17,   7],\n",
      "       [ 58,   8],\n",
      "       [914,  58],\n",
      "       [  0,   0],\n",
      "       [ 37,   5],\n",
      "       [  0,   0],\n",
      "       [  0,   0],\n",
      "       [  0,   0],\n",
      "       [407,  21],\n",
      "       [ 46,  17],\n",
      "       [ 17,   6],\n",
      "       [243,  27],\n",
      "       [ 16,   4],\n",
      "       [ 21,   3],\n",
      "       [ 41,  24],\n",
      "       [ 13,  11],\n",
      "       [ 79,   4],\n",
      "       [ 16,  12],\n",
      "       [  0,   0],\n",
      "       [188,   6],\n",
      "       [233,  15],\n",
      "       [230,  10],\n",
      "       [127,  40],\n",
      "       [163,  12],\n",
      "       [  5,   1],\n",
      "       [275,  18],\n",
      "       [  0,   0],\n",
      "       [ 13,  12],\n",
      "       [210,  74],\n",
      "       [128,  26],\n",
      "       [  0,   0],\n",
      "       [263,  11],\n",
      "       [ 33,  14],\n",
      "       [132,   8],\n",
      "       [ 61,  11],\n",
      "       [  0,   0],\n",
      "       [258,  14],\n",
      "       [ 36,   5],\n",
      "       [  0,   0],\n",
      "       [  0,   0],\n",
      "       [ 89,   9],\n",
      "       [ 57,  23],\n",
      "       [ 62,   7],\n",
      "       [ 34,   4],\n",
      "       [  0,   0],\n",
      "       [ 60,   6],\n",
      "       [107,  19],\n",
      "       [ 47,  10],\n",
      "       [  0,   0],\n",
      "       [ 51,   5],\n",
      "       [ 46,   4],\n",
      "       [ 49,   4],\n",
      "       [  0,   0],\n",
      "       [222,  78],\n",
      "       [ 54,  12],\n",
      "       [ 30,   5],\n",
      "       [ 46,   6],\n",
      "       [ 15,   2],\n",
      "       [ 36,   7],\n",
      "       [ 47,   2],\n",
      "       [ 29,   5],\n",
      "       [ 69,  15],\n",
      "       [ 22,   4],\n",
      "       [ 26,   5],\n",
      "       [ 15,   8],\n",
      "       [ 26,   7],\n",
      "       [ 22,   0],\n",
      "       [ 68,   4],\n",
      "       [ 21,   4],\n",
      "       [306,   3],\n",
      "       [ 35,  17],\n",
      "       [396,  30],\n",
      "       [ 18,   2],\n",
      "       [ 28,  18],\n",
      "       [ 15,   4],\n",
      "       [ 13,   3],\n",
      "       [  0,   0],\n",
      "       [ 13,   6],\n",
      "       [410,  41],\n",
      "       [ 15,   7],\n",
      "       [  8,   6],\n",
      "       [280,   9],\n",
      "       [145,   6],\n",
      "       [167,  21],\n",
      "       [225,  14],\n",
      "       [ 56,   8],\n",
      "       [131,  11],\n",
      "       [ 43,   7],\n",
      "       [ 37,   3],\n",
      "       [115,  62],\n",
      "       [ 38,   2],\n",
      "       [  0,   0],\n",
      "       [284,  32],\n",
      "       [ 99,  15],\n",
      "       [ 32,   4],\n",
      "       [  3,   2],\n",
      "       [  0,   0],\n",
      "       [ 51,   1],\n",
      "       [  4,   3],\n",
      "       [ 30,   1],\n",
      "       [107,   8],\n",
      "       [ 22,   5],\n",
      "       [ 34,   3],\n",
      "       [112,  18],\n",
      "       [ 10,   5],\n",
      "       [ 46,   3],\n",
      "       [  0,   0],\n",
      "       [165,   5],\n",
      "       [ 43,   1],\n",
      "       [ 28,   2],\n",
      "       [ 23,   6],\n",
      "       [ 21,   2],\n",
      "       [  0,   0],\n",
      "       [100,  45],\n",
      "       [  0,   0],\n",
      "       [  0,   0],\n",
      "       [ 51,   7],\n",
      "       [ 15,   1],\n",
      "       [ 12,   5],\n",
      "       [ 49,   4],\n",
      "       [ 53,   4],\n",
      "       [ 47,  10],\n",
      "       [ 34,   5],\n",
      "       [ 12,   2],\n",
      "       [ 83,  10],\n",
      "       [  7,   6],\n",
      "       [  0,   0],\n",
      "       [ 61,  11],\n",
      "       [ 91,  15],\n",
      "       [  0,   0],\n",
      "       [ 74,  21],\n",
      "       [ 17,   3],\n",
      "       [ 16,   2],\n",
      "       [ 18,   2],\n",
      "       [ 29,   9],\n",
      "       [318,  31],\n",
      "       [ 28,   6],\n",
      "       [ 48,  14],\n",
      "       [ 18,  13],\n",
      "       [  8,   1],\n",
      "       [ 23,   4],\n",
      "       [ 15,   2],\n",
      "       [  0,   0],\n",
      "       [ 65,  40],\n",
      "       [ 12,   3],\n",
      "       [476,   5],\n",
      "       [135,  10],\n",
      "       [363,  27],\n",
      "       [354,  15],\n",
      "       [ 36,  23],\n",
      "       [  9,   3],\n",
      "       [ 13,  12],\n",
      "       [466,  19],\n",
      "       [ 25,  24],\n",
      "       [137,  10],\n",
      "       [383,   4],\n",
      "       [ 17,   5],\n",
      "       [429,   4],\n",
      "       [226,  12],\n",
      "       [  0,   0],\n",
      "       [  6,   2],\n",
      "       [ 12,   8],\n",
      "       [ 65,  17],\n",
      "       [  6,   4],\n",
      "       [ 11,   7],\n",
      "       [  3,   1],\n",
      "       [ 81,   7],\n",
      "       [ 31,   4],\n",
      "       [  3,   2],\n",
      "       [182,  16],\n",
      "       [ 62,   8],\n",
      "       [ 74,  11],\n",
      "       [ 34,   4],\n",
      "       [  0,   0],\n",
      "       [192,  24],\n",
      "       [  0,   0],\n",
      "       [244,   5],\n",
      "       [  0,   0],\n",
      "       [ 32,  17],\n",
      "       [ 65,  17],\n",
      "       [ 58,   7],\n",
      "       [  0,   0],\n",
      "       [ 38,   5],\n",
      "       [ 83,   7],\n",
      "       [ 70,   9],\n",
      "       [ 19,   4],\n",
      "       [ 27,   4],\n",
      "       [  0,   0],\n",
      "       [ 79,   9],\n",
      "       [ 56,   9],\n",
      "       [ 26,   3],\n",
      "       [ 97,   4],\n",
      "       [ 49,   4],\n",
      "       [ 36,   3],\n",
      "       [ 32,   3],\n",
      "       [ 35,   4],\n",
      "       [ 25,   4],\n",
      "       [ 29,   4],\n",
      "       [ 30,   9],\n",
      "       [  0,   0],\n",
      "       [716,   7],\n",
      "       [ 69,   4],\n",
      "       [ 12,   2],\n",
      "       [ 21,   3],\n",
      "       [ 19,   1],\n",
      "       [389,  16],\n",
      "       [ 17,   3],\n",
      "       [ 56,  16],\n",
      "       [ 10,   5],\n",
      "       [657,  27],\n",
      "       [ 54,  10],\n",
      "       [ 12,   2],\n",
      "       [ 42,  10],\n",
      "       [ 22,   7],\n",
      "       [350,   7],\n",
      "       [322,  24],\n",
      "       [207,   2],\n",
      "       [ 25,   1]]), 10: array([[  0,   0],\n",
      "       [154,  12],\n",
      "       [ 76,   2],\n",
      "       ...,\n",
      "       [ 36,   6],\n",
      "       [280,  12],\n",
      "       [  5,   4]]), 11: array([[  0,   0],\n",
      "       [154,  12],\n",
      "       [ 76,   2],\n",
      "       ...,\n",
      "       [ 19,   8],\n",
      "       [  8,   2],\n",
      "       [ 13,   8]]), 12: array([[  0,   0],\n",
      "       [154,  12],\n",
      "       [ 76,   2],\n",
      "       ...,\n",
      "       [ 53,   5],\n",
      "       [111,   3],\n",
      "       [  9,   7]]), 13: array([[  0,   0],\n",
      "       [154,  12],\n",
      "       [ 76,   2],\n",
      "       ...,\n",
      "       [181,  22],\n",
      "       [ 87,   2],\n",
      "       [194,   4]]), 14: array([[  0,   0],\n",
      "       [154,  12],\n",
      "       [ 76,   2],\n",
      "       ...,\n",
      "       [ 19,  12],\n",
      "       [614,  39],\n",
      "       [  5,   1]]), 15: array([[  0,   0],\n",
      "       [154,  12],\n",
      "       [ 76,   2],\n",
      "       ...,\n",
      "       [ 49,   6],\n",
      "       [ 18,   3],\n",
      "       [ 86,   3]]), 16: array([[  0,   0],\n",
      "       [154,  12],\n",
      "       [ 76,   2],\n",
      "       ...,\n",
      "       [ 34,   2],\n",
      "       [ 50,   2],\n",
      "       [ 69,   5]]), 17: array([[  0,   0],\n",
      "       [154,  12],\n",
      "       [ 76,   2],\n",
      "       ...,\n",
      "       [113,  28],\n",
      "       [ 48,   4],\n",
      "       [ 95,   5]])}\n",
      "[[  0   0]\n",
      " [154  12]\n",
      " [ 76   2]\n",
      " [ 70  14]\n",
      " [361  11]\n",
      " [ 62  11]\n",
      " [ 37   9]\n",
      " [ 32   4]\n",
      " [ 15   1]\n",
      " [ 50   8]\n",
      " [ 69   5]\n",
      " [194   8]\n",
      " [ 25   2]\n",
      " [ 82   2]\n",
      " [ 67   3]\n",
      " [ 14   2]\n",
      " [ 59   4]\n",
      " [142   4]\n",
      " [ 20   1]\n",
      " [ 15   3]\n",
      " [ 90   7]\n",
      " [ 58   3]\n",
      " [562  77]\n",
      " [ 59   4]\n",
      " [ 51   4]\n",
      " [286  43]\n",
      " [420  68]\n",
      " [185  38]\n",
      " [  6   2]\n",
      " [120   4]\n",
      " [ 71   2]\n",
      " [ 38   4]\n",
      " [133  52]\n",
      " [160  24]\n",
      " [276   3]\n",
      " [161  22]\n",
      " [ 62   5]\n",
      " [160  12]\n",
      " [  4   2]\n",
      " [152  19]\n",
      " [133  12]\n",
      " [ 77  15]\n",
      " [ 37  19]\n",
      " [ 27  15]\n",
      " [ 32   1]\n",
      " [  8   2]\n",
      " [136  10]\n",
      " [196   2]\n",
      " [ 19   5]\n",
      " [ 88   2]]\n",
      "[154  12]\n"
     ]
    }
   ],
   "source": [
    "#vemos la forma de los datos a procesar\n",
    "print(votes[0].shape)\n",
    "print(votes[1].shape)\n",
    "print(votes.keys())\n",
    "print(votes[2].shape)\n",
    "print(votes[3].shape)\n",
    "print(votes)\n",
    "print(votes[0])\n",
    "print(votes[0][1])"
   ]
  },
  {
   "cell_type": "code",
   "execution_count": 13,
   "metadata": {
    "cell_id": "00025-f63243e1-47cb-4c2c-be14-9c38dcbd24bb",
    "deepnote_cell_height": 81,
    "deepnote_cell_type": "code",
    "deepnote_to_be_reexecuted": false,
    "executionInfo": {
     "elapsed": 317,
     "status": "ok",
     "timestamp": 1627484660287,
     "user": {
      "displayName": "IGNACIO ALEJANDRO MEZA",
      "photoUrl": "",
      "userId": "17011121633069169364"
     },
     "user_tz": 240
    },
    "execution_millis": 15,
    "execution_start": 1637947536256,
    "id": "ahzpJ-Sk0DOD",
    "source_hash": "b9b21217"
   },
   "outputs": [],
   "source": [
    "import math\n",
    "def without_numpy_mean_posterior_and_standrard_error(all_u,all_d)->tuple[np.array,np.array]:\n",
    "    mus=[]\n",
    "    sigmas=[]\n",
    "    for u,d in zip(all_u,all_d):\n",
    "        a=1+u\n",
    "        b=1+d\n",
    "        sigma=1.65*math.sqrt(a*b/((a+b)**2*(a+b+1)))\n",
    "        mu=a/(a+b)\n",
    "        mus.append(mu)\n",
    "        sigmas.append(sigma)\n",
    "    mus=np.array(mus)\n",
    "    sigmas=np.array(sigmas)\n",
    "    return mus,sigmas\n",
    "def mean_posterior_and_standrard_error(all_u,all_d)->tuple[np.array,np.array]:\n",
    "    a=1+all_u\n",
    "    b=1+all_d\n",
    "    sigma=1.65*np.sqrt(a*b/((a+b)**2*(a+b+1)))\n",
    "    mu=a/(a+b)\n",
    "    return mu,sigma"
   ]
  },
  {
   "cell_type": "markdown",
   "metadata": {
    "cell_id": "00026-42ed3992-3ac8-4452-b6f1-031bb91fa5e6",
    "deepnote_cell_height": 352,
    "deepnote_cell_type": "markdown",
    "id": "VhHhiTRYwpGu",
    "owner_user_id": "badcc427-fd3d-4615-9296-faa43ec69cfb"
   },
   "source": [
    "## 1.4 Comparación de Rendimiento [2 Puntos]\n",
    "\n",
    "Ahora, aplique el compilador **Numba** sobre las funciones 1.3 y compare el tiempo de ejecución con los obtenidos sin el compilador. \n",
    "\n",
    "Para esto genere un gráfico de linea utilizando plotly, en donde se pueda observar el tiempo que toma ejecutar cada función (el eje y) diferentes cantidades de datos (ejemplo, en el eje x considerar 100, 200, 300, ..., 1000 datos) sobre cada función implementada (series `Python`, `Numpy`, `Python-JIT`, `Numpy-JIT`). ¿Es posible observar diferencias? ¿A qué se debe esto?.\n",
    "\n",
    "**Nota:** Ejecuten las funciones compiladas con algún ejemplo antes de graficar. De lo contrario, les indicará el tiempo de compilación, cosa que no queremos medir\n",
    "\n",
    "**Nota 2**: En el caso que su computador sea muy rápido, se recomienda graficar el eje y (tiempo) como logaritmo usando `log_y=True`.\n"
   ]
  },
  {
   "cell_type": "code",
   "execution_count": 57,
   "metadata": {
    "cell_id": "00027-a686fa21-e957-40c6-8fd1-a6fef560928c",
    "deepnote_cell_height": 66,
    "deepnote_cell_type": "code",
    "executionInfo": {
     "elapsed": 2,
     "status": "ok",
     "timestamp": 1627484661131,
     "user": {
      "displayName": "IGNACIO ALEJANDRO MEZA",
      "photoUrl": "",
      "userId": "17011121633069169364"
     },
     "user_tz": 240
    },
    "id": "b02IokToxPpO"
   },
   "outputs": [
    {
     "name": "stdout",
     "output_type": "stream",
     "text": [
      "41.4 µs ± 1.35 µs per loop (mean ± std. dev. of 7 runs, 10,000 loops each)\n",
      "7.23 µs ± 114 ns per loop (mean ± std. dev. of 7 runs, 100,000 loops each)\n",
      "1.8 µs ± 28.9 ns per loop (mean ± std. dev. of 7 runs, 1,000,000 loops each)\n",
      "1.61 µs ± 16.5 ns per loop (mean ± std. dev. of 7 runs, 1,000,000 loops each)\n",
      "82.8 µs ± 2.03 µs per loop (mean ± std. dev. of 7 runs, 10,000 loops each)\n",
      "7.51 µs ± 97.6 ns per loop (mean ± std. dev. of 7 runs, 100,000 loops each)\n",
      "3.31 µs ± 152 ns per loop (mean ± std. dev. of 7 runs, 100,000 loops each)\n",
      "1.74 µs ± 25.7 ns per loop (mean ± std. dev. of 7 runs, 1,000,000 loops each)\n",
      "120 µs ± 932 ns per loop (mean ± std. dev. of 7 runs, 10,000 loops each)\n",
      "8.86 µs ± 95.7 ns per loop (mean ± std. dev. of 7 runs, 100,000 loops each)\n",
      "4.49 µs ± 38.3 ns per loop (mean ± std. dev. of 7 runs, 100,000 loops each)\n",
      "2.01 µs ± 26 ns per loop (mean ± std. dev. of 7 runs, 1,000,000 loops each)\n",
      "163 µs ± 6.77 µs per loop (mean ± std. dev. of 7 runs, 10,000 loops each)\n",
      "9.03 µs ± 195 ns per loop (mean ± std. dev. of 7 runs, 100,000 loops each)\n",
      "5.87 µs ± 51.9 ns per loop (mean ± std. dev. of 7 runs, 100,000 loops each)\n",
      "2.17 µs ± 44.5 ns per loop (mean ± std. dev. of 7 runs, 100,000 loops each)\n",
      "198 µs ± 2.71 µs per loop (mean ± std. dev. of 7 runs, 10,000 loops each)\n",
      "9.45 µs ± 204 ns per loop (mean ± std. dev. of 7 runs, 100,000 loops each)\n",
      "7.03 µs ± 88.8 ns per loop (mean ± std. dev. of 7 runs, 100,000 loops each)\n",
      "2.35 µs ± 59.5 ns per loop (mean ± std. dev. of 7 runs, 100,000 loops each)\n",
      "234 µs ± 3.57 µs per loop (mean ± std. dev. of 7 runs, 1,000 loops each)\n",
      "9.7 µs ± 118 ns per loop (mean ± std. dev. of 7 runs, 100,000 loops each)\n",
      "8.29 µs ± 118 ns per loop (mean ± std. dev. of 7 runs, 100,000 loops each)\n",
      "2.52 µs ± 45.1 ns per loop (mean ± std. dev. of 7 runs, 100,000 loops each)\n",
      "278 µs ± 7.41 µs per loop (mean ± std. dev. of 7 runs, 1,000 loops each)\n",
      "9.96 µs ± 165 ns per loop (mean ± std. dev. of 7 runs, 100,000 loops each)\n",
      "9.3 µs ± 106 ns per loop (mean ± std. dev. of 7 runs, 100,000 loops each)\n",
      "2.67 µs ± 25.2 ns per loop (mean ± std. dev. of 7 runs, 100,000 loops each)\n",
      "309 µs ± 6.54 µs per loop (mean ± std. dev. of 7 runs, 1,000 loops each)\n",
      "9.92 µs ± 73.9 ns per loop (mean ± std. dev. of 7 runs, 100,000 loops each)\n",
      "10.9 µs ± 183 ns per loop (mean ± std. dev. of 7 runs, 100,000 loops each)\n",
      "2.88 µs ± 56.1 ns per loop (mean ± std. dev. of 7 runs, 100,000 loops each)\n",
      "353 µs ± 8.15 µs per loop (mean ± std. dev. of 7 runs, 1,000 loops each)\n",
      "10.5 µs ± 146 ns per loop (mean ± std. dev. of 7 runs, 100,000 loops each)\n",
      "11.7 µs ± 144 ns per loop (mean ± std. dev. of 7 runs, 100,000 loops each)\n",
      "2.97 µs ± 30.5 ns per loop (mean ± std. dev. of 7 runs, 100,000 loops each)\n",
      "398 µs ± 15.6 µs per loop (mean ± std. dev. of 7 runs, 1,000 loops each)\n",
      "11.1 µs ± 245 ns per loop (mean ± std. dev. of 7 runs, 100,000 loops each)\n",
      "13.3 µs ± 163 ns per loop (mean ± std. dev. of 7 runs, 100,000 loops each)\n",
      "3.29 µs ± 54.4 ns per loop (mean ± std. dev. of 7 runs, 100,000 loops each)\n",
      "432 µs ± 7.92 µs per loop (mean ± std. dev. of 7 runs, 1,000 loops each)\n",
      "11.5 µs ± 147 ns per loop (mean ± std. dev. of 7 runs, 100,000 loops each)\n",
      "14.2 µs ± 240 ns per loop (mean ± std. dev. of 7 runs, 100,000 loops each)\n",
      "3.35 µs ± 53.8 ns per loop (mean ± std. dev. of 7 runs, 100,000 loops each)\n",
      "465 µs ± 6.31 µs per loop (mean ± std. dev. of 7 runs, 1,000 loops each)\n",
      "11.6 µs ± 129 ns per loop (mean ± std. dev. of 7 runs, 100,000 loops each)\n",
      "14.7 µs ± 106 ns per loop (mean ± std. dev. of 7 runs, 100,000 loops each)\n",
      "3.48 µs ± 34 ns per loop (mean ± std. dev. of 7 runs, 100,000 loops each)\n",
      "503 µs ± 9.14 µs per loop (mean ± std. dev. of 7 runs, 1,000 loops each)\n",
      "12 µs ± 237 ns per loop (mean ± std. dev. of 7 runs, 100,000 loops each)\n",
      "16.4 µs ± 292 ns per loop (mean ± std. dev. of 7 runs, 100,000 loops each)\n",
      "3.73 µs ± 47.4 ns per loop (mean ± std. dev. of 7 runs, 100,000 loops each)\n",
      "551 µs ± 6.02 µs per loop (mean ± std. dev. of 7 runs, 1,000 loops each)\n",
      "12.3 µs ± 88.7 ns per loop (mean ± std. dev. of 7 runs, 100,000 loops each)\n",
      "17.3 µs ± 123 ns per loop (mean ± std. dev. of 7 runs, 100,000 loops each)\n",
      "3.83 µs ± 69 ns per loop (mean ± std. dev. of 7 runs, 100,000 loops each)\n",
      "594 µs ± 18.8 µs per loop (mean ± std. dev. of 7 runs, 1,000 loops each)\n",
      "12.6 µs ± 141 ns per loop (mean ± std. dev. of 7 runs, 100,000 loops each)\n",
      "18.7 µs ± 536 ns per loop (mean ± std. dev. of 7 runs, 100,000 loops each)\n",
      "4.04 µs ± 34.7 ns per loop (mean ± std. dev. of 7 runs, 100,000 loops each)\n",
      "617 µs ± 11 µs per loop (mean ± std. dev. of 7 runs, 1,000 loops each)\n",
      "13 µs ± 253 ns per loop (mean ± std. dev. of 7 runs, 100,000 loops each)\n",
      "19.8 µs ± 127 ns per loop (mean ± std. dev. of 7 runs, 100,000 loops each)\n",
      "4.16 µs ± 17.8 ns per loop (mean ± std. dev. of 7 runs, 100,000 loops each)\n",
      "654 µs ± 6.79 µs per loop (mean ± std. dev. of 7 runs, 1,000 loops each)\n",
      "13.1 µs ± 121 ns per loop (mean ± std. dev. of 7 runs, 100,000 loops each)\n",
      "20.9 µs ± 336 ns per loop (mean ± std. dev. of 7 runs, 10,000 loops each)\n",
      "4.28 µs ± 36.2 ns per loop (mean ± std. dev. of 7 runs, 100,000 loops each)\n",
      "707 µs ± 15.2 µs per loop (mean ± std. dev. of 7 runs, 1,000 loops each)\n",
      "13.5 µs ± 122 ns per loop (mean ± std. dev. of 7 runs, 100,000 loops each)\n",
      "22 µs ± 731 ns per loop (mean ± std. dev. of 7 runs, 10,000 loops each)\n",
      "4.54 µs ± 42.1 ns per loop (mean ± std. dev. of 7 runs, 100,000 loops each)\n"
     ]
    },
    {
     "data": {
      "application/vnd.plotly.v1+json": {
       "config": {
        "plotlyServerURL": "https://plot.ly"
       },
       "data": [
        {
         "mode": "lines",
         "name": "times_without_numpy_mean_posterior_and_standrard_error",
         "type": "scatter",
         "x": [
          50,
          100,
          150,
          200,
          250,
          300,
          350,
          400,
          450,
          500,
          550,
          600,
          650,
          700,
          750,
          800,
          850,
          900
         ],
         "y": [
          0.00004138292991431496,
          0.00008280101902855677,
          0.00012025625721427268,
          0.00016285842351428854,
          0.0001980960832999699,
          0.00023400410442861488,
          0.0002778301248571162,
          0.00030949220271395464,
          0.0003530837512854694,
          0.00039849359100065025,
          0.0004315905885715828,
          0.000464975836999916,
          0.0005031793597138728,
          0.0005507379978568809,
          0.0005940548182856478,
          0.0006170222131422633,
          0.000653651952857347,
          0.0007074851187140408
         ]
        },
        {
         "mode": "lines",
         "name": "times_with_numpy_mean_posterior_and_standrard_error",
         "type": "scatter",
         "x": [
          50,
          100,
          150,
          200,
          250,
          300,
          350,
          400,
          450,
          500,
          550,
          600,
          650,
          700,
          750,
          800,
          850,
          900
         ],
         "y": [
          0.000007230140784283451,
          0.000007508553628571722,
          0.000008858509222858888,
          0.00000902541657571419,
          0.000009449171285713029,
          0.00000970454696428403,
          0.000009955589368572484,
          0.000009923624495713739,
          0.000010522534914289282,
          0.000011082781915712465,
          0.000011504625732852999,
          0.000011626263925713178,
          0.000012016926732854439,
          0.000012258361241430458,
          0.000012578560608570634,
          0.000012986335284281918,
          0.000013062061682854358,
          0.000013485209155714983
         ]
        },
        {
         "mode": "lines",
         "name": "times_numba_without_numpy_mean_posterior_and_standrard_error",
         "type": "scatter",
         "x": [
          50,
          100,
          150,
          200,
          250,
          300,
          350,
          400,
          450,
          500,
          550,
          600,
          650,
          700,
          750,
          800,
          850,
          900
         ],
         "y": [
          0.0000017975993202864109,
          0.000003307969697146161,
          0.000004491796461430307,
          0.000005865793104284031,
          0.00000703090417000567,
          0.000008287774480000475,
          0.00000930047100714676,
          0.000010911609115711533,
          0.000011693182745714565,
          0.00001327235221857336,
          0.000014212540787144202,
          0.00001472540554142792,
          0.00001637521181428643,
          0.000017290103545715932,
          0.000018666262138571514,
          0.000019839147924288098,
          0.000020884895585706027,
          0.000021981766928599558
         ]
        },
        {
         "mode": "lines",
         "name": "times_numba_with_numpy_mean_posterior_and_standrard_error",
         "type": "scatter",
         "x": [
          50,
          100,
          150,
          200,
          250,
          300,
          350,
          400,
          450,
          500,
          550,
          600,
          650,
          700,
          750,
          800,
          850,
          900
         ],
         "y": [
          0.0000016091833924284791,
          0.000001743433783857264,
          0.0000020053066997144405,
          0.000002171223018576711,
          0.0000023529232528562716,
          0.000002523270317139707,
          0.0000026703344028594853,
          0.0000028770230228604178,
          0.0000029672493371409864,
          0.0000032942594214286406,
          0.000003351573927146611,
          0.000003482329802856319,
          0.0000037332998371441913,
          0.000003832174574280153,
          0.000004041338934286094,
          0.0000041572085899991045,
          0.000004275935372856371,
          0.0000045393962928548195
         ]
        }
       ],
       "layout": {
        "template": {
         "data": {
          "bar": [
           {
            "error_x": {
             "color": "#2a3f5f"
            },
            "error_y": {
             "color": "#2a3f5f"
            },
            "marker": {
             "line": {
              "color": "#E5ECF6",
              "width": 0.5
             },
             "pattern": {
              "fillmode": "overlay",
              "size": 10,
              "solidity": 0.2
             }
            },
            "type": "bar"
           }
          ],
          "barpolar": [
           {
            "marker": {
             "line": {
              "color": "#E5ECF6",
              "width": 0.5
             },
             "pattern": {
              "fillmode": "overlay",
              "size": 10,
              "solidity": 0.2
             }
            },
            "type": "barpolar"
           }
          ],
          "carpet": [
           {
            "aaxis": {
             "endlinecolor": "#2a3f5f",
             "gridcolor": "white",
             "linecolor": "white",
             "minorgridcolor": "white",
             "startlinecolor": "#2a3f5f"
            },
            "baxis": {
             "endlinecolor": "#2a3f5f",
             "gridcolor": "white",
             "linecolor": "white",
             "minorgridcolor": "white",
             "startlinecolor": "#2a3f5f"
            },
            "type": "carpet"
           }
          ],
          "choropleth": [
           {
            "colorbar": {
             "outlinewidth": 0,
             "ticks": ""
            },
            "type": "choropleth"
           }
          ],
          "contour": [
           {
            "colorbar": {
             "outlinewidth": 0,
             "ticks": ""
            },
            "colorscale": [
             [
              0,
              "#0d0887"
             ],
             [
              0.1111111111111111,
              "#46039f"
             ],
             [
              0.2222222222222222,
              "#7201a8"
             ],
             [
              0.3333333333333333,
              "#9c179e"
             ],
             [
              0.4444444444444444,
              "#bd3786"
             ],
             [
              0.5555555555555556,
              "#d8576b"
             ],
             [
              0.6666666666666666,
              "#ed7953"
             ],
             [
              0.7777777777777778,
              "#fb9f3a"
             ],
             [
              0.8888888888888888,
              "#fdca26"
             ],
             [
              1,
              "#f0f921"
             ]
            ],
            "type": "contour"
           }
          ],
          "contourcarpet": [
           {
            "colorbar": {
             "outlinewidth": 0,
             "ticks": ""
            },
            "type": "contourcarpet"
           }
          ],
          "heatmap": [
           {
            "colorbar": {
             "outlinewidth": 0,
             "ticks": ""
            },
            "colorscale": [
             [
              0,
              "#0d0887"
             ],
             [
              0.1111111111111111,
              "#46039f"
             ],
             [
              0.2222222222222222,
              "#7201a8"
             ],
             [
              0.3333333333333333,
              "#9c179e"
             ],
             [
              0.4444444444444444,
              "#bd3786"
             ],
             [
              0.5555555555555556,
              "#d8576b"
             ],
             [
              0.6666666666666666,
              "#ed7953"
             ],
             [
              0.7777777777777778,
              "#fb9f3a"
             ],
             [
              0.8888888888888888,
              "#fdca26"
             ],
             [
              1,
              "#f0f921"
             ]
            ],
            "type": "heatmap"
           }
          ],
          "heatmapgl": [
           {
            "colorbar": {
             "outlinewidth": 0,
             "ticks": ""
            },
            "colorscale": [
             [
              0,
              "#0d0887"
             ],
             [
              0.1111111111111111,
              "#46039f"
             ],
             [
              0.2222222222222222,
              "#7201a8"
             ],
             [
              0.3333333333333333,
              "#9c179e"
             ],
             [
              0.4444444444444444,
              "#bd3786"
             ],
             [
              0.5555555555555556,
              "#d8576b"
             ],
             [
              0.6666666666666666,
              "#ed7953"
             ],
             [
              0.7777777777777778,
              "#fb9f3a"
             ],
             [
              0.8888888888888888,
              "#fdca26"
             ],
             [
              1,
              "#f0f921"
             ]
            ],
            "type": "heatmapgl"
           }
          ],
          "histogram": [
           {
            "marker": {
             "pattern": {
              "fillmode": "overlay",
              "size": 10,
              "solidity": 0.2
             }
            },
            "type": "histogram"
           }
          ],
          "histogram2d": [
           {
            "colorbar": {
             "outlinewidth": 0,
             "ticks": ""
            },
            "colorscale": [
             [
              0,
              "#0d0887"
             ],
             [
              0.1111111111111111,
              "#46039f"
             ],
             [
              0.2222222222222222,
              "#7201a8"
             ],
             [
              0.3333333333333333,
              "#9c179e"
             ],
             [
              0.4444444444444444,
              "#bd3786"
             ],
             [
              0.5555555555555556,
              "#d8576b"
             ],
             [
              0.6666666666666666,
              "#ed7953"
             ],
             [
              0.7777777777777778,
              "#fb9f3a"
             ],
             [
              0.8888888888888888,
              "#fdca26"
             ],
             [
              1,
              "#f0f921"
             ]
            ],
            "type": "histogram2d"
           }
          ],
          "histogram2dcontour": [
           {
            "colorbar": {
             "outlinewidth": 0,
             "ticks": ""
            },
            "colorscale": [
             [
              0,
              "#0d0887"
             ],
             [
              0.1111111111111111,
              "#46039f"
             ],
             [
              0.2222222222222222,
              "#7201a8"
             ],
             [
              0.3333333333333333,
              "#9c179e"
             ],
             [
              0.4444444444444444,
              "#bd3786"
             ],
             [
              0.5555555555555556,
              "#d8576b"
             ],
             [
              0.6666666666666666,
              "#ed7953"
             ],
             [
              0.7777777777777778,
              "#fb9f3a"
             ],
             [
              0.8888888888888888,
              "#fdca26"
             ],
             [
              1,
              "#f0f921"
             ]
            ],
            "type": "histogram2dcontour"
           }
          ],
          "mesh3d": [
           {
            "colorbar": {
             "outlinewidth": 0,
             "ticks": ""
            },
            "type": "mesh3d"
           }
          ],
          "parcoords": [
           {
            "line": {
             "colorbar": {
              "outlinewidth": 0,
              "ticks": ""
             }
            },
            "type": "parcoords"
           }
          ],
          "pie": [
           {
            "automargin": true,
            "type": "pie"
           }
          ],
          "scatter": [
           {
            "fillpattern": {
             "fillmode": "overlay",
             "size": 10,
             "solidity": 0.2
            },
            "type": "scatter"
           }
          ],
          "scatter3d": [
           {
            "line": {
             "colorbar": {
              "outlinewidth": 0,
              "ticks": ""
             }
            },
            "marker": {
             "colorbar": {
              "outlinewidth": 0,
              "ticks": ""
             }
            },
            "type": "scatter3d"
           }
          ],
          "scattercarpet": [
           {
            "marker": {
             "colorbar": {
              "outlinewidth": 0,
              "ticks": ""
             }
            },
            "type": "scattercarpet"
           }
          ],
          "scattergeo": [
           {
            "marker": {
             "colorbar": {
              "outlinewidth": 0,
              "ticks": ""
             }
            },
            "type": "scattergeo"
           }
          ],
          "scattergl": [
           {
            "marker": {
             "colorbar": {
              "outlinewidth": 0,
              "ticks": ""
             }
            },
            "type": "scattergl"
           }
          ],
          "scattermapbox": [
           {
            "marker": {
             "colorbar": {
              "outlinewidth": 0,
              "ticks": ""
             }
            },
            "type": "scattermapbox"
           }
          ],
          "scatterpolar": [
           {
            "marker": {
             "colorbar": {
              "outlinewidth": 0,
              "ticks": ""
             }
            },
            "type": "scatterpolar"
           }
          ],
          "scatterpolargl": [
           {
            "marker": {
             "colorbar": {
              "outlinewidth": 0,
              "ticks": ""
             }
            },
            "type": "scatterpolargl"
           }
          ],
          "scatterternary": [
           {
            "marker": {
             "colorbar": {
              "outlinewidth": 0,
              "ticks": ""
             }
            },
            "type": "scatterternary"
           }
          ],
          "surface": [
           {
            "colorbar": {
             "outlinewidth": 0,
             "ticks": ""
            },
            "colorscale": [
             [
              0,
              "#0d0887"
             ],
             [
              0.1111111111111111,
              "#46039f"
             ],
             [
              0.2222222222222222,
              "#7201a8"
             ],
             [
              0.3333333333333333,
              "#9c179e"
             ],
             [
              0.4444444444444444,
              "#bd3786"
             ],
             [
              0.5555555555555556,
              "#d8576b"
             ],
             [
              0.6666666666666666,
              "#ed7953"
             ],
             [
              0.7777777777777778,
              "#fb9f3a"
             ],
             [
              0.8888888888888888,
              "#fdca26"
             ],
             [
              1,
              "#f0f921"
             ]
            ],
            "type": "surface"
           }
          ],
          "table": [
           {
            "cells": {
             "fill": {
              "color": "#EBF0F8"
             },
             "line": {
              "color": "white"
             }
            },
            "header": {
             "fill": {
              "color": "#C8D4E3"
             },
             "line": {
              "color": "white"
             }
            },
            "type": "table"
           }
          ]
         },
         "layout": {
          "annotationdefaults": {
           "arrowcolor": "#2a3f5f",
           "arrowhead": 0,
           "arrowwidth": 1
          },
          "autotypenumbers": "strict",
          "coloraxis": {
           "colorbar": {
            "outlinewidth": 0,
            "ticks": ""
           }
          },
          "colorscale": {
           "diverging": [
            [
             0,
             "#8e0152"
            ],
            [
             0.1,
             "#c51b7d"
            ],
            [
             0.2,
             "#de77ae"
            ],
            [
             0.3,
             "#f1b6da"
            ],
            [
             0.4,
             "#fde0ef"
            ],
            [
             0.5,
             "#f7f7f7"
            ],
            [
             0.6,
             "#e6f5d0"
            ],
            [
             0.7,
             "#b8e186"
            ],
            [
             0.8,
             "#7fbc41"
            ],
            [
             0.9,
             "#4d9221"
            ],
            [
             1,
             "#276419"
            ]
           ],
           "sequential": [
            [
             0,
             "#0d0887"
            ],
            [
             0.1111111111111111,
             "#46039f"
            ],
            [
             0.2222222222222222,
             "#7201a8"
            ],
            [
             0.3333333333333333,
             "#9c179e"
            ],
            [
             0.4444444444444444,
             "#bd3786"
            ],
            [
             0.5555555555555556,
             "#d8576b"
            ],
            [
             0.6666666666666666,
             "#ed7953"
            ],
            [
             0.7777777777777778,
             "#fb9f3a"
            ],
            [
             0.8888888888888888,
             "#fdca26"
            ],
            [
             1,
             "#f0f921"
            ]
           ],
           "sequentialminus": [
            [
             0,
             "#0d0887"
            ],
            [
             0.1111111111111111,
             "#46039f"
            ],
            [
             0.2222222222222222,
             "#7201a8"
            ],
            [
             0.3333333333333333,
             "#9c179e"
            ],
            [
             0.4444444444444444,
             "#bd3786"
            ],
            [
             0.5555555555555556,
             "#d8576b"
            ],
            [
             0.6666666666666666,
             "#ed7953"
            ],
            [
             0.7777777777777778,
             "#fb9f3a"
            ],
            [
             0.8888888888888888,
             "#fdca26"
            ],
            [
             1,
             "#f0f921"
            ]
           ]
          },
          "colorway": [
           "#636efa",
           "#EF553B",
           "#00cc96",
           "#ab63fa",
           "#FFA15A",
           "#19d3f3",
           "#FF6692",
           "#B6E880",
           "#FF97FF",
           "#FECB52"
          ],
          "font": {
           "color": "#2a3f5f"
          },
          "geo": {
           "bgcolor": "white",
           "lakecolor": "white",
           "landcolor": "#E5ECF6",
           "showlakes": true,
           "showland": true,
           "subunitcolor": "white"
          },
          "hoverlabel": {
           "align": "left"
          },
          "hovermode": "closest",
          "mapbox": {
           "style": "light"
          },
          "paper_bgcolor": "white",
          "plot_bgcolor": "#E5ECF6",
          "polar": {
           "angularaxis": {
            "gridcolor": "white",
            "linecolor": "white",
            "ticks": ""
           },
           "bgcolor": "#E5ECF6",
           "radialaxis": {
            "gridcolor": "white",
            "linecolor": "white",
            "ticks": ""
           }
          },
          "scene": {
           "xaxis": {
            "backgroundcolor": "#E5ECF6",
            "gridcolor": "white",
            "gridwidth": 2,
            "linecolor": "white",
            "showbackground": true,
            "ticks": "",
            "zerolinecolor": "white"
           },
           "yaxis": {
            "backgroundcolor": "#E5ECF6",
            "gridcolor": "white",
            "gridwidth": 2,
            "linecolor": "white",
            "showbackground": true,
            "ticks": "",
            "zerolinecolor": "white"
           },
           "zaxis": {
            "backgroundcolor": "#E5ECF6",
            "gridcolor": "white",
            "gridwidth": 2,
            "linecolor": "white",
            "showbackground": true,
            "ticks": "",
            "zerolinecolor": "white"
           }
          },
          "shapedefaults": {
           "line": {
            "color": "#2a3f5f"
           }
          },
          "ternary": {
           "aaxis": {
            "gridcolor": "white",
            "linecolor": "white",
            "ticks": ""
           },
           "baxis": {
            "gridcolor": "white",
            "linecolor": "white",
            "ticks": ""
           },
           "bgcolor": "#E5ECF6",
           "caxis": {
            "gridcolor": "white",
            "linecolor": "white",
            "ticks": ""
           }
          },
          "title": {
           "x": 0.05
          },
          "xaxis": {
           "automargin": true,
           "gridcolor": "white",
           "linecolor": "white",
           "ticks": "",
           "title": {
            "standoff": 15
           },
           "zerolinecolor": "white",
           "zerolinewidth": 2
          },
          "yaxis": {
           "automargin": true,
           "gridcolor": "white",
           "linecolor": "white",
           "ticks": "",
           "title": {
            "standoff": 15
           },
           "zerolinecolor": "white",
           "zerolinewidth": 2
          }
         }
        }
       }
      }
     },
     "metadata": {},
     "output_type": "display_data"
    }
   ],
   "source": [
    "import plotly.graph_objects as go\n",
    "from numba import jit\n",
    "import math\n",
    "#creamos las funciones anteriores pero usando numba\n",
    "@jit(nopython=True)\n",
    "def numba_without_numpy_mean_posterior_and_standrard_error(all_u,all_d):\n",
    "    mus=[]\n",
    "    sigmas=[]\n",
    "    for i in  range(len(all_u)):\n",
    "        u=all_u[i]\n",
    "        d=all_d[i]\n",
    "        a=1+u\n",
    "        b=1+d\n",
    "        sigma=1.65*math.sqrt(a*b/((a+b)**2*(a+b+1)))\n",
    "        mu=a/(a+b)\n",
    "        mus.append(mu)\n",
    "        sigmas.append(sigma)\n",
    "    return mus,sigmas\n",
    "\n",
    "@jit(nopython=True)\n",
    "def numba_mean_posterior_and_standrard_error(all_u,all_d):\n",
    "    a=1+all_u\n",
    "    b=1+all_d\n",
    "    sigma=1.65*np.sqrt(a*b/((a+b)*(a+b)*(a+b+1)))\n",
    "    mu=a/(a+b)\n",
    "    return mu,sigma\n",
    "\n",
    "#creamos la data a graficar\n",
    "times_without_numpy_mean_posterior_and_standrard_error=[]\n",
    "times_with_numpy_mean_posterior_and_standrard_error=[]\n",
    "times_numba_without_numpy_mean_posterior_and_standrard_error=[]\n",
    "times_numba_with_numpy_mean_posterior_and_standrard_error=[]\n",
    "X=[]\n",
    "for i in range(len(votes)):\n",
    "    time_without_numpy = %timeit -o without_numpy_mean_posterior_and_standrard_error(votes[i][:,0],votes[i][:,1])\n",
    "    times_without_numpy_mean_posterior_and_standrard_error.append(time_without_numpy.average)\n",
    "    time_with_numpy = %timeit -o mean_posterior_and_standrard_error(votes[i][:,0],votes[i][:,1])\n",
    "    times_with_numpy_mean_posterior_and_standrard_error.append(time_with_numpy.average)\n",
    "    time_numba_without_numpy = %timeit -o numba_without_numpy_mean_posterior_and_standrard_error(votes[i][:,0],votes[i][:,1])\n",
    "    times_numba_without_numpy_mean_posterior_and_standrard_error.append(time_numba_without_numpy.average)\n",
    "    time_numba_with_numpy = %timeit -o numba_mean_posterior_and_standrard_error(votes[i][:,0],votes[i][:,1])\n",
    "    times_numba_with_numpy_mean_posterior_and_standrard_error.append(time_numba_with_numpy.average)\n",
    "    X.append(len(votes[i]))\n",
    "\n",
    "fig = go.Figure([\n",
    "    go.Scatter(name='times_without_numpy_mean_posterior_and_standrard_error',x=X,y=times_without_numpy_mean_posterior_and_standrard_error,mode='lines'),\n",
    "    go.Scatter(name='times_with_numpy_mean_posterior_and_standrard_error',x=X,y=times_with_numpy_mean_posterior_and_standrard_error,mode='lines'),\n",
    "    go.Scatter(name='times_numba_without_numpy_mean_posterior_and_standrard_error',x=X,y=times_numba_without_numpy_mean_posterior_and_standrard_error,mode='lines'),\n",
    "    go.Scatter(name='times_numba_with_numpy_mean_posterior_and_standrard_error',x=X,y=times_numba_with_numpy_mean_posterior_and_standrard_error,mode='lines')\n",
    "])\n",
    "    \n",
    "fig.show()"
   ]
  },
  {
   "cell_type": "markdown",
   "metadata": {},
   "source": [
    "    Se observa que tanto usar numpy como usar numpy como numba mejora la velocidad de procesamiento, siendo la utilizacion de numba lo que más aporta en este sentido. En esta misma linea, usando tanto numpy como numba se obtienen los mejores resultados. Esto porque  (1) al usar numpy se utilizan versiones más optimizadas de las funciones, que corren en un lenguaje de programción de más bajo nivel que python, y (2) porque se precompila python en vez de ser interpretado como es regularmente, dando cabida a optimizaciones en el código compilado que en su versión interpretada no había.  "
   ]
  },
  {
   "cell_type": "markdown",
   "metadata": {
    "cell_id": "00030-01881ca2-384a-44f1-bcaf-ad095552aac2",
    "deepnote_cell_height": 70,
    "deepnote_cell_type": "markdown",
    "id": "DljdJw8m0gYC"
   },
   "source": [
    "## 1.5 Plot de Resultados de Análisis de Votos [1 Punto]"
   ]
  },
  {
   "cell_type": "markdown",
   "metadata": {
    "cell_id": "00031-1bfb8e5a-3a40-45f2-8f0f-f94c9264f8e2",
    "deepnote_cell_height": 111.1875,
    "deepnote_cell_type": "markdown",
    "id": "cQAxOM5D08Hl"
   },
   "source": [
    "Llego la hora de visualizar los resultados obtenidos, para esto solo ejecute las siguientes celdas y observe lo que sucede :3. ¿Qué logra observar de los resultados?, ¿La solución resulta trivial?\n",
    "\n",
    "En esta sección esperamos que solo comenten con lo que logran visualizar de los dataframes."
   ]
  },
  {
   "cell_type": "code",
   "execution_count": 55,
   "metadata": {
    "cell_id": "00032-107c679d-f291-40ec-8854-fd17864ba743",
    "colab": {
     "base_uri": "https://localhost:8080/",
     "height": 737
    },
    "deepnote_cell_height": 318,
    "deepnote_cell_type": "code",
    "executionInfo": {
     "elapsed": 390,
     "status": "ok",
     "timestamp": 1624645025761,
     "user": {
      "displayName": "IGNACIO ALEJANDRO MEZA",
      "photoUrl": "",
      "userId": "17011121633069169364"
     },
     "user_tz": 240
    },
    "id": "N5E2mNYXaafI",
    "outputId": "36f8a568-fb8d-4a2b-ff8e-651f206fbe53",
    "scrolled": true
   },
   "outputs": [
    {
     "name": "stdout",
     "output_type": "stream",
     "text": [
      "lower bounds aproximados:\n",
      "\n",
      "Top 20 post ordenador por el limite inferior:\n",
      "\n"
     ]
    }
   ],
   "source": [
    "votos = votes[len(votes) - 1]\n",
    "posteo = post[len(post) - 1]\n",
    "print(\"lower bounds aproximados:\")\n",
    "posterior_mean, std_err = mean_posterior_and_standrard_error(votos[:, 0], votos[:, 1])\n",
    "lb = posterior_mean - std_err\n",
    "print(\"\\nTop 20 post ordenador por el limite inferior:\\n\")\n",
    "order = np.argsort(-lb)\n",
    "vote_post = {\n",
    "    'Votos (+)': votos[order[:20], 0],\n",
    "    'Votos (-)': votos[order[:20], 1],\n",
    "    'Post': np.array(posteo)[order[:20]],\n",
    "    'url': np.array(url[len(url) - 1])[order[:20]]\n",
    "}\n",
    "df = pd.DataFrame(data=vote_post)\n",
    "ordered_post = df.Post"
   ]
  },
  {
   "cell_type": "code",
   "execution_count": 56,
   "metadata": {
    "cell_id": "2a0efceb16224059bb6aca51848d260f",
    "deepnote_cell_height": 210,
    "deepnote_cell_type": "code",
    "tags": []
   },
   "outputs": [
    {
     "data": {
      "application/vnd.plotly.v1+json": {
       "config": {
        "plotlyServerURL": "https://plot.ly"
       },
       "data": [
        {
         "error_x": {
          "array": [
           0.008239081930782495,
           0.0141465213803316,
           0.008012786701425625,
           0.007985370698021637,
           0.013479358433612377,
           0.013416086610572728,
           0.013229785288819938,
           0.011639195161892798,
           0.010525565582341082,
           0.009411365797137564,
           0.008307090605649227,
           0.008423075094404046,
           0.007518970529771073,
           0.006241790798935236,
           0.006397086138099437,
           0.005389414494370937,
           0.007568726971980244,
           0.007173844643302409,
           0.006991462123076262,
           0.005978221343742853
          ]
         },
         "hovertemplate": "mean=%{x}<br>post=%{y}<extra></extra>",
         "legendgroup": "",
         "marker": {
          "color": "#636efa",
          "symbol": "circle"
         },
         "mode": "markers",
         "name": "",
         "orientation": "h",
         "showlegend": false,
         "type": "scatter",
         "x": [
          0.9785714285714285,
          0.985,
          0.9791666666666666,
          0.9792387543252595,
          0.9857142857142858,
          0.985781990521327,
          0.985981308411215,
          0.9857651245551602,
          0.9871382636655949,
          0.987146529562982,
          0.9875776397515528,
          0.9885057471264368,
          0.9887640449438202,
          0.9885786802030457,
          0.9889655172413793,
          0.9886148007590133,
          0.9953917050691244,
          0.9956331877729258,
          0.9957446808510638,
          0.9963636363636363
         ],
         "xaxis": "x",
         "y": [
          "Salud de otro mundo",
          "Detienen a enfermera y su pareja por ataque contra su compañera de trabajo en Las Condes",
          "Los límites del humor",
          "Encontré una joya ctm. Japoneses del colegio cantando el himno nacional.",
          "Médicos usaban RUT de pacientes Fonasa para simular atenciones que nunca sucedieron: así se gestó el millonario fraude",
          "Una curiosa nota periodística publicada en Septiembre de 1940 que me encontré.",
          "Alcalde de Arica advierte alarmante situación por crímenes de \"Tren de Aragua\" en la zona: \"Es como estar en un capítulo de Breaking Bad\"",
          "Toxicidad en el área de la salud en Chile",
          "Hoy falleció la profesora Victoria Castro, una de las impulsoras de la arqueología chilena y formadora de varias generaciones de arqueólos. Gran mujer.",
          "Alumna fue apuñalada tras oponerse a continuidad de toma en liceo de Concepción",
          "Con razón hay tanto taco",
          "Otros tiempos",
          "la situación de los pudúes en Chiloé es crítica. @chiloesilvestre",
          "Bolos",
          "ahora no po'",
          "fonasa",
          "Macabro hallazgo en San José de Maipo: perro llegó a su casa con una cabeza humana | Nacional | BioBioChile",
          "Empresa le paga por error sueldo de $ 165 millones a trabajador, éste desaparece... y luego renuncia",
          "Gobierno queda fuera de querella por asesinato de carabinero: abogado se quedó dormido",
          "Juraba que esta wea era un sueño febril de chico"
         ],
         "yaxis": "y"
        }
       ],
       "layout": {
        "legend": {
         "tracegroupgap": 0
        },
        "margin": {
         "t": 60
        },
        "template": {
         "data": {
          "bar": [
           {
            "error_x": {
             "color": "#2a3f5f"
            },
            "error_y": {
             "color": "#2a3f5f"
            },
            "marker": {
             "line": {
              "color": "#E5ECF6",
              "width": 0.5
             },
             "pattern": {
              "fillmode": "overlay",
              "size": 10,
              "solidity": 0.2
             }
            },
            "type": "bar"
           }
          ],
          "barpolar": [
           {
            "marker": {
             "line": {
              "color": "#E5ECF6",
              "width": 0.5
             },
             "pattern": {
              "fillmode": "overlay",
              "size": 10,
              "solidity": 0.2
             }
            },
            "type": "barpolar"
           }
          ],
          "carpet": [
           {
            "aaxis": {
             "endlinecolor": "#2a3f5f",
             "gridcolor": "white",
             "linecolor": "white",
             "minorgridcolor": "white",
             "startlinecolor": "#2a3f5f"
            },
            "baxis": {
             "endlinecolor": "#2a3f5f",
             "gridcolor": "white",
             "linecolor": "white",
             "minorgridcolor": "white",
             "startlinecolor": "#2a3f5f"
            },
            "type": "carpet"
           }
          ],
          "choropleth": [
           {
            "colorbar": {
             "outlinewidth": 0,
             "ticks": ""
            },
            "type": "choropleth"
           }
          ],
          "contour": [
           {
            "colorbar": {
             "outlinewidth": 0,
             "ticks": ""
            },
            "colorscale": [
             [
              0,
              "#0d0887"
             ],
             [
              0.1111111111111111,
              "#46039f"
             ],
             [
              0.2222222222222222,
              "#7201a8"
             ],
             [
              0.3333333333333333,
              "#9c179e"
             ],
             [
              0.4444444444444444,
              "#bd3786"
             ],
             [
              0.5555555555555556,
              "#d8576b"
             ],
             [
              0.6666666666666666,
              "#ed7953"
             ],
             [
              0.7777777777777778,
              "#fb9f3a"
             ],
             [
              0.8888888888888888,
              "#fdca26"
             ],
             [
              1,
              "#f0f921"
             ]
            ],
            "type": "contour"
           }
          ],
          "contourcarpet": [
           {
            "colorbar": {
             "outlinewidth": 0,
             "ticks": ""
            },
            "type": "contourcarpet"
           }
          ],
          "heatmap": [
           {
            "colorbar": {
             "outlinewidth": 0,
             "ticks": ""
            },
            "colorscale": [
             [
              0,
              "#0d0887"
             ],
             [
              0.1111111111111111,
              "#46039f"
             ],
             [
              0.2222222222222222,
              "#7201a8"
             ],
             [
              0.3333333333333333,
              "#9c179e"
             ],
             [
              0.4444444444444444,
              "#bd3786"
             ],
             [
              0.5555555555555556,
              "#d8576b"
             ],
             [
              0.6666666666666666,
              "#ed7953"
             ],
             [
              0.7777777777777778,
              "#fb9f3a"
             ],
             [
              0.8888888888888888,
              "#fdca26"
             ],
             [
              1,
              "#f0f921"
             ]
            ],
            "type": "heatmap"
           }
          ],
          "heatmapgl": [
           {
            "colorbar": {
             "outlinewidth": 0,
             "ticks": ""
            },
            "colorscale": [
             [
              0,
              "#0d0887"
             ],
             [
              0.1111111111111111,
              "#46039f"
             ],
             [
              0.2222222222222222,
              "#7201a8"
             ],
             [
              0.3333333333333333,
              "#9c179e"
             ],
             [
              0.4444444444444444,
              "#bd3786"
             ],
             [
              0.5555555555555556,
              "#d8576b"
             ],
             [
              0.6666666666666666,
              "#ed7953"
             ],
             [
              0.7777777777777778,
              "#fb9f3a"
             ],
             [
              0.8888888888888888,
              "#fdca26"
             ],
             [
              1,
              "#f0f921"
             ]
            ],
            "type": "heatmapgl"
           }
          ],
          "histogram": [
           {
            "marker": {
             "pattern": {
              "fillmode": "overlay",
              "size": 10,
              "solidity": 0.2
             }
            },
            "type": "histogram"
           }
          ],
          "histogram2d": [
           {
            "colorbar": {
             "outlinewidth": 0,
             "ticks": ""
            },
            "colorscale": [
             [
              0,
              "#0d0887"
             ],
             [
              0.1111111111111111,
              "#46039f"
             ],
             [
              0.2222222222222222,
              "#7201a8"
             ],
             [
              0.3333333333333333,
              "#9c179e"
             ],
             [
              0.4444444444444444,
              "#bd3786"
             ],
             [
              0.5555555555555556,
              "#d8576b"
             ],
             [
              0.6666666666666666,
              "#ed7953"
             ],
             [
              0.7777777777777778,
              "#fb9f3a"
             ],
             [
              0.8888888888888888,
              "#fdca26"
             ],
             [
              1,
              "#f0f921"
             ]
            ],
            "type": "histogram2d"
           }
          ],
          "histogram2dcontour": [
           {
            "colorbar": {
             "outlinewidth": 0,
             "ticks": ""
            },
            "colorscale": [
             [
              0,
              "#0d0887"
             ],
             [
              0.1111111111111111,
              "#46039f"
             ],
             [
              0.2222222222222222,
              "#7201a8"
             ],
             [
              0.3333333333333333,
              "#9c179e"
             ],
             [
              0.4444444444444444,
              "#bd3786"
             ],
             [
              0.5555555555555556,
              "#d8576b"
             ],
             [
              0.6666666666666666,
              "#ed7953"
             ],
             [
              0.7777777777777778,
              "#fb9f3a"
             ],
             [
              0.8888888888888888,
              "#fdca26"
             ],
             [
              1,
              "#f0f921"
             ]
            ],
            "type": "histogram2dcontour"
           }
          ],
          "mesh3d": [
           {
            "colorbar": {
             "outlinewidth": 0,
             "ticks": ""
            },
            "type": "mesh3d"
           }
          ],
          "parcoords": [
           {
            "line": {
             "colorbar": {
              "outlinewidth": 0,
              "ticks": ""
             }
            },
            "type": "parcoords"
           }
          ],
          "pie": [
           {
            "automargin": true,
            "type": "pie"
           }
          ],
          "scatter": [
           {
            "fillpattern": {
             "fillmode": "overlay",
             "size": 10,
             "solidity": 0.2
            },
            "type": "scatter"
           }
          ],
          "scatter3d": [
           {
            "line": {
             "colorbar": {
              "outlinewidth": 0,
              "ticks": ""
             }
            },
            "marker": {
             "colorbar": {
              "outlinewidth": 0,
              "ticks": ""
             }
            },
            "type": "scatter3d"
           }
          ],
          "scattercarpet": [
           {
            "marker": {
             "colorbar": {
              "outlinewidth": 0,
              "ticks": ""
             }
            },
            "type": "scattercarpet"
           }
          ],
          "scattergeo": [
           {
            "marker": {
             "colorbar": {
              "outlinewidth": 0,
              "ticks": ""
             }
            },
            "type": "scattergeo"
           }
          ],
          "scattergl": [
           {
            "marker": {
             "colorbar": {
              "outlinewidth": 0,
              "ticks": ""
             }
            },
            "type": "scattergl"
           }
          ],
          "scattermapbox": [
           {
            "marker": {
             "colorbar": {
              "outlinewidth": 0,
              "ticks": ""
             }
            },
            "type": "scattermapbox"
           }
          ],
          "scatterpolar": [
           {
            "marker": {
             "colorbar": {
              "outlinewidth": 0,
              "ticks": ""
             }
            },
            "type": "scatterpolar"
           }
          ],
          "scatterpolargl": [
           {
            "marker": {
             "colorbar": {
              "outlinewidth": 0,
              "ticks": ""
             }
            },
            "type": "scatterpolargl"
           }
          ],
          "scatterternary": [
           {
            "marker": {
             "colorbar": {
              "outlinewidth": 0,
              "ticks": ""
             }
            },
            "type": "scatterternary"
           }
          ],
          "surface": [
           {
            "colorbar": {
             "outlinewidth": 0,
             "ticks": ""
            },
            "colorscale": [
             [
              0,
              "#0d0887"
             ],
             [
              0.1111111111111111,
              "#46039f"
             ],
             [
              0.2222222222222222,
              "#7201a8"
             ],
             [
              0.3333333333333333,
              "#9c179e"
             ],
             [
              0.4444444444444444,
              "#bd3786"
             ],
             [
              0.5555555555555556,
              "#d8576b"
             ],
             [
              0.6666666666666666,
              "#ed7953"
             ],
             [
              0.7777777777777778,
              "#fb9f3a"
             ],
             [
              0.8888888888888888,
              "#fdca26"
             ],
             [
              1,
              "#f0f921"
             ]
            ],
            "type": "surface"
           }
          ],
          "table": [
           {
            "cells": {
             "fill": {
              "color": "#EBF0F8"
             },
             "line": {
              "color": "white"
             }
            },
            "header": {
             "fill": {
              "color": "#C8D4E3"
             },
             "line": {
              "color": "white"
             }
            },
            "type": "table"
           }
          ]
         },
         "layout": {
          "annotationdefaults": {
           "arrowcolor": "#2a3f5f",
           "arrowhead": 0,
           "arrowwidth": 1
          },
          "autotypenumbers": "strict",
          "coloraxis": {
           "colorbar": {
            "outlinewidth": 0,
            "ticks": ""
           }
          },
          "colorscale": {
           "diverging": [
            [
             0,
             "#8e0152"
            ],
            [
             0.1,
             "#c51b7d"
            ],
            [
             0.2,
             "#de77ae"
            ],
            [
             0.3,
             "#f1b6da"
            ],
            [
             0.4,
             "#fde0ef"
            ],
            [
             0.5,
             "#f7f7f7"
            ],
            [
             0.6,
             "#e6f5d0"
            ],
            [
             0.7,
             "#b8e186"
            ],
            [
             0.8,
             "#7fbc41"
            ],
            [
             0.9,
             "#4d9221"
            ],
            [
             1,
             "#276419"
            ]
           ],
           "sequential": [
            [
             0,
             "#0d0887"
            ],
            [
             0.1111111111111111,
             "#46039f"
            ],
            [
             0.2222222222222222,
             "#7201a8"
            ],
            [
             0.3333333333333333,
             "#9c179e"
            ],
            [
             0.4444444444444444,
             "#bd3786"
            ],
            [
             0.5555555555555556,
             "#d8576b"
            ],
            [
             0.6666666666666666,
             "#ed7953"
            ],
            [
             0.7777777777777778,
             "#fb9f3a"
            ],
            [
             0.8888888888888888,
             "#fdca26"
            ],
            [
             1,
             "#f0f921"
            ]
           ],
           "sequentialminus": [
            [
             0,
             "#0d0887"
            ],
            [
             0.1111111111111111,
             "#46039f"
            ],
            [
             0.2222222222222222,
             "#7201a8"
            ],
            [
             0.3333333333333333,
             "#9c179e"
            ],
            [
             0.4444444444444444,
             "#bd3786"
            ],
            [
             0.5555555555555556,
             "#d8576b"
            ],
            [
             0.6666666666666666,
             "#ed7953"
            ],
            [
             0.7777777777777778,
             "#fb9f3a"
            ],
            [
             0.8888888888888888,
             "#fdca26"
            ],
            [
             1,
             "#f0f921"
            ]
           ]
          },
          "colorway": [
           "#636efa",
           "#EF553B",
           "#00cc96",
           "#ab63fa",
           "#FFA15A",
           "#19d3f3",
           "#FF6692",
           "#B6E880",
           "#FF97FF",
           "#FECB52"
          ],
          "font": {
           "color": "#2a3f5f"
          },
          "geo": {
           "bgcolor": "white",
           "lakecolor": "white",
           "landcolor": "#E5ECF6",
           "showlakes": true,
           "showland": true,
           "subunitcolor": "white"
          },
          "hoverlabel": {
           "align": "left"
          },
          "hovermode": "closest",
          "mapbox": {
           "style": "light"
          },
          "paper_bgcolor": "white",
          "plot_bgcolor": "#E5ECF6",
          "polar": {
           "angularaxis": {
            "gridcolor": "white",
            "linecolor": "white",
            "ticks": ""
           },
           "bgcolor": "#E5ECF6",
           "radialaxis": {
            "gridcolor": "white",
            "linecolor": "white",
            "ticks": ""
           }
          },
          "scene": {
           "xaxis": {
            "backgroundcolor": "#E5ECF6",
            "gridcolor": "white",
            "gridwidth": 2,
            "linecolor": "white",
            "showbackground": true,
            "ticks": "",
            "zerolinecolor": "white"
           },
           "yaxis": {
            "backgroundcolor": "#E5ECF6",
            "gridcolor": "white",
            "gridwidth": 2,
            "linecolor": "white",
            "showbackground": true,
            "ticks": "",
            "zerolinecolor": "white"
           },
           "zaxis": {
            "backgroundcolor": "#E5ECF6",
            "gridcolor": "white",
            "gridwidth": 2,
            "linecolor": "white",
            "showbackground": true,
            "ticks": "",
            "zerolinecolor": "white"
           }
          },
          "shapedefaults": {
           "line": {
            "color": "#2a3f5f"
           }
          },
          "ternary": {
           "aaxis": {
            "gridcolor": "white",
            "linecolor": "white",
            "ticks": ""
           },
           "baxis": {
            "gridcolor": "white",
            "linecolor": "white",
            "ticks": ""
           },
           "bgcolor": "#E5ECF6",
           "caxis": {
            "gridcolor": "white",
            "linecolor": "white",
            "ticks": ""
           }
          },
          "title": {
           "x": 0.05
          },
          "xaxis": {
           "automargin": true,
           "gridcolor": "white",
           "linecolor": "white",
           "ticks": "",
           "title": {
            "standoff": 15
           },
           "zerolinecolor": "white",
           "zerolinewidth": 2
          },
          "yaxis": {
           "automargin": true,
           "gridcolor": "white",
           "linecolor": "white",
           "ticks": "",
           "title": {
            "standoff": 15
           },
           "zerolinecolor": "white",
           "zerolinewidth": 2
          }
         }
        },
        "xaxis": {
         "anchor": "y",
         "domain": [
          0,
          1
         ],
         "title": {
          "text": "mean"
         }
        },
        "yaxis": {
         "anchor": "x",
         "domain": [
          0,
          1
         ],
         "title": {
          "text": "post"
         }
        }
       }
      }
     },
     "metadata": {},
     "output_type": "display_data"
    }
   ],
   "source": [
    "r_order = order[::-1][-20:]\n",
    "data_dic = {\n",
    "    'mean': posterior_mean[r_order],\n",
    "    'std_err': std_err[r_order],\n",
    "    'post': ordered_post[::-1]\n",
    "}\n",
    "df = pd.DataFrame(data=data_dic)\n",
    "fig = px.scatter(df, x=\"mean\", y=\"post\", error_x=\"std_err\")\n",
    "fig.show()"
   ]
  },
  {
   "cell_type": "markdown",
   "metadata": {
    "cell_id": "00033-eddd71de-b9a7-4779-924a-964c68603845",
    "deepnote_cell_height": 52.390625,
    "deepnote_cell_type": "markdown",
    "id": "szOjXLKA1Rif"
   },
   "source": [
    "**Respuesta:**"
   ]
  },
  {
   "cell_type": "markdown",
   "metadata": {
    "cell_id": "00034-92ca5c7c-071c-4e99-9f17-dec033ed4c24",
    "deepnote_cell_height": 52.390625,
    "deepnote_cell_type": "markdown",
    "id": "0F83QdD61Pd1"
   },
   "source": [
    "\n",
    "    Se observa que los post con mayor media suelen tener menor desviación estandar. Esto se puede interpretar como que aquello que es descrito más positivamente es menos criticado, mientras que es más fácil encontrar opiniocnes diferentes cuando la laloración de un post no es tan buena."
   ]
  },
  {
   "cell_type": "markdown",
   "metadata": {
    "cell_id": "00035-93d50cd9-ff61-4aa8-ae41-e84009a3f64e",
    "deepnote_cell_height": 269,
    "deepnote_cell_type": "markdown",
    "id": "Rg4ZMq8ezAH6"
   },
   "source": [
    "<p align=\"center\">\n",
    "  <img src=\"https://media1.tenor.com/images/fb5bf7cc5a4acb91b4177672886a88ba/tenor.gif?itemid=5591338\">\n",
    "</p>"
   ]
  },
  {
   "cell_type": "markdown",
   "metadata": {
    "created_in_deepnote_cell": true,
    "deepnote_cell_type": "markdown",
    "tags": []
   },
   "source": [
    "<a style='text-decoration:none;line-height:16px;display:flex;color:#5B5B62;padding:10px;justify-content:end;' href='https://deepnote.com?utm_source=created-in-deepnote-cell&projectId=87110296-876e-426f-b91d-aaf681223468' target=\"_blank\">\n",
    "<img alt='Created in deepnote.com' style='display:inline;max-height:16px;margin:0px;margin-right:7.5px;' src='data:image/svg+xml;base64,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' > </img>\n",
    "Created in <span style='font-weight:600;margin-left:4px;'>Deepnote</span></a>"
   ]
  }
 ],
 "metadata": {
  "colab": {
   "collapsed_sections": [],
   "name": "Copia de enunciado_Laboratorio5.ipynb",
   "provenance": []
  },
  "deepnote": {},
  "deepnote_execution_queue": [],
  "deepnote_notebook_id": "86c0ae4d-10d9-41be-9dc9-0e76fdf26f7b",
  "kernelspec": {
   "display_name": "Python 3.10.4 64-bit",
   "language": "python",
   "name": "python3"
  },
  "language_info": {
   "codemirror_mode": {
    "name": "ipython",
    "version": 3
   },
   "file_extension": ".py",
   "mimetype": "text/x-python",
   "name": "python",
   "nbconvert_exporter": "python",
   "pygments_lexer": "ipython3",
   "version": "3.10.4"
  },
  "toc": {
   "base_numbering": 1,
   "nav_menu": {},
   "number_sections": true,
   "sideBar": true,
   "skip_h1_title": true,
   "title_cell": "Tabla de Contenidos",
   "title_sidebar": "Contenidos",
   "toc_cell": false,
   "toc_position": {
    "height": "calc(100% - 180px)",
    "left": "10px",
    "top": "150px",
    "width": "241.867px"
   },
   "toc_section_display": true,
   "toc_window_display": true
  },
  "varInspector": {
   "cols": {
    "lenName": 16,
    "lenType": 16,
    "lenVar": 40
   },
   "kernels_config": {
    "python": {
     "delete_cmd_postfix": "",
     "delete_cmd_prefix": "del ",
     "library": "var_list.py",
     "varRefreshCmd": "print(var_dic_list())"
    },
    "r": {
     "delete_cmd_postfix": ") ",
     "delete_cmd_prefix": "rm(",
     "library": "var_list.r",
     "varRefreshCmd": "cat(var_dic_list()) "
    }
   },
   "types_to_exclude": [
    "module",
    "function",
    "builtin_function_or_method",
    "instance",
    "_Feature"
   ],
   "window_display": false
  },
  "vscode": {
   "interpreter": {
    "hash": "e7370f93d1d0cde622a1f8e1c04877d8463912d04d973331ad4851f04de6915a"
   }
  }
 },
 "nbformat": 4,
 "nbformat_minor": 1
}
