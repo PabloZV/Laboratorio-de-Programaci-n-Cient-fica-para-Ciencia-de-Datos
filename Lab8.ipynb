{
 "cells": [
  {
   "cell_type": "markdown",
   "metadata": {
    "cell_id": "00000-7111e3ae-b60e-4569-b774-a13ef1b95f77",
    "deepnote_cell_height": 156.390625,
    "deepnote_cell_type": "markdown",
    "id": "XUZ1dFPHzAHl"
   },
   "source": [
    "<h1><center>Laboratorio 8: ¿Superhéroe o Villano? 🦸</center></h1>\n",
    "\n",
    "<center><strong>MDS7202: Laboratorio de Programación Científica para Ciencia de Datos</strong></center>"
   ]
  },
  {
   "cell_type": "markdown",
   "metadata": {
    "cell_id": "00001-988ebcea-7685-4ad4-968d-5530ff0099a7",
    "deepnote_cell_height": 165.171875,
    "deepnote_cell_type": "markdown",
    "id": "UD8X1uhGzAHq"
   },
   "source": [
    "### Cuerpo Docente:\n",
    "\n",
    "- Profesor: Pablo Badilla\n",
    "- Auxiliar: Ignacio Meza D.\n",
    "- Ayudante: Patricio Ortiz."
   ]
  },
  {
   "cell_type": "markdown",
   "metadata": {
    "cell_id": "00002-038ebafa-6641-4c2a-b2e8-62ad2018b88e",
    "deepnote_cell_height": 171.78125,
    "deepnote_cell_type": "markdown",
    "id": "tXflExjqzAHr"
   },
   "source": [
    "### Equipo: SUPER IMPORTANTE - notebooks sin nombre no serán revisados\n",
    "\n",
    "- Nombre de alumno 1:Pablo Esteban Zúñiga Varela \n",
    "- Nombre de alumno 2:\n"
   ]
  },
  {
   "cell_type": "markdown",
   "metadata": {
    "cell_id": "00003-913d0cc4-e146-4ff9-a0e3-26a20c808d7c",
    "deepnote_cell_height": 63,
    "deepnote_cell_type": "markdown",
    "id": "AD-V0bbZzAHr"
   },
   "source": [
    "### **Link de repositorio de GitHub:** `https://github.com/PabloZV/Laboratorio-de-Programacion-Cientifica-para-Ciencia-de-Datos`"
   ]
  },
  {
   "cell_type": "markdown",
   "metadata": {
    "cell_id": "00005-64f7c2d0-4287-4f3a-9b4b-2c5b829f606c",
    "deepnote_cell_height": 651.640625,
    "deepnote_cell_type": "markdown",
    "id": "6uBLPj1PzAHs"
   },
   "source": [
    "## Temas a tratar\n",
    "\n",
    "- Codificación de texto usando Bag of Words.\n",
    "- Búsqueda del modelo óptimo de clasificación usando `GridSearch`\n",
    "- Uso de pipelines.\n",
    "\n",
    "## Reglas:\n",
    "\n",
    "- Fecha de entrega: 23/06/2022\n",
    "- **Grupos de 2 personas**\n",
    "- **Ausentes** deberán realizar la actividad solos. \n",
    "- Cualquier duda fuera del horario de clases al foro. Mensajes al equipo docente serán respondidos por este medio.\n",
    "- Prohibidas las copias. \n",
    "- Pueden usar cualquer matrial del curso que estimen conveniente.\n",
    "\n",
    "### Objetivos principales del laboratorio\n",
    "\n",
    "- Obtener caracteristicas a partir de texto usando `CountVectorizer`.\n",
    "- Fijar un pipeline con un modelo base que luego se irá optimizando.\n",
    "- Comprender como realizar una búsqueda de grilla sobre un conjunto de clasificadores e hiperparámetros usando `GridSearch`.\n",
    "\n",
    "El laboratorio deberá ser desarrollado sin el uso indiscriminado de iteradores nativos de python (aka \"for\", \"while\"). La idea es que aprendan a exprimir al máximo las funciones optimizadas que nos entrega `pandas`, las cuales vale mencionar, son bastante más eficientes que los iteradores nativos sobre DataFrames."
   ]
  },
  {
   "cell_type": "markdown",
   "metadata": {
    "cell_id": "00006-b8353b3b-8f85-4aa6-9379-96902d3d0bf3",
    "deepnote_cell_height": 52.390625,
    "deepnote_cell_type": "markdown",
    "id": "MhISwri4zAHy"
   },
   "source": [
    "#Importamos librerias utiles 😸"
   ]
  },
  {
   "cell_type": "code",
   "execution_count": 7,
   "metadata": {
    "ExecuteTime": {
     "end_time": "2021-03-29T00:08:16.884674Z",
     "start_time": "2021-03-29T00:08:16.349846Z"
    },
    "cell_id": "00007-e696189c-3187-4899-bf04-8034b0e8a595",
    "colab": {
     "base_uri": "https://localhost:8080/"
    },
    "deepnote_cell_height": 1509.1875,
    "deepnote_cell_type": "code",
    "deepnote_output_heights": [
     null,
     21.1875
    ],
    "deepnote_to_be_reexecuted": false,
    "executionInfo": {
     "elapsed": 9106,
     "status": "ok",
     "timestamp": 1625497725070,
     "user": {
      "displayName": "IGNACIO ALEJANDRO MEZA",
      "photoUrl": "",
      "userId": "17011121633069169364"
     },
     "user_tz": 240
    },
    "execution_millis": 36497,
    "execution_start": 1637348694866,
    "id": "uyc33dKdzAHy",
    "outputId": "14d5da48-5dae-4ce4-a8ba-b826ea91a126",
    "source_hash": "7ce9748b"
   },
   "outputs": [
    {
     "name": "stderr",
     "output_type": "stream",
     "text": [
      "[nltk_data] Downloading package stopwords to /home/pablo/nltk_data...\n",
      "[nltk_data]   Package stopwords is already up-to-date!\n",
      "[nltk_data] Downloading package punkt to /home/pablo/nltk_data...\n",
      "[nltk_data]   Package punkt is already up-to-date!\n"
     ]
    },
    {
     "data": {
      "text/plain": [
       "True"
      ]
     },
     "execution_count": 7,
     "metadata": {},
     "output_type": "execute_result"
    }
   ],
   "source": [
    "# Librería Core del lab.\n",
    "import numpy as np\n",
    "import pandas as pd\n",
    "from sklearn.pipeline import Pipeline\n",
    "\n",
    "from sklearn.model_selection import train_test_split \n",
    "\n",
    "# Pre-procesamiento\n",
    "from sklearn.feature_selection import SelectPercentile, f_classif\n",
    "from sklearn.compose import ColumnTransformer\n",
    "from sklearn.preprocessing import MinMaxScaler\n",
    "from sklearn.feature_extraction.text import CountVectorizer\n",
    "\n",
    "# Clasifación\n",
    "from sklearn.svm import SVC\n",
    "from sklearn.naive_bayes import MultinomialNB\n",
    "from sklearn.tree import DecisionTreeClassifier\n",
    "from sklearn.model_selection import GridSearchCV\n",
    "from sklearn.ensemble import RandomForestClassifier\n",
    "from sklearn.linear_model import LogisticRegression\n",
    "\n",
    "# Metricas de evaluación\n",
    "from sklearn.metrics import classification_report\n",
    "from sklearn.metrics import accuracy_score\n",
    "from sklearn.metrics import f1_score\n",
    "from sklearn.metrics import cohen_kappa_score\n",
    "\n",
    "# Librería para plotear\n",
    "#!pip install --upgrade plotly\n",
    "import plotly.express as px\n",
    "from plotly.subplots import make_subplots\n",
    "import plotly.graph_objects as go\n",
    "\n",
    "# Proyecciones en baja dimensionalidad: UMAP\n",
    "#!pip install umap-learn\n",
    "\n",
    "# Librería para NLP\n",
    "#!pip install nltk\n",
    "import nltk\n",
    "from nltk.corpus import stopwords\n",
    "from nltk import word_tokenize  \n",
    "from nltk.stem import PorterStemmer\n",
    "nltk.download('stopwords')\n",
    "nltk.download('punkt')"
   ]
  },
  {
   "cell_type": "markdown",
   "metadata": {
    "cell_id": "00008-9c535dd9-01e0-4804-a325-7b5d36a20a32",
    "deepnote_cell_height": 82,
    "deepnote_cell_type": "markdown",
    "id": "xpOTbQcxbSiy"
   },
   "source": [
    "# 1. ¿Quien es Bat Cow?"
   ]
  },
  {
   "cell_type": "markdown",
   "metadata": {
    "cell_id": "00009-43ac5618-611f-4712-aec7-faaa53d72d08",
    "deepnote_cell_height": 347.8125,
    "deepnote_cell_type": "markdown",
    "id": "3Q93vbNS25bM"
   },
   "source": [
    "<p align=\"center\">\n",
    "  <img src=\"https://i.imgur.com/D9f1RHy.jpg\" width=\"350\">\n",
    "</p>"
   ]
  },
  {
   "cell_type": "markdown",
   "metadata": {
    "cell_id": "00010-632e9494-ce9c-4d54-8e57-e700baed4302",
    "deepnote_cell_height": 503.03125,
    "deepnote_cell_type": "markdown",
    "id": "jnmZfFpxTTYX"
   },
   "source": [
    "En vez de estar desarrollando las evaluaciones correspondientes a su curso, su profesor de catedra y su auxiliar discuten acerca la alineación (héroe o villano) del personaje de ficción Bat-Cow. \n",
    "\n",
    "El cuerpo docente, no logra ponerse de acuerdo si el personaje es bueno, neutral o malo: el auxiliar plantea que Bat-cow posee una siniestra mirada, intrigante pero común característica de los personajes malvados. \n",
    "Por otra parte, extendiendo las ideas de Rousseau, el profesor plantea que tal como los humanos no nacen malos, no existe motivo por el cual una vaca con superpoderes deba serlo.\n",
    "\n",
    "Sin embargo, ambos concuerdan que es difícil estimar la alineación solo usando los atributos físicos, por lo que creen el análisis debe ser complementado aún más antes de comunicarle los resultados a su estudiantado. Buscando más información, ambos sujetos se percatan de la existencia de un excelente antecedente para estimar la alineación: la historia personal de cada superhéroe o villano.\n",
    "\n",
    "Es por esto le solicitan que construya y optimice un clasificador basado en texto el cual analice la alineación de cada personaje basado en su historia personal.\n",
    "\n",
    "Para este laboratorio deben trabajar con los datos `df_comics.csv` y `comics_no_label.csv` subidos a u-cursos. El primero es un conjunto de datos que les servirá para entrenar un modelo de clasificación, mientras que el segundo es un dataset con personajes de ficción no etiquetados a predecir (sí, aquí está la misteriosa Batcow).\n",
    "\n",
    "Para comenzar cargue los dataset señalados y visualice a través de un head los atributos que poseen cada uno de los dataset.\n"
   ]
  },
  {
   "cell_type": "code",
   "execution_count": 2,
   "metadata": {
    "cell_id": "00011-9a36781e-c26a-46de-b4bf-a5448a347cab",
    "colab": {
     "base_uri": "https://localhost:8080/"
    },
    "deepnote_cell_height": 220.1875,
    "deepnote_cell_type": "code",
    "deepnote_to_be_reexecuted": false,
    "executionInfo": {
     "elapsed": 5,
     "status": "ok",
     "timestamp": 1625497735673,
     "user": {
      "displayName": "IGNACIO ALEJANDRO MEZA",
      "photoUrl": "",
      "userId": "17011121633069169364"
     },
     "user_tz": 240
    },
    "execution_millis": 27,
    "execution_start": 1637348657022,
    "id": "Jqq-s010Iwl1",
    "outputId": "bc29f770-d066-4443-8cee-00e3db46c629",
    "source_hash": "c60dc4a7"
   },
   "outputs": [
    {
     "name": "stdout",
     "output_type": "stream",
     "text": [
      "Ignorando conexión drive-colab\n"
     ]
    }
   ],
   "source": [
    "# Si usted está utilizando Colabolatory le puede ser útil este código para cargar los archivos.\n",
    "try:\n",
    "    from google.colab import drive\n",
    "    drive.mount(\"/content/drive\")\n",
    "    path = 'Dirección donde tiene los archivos en el Drive'\n",
    "except:\n",
    "    print('Ignorando conexión drive-colab')"
   ]
  },
  {
   "cell_type": "code",
   "execution_count": 9,
   "metadata": {
    "cell_id": "00012-8b0c36c2-aeaa-4ba1-9611-45f0599aa584",
    "deepnote_cell_height": 117,
    "deepnote_cell_type": "code",
    "deepnote_to_be_reexecuted": false,
    "executionInfo": {
     "elapsed": 289,
     "status": "ok",
     "timestamp": 1625499009249,
     "user": {
      "displayName": "IGNACIO ALEJANDRO MEZA",
      "photoUrl": "",
      "userId": "17011121633069169364"
     },
     "user_tz": 240
    },
    "execution_millis": 325,
    "execution_start": 1637348732856,
    "id": "bED3w3tDbSCf",
    "source_hash": "443d6e8"
   },
   "outputs": [],
   "source": [
    "df_comics = pd.read_csv('df_comics.csv')\n",
    "df_comics_no_label = pd.read_csv('comics_no_label.csv')\n",
    "df_comics = df_comics.dropna(subset=['history_text']) # eliminar ejemplos sin historia"
   ]
  },
  {
   "cell_type": "code",
   "execution_count": 3,
   "metadata": {
    "cell_id": "00013-2cd3a433-4f43-4a9e-92f5-caf54a662db2",
    "deepnote_cell_height": 323.1875,
    "deepnote_cell_type": "code",
    "deepnote_output_heights": [
     208.1875
    ],
    "deepnote_to_be_reexecuted": false,
    "execution_millis": 654,
    "execution_start": 1637348731943,
    "source_hash": "b986316d",
    "tags": []
   },
   "outputs": [
    {
     "data": {
      "text/html": [
       "<div>\n",
       "<style scoped>\n",
       "    .dataframe tbody tr th:only-of-type {\n",
       "        vertical-align: middle;\n",
       "    }\n",
       "\n",
       "    .dataframe tbody tr th {\n",
       "        vertical-align: top;\n",
       "    }\n",
       "\n",
       "    .dataframe thead th {\n",
       "        text-align: right;\n",
       "    }\n",
       "</style>\n",
       "<table border=\"1\" class=\"dataframe\">\n",
       "  <thead>\n",
       "    <tr style=\"text-align: right;\">\n",
       "      <th></th>\n",
       "      <th>Unnamed: 0</th>\n",
       "      <th>name</th>\n",
       "      <th>real_name</th>\n",
       "      <th>full_name</th>\n",
       "      <th>overall_score</th>\n",
       "      <th>history_text</th>\n",
       "      <th>powers_text</th>\n",
       "      <th>intelligence_score</th>\n",
       "      <th>strength_score</th>\n",
       "      <th>speed_score</th>\n",
       "      <th>...</th>\n",
       "      <th>has_flight</th>\n",
       "      <th>has_accelerated_healing</th>\n",
       "      <th>has_weapons_master</th>\n",
       "      <th>has_intelligence</th>\n",
       "      <th>has_reflexes</th>\n",
       "      <th>has_super_speed</th>\n",
       "      <th>has_durability</th>\n",
       "      <th>has_stamina</th>\n",
       "      <th>has_agility</th>\n",
       "      <th>has_super_strength</th>\n",
       "    </tr>\n",
       "  </thead>\n",
       "  <tbody>\n",
       "    <tr>\n",
       "      <th>0</th>\n",
       "      <td>0</td>\n",
       "      <td>3-D Man</td>\n",
       "      <td>Delroy Garrett, Jr.</td>\n",
       "      <td>Delroy Garrett, Jr.</td>\n",
       "      <td>6</td>\n",
       "      <td>Delroy Garrett, Jr. grew up to become a track ...</td>\n",
       "      <td>NaN</td>\n",
       "      <td>85</td>\n",
       "      <td>30</td>\n",
       "      <td>60</td>\n",
       "      <td>...</td>\n",
       "      <td>0.0</td>\n",
       "      <td>0.0</td>\n",
       "      <td>0.0</td>\n",
       "      <td>0.0</td>\n",
       "      <td>0.0</td>\n",
       "      <td>1.0</td>\n",
       "      <td>0.0</td>\n",
       "      <td>0.0</td>\n",
       "      <td>0.0</td>\n",
       "      <td>1.0</td>\n",
       "    </tr>\n",
       "    <tr>\n",
       "      <th>1</th>\n",
       "      <td>2</td>\n",
       "      <td>A-Bomb</td>\n",
       "      <td>Richard Milhouse Jones</td>\n",
       "      <td>Richard Milhouse Jones</td>\n",
       "      <td>20</td>\n",
       "      <td>Richard \"Rick\" Jones was orphaned at a young ...</td>\n",
       "      <td>On rare occasions, and through unusual circu...</td>\n",
       "      <td>80</td>\n",
       "      <td>100</td>\n",
       "      <td>80</td>\n",
       "      <td>...</td>\n",
       "      <td>0.0</td>\n",
       "      <td>1.0</td>\n",
       "      <td>0.0</td>\n",
       "      <td>0.0</td>\n",
       "      <td>1.0</td>\n",
       "      <td>1.0</td>\n",
       "      <td>1.0</td>\n",
       "      <td>1.0</td>\n",
       "      <td>1.0</td>\n",
       "      <td>1.0</td>\n",
       "    </tr>\n",
       "    <tr>\n",
       "      <th>2</th>\n",
       "      <td>3</td>\n",
       "      <td>Aa</td>\n",
       "      <td>Aa</td>\n",
       "      <td>NaN</td>\n",
       "      <td>12</td>\n",
       "      <td>Aa is one of the more passive members of the P...</td>\n",
       "      <td>NaN</td>\n",
       "      <td>80</td>\n",
       "      <td>50</td>\n",
       "      <td>55</td>\n",
       "      <td>...</td>\n",
       "      <td>0.0</td>\n",
       "      <td>0.0</td>\n",
       "      <td>0.0</td>\n",
       "      <td>0.0</td>\n",
       "      <td>0.0</td>\n",
       "      <td>0.0</td>\n",
       "      <td>0.0</td>\n",
       "      <td>0.0</td>\n",
       "      <td>0.0</td>\n",
       "      <td>0.0</td>\n",
       "    </tr>\n",
       "    <tr>\n",
       "      <th>3</th>\n",
       "      <td>4</td>\n",
       "      <td>Aaron Cash</td>\n",
       "      <td>Aaron Cash</td>\n",
       "      <td>Aaron Cash</td>\n",
       "      <td>5</td>\n",
       "      <td>Aaron Cash is the head of security at Arkham A...</td>\n",
       "      <td>NaN</td>\n",
       "      <td>80</td>\n",
       "      <td>10</td>\n",
       "      <td>25</td>\n",
       "      <td>...</td>\n",
       "      <td>0.0</td>\n",
       "      <td>0.0</td>\n",
       "      <td>1.0</td>\n",
       "      <td>0.0</td>\n",
       "      <td>0.0</td>\n",
       "      <td>0.0</td>\n",
       "      <td>0.0</td>\n",
       "      <td>0.0</td>\n",
       "      <td>0.0</td>\n",
       "      <td>0.0</td>\n",
       "    </tr>\n",
       "    <tr>\n",
       "      <th>4</th>\n",
       "      <td>5</td>\n",
       "      <td>Aayla Secura</td>\n",
       "      <td>Aayla Secura</td>\n",
       "      <td>NaN</td>\n",
       "      <td>8</td>\n",
       "      <td>ayla Secura was a Rutian Twi'lek Jedi Knight (...</td>\n",
       "      <td>NaN</td>\n",
       "      <td>90</td>\n",
       "      <td>40</td>\n",
       "      <td>45</td>\n",
       "      <td>...</td>\n",
       "      <td>0.0</td>\n",
       "      <td>1.0</td>\n",
       "      <td>0.0</td>\n",
       "      <td>0.0</td>\n",
       "      <td>0.0</td>\n",
       "      <td>0.0</td>\n",
       "      <td>0.0</td>\n",
       "      <td>0.0</td>\n",
       "      <td>1.0</td>\n",
       "      <td>0.0</td>\n",
       "    </tr>\n",
       "  </tbody>\n",
       "</table>\n",
       "<p>5 rows × 82 columns</p>\n",
       "</div>"
      ],
      "text/plain": [
       "   Unnamed: 0          name               real_name               full_name  \\\n",
       "0           0       3-D Man     Delroy Garrett, Jr.     Delroy Garrett, Jr.   \n",
       "1           2        A-Bomb  Richard Milhouse Jones  Richard Milhouse Jones   \n",
       "2           3            Aa                      Aa                     NaN   \n",
       "3           4    Aaron Cash              Aaron Cash              Aaron Cash   \n",
       "4           5  Aayla Secura            Aayla Secura                     NaN   \n",
       "\n",
       "  overall_score                                       history_text  \\\n",
       "0             6  Delroy Garrett, Jr. grew up to become a track ...   \n",
       "1            20   Richard \"Rick\" Jones was orphaned at a young ...   \n",
       "2            12  Aa is one of the more passive members of the P...   \n",
       "3             5  Aaron Cash is the head of security at Arkham A...   \n",
       "4             8  ayla Secura was a Rutian Twi'lek Jedi Knight (...   \n",
       "\n",
       "                                         powers_text  intelligence_score  \\\n",
       "0                                                NaN                  85   \n",
       "1    On rare occasions, and through unusual circu...                  80   \n",
       "2                                                NaN                  80   \n",
       "3                                                NaN                  80   \n",
       "4                                                NaN                  90   \n",
       "\n",
       "   strength_score  speed_score  ...  has_flight  has_accelerated_healing  \\\n",
       "0              30           60  ...         0.0                      0.0   \n",
       "1             100           80  ...         0.0                      1.0   \n",
       "2              50           55  ...         0.0                      0.0   \n",
       "3              10           25  ...         0.0                      0.0   \n",
       "4              40           45  ...         0.0                      1.0   \n",
       "\n",
       "   has_weapons_master has_intelligence has_reflexes has_super_speed  \\\n",
       "0                 0.0              0.0          0.0             1.0   \n",
       "1                 0.0              0.0          1.0             1.0   \n",
       "2                 0.0              0.0          0.0             0.0   \n",
       "3                 1.0              0.0          0.0             0.0   \n",
       "4                 0.0              0.0          0.0             0.0   \n",
       "\n",
       "  has_durability has_stamina has_agility has_super_strength  \n",
       "0            0.0         0.0         0.0                1.0  \n",
       "1            1.0         1.0         1.0                1.0  \n",
       "2            0.0         0.0         0.0                0.0  \n",
       "3            0.0         0.0         0.0                0.0  \n",
       "4            0.0         0.0         1.0                0.0  \n",
       "\n",
       "[5 rows x 82 columns]"
      ]
     },
     "metadata": {},
     "output_type": "display_data"
    },
    {
     "name": "stdout",
     "output_type": "stream",
     "text": [
      "<class 'pandas.core.frame.DataFrame'>\n",
      "Int64Index: 1285 entries, 0 to 1366\n",
      "Data columns (total 82 columns):\n",
      " #   Column                            Non-Null Count  Dtype  \n",
      "---  ------                            --------------  -----  \n",
      " 0   Unnamed: 0                        1285 non-null   int64  \n",
      " 1   name                              1285 non-null   object \n",
      " 2   real_name                         1164 non-null   object \n",
      " 3   full_name                         895 non-null    object \n",
      " 4   overall_score                     1285 non-null   object \n",
      " 5   history_text                      1285 non-null   object \n",
      " 6   powers_text                       961 non-null    object \n",
      " 7   intelligence_score                1285 non-null   int64  \n",
      " 8   strength_score                    1285 non-null   int64  \n",
      " 9   speed_score                       1285 non-null   int64  \n",
      " 10  durability_score                  1285 non-null   int64  \n",
      " 11  power_score                       1285 non-null   int64  \n",
      " 12  combat_score                      1285 non-null   int64  \n",
      " 13  superpowers                       1285 non-null   object \n",
      " 14  alter_egos                        1285 non-null   object \n",
      " 15  aliases                           1285 non-null   object \n",
      " 16  place_of_birth                    734 non-null    object \n",
      " 17  first_appearance                  1142 non-null   object \n",
      " 18  creator                           1166 non-null   object \n",
      " 19  alignment                         1285 non-null   object \n",
      " 20  occupation                        938 non-null    object \n",
      " 21  base                              813 non-null    object \n",
      " 22  teams                             1285 non-null   object \n",
      " 23  relatives                         829 non-null    object \n",
      " 24  gender                            1191 non-null   object \n",
      " 25  type_race                         942 non-null    object \n",
      " 26  height                            1285 non-null   object \n",
      " 27  weight                            1285 non-null   object \n",
      " 28  eye_color                         1091 non-null   object \n",
      " 29  hair_color                        1103 non-null   object \n",
      " 30  skin_color                        154 non-null    object \n",
      " 31  img                               1215 non-null   object \n",
      " 32  has_electrokinesis                1228 non-null   float64\n",
      " 33  has_energy_constructs             1228 non-null   float64\n",
      " 34  has_mind_control_resistance       1228 non-null   float64\n",
      " 35  has_matter_manipulation           1228 non-null   float64\n",
      " 36  has_telepathy_resistance          1228 non-null   float64\n",
      " 37  has_mind_control                  1228 non-null   float64\n",
      " 38  has_enhanced_hearing              1228 non-null   float64\n",
      " 39  has_dimensional_travel            1228 non-null   float64\n",
      " 40  has_element_control               1228 non-null   float64\n",
      " 41  has_size_changing                 1228 non-null   float64\n",
      " 42  has_fire_resistance               1228 non-null   float64\n",
      " 43  has_fire_control                  1228 non-null   float64\n",
      " 44  has_dexterity                     1228 non-null   float64\n",
      " 45  has_reality_warping               1228 non-null   float64\n",
      " 46  has_illusions                     1228 non-null   float64\n",
      " 47  has_energy_beams                  1228 non-null   float64\n",
      " 48  has_peak_human_condition          1228 non-null   float64\n",
      " 49  has_shapeshifting                 1228 non-null   float64\n",
      " 50  has_heat_resistance               1228 non-null   float64\n",
      " 51  has_jump                          1228 non-null   float64\n",
      " 52  has_self-sustenance               1228 non-null   float64\n",
      " 53  has_energy_absorption             1228 non-null   float64\n",
      " 54  has_cold_resistance               1228 non-null   float64\n",
      " 55  has_magic                         1228 non-null   float64\n",
      " 56  has_telekinesis                   1228 non-null   float64\n",
      " 57  has_toxin_and_disease_resistance  1228 non-null   float64\n",
      " 58  has_telepathy                     1228 non-null   float64\n",
      " 59  has_regeneration                  1228 non-null   float64\n",
      " 60  has_immortality                   1228 non-null   float64\n",
      " 61  has_teleportation                 1228 non-null   float64\n",
      " 62  has_force_fields                  1228 non-null   float64\n",
      " 63  has_energy_manipulation           1228 non-null   float64\n",
      " 64  has_endurance                     1228 non-null   float64\n",
      " 65  has_longevity                     1228 non-null   float64\n",
      " 66  has_weapon-based_powers           1228 non-null   float64\n",
      " 67  has_energy_blasts                 1228 non-null   float64\n",
      " 68  has_enhanced_senses               1228 non-null   float64\n",
      " 69  has_invulnerability               1228 non-null   float64\n",
      " 70  has_stealth                       1228 non-null   float64\n",
      " 71  has_marksmanship                  1228 non-null   float64\n",
      " 72  has_flight                        1228 non-null   float64\n",
      " 73  has_accelerated_healing           1228 non-null   float64\n",
      " 74  has_weapons_master                1228 non-null   float64\n",
      " 75  has_intelligence                  1228 non-null   float64\n",
      " 76  has_reflexes                      1228 non-null   float64\n",
      " 77  has_super_speed                   1228 non-null   float64\n",
      " 78  has_durability                    1228 non-null   float64\n",
      " 79  has_stamina                       1228 non-null   float64\n",
      " 80  has_agility                       1228 non-null   float64\n",
      " 81  has_super_strength                1228 non-null   float64\n",
      "dtypes: float64(50), int64(7), object(25)\n",
      "memory usage: 833.2+ KB\n"
     ]
    },
    {
     "data": {
      "text/plain": [
       "None"
      ]
     },
     "metadata": {},
     "output_type": "display_data"
    }
   ],
   "source": [
    "# queda a labor de su equipo hacer el análisis exploratorio\n",
    "display(df_comics.head())\n",
    "display(df_comics.info())"
   ]
  },
  {
   "cell_type": "markdown",
   "metadata": {
    "cell_id": "00013-00e51eac-6169-4978-9714-ee8c7a8f55b8",
    "deepnote_cell_height": 410,
    "deepnote_cell_type": "markdown",
    "id": "i4tFPrFA4_O5"
   },
   "source": [
    "## 1.1 Obtención de Features y Bag of Words\n",
    "\n",
    "<p align=\"center\">\n",
    "  <img src=\"https://media0.giphy.com/media/eIUpSyzwGp0YhAMTKr/200.gif\" width=\"300\">\n",
    "</p>"
   ]
  },
  {
   "cell_type": "markdown",
   "metadata": {
    "cell_id": "00014-528c8f39-a27a-40e0-8de0-0cc7f362b4ae",
    "deepnote_cell_height": 561.859375,
    "deepnote_cell_type": "markdown",
    "id": "f_4NF0_V5XZ-"
   },
   "source": [
    "Primero que todo, deben obtener un vector de características del atributo `history_text`, utilizando `Bag of Words`. En este atributo se presenta una breve descripción de la historia de cada uno de los personajes de ficción presentes en el dataset. \n",
    "\n",
    "Pero... antes de empezar, ¿Que es `Bag of Words`?...\n",
    "\n",
    "`Bag of Words` es un modelo de conteo utilizado en Procesamiento de Lenguaje Natural (NLP) que tiene como objetivo generar una representación vectorial (vector de características en nuestro cas) para cada documento a través del conteo de las palabras que contienen. \n",
    "\n",
    "La siguiente figura muestra un ejemplo de `Bag of Words` en acción:\n",
    "\n",
    "<p align=\"center\">\n",
    "  <img src=\"https://user.oc-static.com/upload/2020/10/23/16034397439042_surfin%20bird%20bow.png\" width=\"500\">\n",
    "</p>\n",
    "\n",
    "Como pueden ver, el modelo de `Bag of Words` no resulta tan complicado, ¿pero cómo lo aplicamos en python?. \n",
    "\n",
    "Como podrán darse cuenta del ejemplo anterior, para facilitar el conteo será necesario transformar cada uno de los documentos en vectores, donde cada una de las posiciones posee un carácter. Este proceso es conocido como **tokenización** y lo podemos realizar de la siguiente forma:"
   ]
  },
  {
   "cell_type": "code",
   "execution_count": 4,
   "metadata": {
    "cell_id": "00015-5924cc55-1587-4776-8c5e-cb400ddacaa3",
    "deepnote_cell_height": 227.375,
    "deepnote_cell_type": "code",
    "deepnote_output_heights": [
     40.375
    ],
    "deepnote_to_be_reexecuted": false,
    "execution_millis": 8,
    "execution_start": 1637346921830,
    "source_hash": "57e4888a",
    "tags": []
   },
   "outputs": [
    {
     "data": {
      "text/plain": [
       "[['The', 'teacher', 'rocks', 'like', 'a', 'good', 'rock', '&', 'roll'],\n",
       " ['the', 'rock', 'is', 'the', 'best', 'actor', 'in', 'the', 'world']]"
      ]
     },
     "execution_count": 4,
     "metadata": {},
     "output_type": "execute_result"
    }
   ],
   "source": [
    "docs = ['The teacher rocks like a good rock & roll','the rock is the best actor in the world']\n",
    "docs_tokenizados = [word_tokenize(doc)  for doc in docs]\n",
    "docs_tokenizados"
   ]
  },
  {
   "cell_type": "markdown",
   "metadata": {
    "cell_id": "00016-649b0384-cac3-4b79-93ff-75aac3b8c5df",
    "deepnote_cell_height": 424.125,
    "deepnote_cell_type": "markdown",
    "tags": []
   },
   "source": [
    "Podemos mejorar un poco más el proceso de tokenización agregando \n",
    "\n",
    "- Stemming:  Definimos Stemming como un algoritmo basado en reglas que transforma las palabras a una forma general. Un ejemplo de stemming, es el siguiente:\n",
    "- Eliminación de Stopwords: Eliminación de palabras muy frecuentes que entorpecen la clasificación (por ejemplo, el, la los, la, etc...)\n",
    "\n",
    "<p align=\"center\">\n",
    "  <img src=\"https://devopedia.org/images/article/218/8583.1569386710.png\" width=\"300\">\n",
    "</p>\n"
   ]
  },
  {
   "cell_type": "code",
   "execution_count": 10,
   "metadata": {
    "cell_id": "00017-52acaa25-55d2-49ee-a6c8-49437b8d4523",
    "deepnote_cell_height": 690.9375,
    "deepnote_cell_type": "code",
    "deepnote_output_heights": [
     null,
     59.5625
    ],
    "deepnote_to_be_reexecuted": false,
    "execution_millis": 36,
    "execution_start": 1637346924545,
    "source_hash": "d7f59237",
    "tags": []
   },
   "outputs": [
    {
     "name": "stderr",
     "output_type": "stream",
     "text": [
      "[nltk_data] Downloading package stopwords to /home/pablo/nltk_data...\n",
      "[nltk_data]   Package stopwords is already up-to-date!\n"
     ]
    },
    {
     "data": {
      "text/plain": [
       "[['the', 'teacher', 'rock', 'like', 'good', 'rock', '&', 'roll'],\n",
       " ['the', 'rock', 'is', 'the', 'best', 'actor', 'in', 'the', 'world'],\n",
       " ['new', 'york', 'is', 'beauti', 'citi']]"
      ]
     },
     "execution_count": 10,
     "metadata": {},
     "output_type": "execute_result"
    }
   ],
   "source": [
    "# Definimos algunas stopword que queremos que sean eliminadas\n",
    "import nltk\n",
    "nltk.download('stopwords')\n",
    "\n",
    "from nltk.corpus import stopwords\n",
    "\n",
    "stop_words = stopwords.words('spanish')\n",
    "\n",
    "# Definimos un tokenizador con Stemming\n",
    "class StemmerTokenizer:\n",
    "    def __init__(self):\n",
    "        self.ps = PorterStemmer()\n",
    "    def __call__(self, doc):\n",
    "        doc_tok = word_tokenize(doc)\n",
    "        doc_tok = [t for t in doc_tok if t not in stop_words]\n",
    "        return [self.ps.stem(t) for t in doc_tok]\n",
    "\n",
    "# Inicializamos tokenizador\n",
    "tokenizador = StemmerTokenizer()\n",
    "\n",
    "# Creamos algunos documentos\n",
    "docs = ['The teacher rocks like a good rock & roll',\n",
    "        'the rock is the best actor in the world',\n",
    "        'New York is a beautiful city']\n",
    "\n",
    "# Obtenemos el token del primer documento\n",
    "[tokenizador(doc) for doc in docs]"
   ]
  },
  {
   "cell_type": "code",
   "execution_count": 5,
   "metadata": {
    "cell_id": "00018-03a0f079-19df-42cb-b3b9-863a9e2ecb7a",
    "deepnote_cell_height": 192.5625,
    "deepnote_cell_type": "code",
    "deepnote_output_heights": [
     59.5625
    ],
    "deepnote_to_be_reexecuted": false,
    "execution_millis": 13,
    "execution_start": 1637346927213,
    "source_hash": "2503a9b4",
    "tags": []
   },
   "outputs": [
    {
     "data": {
      "text/plain": [
       "[['The', 'teacher', 'rocks', 'like', 'a', 'good', 'rock', '&', 'roll'],\n",
       " ['the', 'rock', 'is', 'the', 'best', 'actor', 'in', 'the', 'world'],\n",
       " ['New', 'York', 'is', 'a', 'beautiful', 'city']]"
      ]
     },
     "execution_count": 5,
     "metadata": {},
     "output_type": "execute_result"
    }
   ],
   "source": [
    "# Comparación con el caso anterior\n",
    "docs_tokenizados = [word_tokenize(doc) for doc in docs]\n",
    "docs_tokenizados"
   ]
  },
  {
   "cell_type": "markdown",
   "metadata": {
    "cell_id": "00019-3f862033-7b4e-4623-b17f-545b988af69b",
    "deepnote_cell_height": 110.78125,
    "deepnote_cell_type": "markdown",
    "tags": []
   },
   "source": [
    "#### Al Estilo Scikit\n",
    "\n",
    "Scikit implementa `bag of words` a través de la clase `CountVectorizer()` la cual contiene muchas opciones para mejorar la tokenización."
   ]
  },
  {
   "cell_type": "code",
   "execution_count": 11,
   "metadata": {
    "cell_id": "00020-721a6ba0-0990-4436-9de5-4b4b53c5ff79",
    "deepnote_cell_height": 270,
    "deepnote_cell_type": "code",
    "deepnote_output_heights": [
     119
    ],
    "deepnote_to_be_reexecuted": false,
    "execution_millis": 152,
    "execution_start": 1637346927803,
    "source_hash": "2bc7124d",
    "tags": []
   },
   "outputs": [
    {
     "data": {
      "text/html": [
       "<div>\n",
       "<style scoped>\n",
       "    .dataframe tbody tr th:only-of-type {\n",
       "        vertical-align: middle;\n",
       "    }\n",
       "\n",
       "    .dataframe tbody tr th {\n",
       "        vertical-align: top;\n",
       "    }\n",
       "\n",
       "    .dataframe thead th {\n",
       "        text-align: right;\n",
       "    }\n",
       "</style>\n",
       "<table border=\"1\" class=\"dataframe\">\n",
       "  <thead>\n",
       "    <tr style=\"text-align: right;\">\n",
       "      <th></th>\n",
       "      <th>&amp;</th>\n",
       "      <th>actor</th>\n",
       "      <th>beauti</th>\n",
       "      <th>best</th>\n",
       "      <th>citi</th>\n",
       "      <th>good</th>\n",
       "      <th>in</th>\n",
       "      <th>is</th>\n",
       "      <th>like</th>\n",
       "      <th>new</th>\n",
       "      <th>rock</th>\n",
       "      <th>roll</th>\n",
       "      <th>teacher</th>\n",
       "      <th>the</th>\n",
       "      <th>world</th>\n",
       "      <th>york</th>\n",
       "    </tr>\n",
       "  </thead>\n",
       "  <tbody>\n",
       "    <tr>\n",
       "      <th>0</th>\n",
       "      <td>1</td>\n",
       "      <td>0</td>\n",
       "      <td>0</td>\n",
       "      <td>0</td>\n",
       "      <td>0</td>\n",
       "      <td>1</td>\n",
       "      <td>0</td>\n",
       "      <td>0</td>\n",
       "      <td>1</td>\n",
       "      <td>0</td>\n",
       "      <td>2</td>\n",
       "      <td>1</td>\n",
       "      <td>1</td>\n",
       "      <td>1</td>\n",
       "      <td>0</td>\n",
       "      <td>0</td>\n",
       "    </tr>\n",
       "    <tr>\n",
       "      <th>1</th>\n",
       "      <td>0</td>\n",
       "      <td>1</td>\n",
       "      <td>0</td>\n",
       "      <td>1</td>\n",
       "      <td>0</td>\n",
       "      <td>0</td>\n",
       "      <td>1</td>\n",
       "      <td>1</td>\n",
       "      <td>0</td>\n",
       "      <td>0</td>\n",
       "      <td>1</td>\n",
       "      <td>0</td>\n",
       "      <td>0</td>\n",
       "      <td>3</td>\n",
       "      <td>1</td>\n",
       "      <td>0</td>\n",
       "    </tr>\n",
       "    <tr>\n",
       "      <th>2</th>\n",
       "      <td>0</td>\n",
       "      <td>0</td>\n",
       "      <td>1</td>\n",
       "      <td>0</td>\n",
       "      <td>1</td>\n",
       "      <td>0</td>\n",
       "      <td>0</td>\n",
       "      <td>1</td>\n",
       "      <td>0</td>\n",
       "      <td>1</td>\n",
       "      <td>0</td>\n",
       "      <td>0</td>\n",
       "      <td>0</td>\n",
       "      <td>0</td>\n",
       "      <td>0</td>\n",
       "      <td>1</td>\n",
       "    </tr>\n",
       "  </tbody>\n",
       "</table>\n",
       "</div>"
      ],
      "text/plain": [
       "   &  actor  beauti  best  citi  good  in  is  like  new  rock  roll  teacher  \\\n",
       "0  1      0       0     0     0     1   0   0     1    0     2     1        1   \n",
       "1  0      1       0     1     0     0   1   1     0    0     1     0        0   \n",
       "2  0      0       1     0     1     0   0   1     0    1     0     0        0   \n",
       "\n",
       "   the  world  york  \n",
       "0    1      0     0  \n",
       "1    3      1     0  \n",
       "2    0      0     1  "
      ]
     },
     "execution_count": 11,
     "metadata": {},
     "output_type": "execute_result"
    }
   ],
   "source": [
    "bow = CountVectorizer(tokenizer= StemmerTokenizer())\n",
    "df = bow.fit_transform(docs)\n",
    "\n",
    "pd.DataFrame(df.toarray(), columns=bow.get_feature_names_out())"
   ]
  },
  {
   "cell_type": "markdown",
   "metadata": {
    "cell_id": "00021-b3e721d0-6b1f-4f91-aef8-7b04028286fe",
    "deepnote_cell_height": 155.953125,
    "deepnote_cell_type": "markdown",
    "tags": []
   },
   "source": [
    "Una de las cosas más interesantes que provee son el use de n-gramas, los cuales, en palabras simples, son conjuntos de n-palabras que se concatenan entre si y que se consideran como tokens separados. \n",
    "\n",
    "Pensemos en `Nueva York`. Cuando se tokeniza Nueva York, se generan dos tokens independientes que a simple vista no tienen relación: `Nueva` `York`.\n",
    "Al usar n-gramas (en un rango min=1,max=2) , generamos tanto `Nueva` y `York` como también `Nueva York` como un token independiente."
   ]
  },
  {
   "cell_type": "code",
   "execution_count": 12,
   "metadata": {
    "cell_id": "00022-a7abf0fb-cbf2-4745-a96a-dcad9d4bc00f",
    "deepnote_cell_height": 301.1875,
    "deepnote_cell_type": "code",
    "deepnote_output_heights": [
     150.1875
    ],
    "deepnote_to_be_reexecuted": false,
    "execution_millis": 241,
    "execution_start": 1637346930092,
    "source_hash": "6af25c7e",
    "tags": []
   },
   "outputs": [
    {
     "name": "stdout",
     "output_type": "stream",
     "text": [
      "[[1 1 0 0 0 0 0 0 0 1 1 0 0 0 0 0 1 1 0 0 2 1 0 1 1 1 1 1 0 0 1 0 0 0 0]\n",
      " [0 0 1 1 0 0 1 1 0 0 0 1 1 1 0 1 0 0 0 0 1 0 1 0 0 0 0 3 1 1 0 1 1 0 0]\n",
      " [0 0 0 0 1 1 0 0 1 0 0 0 0 1 1 0 0 0 1 1 0 0 0 0 0 0 0 0 0 0 0 0 0 1 1]]\n"
     ]
    },
    {
     "data": {
      "text/html": [
       "<div>\n",
       "<style scoped>\n",
       "    .dataframe tbody tr th:only-of-type {\n",
       "        vertical-align: middle;\n",
       "    }\n",
       "\n",
       "    .dataframe tbody tr th {\n",
       "        vertical-align: top;\n",
       "    }\n",
       "\n",
       "    .dataframe thead th {\n",
       "        text-align: right;\n",
       "    }\n",
       "</style>\n",
       "<table border=\"1\" class=\"dataframe\">\n",
       "  <thead>\n",
       "    <tr style=\"text-align: right;\">\n",
       "      <th></th>\n",
       "      <th>&amp;</th>\n",
       "      <th>&amp; roll</th>\n",
       "      <th>actor</th>\n",
       "      <th>actor in</th>\n",
       "      <th>beauti</th>\n",
       "      <th>beauti citi</th>\n",
       "      <th>best</th>\n",
       "      <th>best actor</th>\n",
       "      <th>citi</th>\n",
       "      <th>good</th>\n",
       "      <th>...</th>\n",
       "      <th>teacher</th>\n",
       "      <th>teacher rock</th>\n",
       "      <th>the</th>\n",
       "      <th>the best</th>\n",
       "      <th>the rock</th>\n",
       "      <th>the teacher</th>\n",
       "      <th>the world</th>\n",
       "      <th>world</th>\n",
       "      <th>york</th>\n",
       "      <th>york is</th>\n",
       "    </tr>\n",
       "  </thead>\n",
       "  <tbody>\n",
       "    <tr>\n",
       "      <th>0</th>\n",
       "      <td>1</td>\n",
       "      <td>1</td>\n",
       "      <td>0</td>\n",
       "      <td>0</td>\n",
       "      <td>0</td>\n",
       "      <td>0</td>\n",
       "      <td>0</td>\n",
       "      <td>0</td>\n",
       "      <td>0</td>\n",
       "      <td>1</td>\n",
       "      <td>...</td>\n",
       "      <td>1</td>\n",
       "      <td>1</td>\n",
       "      <td>1</td>\n",
       "      <td>0</td>\n",
       "      <td>0</td>\n",
       "      <td>1</td>\n",
       "      <td>0</td>\n",
       "      <td>0</td>\n",
       "      <td>0</td>\n",
       "      <td>0</td>\n",
       "    </tr>\n",
       "    <tr>\n",
       "      <th>1</th>\n",
       "      <td>0</td>\n",
       "      <td>0</td>\n",
       "      <td>1</td>\n",
       "      <td>1</td>\n",
       "      <td>0</td>\n",
       "      <td>0</td>\n",
       "      <td>1</td>\n",
       "      <td>1</td>\n",
       "      <td>0</td>\n",
       "      <td>0</td>\n",
       "      <td>...</td>\n",
       "      <td>0</td>\n",
       "      <td>0</td>\n",
       "      <td>3</td>\n",
       "      <td>1</td>\n",
       "      <td>1</td>\n",
       "      <td>0</td>\n",
       "      <td>1</td>\n",
       "      <td>1</td>\n",
       "      <td>0</td>\n",
       "      <td>0</td>\n",
       "    </tr>\n",
       "    <tr>\n",
       "      <th>2</th>\n",
       "      <td>0</td>\n",
       "      <td>0</td>\n",
       "      <td>0</td>\n",
       "      <td>0</td>\n",
       "      <td>1</td>\n",
       "      <td>1</td>\n",
       "      <td>0</td>\n",
       "      <td>0</td>\n",
       "      <td>1</td>\n",
       "      <td>0</td>\n",
       "      <td>...</td>\n",
       "      <td>0</td>\n",
       "      <td>0</td>\n",
       "      <td>0</td>\n",
       "      <td>0</td>\n",
       "      <td>0</td>\n",
       "      <td>0</td>\n",
       "      <td>0</td>\n",
       "      <td>0</td>\n",
       "      <td>1</td>\n",
       "      <td>1</td>\n",
       "    </tr>\n",
       "  </tbody>\n",
       "</table>\n",
       "<p>3 rows × 35 columns</p>\n",
       "</div>"
      ],
      "text/plain": [
       "   &  & roll  actor  actor in  beauti  beauti citi  best  best actor  citi  \\\n",
       "0  1       1      0         0       0            0     0           0     0   \n",
       "1  0       0      1         1       0            0     1           1     0   \n",
       "2  0       0      0         0       1            1     0           0     1   \n",
       "\n",
       "   good  ...  teacher  teacher rock  the  the best  the rock  the teacher  \\\n",
       "0     1  ...        1             1    1         0         0            1   \n",
       "1     0  ...        0             0    3         1         1            0   \n",
       "2     0  ...        0             0    0         0         0            0   \n",
       "\n",
       "   the world  world  york  york is  \n",
       "0          0      0     0        0  \n",
       "1          1      1     0        0  \n",
       "2          0      0     1        1  \n",
       "\n",
       "[3 rows x 35 columns]"
      ]
     },
     "execution_count": 12,
     "metadata": {},
     "output_type": "execute_result"
    }
   ],
   "source": [
    "bow = CountVectorizer(tokenizer= StemmerTokenizer(), ngram_range=(1,2))\n",
    "df = bow.fit_transform(docs)\n",
    "print(df.toarray())\n",
    "pd.DataFrame(df.toarray(), columns=bow.get_feature_names_out())"
   ]
  },
  {
   "cell_type": "markdown",
   "metadata": {
    "cell_id": "00023-55bca23d-f3d4-4f39-ae9d-e8810b522c79",
    "deepnote_cell_height": 97.171875,
    "deepnote_cell_type": "markdown",
    "tags": []
   },
   "source": [
    "De los resultados, podemos ver que generamos vectores de conteo para cada una de las palabras que conforman el corpus.  Un punto extra que se agrega en esta obtención de frecuencias son los bigramas, que básicamente son el conjunto de palabras de tamaño de aparecen juntas en el texto."
   ]
  },
  {
   "cell_type": "markdown",
   "metadata": {
    "cell_id": "00024-231f49a8-163f-457d-b933-9e5dad0e1e29",
    "deepnote_cell_height": 547,
    "deepnote_cell_type": "markdown",
    "tags": []
   },
   "source": [
    "## Codificando los Super{heroes, villanos}  [0.5 Puntos]\n",
    "\n",
    "<p align=\"center\">\n",
    "  <img src=\"https://c.tenor.com/LkQzw7k5DV4AAAAd/anime-hacking.gif\" width=\"300\">\n",
    "</p>\n",
    "\n",
    "Conociendo ahora que es el proceso de `bag of words`, aplique este modelo de obtención de caracteristicas de la siguiente forma en un pipeline:\n",
    "\n",
    "- Utilice el tokenizador entregado.\n",
    "- Obtenga caracteristicas de los unigramas y bigramas del texto (tal como el ejemplo).\n",
    "\n",
    "```python\n",
    "bog = CountVectorizer(tokenizer= StemmerTokenizer(),`\n",
    "                      ngram_range=(1,2) # Este punto es opcional y es para generar bigramas\n",
    "                      )\n",
    "```"
   ]
  },
  {
   "cell_type": "markdown",
   "metadata": {
    "cell_id": "00025-145bb273-d73c-4ad1-8b84-46327add3a2e",
    "deepnote_cell_height": 332.90625,
    "deepnote_cell_type": "markdown",
    "tags": []
   },
   "source": [
    "Finalmente, aplique `MinMaxScaler()` sobre `atributos_de_interes` y concatene el valor obtenido con el matriz de caracteristicas obtenidas con bag of words.\n",
    "\n",
    "```python\n",
    "atributos_de_interes = ['intelligence_score', 'strength_score', 'speed_score', 'durability_score', 'power_score', 'combat_score']\n",
    "```\n",
    "\n",
    "No es necesario que obtenga un dataframe en concreto con las características solicitadas. Se le recomienda generar un `ColumnTransformer()` para aplicar las transformaciones solicitadas en un pipeline.\n",
    "\n",
    "**To-Do:**\n",
    "- [X] Obtener a traves de Bag of Words (`CountVectorizer`) caracteristicas del resumen de historia de cada personaje.\n",
    "- [X] Aplicar `MinMaxScaler` sobre los atributos de interes."
   ]
  },
  {
   "cell_type": "markdown",
   "metadata": {
    "cell_id": "00026-b13521a0-adf9-4c19-893e-ba6ed644ca12",
    "deepnote_cell_height": 52.390625,
    "deepnote_cell_type": "markdown",
    "tags": []
   },
   "source": [
    "**Respuesta:**"
   ]
  },
  {
   "cell_type": "code",
   "execution_count": 13,
   "metadata": {},
   "outputs": [
    {
     "data": {
      "text/html": [
       "<div>\n",
       "<style scoped>\n",
       "    .dataframe tbody tr th:only-of-type {\n",
       "        vertical-align: middle;\n",
       "    }\n",
       "\n",
       "    .dataframe tbody tr th {\n",
       "        vertical-align: top;\n",
       "    }\n",
       "\n",
       "    .dataframe thead th {\n",
       "        text-align: right;\n",
       "    }\n",
       "</style>\n",
       "<table border=\"1\" class=\"dataframe\">\n",
       "  <thead>\n",
       "    <tr style=\"text-align: right;\">\n",
       "      <th></th>\n",
       "      <th>0</th>\n",
       "      <th>1</th>\n",
       "      <th>2</th>\n",
       "      <th>3</th>\n",
       "      <th>4</th>\n",
       "      <th>5</th>\n",
       "      <th>6</th>\n",
       "      <th>7</th>\n",
       "      <th>8</th>\n",
       "      <th>9</th>\n",
       "      <th>...</th>\n",
       "      <th>307707</th>\n",
       "      <th>307708</th>\n",
       "      <th>307709</th>\n",
       "      <th>307710</th>\n",
       "      <th>307711</th>\n",
       "      <th>307712</th>\n",
       "      <th>307713</th>\n",
       "      <th>307714</th>\n",
       "      <th>307715</th>\n",
       "      <th>307716</th>\n",
       "    </tr>\n",
       "  </thead>\n",
       "  <tbody>\n",
       "    <tr>\n",
       "      <th>0</th>\n",
       "      <td>0.0</td>\n",
       "      <td>0.0</td>\n",
       "      <td>0.0</td>\n",
       "      <td>0.0</td>\n",
       "      <td>0.0</td>\n",
       "      <td>0.0</td>\n",
       "      <td>0.0</td>\n",
       "      <td>0.0</td>\n",
       "      <td>0.0</td>\n",
       "      <td>0.0</td>\n",
       "      <td>...</td>\n",
       "      <td>0.0</td>\n",
       "      <td>0.0</td>\n",
       "      <td>0.0</td>\n",
       "      <td>0.0</td>\n",
       "      <td>0.85</td>\n",
       "      <td>0.3</td>\n",
       "      <td>0.60</td>\n",
       "      <td>0.60</td>\n",
       "      <td>0.40</td>\n",
       "      <td>0.70</td>\n",
       "    </tr>\n",
       "    <tr>\n",
       "      <th>1</th>\n",
       "      <td>0.0</td>\n",
       "      <td>0.0</td>\n",
       "      <td>0.0</td>\n",
       "      <td>0.0</td>\n",
       "      <td>0.0</td>\n",
       "      <td>0.0</td>\n",
       "      <td>0.0</td>\n",
       "      <td>0.0</td>\n",
       "      <td>0.0</td>\n",
       "      <td>0.0</td>\n",
       "      <td>...</td>\n",
       "      <td>0.0</td>\n",
       "      <td>0.0</td>\n",
       "      <td>0.0</td>\n",
       "      <td>0.0</td>\n",
       "      <td>0.80</td>\n",
       "      <td>1.0</td>\n",
       "      <td>0.80</td>\n",
       "      <td>1.00</td>\n",
       "      <td>1.00</td>\n",
       "      <td>0.80</td>\n",
       "    </tr>\n",
       "    <tr>\n",
       "      <th>2</th>\n",
       "      <td>0.0</td>\n",
       "      <td>0.0</td>\n",
       "      <td>0.0</td>\n",
       "      <td>0.0</td>\n",
       "      <td>0.0</td>\n",
       "      <td>0.0</td>\n",
       "      <td>0.0</td>\n",
       "      <td>0.0</td>\n",
       "      <td>0.0</td>\n",
       "      <td>0.0</td>\n",
       "      <td>...</td>\n",
       "      <td>0.0</td>\n",
       "      <td>0.0</td>\n",
       "      <td>0.0</td>\n",
       "      <td>0.0</td>\n",
       "      <td>0.80</td>\n",
       "      <td>0.5</td>\n",
       "      <td>0.55</td>\n",
       "      <td>0.45</td>\n",
       "      <td>1.00</td>\n",
       "      <td>0.55</td>\n",
       "    </tr>\n",
       "    <tr>\n",
       "      <th>3</th>\n",
       "      <td>0.0</td>\n",
       "      <td>0.0</td>\n",
       "      <td>0.0</td>\n",
       "      <td>0.0</td>\n",
       "      <td>0.0</td>\n",
       "      <td>0.0</td>\n",
       "      <td>0.0</td>\n",
       "      <td>0.0</td>\n",
       "      <td>0.0</td>\n",
       "      <td>0.0</td>\n",
       "      <td>...</td>\n",
       "      <td>0.0</td>\n",
       "      <td>0.0</td>\n",
       "      <td>0.0</td>\n",
       "      <td>0.0</td>\n",
       "      <td>0.80</td>\n",
       "      <td>0.1</td>\n",
       "      <td>0.25</td>\n",
       "      <td>0.40</td>\n",
       "      <td>0.30</td>\n",
       "      <td>0.50</td>\n",
       "    </tr>\n",
       "    <tr>\n",
       "      <th>4</th>\n",
       "      <td>0.0</td>\n",
       "      <td>0.0</td>\n",
       "      <td>0.0</td>\n",
       "      <td>0.0</td>\n",
       "      <td>0.0</td>\n",
       "      <td>0.0</td>\n",
       "      <td>0.0</td>\n",
       "      <td>0.0</td>\n",
       "      <td>0.0</td>\n",
       "      <td>0.0</td>\n",
       "      <td>...</td>\n",
       "      <td>0.0</td>\n",
       "      <td>0.0</td>\n",
       "      <td>0.0</td>\n",
       "      <td>0.0</td>\n",
       "      <td>0.90</td>\n",
       "      <td>0.4</td>\n",
       "      <td>0.45</td>\n",
       "      <td>0.55</td>\n",
       "      <td>0.55</td>\n",
       "      <td>0.85</td>\n",
       "    </tr>\n",
       "    <tr>\n",
       "      <th>...</th>\n",
       "      <td>...</td>\n",
       "      <td>...</td>\n",
       "      <td>...</td>\n",
       "      <td>...</td>\n",
       "      <td>...</td>\n",
       "      <td>...</td>\n",
       "      <td>...</td>\n",
       "      <td>...</td>\n",
       "      <td>...</td>\n",
       "      <td>...</td>\n",
       "      <td>...</td>\n",
       "      <td>...</td>\n",
       "      <td>...</td>\n",
       "      <td>...</td>\n",
       "      <td>...</td>\n",
       "      <td>...</td>\n",
       "      <td>...</td>\n",
       "      <td>...</td>\n",
       "      <td>...</td>\n",
       "      <td>...</td>\n",
       "      <td>...</td>\n",
       "    </tr>\n",
       "    <tr>\n",
       "      <th>1280</th>\n",
       "      <td>0.0</td>\n",
       "      <td>0.0</td>\n",
       "      <td>0.0</td>\n",
       "      <td>0.0</td>\n",
       "      <td>0.0</td>\n",
       "      <td>0.0</td>\n",
       "      <td>0.0</td>\n",
       "      <td>0.0</td>\n",
       "      <td>0.0</td>\n",
       "      <td>0.0</td>\n",
       "      <td>...</td>\n",
       "      <td>0.0</td>\n",
       "      <td>0.0</td>\n",
       "      <td>0.0</td>\n",
       "      <td>0.0</td>\n",
       "      <td>0.90</td>\n",
       "      <td>0.1</td>\n",
       "      <td>0.25</td>\n",
       "      <td>0.30</td>\n",
       "      <td>1.00</td>\n",
       "      <td>0.55</td>\n",
       "    </tr>\n",
       "    <tr>\n",
       "      <th>1281</th>\n",
       "      <td>1.0</td>\n",
       "      <td>0.0</td>\n",
       "      <td>1.0</td>\n",
       "      <td>0.0</td>\n",
       "      <td>0.0</td>\n",
       "      <td>0.0</td>\n",
       "      <td>0.0</td>\n",
       "      <td>0.0</td>\n",
       "      <td>0.0</td>\n",
       "      <td>0.0</td>\n",
       "      <td>...</td>\n",
       "      <td>0.0</td>\n",
       "      <td>0.0</td>\n",
       "      <td>0.0</td>\n",
       "      <td>0.0</td>\n",
       "      <td>0.80</td>\n",
       "      <td>1.0</td>\n",
       "      <td>1.00</td>\n",
       "      <td>1.00</td>\n",
       "      <td>1.00</td>\n",
       "      <td>0.80</td>\n",
       "    </tr>\n",
       "    <tr>\n",
       "      <th>1282</th>\n",
       "      <td>0.0</td>\n",
       "      <td>0.0</td>\n",
       "      <td>0.0</td>\n",
       "      <td>0.0</td>\n",
       "      <td>0.0</td>\n",
       "      <td>0.0</td>\n",
       "      <td>0.0</td>\n",
       "      <td>0.0</td>\n",
       "      <td>0.0</td>\n",
       "      <td>0.0</td>\n",
       "      <td>...</td>\n",
       "      <td>0.0</td>\n",
       "      <td>0.0</td>\n",
       "      <td>0.0</td>\n",
       "      <td>0.0</td>\n",
       "      <td>0.95</td>\n",
       "      <td>0.5</td>\n",
       "      <td>1.00</td>\n",
       "      <td>0.75</td>\n",
       "      <td>1.00</td>\n",
       "      <td>0.80</td>\n",
       "    </tr>\n",
       "    <tr>\n",
       "      <th>1283</th>\n",
       "      <td>0.0</td>\n",
       "      <td>0.0</td>\n",
       "      <td>0.0</td>\n",
       "      <td>0.0</td>\n",
       "      <td>0.0</td>\n",
       "      <td>0.0</td>\n",
       "      <td>0.0</td>\n",
       "      <td>0.0</td>\n",
       "      <td>0.0</td>\n",
       "      <td>0.0</td>\n",
       "      <td>...</td>\n",
       "      <td>0.0</td>\n",
       "      <td>0.0</td>\n",
       "      <td>0.0</td>\n",
       "      <td>0.0</td>\n",
       "      <td>0.75</td>\n",
       "      <td>0.1</td>\n",
       "      <td>1.00</td>\n",
       "      <td>0.30</td>\n",
       "      <td>1.00</td>\n",
       "      <td>0.30</td>\n",
       "    </tr>\n",
       "    <tr>\n",
       "      <th>1284</th>\n",
       "      <td>0.0</td>\n",
       "      <td>0.0</td>\n",
       "      <td>0.0</td>\n",
       "      <td>0.0</td>\n",
       "      <td>0.0</td>\n",
       "      <td>0.0</td>\n",
       "      <td>0.0</td>\n",
       "      <td>0.0</td>\n",
       "      <td>0.0</td>\n",
       "      <td>0.0</td>\n",
       "      <td>...</td>\n",
       "      <td>0.0</td>\n",
       "      <td>0.0</td>\n",
       "      <td>0.0</td>\n",
       "      <td>0.0</td>\n",
       "      <td>0.45</td>\n",
       "      <td>0.8</td>\n",
       "      <td>0.75</td>\n",
       "      <td>0.95</td>\n",
       "      <td>0.80</td>\n",
       "      <td>0.50</td>\n",
       "    </tr>\n",
       "  </tbody>\n",
       "</table>\n",
       "<p>1285 rows × 307717 columns</p>\n",
       "</div>"
      ],
      "text/plain": [
       "      0       1       2       3       4       5       6       7       8       \\\n",
       "0        0.0     0.0     0.0     0.0     0.0     0.0     0.0     0.0     0.0   \n",
       "1        0.0     0.0     0.0     0.0     0.0     0.0     0.0     0.0     0.0   \n",
       "2        0.0     0.0     0.0     0.0     0.0     0.0     0.0     0.0     0.0   \n",
       "3        0.0     0.0     0.0     0.0     0.0     0.0     0.0     0.0     0.0   \n",
       "4        0.0     0.0     0.0     0.0     0.0     0.0     0.0     0.0     0.0   \n",
       "...      ...     ...     ...     ...     ...     ...     ...     ...     ...   \n",
       "1280     0.0     0.0     0.0     0.0     0.0     0.0     0.0     0.0     0.0   \n",
       "1281     1.0     0.0     1.0     0.0     0.0     0.0     0.0     0.0     0.0   \n",
       "1282     0.0     0.0     0.0     0.0     0.0     0.0     0.0     0.0     0.0   \n",
       "1283     0.0     0.0     0.0     0.0     0.0     0.0     0.0     0.0     0.0   \n",
       "1284     0.0     0.0     0.0     0.0     0.0     0.0     0.0     0.0     0.0   \n",
       "\n",
       "      9       ...  307707  307708  307709  307710  307711  307712  307713  \\\n",
       "0        0.0  ...     0.0     0.0     0.0     0.0    0.85     0.3    0.60   \n",
       "1        0.0  ...     0.0     0.0     0.0     0.0    0.80     1.0    0.80   \n",
       "2        0.0  ...     0.0     0.0     0.0     0.0    0.80     0.5    0.55   \n",
       "3        0.0  ...     0.0     0.0     0.0     0.0    0.80     0.1    0.25   \n",
       "4        0.0  ...     0.0     0.0     0.0     0.0    0.90     0.4    0.45   \n",
       "...      ...  ...     ...     ...     ...     ...     ...     ...     ...   \n",
       "1280     0.0  ...     0.0     0.0     0.0     0.0    0.90     0.1    0.25   \n",
       "1281     0.0  ...     0.0     0.0     0.0     0.0    0.80     1.0    1.00   \n",
       "1282     0.0  ...     0.0     0.0     0.0     0.0    0.95     0.5    1.00   \n",
       "1283     0.0  ...     0.0     0.0     0.0     0.0    0.75     0.1    1.00   \n",
       "1284     0.0  ...     0.0     0.0     0.0     0.0    0.45     0.8    0.75   \n",
       "\n",
       "      307714  307715  307716  \n",
       "0       0.60    0.40    0.70  \n",
       "1       1.00    1.00    0.80  \n",
       "2       0.45    1.00    0.55  \n",
       "3       0.40    0.30    0.50  \n",
       "4       0.55    0.55    0.85  \n",
       "...      ...     ...     ...  \n",
       "1280    0.30    1.00    0.55  \n",
       "1281    1.00    1.00    0.80  \n",
       "1282    0.75    1.00    0.80  \n",
       "1283    0.30    1.00    0.30  \n",
       "1284    0.95    0.80    0.50  \n",
       "\n",
       "[1285 rows x 307717 columns]"
      ]
     },
     "metadata": {},
     "output_type": "display_data"
    }
   ],
   "source": [
    "column_transformer = ColumnTransformer(\n",
    "        transformers=[\n",
    "            ('bow', CountVectorizer(tokenizer= StemmerTokenizer(),ngram_range=(1,2)) , 'history_text'),\n",
    "            ('minmax', MinMaxScaler() , ['intelligence_score', 'strength_score', 'speed_score', 'durability_score', 'power_score', 'combat_score'])\n",
    "        ])\n",
    "pipeline_colum_transformer=Pipeline(steps=[('column_transformer', column_transformer)])\n",
    "transformed_data=pipeline_colum_transformer.fit_transform(df_comics)\n",
    "display(pd.DataFrame(transformed_data.toarray()))"
   ]
  },
  {
   "cell_type": "code",
   "execution_count": 8,
   "metadata": {
    "cell_id": "00026-898e0ee0-748d-4dac-bfc5-d72f4fe21827",
    "deepnote_cell_height": 66,
    "deepnote_cell_type": "code",
    "id": "ay080DunHcOS"
   },
   "outputs": [
    {
     "data": {
      "text/html": [
       "<div>\n",
       "<style scoped>\n",
       "    .dataframe tbody tr th:only-of-type {\n",
       "        vertical-align: middle;\n",
       "    }\n",
       "\n",
       "    .dataframe tbody tr th {\n",
       "        vertical-align: top;\n",
       "    }\n",
       "\n",
       "    .dataframe thead th {\n",
       "        text-align: right;\n",
       "    }\n",
       "</style>\n",
       "<table border=\"1\" class=\"dataframe\">\n",
       "  <thead>\n",
       "    <tr style=\"text-align: right;\">\n",
       "      <th></th>\n",
       "      <th>!</th>\n",
       "      <th>! !</th>\n",
       "      <th>! ''</th>\n",
       "      <th>! (</th>\n",
       "      <th>! )</th>\n",
       "      <th>! ,</th>\n",
       "      <th>! --</th>\n",
       "      <th>! .</th>\n",
       "      <th>! ``</th>\n",
       "      <th>! alison</th>\n",
       "      <th>...</th>\n",
       "      <th>�kick� .</th>\n",
       "      <th>�kick� and</th>\n",
       "      <th>�polic</th>\n",
       "      <th>�polic man�</th>\n",
       "      <th>�white</th>\n",
       "      <th>�white room�</th>\n",
       "      <th>�ǣmortal</th>\n",
       "      <th>�ǣmortal instruments���</th>\n",
       "      <th>��wors</th>\n",
       "      <th>��wors ,</th>\n",
       "    </tr>\n",
       "  </thead>\n",
       "  <tbody>\n",
       "    <tr>\n",
       "      <th>0</th>\n",
       "      <td>0</td>\n",
       "      <td>0</td>\n",
       "      <td>0</td>\n",
       "      <td>0</td>\n",
       "      <td>0</td>\n",
       "      <td>0</td>\n",
       "      <td>0</td>\n",
       "      <td>0</td>\n",
       "      <td>0</td>\n",
       "      <td>0</td>\n",
       "      <td>...</td>\n",
       "      <td>0</td>\n",
       "      <td>0</td>\n",
       "      <td>0</td>\n",
       "      <td>0</td>\n",
       "      <td>0</td>\n",
       "      <td>0</td>\n",
       "      <td>0</td>\n",
       "      <td>0</td>\n",
       "      <td>0</td>\n",
       "      <td>0</td>\n",
       "    </tr>\n",
       "    <tr>\n",
       "      <th>1</th>\n",
       "      <td>0</td>\n",
       "      <td>0</td>\n",
       "      <td>0</td>\n",
       "      <td>0</td>\n",
       "      <td>0</td>\n",
       "      <td>0</td>\n",
       "      <td>0</td>\n",
       "      <td>0</td>\n",
       "      <td>0</td>\n",
       "      <td>0</td>\n",
       "      <td>...</td>\n",
       "      <td>0</td>\n",
       "      <td>0</td>\n",
       "      <td>0</td>\n",
       "      <td>0</td>\n",
       "      <td>0</td>\n",
       "      <td>0</td>\n",
       "      <td>0</td>\n",
       "      <td>0</td>\n",
       "      <td>0</td>\n",
       "      <td>0</td>\n",
       "    </tr>\n",
       "    <tr>\n",
       "      <th>2</th>\n",
       "      <td>0</td>\n",
       "      <td>0</td>\n",
       "      <td>0</td>\n",
       "      <td>0</td>\n",
       "      <td>0</td>\n",
       "      <td>0</td>\n",
       "      <td>0</td>\n",
       "      <td>0</td>\n",
       "      <td>0</td>\n",
       "      <td>0</td>\n",
       "      <td>...</td>\n",
       "      <td>0</td>\n",
       "      <td>0</td>\n",
       "      <td>0</td>\n",
       "      <td>0</td>\n",
       "      <td>0</td>\n",
       "      <td>0</td>\n",
       "      <td>0</td>\n",
       "      <td>0</td>\n",
       "      <td>0</td>\n",
       "      <td>0</td>\n",
       "    </tr>\n",
       "    <tr>\n",
       "      <th>3</th>\n",
       "      <td>0</td>\n",
       "      <td>0</td>\n",
       "      <td>0</td>\n",
       "      <td>0</td>\n",
       "      <td>0</td>\n",
       "      <td>0</td>\n",
       "      <td>0</td>\n",
       "      <td>0</td>\n",
       "      <td>0</td>\n",
       "      <td>0</td>\n",
       "      <td>...</td>\n",
       "      <td>0</td>\n",
       "      <td>0</td>\n",
       "      <td>0</td>\n",
       "      <td>0</td>\n",
       "      <td>0</td>\n",
       "      <td>0</td>\n",
       "      <td>0</td>\n",
       "      <td>0</td>\n",
       "      <td>0</td>\n",
       "      <td>0</td>\n",
       "    </tr>\n",
       "    <tr>\n",
       "      <th>4</th>\n",
       "      <td>0</td>\n",
       "      <td>0</td>\n",
       "      <td>0</td>\n",
       "      <td>0</td>\n",
       "      <td>0</td>\n",
       "      <td>0</td>\n",
       "      <td>0</td>\n",
       "      <td>0</td>\n",
       "      <td>0</td>\n",
       "      <td>0</td>\n",
       "      <td>...</td>\n",
       "      <td>0</td>\n",
       "      <td>0</td>\n",
       "      <td>0</td>\n",
       "      <td>0</td>\n",
       "      <td>0</td>\n",
       "      <td>0</td>\n",
       "      <td>0</td>\n",
       "      <td>0</td>\n",
       "      <td>0</td>\n",
       "      <td>0</td>\n",
       "    </tr>\n",
       "    <tr>\n",
       "      <th>...</th>\n",
       "      <td>...</td>\n",
       "      <td>...</td>\n",
       "      <td>...</td>\n",
       "      <td>...</td>\n",
       "      <td>...</td>\n",
       "      <td>...</td>\n",
       "      <td>...</td>\n",
       "      <td>...</td>\n",
       "      <td>...</td>\n",
       "      <td>...</td>\n",
       "      <td>...</td>\n",
       "      <td>...</td>\n",
       "      <td>...</td>\n",
       "      <td>...</td>\n",
       "      <td>...</td>\n",
       "      <td>...</td>\n",
       "      <td>...</td>\n",
       "      <td>...</td>\n",
       "      <td>...</td>\n",
       "      <td>...</td>\n",
       "      <td>...</td>\n",
       "    </tr>\n",
       "    <tr>\n",
       "      <th>1280</th>\n",
       "      <td>0</td>\n",
       "      <td>0</td>\n",
       "      <td>0</td>\n",
       "      <td>0</td>\n",
       "      <td>0</td>\n",
       "      <td>0</td>\n",
       "      <td>0</td>\n",
       "      <td>0</td>\n",
       "      <td>0</td>\n",
       "      <td>0</td>\n",
       "      <td>...</td>\n",
       "      <td>0</td>\n",
       "      <td>0</td>\n",
       "      <td>0</td>\n",
       "      <td>0</td>\n",
       "      <td>0</td>\n",
       "      <td>0</td>\n",
       "      <td>0</td>\n",
       "      <td>0</td>\n",
       "      <td>0</td>\n",
       "      <td>0</td>\n",
       "    </tr>\n",
       "    <tr>\n",
       "      <th>1281</th>\n",
       "      <td>1</td>\n",
       "      <td>0</td>\n",
       "      <td>1</td>\n",
       "      <td>0</td>\n",
       "      <td>0</td>\n",
       "      <td>0</td>\n",
       "      <td>0</td>\n",
       "      <td>0</td>\n",
       "      <td>0</td>\n",
       "      <td>0</td>\n",
       "      <td>...</td>\n",
       "      <td>0</td>\n",
       "      <td>0</td>\n",
       "      <td>0</td>\n",
       "      <td>0</td>\n",
       "      <td>0</td>\n",
       "      <td>0</td>\n",
       "      <td>0</td>\n",
       "      <td>0</td>\n",
       "      <td>0</td>\n",
       "      <td>0</td>\n",
       "    </tr>\n",
       "    <tr>\n",
       "      <th>1282</th>\n",
       "      <td>0</td>\n",
       "      <td>0</td>\n",
       "      <td>0</td>\n",
       "      <td>0</td>\n",
       "      <td>0</td>\n",
       "      <td>0</td>\n",
       "      <td>0</td>\n",
       "      <td>0</td>\n",
       "      <td>0</td>\n",
       "      <td>0</td>\n",
       "      <td>...</td>\n",
       "      <td>0</td>\n",
       "      <td>0</td>\n",
       "      <td>0</td>\n",
       "      <td>0</td>\n",
       "      <td>0</td>\n",
       "      <td>0</td>\n",
       "      <td>0</td>\n",
       "      <td>0</td>\n",
       "      <td>0</td>\n",
       "      <td>0</td>\n",
       "    </tr>\n",
       "    <tr>\n",
       "      <th>1283</th>\n",
       "      <td>0</td>\n",
       "      <td>0</td>\n",
       "      <td>0</td>\n",
       "      <td>0</td>\n",
       "      <td>0</td>\n",
       "      <td>0</td>\n",
       "      <td>0</td>\n",
       "      <td>0</td>\n",
       "      <td>0</td>\n",
       "      <td>0</td>\n",
       "      <td>...</td>\n",
       "      <td>0</td>\n",
       "      <td>0</td>\n",
       "      <td>0</td>\n",
       "      <td>0</td>\n",
       "      <td>0</td>\n",
       "      <td>0</td>\n",
       "      <td>0</td>\n",
       "      <td>0</td>\n",
       "      <td>0</td>\n",
       "      <td>0</td>\n",
       "    </tr>\n",
       "    <tr>\n",
       "      <th>1284</th>\n",
       "      <td>0</td>\n",
       "      <td>0</td>\n",
       "      <td>0</td>\n",
       "      <td>0</td>\n",
       "      <td>0</td>\n",
       "      <td>0</td>\n",
       "      <td>0</td>\n",
       "      <td>0</td>\n",
       "      <td>0</td>\n",
       "      <td>0</td>\n",
       "      <td>...</td>\n",
       "      <td>0</td>\n",
       "      <td>0</td>\n",
       "      <td>0</td>\n",
       "      <td>0</td>\n",
       "      <td>0</td>\n",
       "      <td>0</td>\n",
       "      <td>0</td>\n",
       "      <td>0</td>\n",
       "      <td>0</td>\n",
       "      <td>0</td>\n",
       "    </tr>\n",
       "  </tbody>\n",
       "</table>\n",
       "<p>1285 rows × 307711 columns</p>\n",
       "</div>"
      ],
      "text/plain": [
       "      !  ! !  ! ''  ! (  ! )  ! ,  ! --  ! .  ! ``  ! alison  ...  �kick� .  \\\n",
       "0     0    0     0    0    0    0     0    0     0         0  ...         0   \n",
       "1     0    0     0    0    0    0     0    0     0         0  ...         0   \n",
       "2     0    0     0    0    0    0     0    0     0         0  ...         0   \n",
       "3     0    0     0    0    0    0     0    0     0         0  ...         0   \n",
       "4     0    0     0    0    0    0     0    0     0         0  ...         0   \n",
       "...  ..  ...   ...  ...  ...  ...   ...  ...   ...       ...  ...       ...   \n",
       "1280  0    0     0    0    0    0     0    0     0         0  ...         0   \n",
       "1281  1    0     1    0    0    0     0    0     0         0  ...         0   \n",
       "1282  0    0     0    0    0    0     0    0     0         0  ...         0   \n",
       "1283  0    0     0    0    0    0     0    0     0         0  ...         0   \n",
       "1284  0    0     0    0    0    0     0    0     0         0  ...         0   \n",
       "\n",
       "      �kick� and  �polic  �polic man�  �white  �white room�  �ǣmortal  \\\n",
       "0              0       0            0       0             0         0   \n",
       "1              0       0            0       0             0         0   \n",
       "2              0       0            0       0             0         0   \n",
       "3              0       0            0       0             0         0   \n",
       "4              0       0            0       0             0         0   \n",
       "...          ...     ...          ...     ...           ...       ...   \n",
       "1280           0       0            0       0             0         0   \n",
       "1281           0       0            0       0             0         0   \n",
       "1282           0       0            0       0             0         0   \n",
       "1283           0       0            0       0             0         0   \n",
       "1284           0       0            0       0             0         0   \n",
       "\n",
       "      �ǣmortal instruments���  ��wors  ��wors ,  \n",
       "0                           0       0         0  \n",
       "1                           0       0         0  \n",
       "2                           0       0         0  \n",
       "3                           0       0         0  \n",
       "4                           0       0         0  \n",
       "...                       ...     ...       ...  \n",
       "1280                        0       0         0  \n",
       "1281                        0       0         0  \n",
       "1282                        0       0         0  \n",
       "1283                        0       0         0  \n",
       "1284                        0       0         0  \n",
       "\n",
       "[1285 rows x 307711 columns]"
      ]
     },
     "metadata": {},
     "output_type": "display_data"
    },
    {
     "data": {
      "text/html": [
       "<div>\n",
       "<style scoped>\n",
       "    .dataframe tbody tr th:only-of-type {\n",
       "        vertical-align: middle;\n",
       "    }\n",
       "\n",
       "    .dataframe tbody tr th {\n",
       "        vertical-align: top;\n",
       "    }\n",
       "\n",
       "    .dataframe thead th {\n",
       "        text-align: right;\n",
       "    }\n",
       "</style>\n",
       "<table border=\"1\" class=\"dataframe\">\n",
       "  <thead>\n",
       "    <tr style=\"text-align: right;\">\n",
       "      <th></th>\n",
       "      <th>intelligence_score</th>\n",
       "      <th>strength_score</th>\n",
       "      <th>speed_score</th>\n",
       "      <th>durability_score</th>\n",
       "      <th>power_score</th>\n",
       "      <th>combat_score</th>\n",
       "    </tr>\n",
       "  </thead>\n",
       "  <tbody>\n",
       "    <tr>\n",
       "      <th>0</th>\n",
       "      <td>0.85</td>\n",
       "      <td>0.3</td>\n",
       "      <td>0.60</td>\n",
       "      <td>0.60</td>\n",
       "      <td>0.40</td>\n",
       "      <td>0.70</td>\n",
       "    </tr>\n",
       "    <tr>\n",
       "      <th>1</th>\n",
       "      <td>0.80</td>\n",
       "      <td>1.0</td>\n",
       "      <td>0.80</td>\n",
       "      <td>1.00</td>\n",
       "      <td>1.00</td>\n",
       "      <td>0.80</td>\n",
       "    </tr>\n",
       "    <tr>\n",
       "      <th>2</th>\n",
       "      <td>0.80</td>\n",
       "      <td>0.5</td>\n",
       "      <td>0.55</td>\n",
       "      <td>0.45</td>\n",
       "      <td>1.00</td>\n",
       "      <td>0.55</td>\n",
       "    </tr>\n",
       "    <tr>\n",
       "      <th>3</th>\n",
       "      <td>0.80</td>\n",
       "      <td>0.1</td>\n",
       "      <td>0.25</td>\n",
       "      <td>0.40</td>\n",
       "      <td>0.30</td>\n",
       "      <td>0.50</td>\n",
       "    </tr>\n",
       "    <tr>\n",
       "      <th>4</th>\n",
       "      <td>0.90</td>\n",
       "      <td>0.4</td>\n",
       "      <td>0.45</td>\n",
       "      <td>0.55</td>\n",
       "      <td>0.55</td>\n",
       "      <td>0.85</td>\n",
       "    </tr>\n",
       "    <tr>\n",
       "      <th>...</th>\n",
       "      <td>...</td>\n",
       "      <td>...</td>\n",
       "      <td>...</td>\n",
       "      <td>...</td>\n",
       "      <td>...</td>\n",
       "      <td>...</td>\n",
       "    </tr>\n",
       "    <tr>\n",
       "      <th>1280</th>\n",
       "      <td>0.90</td>\n",
       "      <td>0.1</td>\n",
       "      <td>0.25</td>\n",
       "      <td>0.30</td>\n",
       "      <td>1.00</td>\n",
       "      <td>0.55</td>\n",
       "    </tr>\n",
       "    <tr>\n",
       "      <th>1281</th>\n",
       "      <td>0.80</td>\n",
       "      <td>1.0</td>\n",
       "      <td>1.00</td>\n",
       "      <td>1.00</td>\n",
       "      <td>1.00</td>\n",
       "      <td>0.80</td>\n",
       "    </tr>\n",
       "    <tr>\n",
       "      <th>1282</th>\n",
       "      <td>0.95</td>\n",
       "      <td>0.5</td>\n",
       "      <td>1.00</td>\n",
       "      <td>0.75</td>\n",
       "      <td>1.00</td>\n",
       "      <td>0.80</td>\n",
       "    </tr>\n",
       "    <tr>\n",
       "      <th>1283</th>\n",
       "      <td>0.75</td>\n",
       "      <td>0.1</td>\n",
       "      <td>1.00</td>\n",
       "      <td>0.30</td>\n",
       "      <td>1.00</td>\n",
       "      <td>0.30</td>\n",
       "    </tr>\n",
       "    <tr>\n",
       "      <th>1284</th>\n",
       "      <td>0.45</td>\n",
       "      <td>0.8</td>\n",
       "      <td>0.75</td>\n",
       "      <td>0.95</td>\n",
       "      <td>0.80</td>\n",
       "      <td>0.50</td>\n",
       "    </tr>\n",
       "  </tbody>\n",
       "</table>\n",
       "<p>1285 rows × 6 columns</p>\n",
       "</div>"
      ],
      "text/plain": [
       "      intelligence_score  strength_score  speed_score  durability_score  \\\n",
       "0                   0.85             0.3         0.60              0.60   \n",
       "1                   0.80             1.0         0.80              1.00   \n",
       "2                   0.80             0.5         0.55              0.45   \n",
       "3                   0.80             0.1         0.25              0.40   \n",
       "4                   0.90             0.4         0.45              0.55   \n",
       "...                  ...             ...          ...               ...   \n",
       "1280                0.90             0.1         0.25              0.30   \n",
       "1281                0.80             1.0         1.00              1.00   \n",
       "1282                0.95             0.5         1.00              0.75   \n",
       "1283                0.75             0.1         1.00              0.30   \n",
       "1284                0.45             0.8         0.75              0.95   \n",
       "\n",
       "      power_score  combat_score  \n",
       "0            0.40          0.70  \n",
       "1            1.00          0.80  \n",
       "2            1.00          0.55  \n",
       "3            0.30          0.50  \n",
       "4            0.55          0.85  \n",
       "...           ...           ...  \n",
       "1280         1.00          0.55  \n",
       "1281         1.00          0.80  \n",
       "1282         1.00          0.80  \n",
       "1283         1.00          0.30  \n",
       "1284         0.80          0.50  \n",
       "\n",
       "[1285 rows x 6 columns]"
      ]
     },
     "metadata": {},
     "output_type": "display_data"
    }
   ],
   "source": [
    "#generamos el bag of words para cada fila\n",
    "df_comics\n",
    "bow = CountVectorizer(tokenizer= StemmerTokenizer(),ngram_range=(1,2))\n",
    "bags_of_words = np.array(bow.fit_transform(df_comics['history_text']).toarray())\n",
    "bow_columns=bow.get_feature_names_out()\n",
    "bow_df=pd.DataFrame(bags_of_words, columns=bow_columns)\n",
    "display(bow_df)\n",
    "#aplicamos minmaxscaler a la los atributos de interes\n",
    "minmax_column_transformer = ColumnTransformer(\n",
    "        transformers=[\n",
    "            #('bow', CountVectorizer(tokenizer= StemmerTokenizer(),ngram_range=(1,2)) , ['history_text']),\n",
    "            ('minmax', MinMaxScaler() , ['intelligence_score', 'strength_score', 'speed_score', 'durability_score', 'power_score', 'combat_score'])\n",
    "        ])\n",
    "minmaxed_attributes = minmax_column_transformer.fit_transform(df_comics)\n",
    "minmaxed_attributes_df = pd.DataFrame(minmaxed_attributes, columns=['intelligence_score', 'strength_score', 'speed_score', 'durability_score', 'power_score', 'combat_score'])\n",
    "display(minmaxed_attributes_df)\n",
    "#join columns of bow_df and minmaxed_attributes_df\n",
    "df_transformed = pd.concat([bow_df, minmaxed_attributes_df], axis=1)\n",
    "#le aregamos el alignment\n",
    "df_transformed = pd.concat([df_transformed, df_comics[['alignment']]])\n",
    "#verificamos que se hayan sumado bien las columnas\n",
    "#assert df_transformed.shape[1] == bow_df.shape[1] + minmaxed_attributes_df.shape[1]\n",
    "display(df_transformed)\n",
    "del minmaxed_attributes"
   ]
  },
  {
   "cell_type": "markdown",
   "metadata": {
    "cell_id": "00029-0baf6cdb-9550-4717-87db-9f9900d5b276",
    "deepnote_cell_height": 317.5,
    "deepnote_cell_type": "markdown",
    "id": "stHncQ-A-j4I",
    "owner_user_id": "d50c3174-babb-4861-9c71-7e3af66458b8"
   },
   "source": [
    "## 1.2 Diseño de Baseline y  Primer Entrenamiento  [1 Puntos]\n",
    "\n",
    "\n",
    "<p align=\"center\">\n",
    "  <img src=\"https://pa1.narvii.com/6374/9eaec1b7bf9157334151452a669516f9a78b954c_hq.gif\" width=\"300\">\n",
    "</p>\n"
   ]
  },
  {
   "cell_type": "markdown",
   "metadata": {
    "cell_id": "00030-1452da19-1559-4b8b-8b73-a134157c0656",
    "deepnote_cell_height": 455.859375,
    "deepnote_cell_type": "markdown",
    "id": "NeMiptpQ_EWb"
   },
   "source": [
    "\n",
    "Genere un Pipeline con las caracteristicas solicitadas en la sección 1.1, un selector de mejores features `SelectPercentile` con métrica `f_classif` y percentile=90 y un clasificador `MultinomialNB()` por defecto.\n",
    "\n",
    "Luego, separe el conjunto de datos en un conjunto de entrenamiento y prueba, donde las etiquetas estará dado por el atributo `alignment`. \n",
    "\n",
    "Entrene el modelo y reporte el desempeño con un `classification_report`. ¿ Nos recomendaría predecir la alineación de BatCow con este clasificador?.\n",
    "\n",
    "Finalmente, compare el modelo entrenado con un modelo Dummy estratificado y responda: ¿El clasificador entrenado es mejor que el dummy que entrega respuestas al azar?\n",
    "\n",
    "**To-do:**\n",
    "- [ ] Realizar un pipeline con las caracteristicas solicitadas en 1.1, ejecutar holdout y aplicar un clasificador `MultinomialNB()`.\n",
    "- [ ] Entrenar el pipeline, calcular el `classification_report` asociado y comentar los resultados.\n",
    "- [ ] Entrenar un `DummyClassifier` con estrategia `statified`, calcular el `classification_report` asociado y comentar que implican los scores obtenidos en comparación con los resultados del baseline."
   ]
  },
  {
   "cell_type": "markdown",
   "metadata": {
    "cell_id": "00029-34f1be30-f2df-45ac-aa14-8e05dc678be9",
    "deepnote_cell_height": 52.390625,
    "deepnote_cell_type": "markdown",
    "tags": []
   },
   "source": [
    "**Respuesta:**"
   ]
  },
  {
   "cell_type": "code",
   "execution_count": 14,
   "metadata": {
    "cell_id": "00031-92f07569-b6ee-48af-be9e-70cd05cb9e5e",
    "deepnote_cell_height": 66,
    "deepnote_cell_type": "code",
    "id": "_hHpPDooPafy"
   },
   "outputs": [
    {
     "name": "stderr",
     "output_type": "stream",
     "text": [
      "/home/pablo/.local/lib/python3.10/site-packages/sklearn/utils/validation.py:1111: DataConversionWarning: A column-vector y was passed when a 1d array was expected. Please change the shape of y to (n_samples, ), for example using ravel().\n",
      "  y = column_or_1d(y, warn=True)\n"
     ]
    },
    {
     "name": "stdout",
     "output_type": "stream",
     "text": [
      "              precision    recall  f1-score   support\n",
      "\n",
      "         Bad       0.69      0.10      0.18        86\n",
      "        Good       0.60      0.99      0.74       148\n",
      "     Neutral       0.00      0.00      0.00        23\n",
      "\n",
      "    accuracy                           0.60       257\n",
      "   macro avg       0.43      0.36      0.31       257\n",
      "weighted avg       0.58      0.60      0.49       257\n",
      "\n"
     ]
    },
    {
     "name": "stderr",
     "output_type": "stream",
     "text": [
      "/home/pablo/.local/lib/python3.10/site-packages/sklearn/metrics/_classification.py:1327: UndefinedMetricWarning: Precision and F-score are ill-defined and being set to 0.0 in labels with no predicted samples. Use `zero_division` parameter to control this behavior.\n",
      "  _warn_prf(average, modifier, msg_start, len(result))\n",
      "/home/pablo/.local/lib/python3.10/site-packages/sklearn/metrics/_classification.py:1327: UndefinedMetricWarning: Precision and F-score are ill-defined and being set to 0.0 in labels with no predicted samples. Use `zero_division` parameter to control this behavior.\n",
      "  _warn_prf(average, modifier, msg_start, len(result))\n",
      "/home/pablo/.local/lib/python3.10/site-packages/sklearn/metrics/_classification.py:1327: UndefinedMetricWarning: Precision and F-score are ill-defined and being set to 0.0 in labels with no predicted samples. Use `zero_division` parameter to control this behavior.\n",
      "  _warn_prf(average, modifier, msg_start, len(result))\n"
     ]
    }
   ],
   "source": [
    "from sklearn.feature_selection import SelectPercentile, f_classif\n",
    "from sklearn.naive_bayes import MultinomialNB\n",
    "from sklearn.metrics import classification_report\n",
    "#seleccionamos las mejores features usando un SelectPercentile y un clasificador MultinomialNB\n",
    "selector = SelectPercentile(score_func=f_classif, percentile=90)\n",
    "classificador = MultinomialNB()\n",
    "# generamos un pipeline con el pipeline de la sección 1.1, selector y el clasificador\n",
    "pipeline = Pipeline(steps=[('11pipeline',pipeline_colum_transformer),('selector', selector), ('classifier', classificador)])\n",
    "#separamos df en entrenamiento y prueba\n",
    "y=df_comics[['alignment']]\n",
    "X=df_comics.drop(['alignment'], axis=1, inplace=False)\n",
    "X_train, X_test, y_train, y_test = train_test_split(X,y, test_size=0.2, random_state=42,stratify=y)\n",
    "#entrenamos el pipeline\n",
    "pipeline.fit(X_train, y_train)\n",
    "#evaluamos el pipeline usando un clasificatrion_report\n",
    "y_pred = pipeline.predict(X_test)\n",
    "print(classification_report(y_test, y_pred))\n"
   ]
  },
  {
   "cell_type": "code",
   "execution_count": 15,
   "metadata": {},
   "outputs": [
    {
     "name": "stdout",
     "output_type": "stream",
     "text": [
      "              precision    recall  f1-score   support\n",
      "\n",
      "         Bad       0.36      0.34      0.35        86\n",
      "        Good       0.57      0.60      0.58       148\n",
      "     Neutral       0.10      0.09      0.09        23\n",
      "\n",
      "    accuracy                           0.47       257\n",
      "   macro avg       0.34      0.34      0.34       257\n",
      "weighted avg       0.46      0.47      0.46       257\n",
      "\n"
     ]
    }
   ],
   "source": [
    "#creamos un Dummyclasifier y comparamos resultados\n",
    "from sklearn.dummy import DummyClassifier\n",
    "dummy_classifier = DummyClassifier(strategy='stratified')\n",
    "dummy_classifier.fit(X_train, y_train)\n",
    "y_pred = dummy_classifier.predict(X_test)\n",
    "print(classification_report(y_test, y_pred))"
   ]
  },
  {
   "cell_type": "markdown",
   "metadata": {
    "cell_id": "806813f6a2114d46a6165a97c8c483a0",
    "deepnote_cell_height": 70.796875,
    "deepnote_cell_type": "markdown",
    "tags": []
   },
   "source": [
    "```\n",
    "    Notamos que el calsificador que hicimos es mejor que el Dummy en clasificar Bad y Good, sin embargo no calsifica bien los Neutral\n",
    "```"
   ]
  },
  {
   "cell_type": "markdown",
   "metadata": {
    "cell_id": "00035-35040b90-b6b9-4e43-8eff-15b7fa897575",
    "deepnote_cell_height": 400,
    "deepnote_cell_type": "markdown",
    "id": "pfm7I2B7_rfB"
   },
   "source": [
    "## 1.3 Busqueda del Mejor Modelo con Grid Search [4 Puntos]\n",
    "\n",
    "<p align=\"center\">\n",
    "  <img src=\"https://media1.tenor.com/images/70fdfeea52a8e2e4505498c230a0d2f9/tenor.gif?itemid=5134219\" width=\"250\">\n",
    "</p>"
   ]
  },
  {
   "cell_type": "markdown",
   "metadata": {
    "cell_id": "00036-c58166cc-71f7-4fa3-94c8-c67d1145ccf1",
    "deepnote_cell_height": 859.5,
    "deepnote_cell_type": "markdown",
    "id": "14siiavzK67p"
   },
   "source": [
    "No conformes con el rendimiento obtenido en la sección 1.2, el cuerpo docente les pide que realicen un **`HalvingGridSearchCV`** con diferentes parámetros para mejorar el rendimiento de la clasificación. Para esto, se le solicita que defina:\n",
    "\n",
    "- Tres clasificadores distintos en donde varie sus parámetros. Considere usar modelos clásicos como también los basados en ensamblaje.\n",
    "- Modificar `n-gram` range del `CountVectorizer` probando `(1,1), (1,2) y (1,3)`. Examinar también los otros parámetros de CountVectorizer como por ejemplo `max_df`, `min_df`, etc... ([Documentación aquí](https://scikit-learn.org/stable/modules/generated/sklearn.feature_extraction.text.CountVectorizer.html))\n",
    "- Seleccionar las columnas que contribuyen con la mayor información para la clasificación con `SelectPercentile` en los percentiles `[20, 40, 60, 80]` (puede usar la métrica que usted quiera).\n",
    "- Reporte la mejor combinación encontrada y justifique por qué cree que es la mejor según el clasificador usado, la cantidad de columnas seleccionadas y los parámetros de CountVectorizer seleccionados por GridSearch.\n",
    "\n",
    "A continuación, un ejemplo de parametros para GridSearch para una búsqueda de 3 clasificadores distintos:\n",
    "\n",
    "```python\n",
    "params = [\n",
    "       # clasificador 1 + hiperparámetros\n",
    "       {'clf': classificator1(),\n",
    "        'clf__penalty': ['ovr'],\n",
    "       # clasificador 1 + hiperparámetros    \n",
    "       {'clf': classificator2(),\n",
    "        'clf__n_estimators': [200]},\n",
    "       # clasificador 1 + hiperparámetros\n",
    "       {'clf': classificator3(),\n",
    "        ...\n",
    "       }\n",
    "       ]\n",
    "```\n",
    "\n",
    "**Nota 1**: Puede ver los parámetros modificables aplicando el método get_params() sobre su pipeline. Ver la clase de GridSearch para mayor información sobre la sintáxis de las grillas.\n",
    "\n",
    "**Nota 2**: Recuerde inicializar los clasificadores con un random state definido.\n",
    "\n",
    "**Nota 3**: Puede usar en `HalvingGridSearchCV` el parámetro `verbose=10` para ver que GridSearch le indique el estado de su ejecución.\n",
    "\n",
    "**Nota 3:** El GridSearch puede tomar tiempos de búsqueda exorbitantes, por lo que se le recomienda no agrandar mucho el espacio de búsqueda, dejar corriendo el código y tomarse un tecito."
   ]
  },
  {
   "cell_type": "markdown",
   "metadata": {
    "cell_id": "00032-3fea06e0-a390-4ae0-8036-f5fedb6d6baf",
    "deepnote_cell_height": 52.390625,
    "deepnote_cell_type": "markdown",
    "tags": []
   },
   "source": [
    "**Respuesta:**"
   ]
  },
  {
   "cell_type": "code",
   "execution_count": 16,
   "metadata": {},
   "outputs": [
    {
     "data": {
      "text/plain": [
       "{'memory': None,\n",
       " 'steps': [('11pipeline',\n",
       "   Pipeline(steps=[('column_transformer',\n",
       "                    ColumnTransformer(transformers=[('bow',\n",
       "                                                     CountVectorizer(ngram_range=(1,\n",
       "                                                                                  2),\n",
       "                                                                     tokenizer=<__main__.StemmerTokenizer object at 0x7f79f8c48160>),\n",
       "                                                     'history_text'),\n",
       "                                                    ('minmax', MinMaxScaler(),\n",
       "                                                     ['intelligence_score',\n",
       "                                                      'strength_score',\n",
       "                                                      'speed_score',\n",
       "                                                      'durability_score',\n",
       "                                                      'power_score',\n",
       "                                                      'combat_score'])]))])),\n",
       "  ('selector', SelectPercentile(percentile=90)),\n",
       "  ('classifier', MultinomialNB())],\n",
       " 'verbose': False,\n",
       " '11pipeline': Pipeline(steps=[('column_transformer',\n",
       "                  ColumnTransformer(transformers=[('bow',\n",
       "                                                   CountVectorizer(ngram_range=(1,\n",
       "                                                                                2),\n",
       "                                                                   tokenizer=<__main__.StemmerTokenizer object at 0x7f79f8c48160>),\n",
       "                                                   'history_text'),\n",
       "                                                  ('minmax', MinMaxScaler(),\n",
       "                                                   ['intelligence_score',\n",
       "                                                    'strength_score',\n",
       "                                                    'speed_score',\n",
       "                                                    'durability_score',\n",
       "                                                    'power_score',\n",
       "                                                    'combat_score'])]))]),\n",
       " 'selector': SelectPercentile(percentile=90),\n",
       " 'classifier': MultinomialNB(),\n",
       " '11pipeline__memory': None,\n",
       " '11pipeline__steps': [('column_transformer',\n",
       "   ColumnTransformer(transformers=[('bow',\n",
       "                                    CountVectorizer(ngram_range=(1, 2),\n",
       "                                                    tokenizer=<__main__.StemmerTokenizer object at 0x7f79f8c48160>),\n",
       "                                    'history_text'),\n",
       "                                   ('minmax', MinMaxScaler(),\n",
       "                                    ['intelligence_score', 'strength_score',\n",
       "                                     'speed_score', 'durability_score',\n",
       "                                     'power_score', 'combat_score'])]))],\n",
       " '11pipeline__verbose': False,\n",
       " '11pipeline__column_transformer': ColumnTransformer(transformers=[('bow',\n",
       "                                  CountVectorizer(ngram_range=(1, 2),\n",
       "                                                  tokenizer=<__main__.StemmerTokenizer object at 0x7f79f8c48160>),\n",
       "                                  'history_text'),\n",
       "                                 ('minmax', MinMaxScaler(),\n",
       "                                  ['intelligence_score', 'strength_score',\n",
       "                                   'speed_score', 'durability_score',\n",
       "                                   'power_score', 'combat_score'])]),\n",
       " '11pipeline__column_transformer__n_jobs': None,\n",
       " '11pipeline__column_transformer__remainder': 'drop',\n",
       " '11pipeline__column_transformer__sparse_threshold': 0.3,\n",
       " '11pipeline__column_transformer__transformer_weights': None,\n",
       " '11pipeline__column_transformer__transformers': [('bow',\n",
       "   CountVectorizer(ngram_range=(1, 2),\n",
       "                   tokenizer=<__main__.StemmerTokenizer object at 0x7f79f8c48160>),\n",
       "   'history_text'),\n",
       "  ('minmax',\n",
       "   MinMaxScaler(),\n",
       "   ['intelligence_score',\n",
       "    'strength_score',\n",
       "    'speed_score',\n",
       "    'durability_score',\n",
       "    'power_score',\n",
       "    'combat_score'])],\n",
       " '11pipeline__column_transformer__verbose': False,\n",
       " '11pipeline__column_transformer__verbose_feature_names_out': True,\n",
       " '11pipeline__column_transformer__bow': CountVectorizer(ngram_range=(1, 2),\n",
       "                 tokenizer=<__main__.StemmerTokenizer object at 0x7f79f8c48160>),\n",
       " '11pipeline__column_transformer__minmax': MinMaxScaler(),\n",
       " '11pipeline__column_transformer__bow__analyzer': 'word',\n",
       " '11pipeline__column_transformer__bow__binary': False,\n",
       " '11pipeline__column_transformer__bow__decode_error': 'strict',\n",
       " '11pipeline__column_transformer__bow__dtype': numpy.int64,\n",
       " '11pipeline__column_transformer__bow__encoding': 'utf-8',\n",
       " '11pipeline__column_transformer__bow__input': 'content',\n",
       " '11pipeline__column_transformer__bow__lowercase': True,\n",
       " '11pipeline__column_transformer__bow__max_df': 1.0,\n",
       " '11pipeline__column_transformer__bow__max_features': None,\n",
       " '11pipeline__column_transformer__bow__min_df': 1,\n",
       " '11pipeline__column_transformer__bow__ngram_range': (1, 2),\n",
       " '11pipeline__column_transformer__bow__preprocessor': None,\n",
       " '11pipeline__column_transformer__bow__stop_words': None,\n",
       " '11pipeline__column_transformer__bow__strip_accents': None,\n",
       " '11pipeline__column_transformer__bow__token_pattern': '(?u)\\\\b\\\\w\\\\w+\\\\b',\n",
       " '11pipeline__column_transformer__bow__tokenizer': <__main__.StemmerTokenizer at 0x7f79f8c48160>,\n",
       " '11pipeline__column_transformer__bow__vocabulary': None,\n",
       " '11pipeline__column_transformer__minmax__clip': False,\n",
       " '11pipeline__column_transformer__minmax__copy': True,\n",
       " '11pipeline__column_transformer__minmax__feature_range': (0, 1),\n",
       " 'selector__percentile': 90,\n",
       " 'selector__score_func': <function sklearn.feature_selection._univariate_selection.f_classif(X, y)>,\n",
       " 'classifier__alpha': 1.0,\n",
       " 'classifier__class_prior': None,\n",
       " 'classifier__fit_prior': True}"
      ]
     },
     "execution_count": 16,
     "metadata": {},
     "output_type": "execute_result"
    }
   ],
   "source": [
    "#revisamos como se llaman lso parámetros\n",
    "pipeline.get_params()"
   ]
  },
  {
   "cell_type": "code",
   "execution_count": 17,
   "metadata": {
    "cell_id": "00037-8b06a200-cb7a-485a-b11b-31a3d0ee57f3",
    "deepnote_cell_height": 66,
    "deepnote_cell_type": "code",
    "id": "oNvHOHELUoIv"
   },
   "outputs": [
    {
     "name": "stdout",
     "output_type": "stream",
     "text": [
      "n_iterations: 4\n",
      "n_required_iterations: 4\n",
      "n_possible_iterations: 4\n",
      "min_resources_: 38\n",
      "max_resources_: 1028\n",
      "aggressive_elimination: False\n",
      "factor: 3\n",
      "----------\n",
      "iter: 0\n",
      "n_candidates: 36\n",
      "n_resources: 38\n",
      "Fitting 5 folds for each of 36 candidates, totalling 180 fits\n"
     ]
    },
    {
     "name": "stderr",
     "output_type": "stream",
     "text": [
      "/home/pablo/.local/lib/python3.10/site-packages/sklearn/utils/validation.py:1111: DataConversionWarning: A column-vector y was passed when a 1d array was expected. Please change the shape of y to (n_samples, ), for example using ravel().\n",
      "  y = column_or_1d(y, warn=True)\n"
     ]
    },
    {
     "name": "stdout",
     "output_type": "stream",
     "text": [
      "[CV 1/5; 1/36] START 11pipeline__column_transformer__bow__ngram_range=(1, 1), classifier=SVC(random_state=42), selector__percentile=20\n",
      "[CV 3/5; 1/36] START 11pipeline__column_transformer__bow__ngram_range=(1, 1), classifier=SVC(random_state=42), selector__percentile=20\n",
      "[CV 5/5; 1/36] START 11pipeline__column_transformer__bow__ngram_range=(1, 1), classifier=SVC(random_state=42), selector__percentile=20\n",
      "[CV 3/5; 2/36] START 11pipeline__column_transformer__bow__ngram_range=(1, 1), classifier=SVC(random_state=42), selector__percentile=40\n",
      "[CV 4/5; 1/36] START 11pipeline__column_transformer__bow__ngram_range=(1, 1), classifier=SVC(random_state=42), selector__percentile=20\n",
      "[CV 2/5; 2/36] START 11pipeline__column_transformer__bow__ngram_range=(1, 1), classifier=SVC(random_state=42), selector__percentile=40\n",
      "[CV 1/5; 2/36] START 11pipeline__column_transformer__bow__ngram_range=(1, 1), classifier=SVC(random_state=42), selector__percentile=40\n",
      "[CV 2/5; 1/36] START 11pipeline__column_transformer__bow__ngram_range=(1, 1), classifier=SVC(random_state=42), selector__percentile=20\n"
     ]
    },
    {
     "name": "stderr",
     "output_type": "stream",
     "text": [
      "/home/pablo/.local/lib/python3.10/site-packages/sklearn/utils/validation.py:1111: DataConversionWarning: A column-vector y was passed when a 1d array was expected. Please change the shape of y to (n_samples, ), for example using ravel().\n",
      "  y = column_or_1d(y, warn=True)\n",
      "/home/pablo/.local/lib/python3.10/site-packages/sklearn/utils/validation.py:1111: DataConversionWarning: A column-vector y was passed when a 1d array was expected. Please change the shape of y to (n_samples, ), for example using ravel().\n",
      "  y = column_or_1d(y, warn=True)\n",
      "/home/pablo/.local/lib/python3.10/site-packages/sklearn/utils/validation.py:1111: DataConversionWarning: A column-vector y was passed when a 1d array was expected. Please change the shape of y to (n_samples, ), for example using ravel().\n",
      "  y = column_or_1d(y, warn=True)\n",
      "/home/pablo/.local/lib/python3.10/site-packages/sklearn/utils/validation.py:1111: DataConversionWarning: A column-vector y was passed when a 1d array was expected. Please change the shape of y to (n_samples, ), for example using ravel().\n",
      "  y = column_or_1d(y, warn=True)\n",
      "/home/pablo/.local/lib/python3.10/site-packages/sklearn/utils/validation.py:1111: DataConversionWarning: A column-vector y was passed when a 1d array was expected. Please change the shape of y to (n_samples, ), for example using ravel().\n",
      "  y = column_or_1d(y, warn=True)\n"
     ]
    },
    {
     "name": "stdout",
     "output_type": "stream",
     "text": [
      "[CV 1/5; 1/36] END 11pipeline__column_transformer__bow__ngram_range=(1, 1), classifier=SVC(random_state=42), selector__percentile=20;, score=(train=0.833, test=0.714) total time=   0.4s\n",
      "[CV 4/5; 2/36] START 11pipeline__column_transformer__bow__ngram_range=(1, 1), classifier=SVC(random_state=42), selector__percentile=40\n",
      "[CV 5/5; 1/36] END 11pipeline__column_transformer__bow__ngram_range=(1, 1), classifier=SVC(random_state=42), selector__percentile=20;, score=(train=0.833, test=0.286) total time=   0.5s\n",
      "[CV 5/5; 2/36] START 11pipeline__column_transformer__bow__ngram_range=(1, 1), classifier=SVC(random_state=42), selector__percentile=40\n"
     ]
    },
    {
     "name": "stderr",
     "output_type": "stream",
     "text": [
      "/home/pablo/.local/lib/python3.10/site-packages/sklearn/utils/validation.py:1111: DataConversionWarning: A column-vector y was passed when a 1d array was expected. Please change the shape of y to (n_samples, ), for example using ravel().\n",
      "  y = column_or_1d(y, warn=True)\n",
      "/home/pablo/.local/lib/python3.10/site-packages/sklearn/utils/validation.py:1111: DataConversionWarning: A column-vector y was passed when a 1d array was expected. Please change the shape of y to (n_samples, ), for example using ravel().\n",
      "  y = column_or_1d(y, warn=True)\n",
      "/home/pablo/.local/lib/python3.10/site-packages/sklearn/utils/validation.py:1111: DataConversionWarning: A column-vector y was passed when a 1d array was expected. Please change the shape of y to (n_samples, ), for example using ravel().\n",
      "  y = column_or_1d(y, warn=True)\n"
     ]
    },
    {
     "name": "stdout",
     "output_type": "stream",
     "text": [
      "[CV 1/5; 2/36] END 11pipeline__column_transformer__bow__ngram_range=(1, 1), classifier=SVC(random_state=42), selector__percentile=40;, score=(train=0.733, test=0.714) total time=   0.5s\n",
      "[CV 1/5; 3/36] START 11pipeline__column_transformer__bow__ngram_range=(1, 1), classifier=SVC(random_state=42), selector__percentile=60\n",
      "[CV 3/5; 1/36] END 11pipeline__column_transformer__bow__ngram_range=(1, 1), classifier=SVC(random_state=42), selector__percentile=20;, score=(train=0.800, test=0.286) total time=   0.8s\n",
      "[CV 3/5; 2/36] END 11pipeline__column_transformer__bow__ngram_range=(1, 1), classifier=SVC(random_state=42), selector__percentile=40;, score=(train=0.800, test=0.429) total time=   0.7s\n",
      "[CV 2/5; 3/36] START 11pipeline__column_transformer__bow__ngram_range=(1, 1), classifier=SVC(random_state=42), selector__percentile=60\n",
      "[CV 3/5; 3/36] START 11pipeline__column_transformer__bow__ngram_range=(1, 1), classifier=SVC(random_state=42), selector__percentile=60\n"
     ]
    },
    {
     "name": "stderr",
     "output_type": "stream",
     "text": [
      "/home/pablo/.local/lib/python3.10/site-packages/sklearn/utils/validation.py:1111: DataConversionWarning: A column-vector y was passed when a 1d array was expected. Please change the shape of y to (n_samples, ), for example using ravel().\n",
      "  y = column_or_1d(y, warn=True)\n",
      "/home/pablo/.local/lib/python3.10/site-packages/sklearn/utils/validation.py:1111: DataConversionWarning: A column-vector y was passed when a 1d array was expected. Please change the shape of y to (n_samples, ), for example using ravel().\n",
      "  y = column_or_1d(y, warn=True)\n",
      "/home/pablo/.local/lib/python3.10/site-packages/sklearn/utils/validation.py:1111: DataConversionWarning: A column-vector y was passed when a 1d array was expected. Please change the shape of y to (n_samples, ), for example using ravel().\n",
      "  y = column_or_1d(y, warn=True)\n"
     ]
    },
    {
     "name": "stdout",
     "output_type": "stream",
     "text": [
      "[CV 2/5; 2/36] END 11pipeline__column_transformer__bow__ngram_range=(1, 1), classifier=SVC(random_state=42), selector__percentile=40;, score=(train=0.567, test=0.714) total time=   0.9s\n",
      "[CV 4/5; 3/36] START 11pipeline__column_transformer__bow__ngram_range=(1, 1), classifier=SVC(random_state=42), selector__percentile=60\n",
      "[CV 5/5; 2/36] END 11pipeline__column_transformer__bow__ngram_range=(1, 1), classifier=SVC(random_state=42), selector__percentile=40;, score=(train=0.867, test=0.429) total time=   0.5s\n",
      "[CV 5/5; 3/36] START 11pipeline__column_transformer__bow__ngram_range=(1, 1), classifier=SVC(random_state=42), selector__percentile=60\n",
      "[CV 2/5; 1/36] END 11pipeline__column_transformer__bow__ngram_range=(1, 1), classifier=SVC(random_state=42), selector__percentile=20;, score=(train=0.633, test=0.571) total time=   1.1s\n"
     ]
    },
    {
     "name": "stderr",
     "output_type": "stream",
     "text": [
      "/home/pablo/.local/lib/python3.10/site-packages/sklearn/utils/validation.py:1111: DataConversionWarning: A column-vector y was passed when a 1d array was expected. Please change the shape of y to (n_samples, ), for example using ravel().\n",
      "  y = column_or_1d(y, warn=True)\n",
      "/home/pablo/.local/lib/python3.10/site-packages/sklearn/utils/validation.py:1111: DataConversionWarning: A column-vector y was passed when a 1d array was expected. Please change the shape of y to (n_samples, ), for example using ravel().\n",
      "  y = column_or_1d(y, warn=True)\n"
     ]
    },
    {
     "name": "stdout",
     "output_type": "stream",
     "text": [
      "[CV 4/5; 1/36] END 11pipeline__column_transformer__bow__ngram_range=(1, 1), classifier=SVC(random_state=42), selector__percentile=20;, score=(train=0.767, test=0.429) total time=   1.0s\n",
      "[CV 1/5; 4/36] START 11pipeline__column_transformer__bow__ngram_range=(1, 1), classifier=SVC(random_state=42), selector__percentile=80\n",
      "[CV 2/5; 4/36] START 11pipeline__column_transformer__bow__ngram_range=(1, 1), classifier=SVC(random_state=42), selector__percentile=80\n",
      "[CV 1/5; 3/36] END 11pipeline__column_transformer__bow__ngram_range=(1, 1), classifier=SVC(random_state=42), selector__percentile=60;, score=(train=0.733, test=0.714) total time=   0.5s\n",
      "[CV 3/5; 4/36] START 11pipeline__column_transformer__bow__ngram_range=(1, 1), classifier=SVC(random_state=42), selector__percentile=80\n"
     ]
    },
    {
     "name": "stderr",
     "output_type": "stream",
     "text": [
      "/home/pablo/.local/lib/python3.10/site-packages/sklearn/utils/validation.py:1111: DataConversionWarning: A column-vector y was passed when a 1d array was expected. Please change the shape of y to (n_samples, ), for example using ravel().\n",
      "  y = column_or_1d(y, warn=True)\n",
      "/home/pablo/.local/lib/python3.10/site-packages/sklearn/utils/validation.py:1111: DataConversionWarning: A column-vector y was passed when a 1d array was expected. Please change the shape of y to (n_samples, ), for example using ravel().\n",
      "  y = column_or_1d(y, warn=True)\n",
      "/home/pablo/.local/lib/python3.10/site-packages/sklearn/utils/validation.py:1111: DataConversionWarning: A column-vector y was passed when a 1d array was expected. Please change the shape of y to (n_samples, ), for example using ravel().\n",
      "  y = column_or_1d(y, warn=True)\n",
      "/home/pablo/.local/lib/python3.10/site-packages/sklearn/utils/validation.py:1111: DataConversionWarning: A column-vector y was passed when a 1d array was expected. Please change the shape of y to (n_samples, ), for example using ravel().\n",
      "  y = column_or_1d(y, warn=True)\n"
     ]
    },
    {
     "name": "stdout",
     "output_type": "stream",
     "text": [
      "[CV 3/5; 3/36] END 11pipeline__column_transformer__bow__ngram_range=(1, 1), classifier=SVC(random_state=42), selector__percentile=60;, score=(train=0.633, test=0.286) total time=   0.8s\n",
      "[CV 4/5; 2/36] END 11pipeline__column_transformer__bow__ngram_range=(1, 1), classifier=SVC(random_state=42), selector__percentile=40;, score=(train=0.767, test=0.429) total time=   0.9s\n",
      "[CV 4/5; 4/36] START 11pipeline__column_transformer__bow__ngram_range=(1, 1), classifier=SVC(random_state=42), selector__percentile=80\n",
      "[CV 5/5; 4/36] START 11pipeline__column_transformer__bow__ngram_range=(1, 1), classifier=SVC(random_state=42), selector__percentile=80\n"
     ]
    },
    {
     "name": "stderr",
     "output_type": "stream",
     "text": [
      "/home/pablo/.local/lib/python3.10/site-packages/sklearn/utils/validation.py:1111: DataConversionWarning: A column-vector y was passed when a 1d array was expected. Please change the shape of y to (n_samples, ), for example using ravel().\n",
      "  y = column_or_1d(y, warn=True)\n",
      "/home/pablo/.local/lib/python3.10/site-packages/sklearn/utils/validation.py:1111: DataConversionWarning: A column-vector y was passed when a 1d array was expected. Please change the shape of y to (n_samples, ), for example using ravel().\n",
      "  y = column_or_1d(y, warn=True)\n"
     ]
    },
    {
     "name": "stdout",
     "output_type": "stream",
     "text": [
      "[CV 5/5; 3/36] END 11pipeline__column_transformer__bow__ngram_range=(1, 1), classifier=SVC(random_state=42), selector__percentile=60;, score=(train=0.767, test=0.286) total time=   0.5s\n",
      "[CV 2/5; 3/36] END 11pipeline__column_transformer__bow__ngram_range=(1, 1), classifier=SVC(random_state=42), selector__percentile=60;, score=(train=0.567, test=0.714) total time=   0.9s\n",
      "[CV 1/5; 5/36] START 11pipeline__column_transformer__bow__ngram_range=(1, 2), classifier=SVC(random_state=42), selector__percentile=20\n",
      "[CV 2/5; 5/36] START 11pipeline__column_transformer__bow__ngram_range=(1, 2), classifier=SVC(random_state=42), selector__percentile=20\n",
      "[CV 1/5; 4/36] END 11pipeline__column_transformer__bow__ngram_range=(1, 1), classifier=SVC(random_state=42), selector__percentile=80;, score=(train=0.733, test=0.714) total time=   0.5s\n",
      "[CV 3/5; 5/36] START 11pipeline__column_transformer__bow__ngram_range=(1, 2), classifier=SVC(random_state=42), selector__percentile=20\n",
      "[CV 3/5; 4/36] END 11pipeline__column_transformer__bow__ngram_range=(1, 1), classifier=SVC(random_state=42), selector__percentile=80;, score=(train=0.633, test=0.286) total time=   0.7s\n",
      "[CV 4/5; 5/36] START 11pipeline__column_transformer__bow__ngram_range=(1, 2), classifier=SVC(random_state=42), selector__percentile=20\n"
     ]
    },
    {
     "name": "stderr",
     "output_type": "stream",
     "text": [
      "/home/pablo/.local/lib/python3.10/site-packages/sklearn/utils/validation.py:1111: DataConversionWarning: A column-vector y was passed when a 1d array was expected. Please change the shape of y to (n_samples, ), for example using ravel().\n",
      "  y = column_or_1d(y, warn=True)\n",
      "/home/pablo/.local/lib/python3.10/site-packages/sklearn/utils/validation.py:1111: DataConversionWarning: A column-vector y was passed when a 1d array was expected. Please change the shape of y to (n_samples, ), for example using ravel().\n",
      "  y = column_or_1d(y, warn=True)\n",
      "/home/pablo/.local/lib/python3.10/site-packages/sklearn/utils/validation.py:1111: DataConversionWarning: A column-vector y was passed when a 1d array was expected. Please change the shape of y to (n_samples, ), for example using ravel().\n",
      "  y = column_or_1d(y, warn=True)\n"
     ]
    },
    {
     "name": "stdout",
     "output_type": "stream",
     "text": [
      "[CV 5/5; 4/36] END 11pipeline__column_transformer__bow__ngram_range=(1, 1), classifier=SVC(random_state=42), selector__percentile=80;, score=(train=0.733, test=0.286) total time=   0.5s\n",
      "[CV 5/5; 5/36] START 11pipeline__column_transformer__bow__ngram_range=(1, 2), classifier=SVC(random_state=42), selector__percentile=20\n"
     ]
    },
    {
     "name": "stderr",
     "output_type": "stream",
     "text": [
      "/home/pablo/.local/lib/python3.10/site-packages/sklearn/utils/validation.py:1111: DataConversionWarning: A column-vector y was passed when a 1d array was expected. Please change the shape of y to (n_samples, ), for example using ravel().\n",
      "  y = column_or_1d(y, warn=True)\n"
     ]
    },
    {
     "name": "stdout",
     "output_type": "stream",
     "text": [
      "[CV 4/5; 3/36] END 11pipeline__column_transformer__bow__ngram_range=(1, 1), classifier=SVC(random_state=42), selector__percentile=60;, score=(train=0.767, test=0.429) total time=   1.1s\n",
      "[CV 1/5; 6/36] START 11pipeline__column_transformer__bow__ngram_range=(1, 2), classifier=SVC(random_state=42), selector__percentile=40\n",
      "[CV 1/5; 5/36] END 11pipeline__column_transformer__bow__ngram_range=(1, 2), classifier=SVC(random_state=42), selector__percentile=20;, score=(train=0.833, test=0.714) total time=   0.5s\n",
      "[CV 2/5; 6/36] START 11pipeline__column_transformer__bow__ngram_range=(1, 2), classifier=SVC(random_state=42), selector__percentile=40\n",
      "[CV 2/5; 4/36] END 11pipeline__column_transformer__bow__ngram_range=(1, 1), classifier=SVC(random_state=42), selector__percentile=80;, score=(train=0.567, test=0.714) total time=   1.0s\n",
      "[CV 3/5; 6/36] START 11pipeline__column_transformer__bow__ngram_range=(1, 2), classifier=SVC(random_state=42), selector__percentile=40\n"
     ]
    },
    {
     "name": "stderr",
     "output_type": "stream",
     "text": [
      "/home/pablo/.local/lib/python3.10/site-packages/sklearn/utils/validation.py:1111: DataConversionWarning: A column-vector y was passed when a 1d array was expected. Please change the shape of y to (n_samples, ), for example using ravel().\n",
      "  y = column_or_1d(y, warn=True)\n"
     ]
    },
    {
     "name": "stdout",
     "output_type": "stream",
     "text": [
      "[CV 3/5; 5/36] END 11pipeline__column_transformer__bow__ngram_range=(1, 2), classifier=SVC(random_state=42), selector__percentile=20;, score=(train=0.800, test=0.429) total time=   0.7s\n",
      "[CV 4/5; 6/36] START 11pipeline__column_transformer__bow__ngram_range=(1, 2), classifier=SVC(random_state=42), selector__percentile=40\n"
     ]
    },
    {
     "name": "stderr",
     "output_type": "stream",
     "text": [
      "/home/pablo/.local/lib/python3.10/site-packages/sklearn/utils/validation.py:1111: DataConversionWarning: A column-vector y was passed when a 1d array was expected. Please change the shape of y to (n_samples, ), for example using ravel().\n",
      "  y = column_or_1d(y, warn=True)\n",
      "/home/pablo/.local/lib/python3.10/site-packages/sklearn/utils/validation.py:1111: DataConversionWarning: A column-vector y was passed when a 1d array was expected. Please change the shape of y to (n_samples, ), for example using ravel().\n",
      "  y = column_or_1d(y, warn=True)\n"
     ]
    },
    {
     "name": "stdout",
     "output_type": "stream",
     "text": [
      "[CV 4/5; 4/36] END 11pipeline__column_transformer__bow__ngram_range=(1, 1), classifier=SVC(random_state=42), selector__percentile=80;, score=(train=0.767, test=0.429) total time=   0.9s\n",
      "[CV 5/5; 6/36] START 11pipeline__column_transformer__bow__ngram_range=(1, 2), classifier=SVC(random_state=42), selector__percentile=40\n",
      "[CV 5/5; 5/36] END 11pipeline__column_transformer__bow__ngram_range=(1, 2), classifier=SVC(random_state=42), selector__percentile=20;, score=(train=0.867, test=0.429) total time=   0.5s\n",
      "[CV 1/5; 7/36] START 11pipeline__column_transformer__bow__ngram_range=(1, 2), classifier=SVC(random_state=42), selector__percentile=60\n",
      "[CV 2/5; 5/36] END 11pipeline__column_transformer__bow__ngram_range=(1, 2), classifier=SVC(random_state=42), selector__percentile=20;, score=(train=0.533, test=0.429) total time=   0.9s\n",
      "[CV 2/5; 7/36] START 11pipeline__column_transformer__bow__ngram_range=(1, 2), classifier=SVC(random_state=42), selector__percentile=60\n"
     ]
    },
    {
     "name": "stderr",
     "output_type": "stream",
     "text": [
      "/home/pablo/.local/lib/python3.10/site-packages/sklearn/utils/validation.py:1111: DataConversionWarning: A column-vector y was passed when a 1d array was expected. Please change the shape of y to (n_samples, ), for example using ravel().\n",
      "  y = column_or_1d(y, warn=True)\n",
      "/home/pablo/.local/lib/python3.10/site-packages/sklearn/utils/validation.py:1111: DataConversionWarning: A column-vector y was passed when a 1d array was expected. Please change the shape of y to (n_samples, ), for example using ravel().\n",
      "  y = column_or_1d(y, warn=True)\n"
     ]
    },
    {
     "name": "stdout",
     "output_type": "stream",
     "text": [
      "[CV 1/5; 6/36] END 11pipeline__column_transformer__bow__ngram_range=(1, 2), classifier=SVC(random_state=42), selector__percentile=40;, score=(train=0.733, test=0.714) total time=   0.5s\n",
      "[CV 3/5; 7/36] START 11pipeline__column_transformer__bow__ngram_range=(1, 2), classifier=SVC(random_state=42), selector__percentile=60\n"
     ]
    },
    {
     "name": "stderr",
     "output_type": "stream",
     "text": [
      "/home/pablo/.local/lib/python3.10/site-packages/sklearn/utils/validation.py:1111: DataConversionWarning: A column-vector y was passed when a 1d array was expected. Please change the shape of y to (n_samples, ), for example using ravel().\n",
      "  y = column_or_1d(y, warn=True)\n",
      "/home/pablo/.local/lib/python3.10/site-packages/sklearn/utils/validation.py:1111: DataConversionWarning: A column-vector y was passed when a 1d array was expected. Please change the shape of y to (n_samples, ), for example using ravel().\n",
      "  y = column_or_1d(y, warn=True)\n",
      "/home/pablo/.local/lib/python3.10/site-packages/sklearn/utils/validation.py:1111: DataConversionWarning: A column-vector y was passed when a 1d array was expected. Please change the shape of y to (n_samples, ), for example using ravel().\n",
      "  y = column_or_1d(y, warn=True)\n",
      "/home/pablo/.local/lib/python3.10/site-packages/sklearn/utils/validation.py:1111: DataConversionWarning: A column-vector y was passed when a 1d array was expected. Please change the shape of y to (n_samples, ), for example using ravel().\n",
      "  y = column_or_1d(y, warn=True)\n",
      "/home/pablo/.local/lib/python3.10/site-packages/sklearn/utils/validation.py:1111: DataConversionWarning: A column-vector y was passed when a 1d array was expected. Please change the shape of y to (n_samples, ), for example using ravel().\n",
      "  y = column_or_1d(y, warn=True)\n"
     ]
    },
    {
     "name": "stdout",
     "output_type": "stream",
     "text": [
      "[CV 4/5; 5/36] END 11pipeline__column_transformer__bow__ngram_range=(1, 2), classifier=SVC(random_state=42), selector__percentile=20;, score=(train=0.767, test=0.429) total time=   1.1s\n",
      "[CV 3/5; 6/36] END 11pipeline__column_transformer__bow__ngram_range=(1, 2), classifier=SVC(random_state=42), selector__percentile=40;, score=(train=0.867, test=0.571) total time=   0.8s\n",
      "[CV 4/5; 7/36] START 11pipeline__column_transformer__bow__ngram_range=(1, 2), classifier=SVC(random_state=42), selector__percentile=60\n",
      "[CV 5/5; 7/36] START 11pipeline__column_transformer__bow__ngram_range=(1, 2), classifier=SVC(random_state=42), selector__percentile=60\n",
      "[CV 5/5; 6/36] END 11pipeline__column_transformer__bow__ngram_range=(1, 2), classifier=SVC(random_state=42), selector__percentile=40;, score=(train=0.700, test=0.429) total time=   0.5s\n",
      "[CV 1/5; 8/36] START 11pipeline__column_transformer__bow__ngram_range=(1, 2), classifier=SVC(random_state=42), selector__percentile=80\n",
      "[CV 1/5; 7/36] END 11pipeline__column_transformer__bow__ngram_range=(1, 2), classifier=SVC(random_state=42), selector__percentile=60;, score=(train=0.733, test=0.714) total time=   0.5s\n",
      "[CV 2/5; 8/36] START 11pipeline__column_transformer__bow__ngram_range=(1, 2), classifier=SVC(random_state=42), selector__percentile=80\n",
      "[CV 2/5; 6/36] END 11pipeline__column_transformer__bow__ngram_range=(1, 2), classifier=SVC(random_state=42), selector__percentile=40;, score=(train=0.567, test=0.714) total time=   0.9s\n",
      "[CV 3/5; 8/36] START 11pipeline__column_transformer__bow__ngram_range=(1, 2), classifier=SVC(random_state=42), selector__percentile=80\n"
     ]
    },
    {
     "name": "stderr",
     "output_type": "stream",
     "text": [
      "/home/pablo/.local/lib/python3.10/site-packages/sklearn/utils/validation.py:1111: DataConversionWarning: A column-vector y was passed when a 1d array was expected. Please change the shape of y to (n_samples, ), for example using ravel().\n",
      "  y = column_or_1d(y, warn=True)\n",
      "/home/pablo/.local/lib/python3.10/site-packages/sklearn/utils/validation.py:1111: DataConversionWarning: A column-vector y was passed when a 1d array was expected. Please change the shape of y to (n_samples, ), for example using ravel().\n",
      "  y = column_or_1d(y, warn=True)\n"
     ]
    },
    {
     "name": "stdout",
     "output_type": "stream",
     "text": [
      "[CV 3/5; 7/36] END 11pipeline__column_transformer__bow__ngram_range=(1, 2), classifier=SVC(random_state=42), selector__percentile=60;, score=(train=0.633, test=0.286) total time=   0.7s\n",
      "[CV 4/5; 8/36] START 11pipeline__column_transformer__bow__ngram_range=(1, 2), classifier=SVC(random_state=42), selector__percentile=80\n",
      "[CV 2/5; 7/36] END 11pipeline__column_transformer__bow__ngram_range=(1, 2), classifier=SVC(random_state=42), selector__percentile=60;, score=(train=0.567, test=0.714) total time=   0.9s\n",
      "[CV 5/5; 8/36] START 11pipeline__column_transformer__bow__ngram_range=(1, 2), classifier=SVC(random_state=42), selector__percentile=80\n",
      "[CV 4/5; 6/36] END 11pipeline__column_transformer__bow__ngram_range=(1, 2), classifier=SVC(random_state=42), selector__percentile=40;, score=(train=0.767, test=0.429) total time=   1.1s\n",
      "[CV 1/5; 9/36] START 11pipeline__column_transformer__bow__ngram_range=(1, 3), classifier=SVC(random_state=42), selector__percentile=20\n"
     ]
    },
    {
     "name": "stderr",
     "output_type": "stream",
     "text": [
      "/home/pablo/.local/lib/python3.10/site-packages/sklearn/utils/validation.py:1111: DataConversionWarning: A column-vector y was passed when a 1d array was expected. Please change the shape of y to (n_samples, ), for example using ravel().\n",
      "  y = column_or_1d(y, warn=True)\n",
      "/home/pablo/.local/lib/python3.10/site-packages/sklearn/utils/validation.py:1111: DataConversionWarning: A column-vector y was passed when a 1d array was expected. Please change the shape of y to (n_samples, ), for example using ravel().\n",
      "  y = column_or_1d(y, warn=True)\n",
      "/home/pablo/.local/lib/python3.10/site-packages/sklearn/utils/validation.py:1111: DataConversionWarning: A column-vector y was passed when a 1d array was expected. Please change the shape of y to (n_samples, ), for example using ravel().\n",
      "  y = column_or_1d(y, warn=True)\n"
     ]
    },
    {
     "name": "stdout",
     "output_type": "stream",
     "text": [
      "[CV 5/5; 7/36] END 11pipeline__column_transformer__bow__ngram_range=(1, 2), classifier=SVC(random_state=42), selector__percentile=60;, score=(train=0.833, test=0.429) total time=   0.6s\n",
      "[CV 1/5; 8/36] END 11pipeline__column_transformer__bow__ngram_range=(1, 2), classifier=SVC(random_state=42), selector__percentile=80;, score=(train=0.733, test=0.714) total time=   0.5s\n",
      "[CV 2/5; 9/36] START 11pipeline__column_transformer__bow__ngram_range=(1, 3), classifier=SVC(random_state=42), selector__percentile=20\n",
      "[CV 3/5; 9/36] START 11pipeline__column_transformer__bow__ngram_range=(1, 3), classifier=SVC(random_state=42), selector__percentile=20\n"
     ]
    },
    {
     "name": "stderr",
     "output_type": "stream",
     "text": [
      "/home/pablo/.local/lib/python3.10/site-packages/sklearn/utils/validation.py:1111: DataConversionWarning: A column-vector y was passed when a 1d array was expected. Please change the shape of y to (n_samples, ), for example using ravel().\n",
      "  y = column_or_1d(y, warn=True)\n",
      "/home/pablo/.local/lib/python3.10/site-packages/sklearn/utils/validation.py:1111: DataConversionWarning: A column-vector y was passed when a 1d array was expected. Please change the shape of y to (n_samples, ), for example using ravel().\n",
      "  y = column_or_1d(y, warn=True)\n",
      "/home/pablo/.local/lib/python3.10/site-packages/sklearn/utils/validation.py:1111: DataConversionWarning: A column-vector y was passed when a 1d array was expected. Please change the shape of y to (n_samples, ), for example using ravel().\n",
      "  y = column_or_1d(y, warn=True)\n",
      "/home/pablo/.local/lib/python3.10/site-packages/sklearn/utils/validation.py:1111: DataConversionWarning: A column-vector y was passed when a 1d array was expected. Please change the shape of y to (n_samples, ), for example using ravel().\n",
      "  y = column_or_1d(y, warn=True)\n"
     ]
    },
    {
     "name": "stdout",
     "output_type": "stream",
     "text": [
      "[CV 3/5; 8/36] END 11pipeline__column_transformer__bow__ngram_range=(1, 2), classifier=SVC(random_state=42), selector__percentile=80;, score=(train=0.633, test=0.286) total time=   0.8s\n",
      "[CV 4/5; 9/36] START 11pipeline__column_transformer__bow__ngram_range=(1, 3), classifier=SVC(random_state=42), selector__percentile=20\n",
      "[CV 5/5; 8/36] END 11pipeline__column_transformer__bow__ngram_range=(1, 2), classifier=SVC(random_state=42), selector__percentile=80;, score=(train=0.800, test=0.286) total time=   0.5s\n",
      "[CV 5/5; 9/36] START 11pipeline__column_transformer__bow__ngram_range=(1, 3), classifier=SVC(random_state=42), selector__percentile=20\n",
      "[CV 2/5; 8/36] END 11pipeline__column_transformer__bow__ngram_range=(1, 2), classifier=SVC(random_state=42), selector__percentile=80;, score=(train=0.567, test=0.714) total time=   0.9s\n",
      "[CV 1/5; 10/36] START 11pipeline__column_transformer__bow__ngram_range=(1, 3), classifier=SVC(random_state=42), selector__percentile=40\n",
      "[CV 1/5; 9/36] END 11pipeline__column_transformer__bow__ngram_range=(1, 3), classifier=SVC(random_state=42), selector__percentile=20;, score=(train=0.833, test=0.714) total time=   0.5s\n"
     ]
    },
    {
     "name": "stderr",
     "output_type": "stream",
     "text": [
      "/home/pablo/.local/lib/python3.10/site-packages/sklearn/utils/validation.py:1111: DataConversionWarning: A column-vector y was passed when a 1d array was expected. Please change the shape of y to (n_samples, ), for example using ravel().\n",
      "  y = column_or_1d(y, warn=True)\n"
     ]
    },
    {
     "name": "stdout",
     "output_type": "stream",
     "text": [
      "[CV 2/5; 10/36] START 11pipeline__column_transformer__bow__ngram_range=(1, 3), classifier=SVC(random_state=42), selector__percentile=40\n",
      "[CV 4/5; 7/36] END 11pipeline__column_transformer__bow__ngram_range=(1, 2), classifier=SVC(random_state=42), selector__percentile=60;, score=(train=0.767, test=0.429) total time=   1.2s\n",
      "[CV 3/5; 10/36] START 11pipeline__column_transformer__bow__ngram_range=(1, 3), classifier=SVC(random_state=42), selector__percentile=40\n"
     ]
    },
    {
     "name": "stderr",
     "output_type": "stream",
     "text": [
      "/home/pablo/.local/lib/python3.10/site-packages/sklearn/utils/validation.py:1111: DataConversionWarning: A column-vector y was passed when a 1d array was expected. Please change the shape of y to (n_samples, ), for example using ravel().\n",
      "  y = column_or_1d(y, warn=True)\n",
      "/home/pablo/.local/lib/python3.10/site-packages/sklearn/utils/validation.py:1111: DataConversionWarning: A column-vector y was passed when a 1d array was expected. Please change the shape of y to (n_samples, ), for example using ravel().\n",
      "  y = column_or_1d(y, warn=True)\n"
     ]
    },
    {
     "name": "stdout",
     "output_type": "stream",
     "text": [
      "[CV 3/5; 9/36] END 11pipeline__column_transformer__bow__ngram_range=(1, 3), classifier=SVC(random_state=42), selector__percentile=20;, score=(train=0.833, test=0.429) total time=   0.9s\n",
      "[CV 4/5; 8/36] END 11pipeline__column_transformer__bow__ngram_range=(1, 2), classifier=SVC(random_state=42), selector__percentile=80;, score=(train=0.767, test=0.429) total time=   1.0s\n",
      "[CV 4/5; 10/36] START 11pipeline__column_transformer__bow__ngram_range=(1, 3), classifier=SVC(random_state=42), selector__percentile=40\n",
      "[CV 5/5; 10/36] START 11pipeline__column_transformer__bow__ngram_range=(1, 3), classifier=SVC(random_state=42), selector__percentile=40\n",
      "[CV 2/5; 9/36] END 11pipeline__column_transformer__bow__ngram_range=(1, 3), classifier=SVC(random_state=42), selector__percentile=20;, score=(train=0.533, test=0.429) total time=   1.0s\n"
     ]
    },
    {
     "name": "stderr",
     "output_type": "stream",
     "text": [
      "/home/pablo/.local/lib/python3.10/site-packages/sklearn/utils/validation.py:1111: DataConversionWarning: A column-vector y was passed when a 1d array was expected. Please change the shape of y to (n_samples, ), for example using ravel().\n",
      "  y = column_or_1d(y, warn=True)\n",
      "/home/pablo/.local/lib/python3.10/site-packages/sklearn/utils/validation.py:1111: DataConversionWarning: A column-vector y was passed when a 1d array was expected. Please change the shape of y to (n_samples, ), for example using ravel().\n",
      "  y = column_or_1d(y, warn=True)\n",
      "/home/pablo/.local/lib/python3.10/site-packages/sklearn/utils/validation.py:1111: DataConversionWarning: A column-vector y was passed when a 1d array was expected. Please change the shape of y to (n_samples, ), for example using ravel().\n",
      "  y = column_or_1d(y, warn=True)\n"
     ]
    },
    {
     "name": "stdout",
     "output_type": "stream",
     "text": [
      "[CV 1/5; 11/36] START 11pipeline__column_transformer__bow__ngram_range=(1, 3), classifier=SVC(random_state=42), selector__percentile=60\n",
      "[CV 5/5; 9/36] END 11pipeline__column_transformer__bow__ngram_range=(1, 3), classifier=SVC(random_state=42), selector__percentile=20;, score=(train=0.700, test=0.429) total time=   0.6s\n",
      "[CV 2/5; 11/36] START 11pipeline__column_transformer__bow__ngram_range=(1, 3), classifier=SVC(random_state=42), selector__percentile=60\n",
      "[CV 1/5; 10/36] END 11pipeline__column_transformer__bow__ngram_range=(1, 3), classifier=SVC(random_state=42), selector__percentile=40;, score=(train=0.733, test=0.714) total time=   0.6s\n",
      "[CV 3/5; 11/36] START 11pipeline__column_transformer__bow__ngram_range=(1, 3), classifier=SVC(random_state=42), selector__percentile=60\n"
     ]
    },
    {
     "name": "stderr",
     "output_type": "stream",
     "text": [
      "/home/pablo/.local/lib/python3.10/site-packages/sklearn/utils/validation.py:1111: DataConversionWarning: A column-vector y was passed when a 1d array was expected. Please change the shape of y to (n_samples, ), for example using ravel().\n",
      "  y = column_or_1d(y, warn=True)\n",
      "/home/pablo/.local/lib/python3.10/site-packages/sklearn/utils/validation.py:1111: DataConversionWarning: A column-vector y was passed when a 1d array was expected. Please change the shape of y to (n_samples, ), for example using ravel().\n",
      "  y = column_or_1d(y, warn=True)\n",
      "/home/pablo/.local/lib/python3.10/site-packages/sklearn/utils/validation.py:1111: DataConversionWarning: A column-vector y was passed when a 1d array was expected. Please change the shape of y to (n_samples, ), for example using ravel().\n",
      "  y = column_or_1d(y, warn=True)\n",
      "/home/pablo/.local/lib/python3.10/site-packages/sklearn/utils/validation.py:1111: DataConversionWarning: A column-vector y was passed when a 1d array was expected. Please change the shape of y to (n_samples, ), for example using ravel().\n",
      "  y = column_or_1d(y, warn=True)\n",
      "/home/pablo/.local/lib/python3.10/site-packages/sklearn/utils/validation.py:1111: DataConversionWarning: A column-vector y was passed when a 1d array was expected. Please change the shape of y to (n_samples, ), for example using ravel().\n",
      "  y = column_or_1d(y, warn=True)\n"
     ]
    },
    {
     "name": "stdout",
     "output_type": "stream",
     "text": [
      "[CV 3/5; 10/36] END 11pipeline__column_transformer__bow__ngram_range=(1, 3), classifier=SVC(random_state=42), selector__percentile=40;, score=(train=0.867, test=0.429) total time=   0.9s\n",
      "[CV 4/5; 11/36] START 11pipeline__column_transformer__bow__ngram_range=(1, 3), classifier=SVC(random_state=42), selector__percentile=60\n",
      "[CV 5/5; 10/36] END 11pipeline__column_transformer__bow__ngram_range=(1, 3), classifier=SVC(random_state=42), selector__percentile=40;, score=(train=0.700, test=0.429) total time=   0.6s\n",
      "[CV 5/5; 11/36] START 11pipeline__column_transformer__bow__ngram_range=(1, 3), classifier=SVC(random_state=42), selector__percentile=60\n",
      "[CV 2/5; 10/36] END 11pipeline__column_transformer__bow__ngram_range=(1, 3), classifier=SVC(random_state=42), selector__percentile=40;, score=(train=0.567, test=0.714) total time=   1.0s\n",
      "[CV 1/5; 12/36] START 11pipeline__column_transformer__bow__ngram_range=(1, 3), classifier=SVC(random_state=42), selector__percentile=80\n",
      "[CV 4/5; 9/36] END 11pipeline__column_transformer__bow__ngram_range=(1, 3), classifier=SVC(random_state=42), selector__percentile=20;, score=(train=0.767, test=0.429) total time=   1.2s\n",
      "[CV 1/5; 11/36] END 11pipeline__column_transformer__bow__ngram_range=(1, 3), classifier=SVC(random_state=42), selector__percentile=60;, score=(train=0.733, test=0.714) total time=   0.6s\n",
      "[CV 2/5; 12/36] START 11pipeline__column_transformer__bow__ngram_range=(1, 3), classifier=SVC(random_state=42), selector__percentile=80\n",
      "[CV 3/5; 12/36] START 11pipeline__column_transformer__bow__ngram_range=(1, 3), classifier=SVC(random_state=42), selector__percentile=80\n"
     ]
    },
    {
     "name": "stderr",
     "output_type": "stream",
     "text": [
      "/home/pablo/.local/lib/python3.10/site-packages/sklearn/utils/validation.py:1111: DataConversionWarning: A column-vector y was passed when a 1d array was expected. Please change the shape of y to (n_samples, ), for example using ravel().\n",
      "  y = column_or_1d(y, warn=True)\n"
     ]
    },
    {
     "name": "stdout",
     "output_type": "stream",
     "text": [
      "[CV 3/5; 11/36] END 11pipeline__column_transformer__bow__ngram_range=(1, 3), classifier=SVC(random_state=42), selector__percentile=60;, score=(train=0.700, test=0.286) total time=   0.8s\n",
      "[CV 4/5; 12/36] START 11pipeline__column_transformer__bow__ngram_range=(1, 3), classifier=SVC(random_state=42), selector__percentile=80\n"
     ]
    },
    {
     "name": "stderr",
     "output_type": "stream",
     "text": [
      "/home/pablo/.local/lib/python3.10/site-packages/sklearn/utils/validation.py:1111: DataConversionWarning: A column-vector y was passed when a 1d array was expected. Please change the shape of y to (n_samples, ), for example using ravel().\n",
      "  y = column_or_1d(y, warn=True)\n",
      "/home/pablo/.local/lib/python3.10/site-packages/sklearn/utils/validation.py:1111: DataConversionWarning: A column-vector y was passed when a 1d array was expected. Please change the shape of y to (n_samples, ), for example using ravel().\n",
      "  y = column_or_1d(y, warn=True)\n",
      "/home/pablo/.local/lib/python3.10/site-packages/sklearn/utils/validation.py:1111: DataConversionWarning: A column-vector y was passed when a 1d array was expected. Please change the shape of y to (n_samples, ), for example using ravel().\n",
      "  y = column_or_1d(y, warn=True)\n"
     ]
    },
    {
     "name": "stdout",
     "output_type": "stream",
     "text": [
      "[CV 5/5; 11/36] END 11pipeline__column_transformer__bow__ngram_range=(1, 3), classifier=SVC(random_state=42), selector__percentile=60;, score=(train=0.733, test=0.571) total time=   0.6s\n",
      "[CV 5/5; 12/36] START 11pipeline__column_transformer__bow__ngram_range=(1, 3), classifier=SVC(random_state=42), selector__percentile=80\n",
      "[CV 2/5; 11/36] END 11pipeline__column_transformer__bow__ngram_range=(1, 3), classifier=SVC(random_state=42), selector__percentile=60;, score=(train=0.600, test=0.714) total time=   1.0s\n",
      "[CV 1/5; 13/36] START 11pipeline__column_transformer__bow__ngram_range=(1, 1), classifier=LogisticRegression(random_state=42), selector__percentile=20\n",
      "[CV 4/5; 10/36] END 11pipeline__column_transformer__bow__ngram_range=(1, 3), classifier=SVC(random_state=42), selector__percentile=40;, score=(train=0.767, test=0.429) total time=   1.2s\n",
      "[CV 2/5; 13/36] START 11pipeline__column_transformer__bow__ngram_range=(1, 1), classifier=LogisticRegression(random_state=42), selector__percentile=20\n"
     ]
    },
    {
     "name": "stderr",
     "output_type": "stream",
     "text": [
      "/home/pablo/.local/lib/python3.10/site-packages/sklearn/utils/validation.py:1111: DataConversionWarning: A column-vector y was passed when a 1d array was expected. Please change the shape of y to (n_samples, ), for example using ravel().\n",
      "  y = column_or_1d(y, warn=True)\n",
      "/home/pablo/.local/lib/python3.10/site-packages/sklearn/utils/validation.py:1111: DataConversionWarning: A column-vector y was passed when a 1d array was expected. Please change the shape of y to (n_samples, ), for example using ravel().\n",
      "  y = column_or_1d(y, warn=True)\n",
      "/home/pablo/.local/lib/python3.10/site-packages/sklearn/utils/validation.py:1111: DataConversionWarning: A column-vector y was passed when a 1d array was expected. Please change the shape of y to (n_samples, ), for example using ravel().\n",
      "  y = column_or_1d(y, warn=True)\n",
      "/home/pablo/.local/lib/python3.10/site-packages/sklearn/utils/validation.py:1111: DataConversionWarning: A column-vector y was passed when a 1d array was expected. Please change the shape of y to (n_samples, ), for example using ravel().\n",
      "  y = column_or_1d(y, warn=True)\n"
     ]
    },
    {
     "name": "stdout",
     "output_type": "stream",
     "text": [
      "[CV 1/5; 12/36] END 11pipeline__column_transformer__bow__ngram_range=(1, 3), classifier=SVC(random_state=42), selector__percentile=80;, score=(train=0.733, test=0.714) total time=   0.8s\n",
      "[CV 3/5; 13/36] START 11pipeline__column_transformer__bow__ngram_range=(1, 1), classifier=LogisticRegression(random_state=42), selector__percentile=20\n",
      "[CV 3/5; 12/36] END 11pipeline__column_transformer__bow__ngram_range=(1, 3), classifier=SVC(random_state=42), selector__percentile=80;, score=(train=0.700, test=0.286) total time=   0.8s\n",
      "[CV 4/5; 13/36] START 11pipeline__column_transformer__bow__ngram_range=(1, 1), classifier=LogisticRegression(random_state=42), selector__percentile=20\n"
     ]
    },
    {
     "name": "stderr",
     "output_type": "stream",
     "text": [
      "/home/pablo/.local/lib/python3.10/site-packages/sklearn/utils/validation.py:1111: DataConversionWarning: A column-vector y was passed when a 1d array was expected. Please change the shape of y to (n_samples, ), for example using ravel().\n",
      "  y = column_or_1d(y, warn=True)\n"
     ]
    },
    {
     "name": "stdout",
     "output_type": "stream",
     "text": [
      "[CV 1/5; 13/36] END 11pipeline__column_transformer__bow__ngram_range=(1, 1), classifier=LogisticRegression(random_state=42), selector__percentile=20;, score=(train=1.000, test=0.714) total time=   0.5s\n",
      "[CV 5/5; 13/36] START 11pipeline__column_transformer__bow__ngram_range=(1, 1), classifier=LogisticRegression(random_state=42), selector__percentile=20\n",
      "[CV 5/5; 12/36] END 11pipeline__column_transformer__bow__ngram_range=(1, 3), classifier=SVC(random_state=42), selector__percentile=80;, score=(train=0.833, test=0.429) total time=   0.6s\n",
      "[CV 4/5; 11/36] END 11pipeline__column_transformer__bow__ngram_range=(1, 3), classifier=SVC(random_state=42), selector__percentile=60;, score=(train=0.767, test=0.429) total time=   1.1s\n",
      "[CV 1/5; 14/36] START 11pipeline__column_transformer__bow__ngram_range=(1, 1), classifier=LogisticRegression(random_state=42), selector__percentile=40\n",
      "[CV 2/5; 14/36] START 11pipeline__column_transformer__bow__ngram_range=(1, 1), classifier=LogisticRegression(random_state=42), selector__percentile=40\n"
     ]
    },
    {
     "name": "stderr",
     "output_type": "stream",
     "text": [
      "/home/pablo/.local/lib/python3.10/site-packages/sklearn/utils/validation.py:1111: DataConversionWarning: A column-vector y was passed when a 1d array was expected. Please change the shape of y to (n_samples, ), for example using ravel().\n",
      "  y = column_or_1d(y, warn=True)\n"
     ]
    },
    {
     "name": "stdout",
     "output_type": "stream",
     "text": [
      "[CV 2/5; 12/36] END 11pipeline__column_transformer__bow__ngram_range=(1, 3), classifier=SVC(random_state=42), selector__percentile=80;, score=(train=0.600, test=0.714) total time=   1.2s\n",
      "[CV 3/5; 14/36] START 11pipeline__column_transformer__bow__ngram_range=(1, 1), classifier=LogisticRegression(random_state=42), selector__percentile=40\n"
     ]
    },
    {
     "name": "stderr",
     "output_type": "stream",
     "text": [
      "/home/pablo/.local/lib/python3.10/site-packages/sklearn/utils/validation.py:1111: DataConversionWarning: A column-vector y was passed when a 1d array was expected. Please change the shape of y to (n_samples, ), for example using ravel().\n",
      "  y = column_or_1d(y, warn=True)\n",
      "/home/pablo/.local/lib/python3.10/site-packages/sklearn/utils/validation.py:1111: DataConversionWarning: A column-vector y was passed when a 1d array was expected. Please change the shape of y to (n_samples, ), for example using ravel().\n",
      "  y = column_or_1d(y, warn=True)\n",
      "/home/pablo/.local/lib/python3.10/site-packages/sklearn/utils/validation.py:1111: DataConversionWarning: A column-vector y was passed when a 1d array was expected. Please change the shape of y to (n_samples, ), for example using ravel().\n",
      "  y = column_or_1d(y, warn=True)\n",
      "/home/pablo/.local/lib/python3.10/site-packages/sklearn/linear_model/_logistic.py:444: ConvergenceWarning: lbfgs failed to converge (status=1):\n",
      "STOP: TOTAL NO. of ITERATIONS REACHED LIMIT.\n",
      "\n",
      "Increase the number of iterations (max_iter) or scale the data as shown in:\n",
      "    https://scikit-learn.org/stable/modules/preprocessing.html\n",
      "Please also refer to the documentation for alternative solver options:\n",
      "    https://scikit-learn.org/stable/modules/linear_model.html#logistic-regression\n",
      "  n_iter_i = _check_optimize_result(\n"
     ]
    },
    {
     "name": "stdout",
     "output_type": "stream",
     "text": [
      "[CV 2/5; 13/36] END 11pipeline__column_transformer__bow__ngram_range=(1, 1), classifier=LogisticRegression(random_state=42), selector__percentile=20;, score=(train=1.000, test=0.429) total time=   0.9s\n",
      "[CV 4/5; 14/36] START 11pipeline__column_transformer__bow__ngram_range=(1, 1), classifier=LogisticRegression(random_state=42), selector__percentile=40\n",
      "[CV 4/5; 12/36] END 11pipeline__column_transformer__bow__ngram_range=(1, 3), classifier=SVC(random_state=42), selector__percentile=80;, score=(train=0.767, test=0.429) total time=   1.2s\n",
      "[CV 5/5; 14/36] START 11pipeline__column_transformer__bow__ngram_range=(1, 1), classifier=LogisticRegression(random_state=42), selector__percentile=40\n",
      "[CV 3/5; 13/36] END 11pipeline__column_transformer__bow__ngram_range=(1, 1), classifier=LogisticRegression(random_state=42), selector__percentile=20;, score=(train=1.000, test=0.286) total time=   0.7s\n",
      "[CV 1/5; 15/36] START 11pipeline__column_transformer__bow__ngram_range=(1, 1), classifier=LogisticRegression(random_state=42), selector__percentile=60\n"
     ]
    },
    {
     "name": "stderr",
     "output_type": "stream",
     "text": [
      "/home/pablo/.local/lib/python3.10/site-packages/sklearn/utils/validation.py:1111: DataConversionWarning: A column-vector y was passed when a 1d array was expected. Please change the shape of y to (n_samples, ), for example using ravel().\n",
      "  y = column_or_1d(y, warn=True)\n",
      "/home/pablo/.local/lib/python3.10/site-packages/sklearn/utils/validation.py:1111: DataConversionWarning: A column-vector y was passed when a 1d array was expected. Please change the shape of y to (n_samples, ), for example using ravel().\n",
      "  y = column_or_1d(y, warn=True)\n",
      "/home/pablo/.local/lib/python3.10/site-packages/sklearn/linear_model/_logistic.py:444: ConvergenceWarning: lbfgs failed to converge (status=1):\n",
      "STOP: TOTAL NO. of ITERATIONS REACHED LIMIT.\n",
      "\n",
      "Increase the number of iterations (max_iter) or scale the data as shown in:\n",
      "    https://scikit-learn.org/stable/modules/preprocessing.html\n",
      "Please also refer to the documentation for alternative solver options:\n",
      "    https://scikit-learn.org/stable/modules/linear_model.html#logistic-regression\n",
      "  n_iter_i = _check_optimize_result(\n"
     ]
    },
    {
     "name": "stdout",
     "output_type": "stream",
     "text": [
      "[CV 5/5; 13/36] END 11pipeline__column_transformer__bow__ngram_range=(1, 1), classifier=LogisticRegression(random_state=42), selector__percentile=20;, score=(train=1.000, test=0.286) total time=   0.5s\n",
      "[CV 2/5; 15/36] START 11pipeline__column_transformer__bow__ngram_range=(1, 1), classifier=LogisticRegression(random_state=42), selector__percentile=60\n",
      "[CV 1/5; 14/36] END 11pipeline__column_transformer__bow__ngram_range=(1, 1), classifier=LogisticRegression(random_state=42), selector__percentile=40;, score=(train=1.000, test=0.857) total time=   0.5s\n"
     ]
    },
    {
     "name": "stderr",
     "output_type": "stream",
     "text": [
      "/home/pablo/.local/lib/python3.10/site-packages/sklearn/utils/validation.py:1111: DataConversionWarning: A column-vector y was passed when a 1d array was expected. Please change the shape of y to (n_samples, ), for example using ravel().\n",
      "  y = column_or_1d(y, warn=True)\n",
      "/home/pablo/.local/lib/python3.10/site-packages/sklearn/utils/validation.py:1111: DataConversionWarning: A column-vector y was passed when a 1d array was expected. Please change the shape of y to (n_samples, ), for example using ravel().\n",
      "  y = column_or_1d(y, warn=True)\n"
     ]
    },
    {
     "name": "stdout",
     "output_type": "stream",
     "text": [
      "[CV 3/5; 15/36] START 11pipeline__column_transformer__bow__ngram_range=(1, 1), classifier=LogisticRegression(random_state=42), selector__percentile=60\n"
     ]
    },
    {
     "name": "stderr",
     "output_type": "stream",
     "text": [
      "/home/pablo/.local/lib/python3.10/site-packages/sklearn/linear_model/_logistic.py:444: ConvergenceWarning: lbfgs failed to converge (status=1):\n",
      "STOP: TOTAL NO. of ITERATIONS REACHED LIMIT.\n",
      "\n",
      "Increase the number of iterations (max_iter) or scale the data as shown in:\n",
      "    https://scikit-learn.org/stable/modules/preprocessing.html\n",
      "Please also refer to the documentation for alternative solver options:\n",
      "    https://scikit-learn.org/stable/modules/linear_model.html#logistic-regression\n",
      "  n_iter_i = _check_optimize_result(\n",
      "/home/pablo/.local/lib/python3.10/site-packages/sklearn/utils/validation.py:1111: DataConversionWarning: A column-vector y was passed when a 1d array was expected. Please change the shape of y to (n_samples, ), for example using ravel().\n",
      "  y = column_or_1d(y, warn=True)\n"
     ]
    },
    {
     "name": "stdout",
     "output_type": "stream",
     "text": [
      "[CV 4/5; 13/36] END 11pipeline__column_transformer__bow__ngram_range=(1, 1), classifier=LogisticRegression(random_state=42), selector__percentile=20;, score=(train=1.000, test=0.429) total time=   1.0s\n",
      "[CV 4/5; 15/36] START 11pipeline__column_transformer__bow__ngram_range=(1, 1), classifier=LogisticRegression(random_state=42), selector__percentile=60\n",
      "[CV 5/5; 14/36] END 11pipeline__column_transformer__bow__ngram_range=(1, 1), classifier=LogisticRegression(random_state=42), selector__percentile=40;, score=(train=1.000, test=0.429) total time=   0.5s\n",
      "[CV 5/5; 15/36] START 11pipeline__column_transformer__bow__ngram_range=(1, 1), classifier=LogisticRegression(random_state=42), selector__percentile=60\n",
      "[CV 3/5; 14/36] END 11pipeline__column_transformer__bow__ngram_range=(1, 1), classifier=LogisticRegression(random_state=42), selector__percentile=40;, score=(train=1.000, test=0.286) total time=   0.8s\n",
      "[CV 1/5; 16/36] START 11pipeline__column_transformer__bow__ngram_range=(1, 1), classifier=LogisticRegression(random_state=42), selector__percentile=80\n"
     ]
    },
    {
     "name": "stderr",
     "output_type": "stream",
     "text": [
      "/home/pablo/.local/lib/python3.10/site-packages/sklearn/utils/validation.py:1111: DataConversionWarning: A column-vector y was passed when a 1d array was expected. Please change the shape of y to (n_samples, ), for example using ravel().\n",
      "  y = column_or_1d(y, warn=True)\n",
      "/home/pablo/.local/lib/python3.10/site-packages/sklearn/linear_model/_logistic.py:444: ConvergenceWarning: lbfgs failed to converge (status=1):\n",
      "STOP: TOTAL NO. of ITERATIONS REACHED LIMIT.\n",
      "\n",
      "Increase the number of iterations (max_iter) or scale the data as shown in:\n",
      "    https://scikit-learn.org/stable/modules/preprocessing.html\n",
      "Please also refer to the documentation for alternative solver options:\n",
      "    https://scikit-learn.org/stable/modules/linear_model.html#logistic-regression\n",
      "  n_iter_i = _check_optimize_result(\n",
      "/home/pablo/.local/lib/python3.10/site-packages/sklearn/utils/validation.py:1111: DataConversionWarning: A column-vector y was passed when a 1d array was expected. Please change the shape of y to (n_samples, ), for example using ravel().\n",
      "  y = column_or_1d(y, warn=True)\n"
     ]
    },
    {
     "name": "stdout",
     "output_type": "stream",
     "text": [
      "[CV 1/5; 15/36] END 11pipeline__column_transformer__bow__ngram_range=(1, 1), classifier=LogisticRegression(random_state=42), selector__percentile=60;, score=(train=1.000, test=0.714) total time=   0.5s\n",
      "[CV 2/5; 16/36] START 11pipeline__column_transformer__bow__ngram_range=(1, 1), classifier=LogisticRegression(random_state=42), selector__percentile=80\n",
      "[CV 2/5; 14/36] END 11pipeline__column_transformer__bow__ngram_range=(1, 1), classifier=LogisticRegression(random_state=42), selector__percentile=40;, score=(train=1.000, test=0.143) total time=   1.1s\n",
      "[CV 3/5; 16/36] START 11pipeline__column_transformer__bow__ngram_range=(1, 1), classifier=LogisticRegression(random_state=42), selector__percentile=80\n"
     ]
    },
    {
     "name": "stderr",
     "output_type": "stream",
     "text": [
      "/home/pablo/.local/lib/python3.10/site-packages/sklearn/utils/validation.py:1111: DataConversionWarning: A column-vector y was passed when a 1d array was expected. Please change the shape of y to (n_samples, ), for example using ravel().\n",
      "  y = column_or_1d(y, warn=True)\n",
      "/home/pablo/.local/lib/python3.10/site-packages/sklearn/utils/validation.py:1111: DataConversionWarning: A column-vector y was passed when a 1d array was expected. Please change the shape of y to (n_samples, ), for example using ravel().\n",
      "  y = column_or_1d(y, warn=True)\n",
      "/home/pablo/.local/lib/python3.10/site-packages/sklearn/linear_model/_logistic.py:444: ConvergenceWarning: lbfgs failed to converge (status=1):\n",
      "STOP: TOTAL NO. of ITERATIONS REACHED LIMIT.\n",
      "\n",
      "Increase the number of iterations (max_iter) or scale the data as shown in:\n",
      "    https://scikit-learn.org/stable/modules/preprocessing.html\n",
      "Please also refer to the documentation for alternative solver options:\n",
      "    https://scikit-learn.org/stable/modules/linear_model.html#logistic-regression\n",
      "  n_iter_i = _check_optimize_result(\n",
      "/home/pablo/.local/lib/python3.10/site-packages/sklearn/utils/validation.py:1111: DataConversionWarning: A column-vector y was passed when a 1d array was expected. Please change the shape of y to (n_samples, ), for example using ravel().\n",
      "  y = column_or_1d(y, warn=True)\n"
     ]
    },
    {
     "name": "stdout",
     "output_type": "stream",
     "text": [
      "[CV 4/5; 14/36] END 11pipeline__column_transformer__bow__ngram_range=(1, 1), classifier=LogisticRegression(random_state=42), selector__percentile=40;, score=(train=1.000, test=0.429) total time=   1.0s\n",
      "[CV 4/5; 16/36] START 11pipeline__column_transformer__bow__ngram_range=(1, 1), classifier=LogisticRegression(random_state=42), selector__percentile=80\n",
      "[CV 5/5; 15/36] END 11pipeline__column_transformer__bow__ngram_range=(1, 1), classifier=LogisticRegression(random_state=42), selector__percentile=60;, score=(train=1.000, test=0.429) total time=   0.5s\n",
      "[CV 5/5; 16/36] START 11pipeline__column_transformer__bow__ngram_range=(1, 1), classifier=LogisticRegression(random_state=42), selector__percentile=80\n",
      "[CV 2/5; 15/36] END 11pipeline__column_transformer__bow__ngram_range=(1, 1), classifier=LogisticRegression(random_state=42), selector__percentile=60;, score=(train=1.000, test=0.143) total time=   0.9s\n",
      "[CV 3/5; 15/36] END 11pipeline__column_transformer__bow__ngram_range=(1, 1), classifier=LogisticRegression(random_state=42), selector__percentile=60;, score=(train=1.000, test=0.429) total time=   0.8s\n",
      "[CV 1/5; 17/36] START 11pipeline__column_transformer__bow__ngram_range=(1, 2), classifier=LogisticRegression(random_state=42), selector__percentile=20\n",
      "[CV 2/5; 17/36] START 11pipeline__column_transformer__bow__ngram_range=(1, 2), classifier=LogisticRegression(random_state=42), selector__percentile=20\n"
     ]
    },
    {
     "name": "stderr",
     "output_type": "stream",
     "text": [
      "/home/pablo/.local/lib/python3.10/site-packages/sklearn/utils/validation.py:1111: DataConversionWarning: A column-vector y was passed when a 1d array was expected. Please change the shape of y to (n_samples, ), for example using ravel().\n",
      "  y = column_or_1d(y, warn=True)\n",
      "/home/pablo/.local/lib/python3.10/site-packages/sklearn/utils/validation.py:1111: DataConversionWarning: A column-vector y was passed when a 1d array was expected. Please change the shape of y to (n_samples, ), for example using ravel().\n",
      "  y = column_or_1d(y, warn=True)\n",
      "/home/pablo/.local/lib/python3.10/site-packages/sklearn/linear_model/_logistic.py:444: ConvergenceWarning: lbfgs failed to converge (status=1):\n",
      "STOP: TOTAL NO. of ITERATIONS REACHED LIMIT.\n",
      "\n",
      "Increase the number of iterations (max_iter) or scale the data as shown in:\n",
      "    https://scikit-learn.org/stable/modules/preprocessing.html\n",
      "Please also refer to the documentation for alternative solver options:\n",
      "    https://scikit-learn.org/stable/modules/linear_model.html#logistic-regression\n",
      "  n_iter_i = _check_optimize_result(\n"
     ]
    },
    {
     "name": "stdout",
     "output_type": "stream",
     "text": [
      "[CV 1/5; 16/36] END 11pipeline__column_transformer__bow__ngram_range=(1, 1), classifier=LogisticRegression(random_state=42), selector__percentile=80;, score=(train=1.000, test=0.714) total time=   0.6s\n",
      "[CV 3/5; 17/36] START 11pipeline__column_transformer__bow__ngram_range=(1, 2), classifier=LogisticRegression(random_state=42), selector__percentile=20\n"
     ]
    },
    {
     "name": "stderr",
     "output_type": "stream",
     "text": [
      "/home/pablo/.local/lib/python3.10/site-packages/sklearn/utils/validation.py:1111: DataConversionWarning: A column-vector y was passed when a 1d array was expected. Please change the shape of y to (n_samples, ), for example using ravel().\n",
      "  y = column_or_1d(y, warn=True)\n",
      "/home/pablo/.local/lib/python3.10/site-packages/sklearn/utils/validation.py:1111: DataConversionWarning: A column-vector y was passed when a 1d array was expected. Please change the shape of y to (n_samples, ), for example using ravel().\n",
      "  y = column_or_1d(y, warn=True)\n"
     ]
    },
    {
     "name": "stdout",
     "output_type": "stream",
     "text": [
      "[CV 3/5; 16/36] END 11pipeline__column_transformer__bow__ngram_range=(1, 1), classifier=LogisticRegression(random_state=42), selector__percentile=80;, score=(train=1.000, test=0.429) total time=   0.7s\n",
      "[CV 4/5; 17/36] START 11pipeline__column_transformer__bow__ngram_range=(1, 2), classifier=LogisticRegression(random_state=42), selector__percentile=20\n",
      "[CV 5/5; 16/36] END 11pipeline__column_transformer__bow__ngram_range=(1, 1), classifier=LogisticRegression(random_state=42), selector__percentile=80;, score=(train=1.000, test=0.571) total time=   0.5s\n",
      "[CV 2/5; 16/36] END 11pipeline__column_transformer__bow__ngram_range=(1, 1), classifier=LogisticRegression(random_state=42), selector__percentile=80;, score=(train=1.000, test=0.143) total time=   0.9s\n",
      "[CV 5/5; 17/36] START 11pipeline__column_transformer__bow__ngram_range=(1, 2), classifier=LogisticRegression(random_state=42), selector__percentile=20\n",
      "[CV 1/5; 18/36] START 11pipeline__column_transformer__bow__ngram_range=(1, 2), classifier=LogisticRegression(random_state=42), selector__percentile=40\n",
      "[CV 4/5; 15/36] END 11pipeline__column_transformer__bow__ngram_range=(1, 1), classifier=LogisticRegression(random_state=42), selector__percentile=60;, score=(train=1.000, test=0.429) total time=   1.0s\n"
     ]
    },
    {
     "name": "stderr",
     "output_type": "stream",
     "text": [
      "/home/pablo/.local/lib/python3.10/site-packages/sklearn/utils/validation.py:1111: DataConversionWarning: A column-vector y was passed when a 1d array was expected. Please change the shape of y to (n_samples, ), for example using ravel().\n",
      "  y = column_or_1d(y, warn=True)\n",
      "/home/pablo/.local/lib/python3.10/site-packages/sklearn/utils/validation.py:1111: DataConversionWarning: A column-vector y was passed when a 1d array was expected. Please change the shape of y to (n_samples, ), for example using ravel().\n",
      "  y = column_or_1d(y, warn=True)\n",
      "/home/pablo/.local/lib/python3.10/site-packages/sklearn/utils/validation.py:1111: DataConversionWarning: A column-vector y was passed when a 1d array was expected. Please change the shape of y to (n_samples, ), for example using ravel().\n",
      "  y = column_or_1d(y, warn=True)\n"
     ]
    },
    {
     "name": "stdout",
     "output_type": "stream",
     "text": [
      "[CV 2/5; 18/36] START 11pipeline__column_transformer__bow__ngram_range=(1, 2), classifier=LogisticRegression(random_state=42), selector__percentile=40\n",
      "[CV 1/5; 17/36] END 11pipeline__column_transformer__bow__ngram_range=(1, 2), classifier=LogisticRegression(random_state=42), selector__percentile=20;, score=(train=1.000, test=0.714) total time=   0.5s\n",
      "[CV 3/5; 18/36] START 11pipeline__column_transformer__bow__ngram_range=(1, 2), classifier=LogisticRegression(random_state=42), selector__percentile=40\n"
     ]
    },
    {
     "name": "stderr",
     "output_type": "stream",
     "text": [
      "/home/pablo/.local/lib/python3.10/site-packages/sklearn/utils/validation.py:1111: DataConversionWarning: A column-vector y was passed when a 1d array was expected. Please change the shape of y to (n_samples, ), for example using ravel().\n",
      "  y = column_or_1d(y, warn=True)\n",
      "/home/pablo/.local/lib/python3.10/site-packages/sklearn/utils/validation.py:1111: DataConversionWarning: A column-vector y was passed when a 1d array was expected. Please change the shape of y to (n_samples, ), for example using ravel().\n",
      "  y = column_or_1d(y, warn=True)\n",
      "/home/pablo/.local/lib/python3.10/site-packages/sklearn/utils/validation.py:1111: DataConversionWarning: A column-vector y was passed when a 1d array was expected. Please change the shape of y to (n_samples, ), for example using ravel().\n",
      "  y = column_or_1d(y, warn=True)\n",
      "/home/pablo/.local/lib/python3.10/site-packages/sklearn/linear_model/_logistic.py:444: ConvergenceWarning: lbfgs failed to converge (status=1):\n",
      "STOP: TOTAL NO. of ITERATIONS REACHED LIMIT.\n",
      "\n",
      "Increase the number of iterations (max_iter) or scale the data as shown in:\n",
      "    https://scikit-learn.org/stable/modules/preprocessing.html\n",
      "Please also refer to the documentation for alternative solver options:\n",
      "    https://scikit-learn.org/stable/modules/linear_model.html#logistic-regression\n",
      "  n_iter_i = _check_optimize_result(\n",
      "/home/pablo/.local/lib/python3.10/site-packages/sklearn/utils/validation.py:1111: DataConversionWarning: A column-vector y was passed when a 1d array was expected. Please change the shape of y to (n_samples, ), for example using ravel().\n",
      "  y = column_or_1d(y, warn=True)\n",
      "/home/pablo/.local/lib/python3.10/site-packages/sklearn/utils/validation.py:1111: DataConversionWarning: A column-vector y was passed when a 1d array was expected. Please change the shape of y to (n_samples, ), for example using ravel().\n",
      "  y = column_or_1d(y, warn=True)\n"
     ]
    },
    {
     "name": "stdout",
     "output_type": "stream",
     "text": [
      "[CV 3/5; 17/36] END 11pipeline__column_transformer__bow__ngram_range=(1, 2), classifier=LogisticRegression(random_state=42), selector__percentile=20;, score=(train=1.000, test=0.286) total time=   0.9s\n",
      "[CV 4/5; 18/36] START 11pipeline__column_transformer__bow__ngram_range=(1, 2), classifier=LogisticRegression(random_state=42), selector__percentile=40\n",
      "[CV 4/5; 16/36] END 11pipeline__column_transformer__bow__ngram_range=(1, 1), classifier=LogisticRegression(random_state=42), selector__percentile=80;, score=(train=1.000, test=0.429) total time=   1.0s\n",
      "[CV 5/5; 18/36] START 11pipeline__column_transformer__bow__ngram_range=(1, 2), classifier=LogisticRegression(random_state=42), selector__percentile=40\n",
      "[CV 2/5; 17/36] END 11pipeline__column_transformer__bow__ngram_range=(1, 2), classifier=LogisticRegression(random_state=42), selector__percentile=20;, score=(train=1.000, test=0.571) total time=   1.0s\n",
      "[CV 5/5; 17/36] END 11pipeline__column_transformer__bow__ngram_range=(1, 2), classifier=LogisticRegression(random_state=42), selector__percentile=20;, score=(train=1.000, test=0.429) total time=   0.5s\n",
      "[CV 1/5; 19/36] START 11pipeline__column_transformer__bow__ngram_range=(1, 2), classifier=LogisticRegression(random_state=42), selector__percentile=60\n",
      "[CV 2/5; 19/36] START 11pipeline__column_transformer__bow__ngram_range=(1, 2), classifier=LogisticRegression(random_state=42), selector__percentile=60\n"
     ]
    },
    {
     "name": "stderr",
     "output_type": "stream",
     "text": [
      "/home/pablo/.local/lib/python3.10/site-packages/sklearn/linear_model/_logistic.py:444: ConvergenceWarning: lbfgs failed to converge (status=1):\n",
      "STOP: TOTAL NO. of ITERATIONS REACHED LIMIT.\n",
      "\n",
      "Increase the number of iterations (max_iter) or scale the data as shown in:\n",
      "    https://scikit-learn.org/stable/modules/preprocessing.html\n",
      "Please also refer to the documentation for alternative solver options:\n",
      "    https://scikit-learn.org/stable/modules/linear_model.html#logistic-regression\n",
      "  n_iter_i = _check_optimize_result(\n"
     ]
    },
    {
     "name": "stdout",
     "output_type": "stream",
     "text": [
      "[CV 1/5; 18/36] END 11pipeline__column_transformer__bow__ngram_range=(1, 2), classifier=LogisticRegression(random_state=42), selector__percentile=40;, score=(train=1.000, test=0.714) total time=   0.7s\n",
      "[CV 3/5; 19/36] START 11pipeline__column_transformer__bow__ngram_range=(1, 2), classifier=LogisticRegression(random_state=42), selector__percentile=60\n"
     ]
    },
    {
     "name": "stderr",
     "output_type": "stream",
     "text": [
      "/home/pablo/.local/lib/python3.10/site-packages/sklearn/utils/validation.py:1111: DataConversionWarning: A column-vector y was passed when a 1d array was expected. Please change the shape of y to (n_samples, ), for example using ravel().\n",
      "  y = column_or_1d(y, warn=True)\n",
      "/home/pablo/.local/lib/python3.10/site-packages/sklearn/utils/validation.py:1111: DataConversionWarning: A column-vector y was passed when a 1d array was expected. Please change the shape of y to (n_samples, ), for example using ravel().\n",
      "  y = column_or_1d(y, warn=True)\n"
     ]
    },
    {
     "name": "stdout",
     "output_type": "stream",
     "text": [
      "[CV 3/5; 18/36] END 11pipeline__column_transformer__bow__ngram_range=(1, 2), classifier=LogisticRegression(random_state=42), selector__percentile=40;, score=(train=1.000, test=0.286) total time=   0.9s\n",
      "[CV 4/5; 19/36] START 11pipeline__column_transformer__bow__ngram_range=(1, 2), classifier=LogisticRegression(random_state=42), selector__percentile=60\n"
     ]
    },
    {
     "name": "stderr",
     "output_type": "stream",
     "text": [
      "/home/pablo/.local/lib/python3.10/site-packages/sklearn/utils/validation.py:1111: DataConversionWarning: A column-vector y was passed when a 1d array was expected. Please change the shape of y to (n_samples, ), for example using ravel().\n",
      "  y = column_or_1d(y, warn=True)\n",
      "/home/pablo/.local/lib/python3.10/site-packages/sklearn/utils/validation.py:1111: DataConversionWarning: A column-vector y was passed when a 1d array was expected. Please change the shape of y to (n_samples, ), for example using ravel().\n",
      "  y = column_or_1d(y, warn=True)\n"
     ]
    },
    {
     "name": "stdout",
     "output_type": "stream",
     "text": [
      "[CV 4/5; 17/36] END 11pipeline__column_transformer__bow__ngram_range=(1, 2), classifier=LogisticRegression(random_state=42), selector__percentile=20;, score=(train=1.000, test=0.429) total time=   1.2s\n",
      "[CV 5/5; 18/36] END 11pipeline__column_transformer__bow__ngram_range=(1, 2), classifier=LogisticRegression(random_state=42), selector__percentile=40;, score=(train=1.000, test=0.429) total time=   0.6s\n",
      "[CV 5/5; 19/36] START 11pipeline__column_transformer__bow__ngram_range=(1, 2), classifier=LogisticRegression(random_state=42), selector__percentile=60\n",
      "[CV 1/5; 20/36] START 11pipeline__column_transformer__bow__ngram_range=(1, 2), classifier=LogisticRegression(random_state=42), selector__percentile=80\n",
      "[CV 2/5; 18/36] END 11pipeline__column_transformer__bow__ngram_range=(1, 2), classifier=LogisticRegression(random_state=42), selector__percentile=40;, score=(train=1.000, test=0.143) total time=   1.2s\n",
      "[CV 2/5; 20/36] START 11pipeline__column_transformer__bow__ngram_range=(1, 2), classifier=LogisticRegression(random_state=42), selector__percentile=80\n"
     ]
    },
    {
     "name": "stderr",
     "output_type": "stream",
     "text": [
      "/home/pablo/.local/lib/python3.10/site-packages/sklearn/utils/validation.py:1111: DataConversionWarning: A column-vector y was passed when a 1d array was expected. Please change the shape of y to (n_samples, ), for example using ravel().\n",
      "  y = column_or_1d(y, warn=True)\n",
      "/home/pablo/.local/lib/python3.10/site-packages/sklearn/linear_model/_logistic.py:444: ConvergenceWarning: lbfgs failed to converge (status=1):\n",
      "STOP: TOTAL NO. of ITERATIONS REACHED LIMIT.\n",
      "\n",
      "Increase the number of iterations (max_iter) or scale the data as shown in:\n",
      "    https://scikit-learn.org/stable/modules/preprocessing.html\n",
      "Please also refer to the documentation for alternative solver options:\n",
      "    https://scikit-learn.org/stable/modules/linear_model.html#logistic-regression\n",
      "  n_iter_i = _check_optimize_result(\n",
      "/home/pablo/.local/lib/python3.10/site-packages/sklearn/linear_model/_logistic.py:444: ConvergenceWarning: lbfgs failed to converge (status=1):\n",
      "STOP: TOTAL NO. of ITERATIONS REACHED LIMIT.\n",
      "\n",
      "Increase the number of iterations (max_iter) or scale the data as shown in:\n",
      "    https://scikit-learn.org/stable/modules/preprocessing.html\n",
      "Please also refer to the documentation for alternative solver options:\n",
      "    https://scikit-learn.org/stable/modules/linear_model.html#logistic-regression\n",
      "  n_iter_i = _check_optimize_result(\n",
      "/home/pablo/.local/lib/python3.10/site-packages/sklearn/utils/validation.py:1111: DataConversionWarning: A column-vector y was passed when a 1d array was expected. Please change the shape of y to (n_samples, ), for example using ravel().\n",
      "  y = column_or_1d(y, warn=True)\n",
      "/home/pablo/.local/lib/python3.10/site-packages/sklearn/utils/validation.py:1111: DataConversionWarning: A column-vector y was passed when a 1d array was expected. Please change the shape of y to (n_samples, ), for example using ravel().\n",
      "  y = column_or_1d(y, warn=True)\n",
      "/home/pablo/.local/lib/python3.10/site-packages/sklearn/utils/validation.py:1111: DataConversionWarning: A column-vector y was passed when a 1d array was expected. Please change the shape of y to (n_samples, ), for example using ravel().\n",
      "  y = column_or_1d(y, warn=True)\n"
     ]
    },
    {
     "name": "stdout",
     "output_type": "stream",
     "text": [
      "[CV 1/5; 19/36] END 11pipeline__column_transformer__bow__ngram_range=(1, 2), classifier=LogisticRegression(random_state=42), selector__percentile=60;, score=(train=1.000, test=0.714) total time=   1.0s\n",
      "[CV 3/5; 20/36] START 11pipeline__column_transformer__bow__ngram_range=(1, 2), classifier=LogisticRegression(random_state=42), selector__percentile=80\n",
      "[CV 3/5; 19/36] END 11pipeline__column_transformer__bow__ngram_range=(1, 2), classifier=LogisticRegression(random_state=42), selector__percentile=60;, score=(train=1.000, test=0.429) total time=   1.1s\n",
      "[CV 4/5; 20/36] START 11pipeline__column_transformer__bow__ngram_range=(1, 2), classifier=LogisticRegression(random_state=42), selector__percentile=80\n"
     ]
    },
    {
     "name": "stderr",
     "output_type": "stream",
     "text": [
      "/home/pablo/.local/lib/python3.10/site-packages/sklearn/utils/validation.py:1111: DataConversionWarning: A column-vector y was passed when a 1d array was expected. Please change the shape of y to (n_samples, ), for example using ravel().\n",
      "  y = column_or_1d(y, warn=True)\n",
      "/home/pablo/.local/lib/python3.10/site-packages/sklearn/linear_model/_logistic.py:444: ConvergenceWarning: lbfgs failed to converge (status=1):\n",
      "STOP: TOTAL NO. of ITERATIONS REACHED LIMIT.\n",
      "\n",
      "Increase the number of iterations (max_iter) or scale the data as shown in:\n",
      "    https://scikit-learn.org/stable/modules/preprocessing.html\n",
      "Please also refer to the documentation for alternative solver options:\n",
      "    https://scikit-learn.org/stable/modules/linear_model.html#logistic-regression\n",
      "  n_iter_i = _check_optimize_result(\n",
      "/home/pablo/.local/lib/python3.10/site-packages/sklearn/utils/validation.py:1111: DataConversionWarning: A column-vector y was passed when a 1d array was expected. Please change the shape of y to (n_samples, ), for example using ravel().\n",
      "  y = column_or_1d(y, warn=True)\n"
     ]
    },
    {
     "name": "stdout",
     "output_type": "stream",
     "text": [
      "[CV 4/5; 18/36] END 11pipeline__column_transformer__bow__ngram_range=(1, 2), classifier=LogisticRegression(random_state=42), selector__percentile=40;, score=(train=1.000, test=0.429) total time=   1.4s\n",
      "[CV 5/5; 20/36] START 11pipeline__column_transformer__bow__ngram_range=(1, 2), classifier=LogisticRegression(random_state=42), selector__percentile=80\n",
      "[CV 5/5; 19/36] END 11pipeline__column_transformer__bow__ngram_range=(1, 2), classifier=LogisticRegression(random_state=42), selector__percentile=60;, score=(train=1.000, test=0.429) total time=   0.8s\n",
      "[CV 1/5; 21/36] START 11pipeline__column_transformer__bow__ngram_range=(1, 3), classifier=LogisticRegression(random_state=42), selector__percentile=20\n",
      "[CV 2/5; 19/36] END 11pipeline__column_transformer__bow__ngram_range=(1, 2), classifier=LogisticRegression(random_state=42), selector__percentile=60;, score=(train=1.000, test=0.143) total time=   1.5s\n",
      "[CV 2/5; 21/36] START 11pipeline__column_transformer__bow__ngram_range=(1, 3), classifier=LogisticRegression(random_state=42), selector__percentile=20\n",
      "[CV 1/5; 20/36] END 11pipeline__column_transformer__bow__ngram_range=(1, 2), classifier=LogisticRegression(random_state=42), selector__percentile=80;, score=(train=1.000, test=0.714) total time=   1.0s\n",
      "[CV 3/5; 21/36] START 11pipeline__column_transformer__bow__ngram_range=(1, 3), classifier=LogisticRegression(random_state=42), selector__percentile=20\n"
     ]
    },
    {
     "name": "stderr",
     "output_type": "stream",
     "text": [
      "/home/pablo/.local/lib/python3.10/site-packages/sklearn/linear_model/_logistic.py:444: ConvergenceWarning: lbfgs failed to converge (status=1):\n",
      "STOP: TOTAL NO. of ITERATIONS REACHED LIMIT.\n",
      "\n",
      "Increase the number of iterations (max_iter) or scale the data as shown in:\n",
      "    https://scikit-learn.org/stable/modules/preprocessing.html\n",
      "Please also refer to the documentation for alternative solver options:\n",
      "    https://scikit-learn.org/stable/modules/linear_model.html#logistic-regression\n",
      "  n_iter_i = _check_optimize_result(\n",
      "/home/pablo/.local/lib/python3.10/site-packages/sklearn/utils/validation.py:1111: DataConversionWarning: A column-vector y was passed when a 1d array was expected. Please change the shape of y to (n_samples, ), for example using ravel().\n",
      "  y = column_or_1d(y, warn=True)\n",
      "/home/pablo/.local/lib/python3.10/site-packages/sklearn/utils/validation.py:1111: DataConversionWarning: A column-vector y was passed when a 1d array was expected. Please change the shape of y to (n_samples, ), for example using ravel().\n",
      "  y = column_or_1d(y, warn=True)\n",
      "/home/pablo/.local/lib/python3.10/site-packages/sklearn/utils/validation.py:1111: DataConversionWarning: A column-vector y was passed when a 1d array was expected. Please change the shape of y to (n_samples, ), for example using ravel().\n",
      "  y = column_or_1d(y, warn=True)\n"
     ]
    },
    {
     "name": "stdout",
     "output_type": "stream",
     "text": [
      "[CV 4/5; 19/36] END 11pipeline__column_transformer__bow__ngram_range=(1, 2), classifier=LogisticRegression(random_state=42), selector__percentile=60;, score=(train=1.000, test=0.429) total time=   1.4s\n",
      "[CV 4/5; 21/36] START 11pipeline__column_transformer__bow__ngram_range=(1, 3), classifier=LogisticRegression(random_state=42), selector__percentile=20\n",
      "[CV 3/5; 20/36] END 11pipeline__column_transformer__bow__ngram_range=(1, 2), classifier=LogisticRegression(random_state=42), selector__percentile=80;, score=(train=1.000, test=0.429) total time=   1.0s\n",
      "[CV 5/5; 21/36] START 11pipeline__column_transformer__bow__ngram_range=(1, 3), classifier=LogisticRegression(random_state=42), selector__percentile=20\n"
     ]
    },
    {
     "name": "stderr",
     "output_type": "stream",
     "text": [
      "/home/pablo/.local/lib/python3.10/site-packages/sklearn/utils/validation.py:1111: DataConversionWarning: A column-vector y was passed when a 1d array was expected. Please change the shape of y to (n_samples, ), for example using ravel().\n",
      "  y = column_or_1d(y, warn=True)\n",
      "/home/pablo/.local/lib/python3.10/site-packages/sklearn/utils/validation.py:1111: DataConversionWarning: A column-vector y was passed when a 1d array was expected. Please change the shape of y to (n_samples, ), for example using ravel().\n",
      "  y = column_or_1d(y, warn=True)\n"
     ]
    },
    {
     "name": "stdout",
     "output_type": "stream",
     "text": [
      "[CV 5/5; 20/36] END 11pipeline__column_transformer__bow__ngram_range=(1, 2), classifier=LogisticRegression(random_state=42), selector__percentile=80;, score=(train=1.000, test=0.429) total time=   0.7s\n",
      "[CV 1/5; 22/36] START 11pipeline__column_transformer__bow__ngram_range=(1, 3), classifier=LogisticRegression(random_state=42), selector__percentile=40\n",
      "[CV 2/5; 20/36] END 11pipeline__column_transformer__bow__ngram_range=(1, 2), classifier=LogisticRegression(random_state=42), selector__percentile=80;, score=(train=1.000, test=0.143) total time=   1.7s\n"
     ]
    },
    {
     "name": "stderr",
     "output_type": "stream",
     "text": [
      "/home/pablo/.local/lib/python3.10/site-packages/sklearn/utils/validation.py:1111: DataConversionWarning: A column-vector y was passed when a 1d array was expected. Please change the shape of y to (n_samples, ), for example using ravel().\n",
      "  y = column_or_1d(y, warn=True)\n"
     ]
    },
    {
     "name": "stdout",
     "output_type": "stream",
     "text": [
      "[CV 2/5; 22/36] START 11pipeline__column_transformer__bow__ngram_range=(1, 3), classifier=LogisticRegression(random_state=42), selector__percentile=40\n",
      "[CV 1/5; 21/36] END 11pipeline__column_transformer__bow__ngram_range=(1, 3), classifier=LogisticRegression(random_state=42), selector__percentile=20;, score=(train=1.000, test=0.714) total time=   0.7s\n",
      "[CV 3/5; 22/36] START 11pipeline__column_transformer__bow__ngram_range=(1, 3), classifier=LogisticRegression(random_state=42), selector__percentile=40\n"
     ]
    },
    {
     "name": "stderr",
     "output_type": "stream",
     "text": [
      "/home/pablo/.local/lib/python3.10/site-packages/sklearn/utils/validation.py:1111: DataConversionWarning: A column-vector y was passed when a 1d array was expected. Please change the shape of y to (n_samples, ), for example using ravel().\n",
      "  y = column_or_1d(y, warn=True)\n",
      "/home/pablo/.local/lib/python3.10/site-packages/sklearn/utils/validation.py:1111: DataConversionWarning: A column-vector y was passed when a 1d array was expected. Please change the shape of y to (n_samples, ), for example using ravel().\n",
      "  y = column_or_1d(y, warn=True)\n"
     ]
    },
    {
     "name": "stdout",
     "output_type": "stream",
     "text": [
      "[CV 3/5; 21/36] END 11pipeline__column_transformer__bow__ngram_range=(1, 3), classifier=LogisticRegression(random_state=42), selector__percentile=20;, score=(train=1.000, test=0.286) total time=   0.9s\n",
      "[CV 4/5; 22/36] START 11pipeline__column_transformer__bow__ngram_range=(1, 3), classifier=LogisticRegression(random_state=42), selector__percentile=40\n",
      "[CV 5/5; 21/36] END 11pipeline__column_transformer__bow__ngram_range=(1, 3), classifier=LogisticRegression(random_state=42), selector__percentile=20;, score=(train=1.000, test=0.571) total time=   0.7s\n",
      "[CV 5/5; 22/36] START 11pipeline__column_transformer__bow__ngram_range=(1, 3), classifier=LogisticRegression(random_state=42), selector__percentile=40\n",
      "[CV 2/5; 21/36] END 11pipeline__column_transformer__bow__ngram_range=(1, 3), classifier=LogisticRegression(random_state=42), selector__percentile=20;, score=(train=0.967, test=0.286) total time=   1.2s\n",
      "[CV 1/5; 23/36] START 11pipeline__column_transformer__bow__ngram_range=(1, 3), classifier=LogisticRegression(random_state=42), selector__percentile=60\n"
     ]
    },
    {
     "name": "stderr",
     "output_type": "stream",
     "text": [
      "/home/pablo/.local/lib/python3.10/site-packages/sklearn/utils/validation.py:1111: DataConversionWarning: A column-vector y was passed when a 1d array was expected. Please change the shape of y to (n_samples, ), for example using ravel().\n",
      "  y = column_or_1d(y, warn=True)\n",
      "/home/pablo/.local/lib/python3.10/site-packages/sklearn/utils/validation.py:1111: DataConversionWarning: A column-vector y was passed when a 1d array was expected. Please change the shape of y to (n_samples, ), for example using ravel().\n",
      "  y = column_or_1d(y, warn=True)\n"
     ]
    },
    {
     "name": "stdout",
     "output_type": "stream",
     "text": [
      "[CV 4/5; 20/36] END 11pipeline__column_transformer__bow__ngram_range=(1, 2), classifier=LogisticRegression(random_state=42), selector__percentile=80;, score=(train=1.000, test=0.429) total time=   1.5s\n",
      "[CV 2/5; 23/36] START 11pipeline__column_transformer__bow__ngram_range=(1, 3), classifier=LogisticRegression(random_state=42), selector__percentile=60\n"
     ]
    },
    {
     "name": "stderr",
     "output_type": "stream",
     "text": [
      "/home/pablo/.local/lib/python3.10/site-packages/sklearn/utils/validation.py:1111: DataConversionWarning: A column-vector y was passed when a 1d array was expected. Please change the shape of y to (n_samples, ), for example using ravel().\n",
      "  y = column_or_1d(y, warn=True)\n",
      "/home/pablo/.local/lib/python3.10/site-packages/sklearn/linear_model/_logistic.py:444: ConvergenceWarning: lbfgs failed to converge (status=1):\n",
      "STOP: TOTAL NO. of ITERATIONS REACHED LIMIT.\n",
      "\n",
      "Increase the number of iterations (max_iter) or scale the data as shown in:\n",
      "    https://scikit-learn.org/stable/modules/preprocessing.html\n",
      "Please also refer to the documentation for alternative solver options:\n",
      "    https://scikit-learn.org/stable/modules/linear_model.html#logistic-regression\n",
      "  n_iter_i = _check_optimize_result(\n",
      "/home/pablo/.local/lib/python3.10/site-packages/sklearn/utils/validation.py:1111: DataConversionWarning: A column-vector y was passed when a 1d array was expected. Please change the shape of y to (n_samples, ), for example using ravel().\n",
      "  y = column_or_1d(y, warn=True)\n",
      "/home/pablo/.local/lib/python3.10/site-packages/sklearn/utils/validation.py:1111: DataConversionWarning: A column-vector y was passed when a 1d array was expected. Please change the shape of y to (n_samples, ), for example using ravel().\n",
      "  y = column_or_1d(y, warn=True)\n",
      "/home/pablo/.local/lib/python3.10/site-packages/sklearn/utils/validation.py:1111: DataConversionWarning: A column-vector y was passed when a 1d array was expected. Please change the shape of y to (n_samples, ), for example using ravel().\n",
      "  y = column_or_1d(y, warn=True)\n",
      "/home/pablo/.local/lib/python3.10/site-packages/sklearn/linear_model/_logistic.py:444: ConvergenceWarning: lbfgs failed to converge (status=1):\n",
      "STOP: TOTAL NO. of ITERATIONS REACHED LIMIT.\n",
      "\n",
      "Increase the number of iterations (max_iter) or scale the data as shown in:\n",
      "    https://scikit-learn.org/stable/modules/preprocessing.html\n",
      "Please also refer to the documentation for alternative solver options:\n",
      "    https://scikit-learn.org/stable/modules/linear_model.html#logistic-regression\n",
      "  n_iter_i = _check_optimize_result(\n"
     ]
    },
    {
     "name": "stdout",
     "output_type": "stream",
     "text": [
      "[CV 1/5; 22/36] END 11pipeline__column_transformer__bow__ngram_range=(1, 3), classifier=LogisticRegression(random_state=42), selector__percentile=40;, score=(train=1.000, test=0.714) total time=   1.4s\n",
      "[CV 3/5; 23/36] START 11pipeline__column_transformer__bow__ngram_range=(1, 3), classifier=LogisticRegression(random_state=42), selector__percentile=60\n",
      "[CV 3/5; 22/36] END 11pipeline__column_transformer__bow__ngram_range=(1, 3), classifier=LogisticRegression(random_state=42), selector__percentile=40;, score=(train=1.000, test=0.286) total time=   1.1s\n",
      "[CV 5/5; 22/36] END 11pipeline__column_transformer__bow__ngram_range=(1, 3), classifier=LogisticRegression(random_state=42), selector__percentile=40;, score=(train=1.000, test=0.571) total time=   0.7s\n",
      "[CV 4/5; 23/36] START 11pipeline__column_transformer__bow__ngram_range=(1, 3), classifier=LogisticRegression(random_state=42), selector__percentile=60\n",
      "[CV 5/5; 23/36] START 11pipeline__column_transformer__bow__ngram_range=(1, 3), classifier=LogisticRegression(random_state=42), selector__percentile=60\n",
      "[CV 4/5; 21/36] END 11pipeline__column_transformer__bow__ngram_range=(1, 3), classifier=LogisticRegression(random_state=42), selector__percentile=20;, score=(train=1.000, test=0.429) total time=   1.5s\n",
      "[CV 1/5; 24/36] START 11pipeline__column_transformer__bow__ngram_range=(1, 3), classifier=LogisticRegression(random_state=42), selector__percentile=80\n"
     ]
    },
    {
     "name": "stderr",
     "output_type": "stream",
     "text": [
      "/home/pablo/.local/lib/python3.10/site-packages/sklearn/utils/validation.py:1111: DataConversionWarning: A column-vector y was passed when a 1d array was expected. Please change the shape of y to (n_samples, ), for example using ravel().\n",
      "  y = column_or_1d(y, warn=True)\n",
      "/home/pablo/.local/lib/python3.10/site-packages/sklearn/linear_model/_logistic.py:444: ConvergenceWarning: lbfgs failed to converge (status=1):\n",
      "STOP: TOTAL NO. of ITERATIONS REACHED LIMIT.\n",
      "\n",
      "Increase the number of iterations (max_iter) or scale the data as shown in:\n",
      "    https://scikit-learn.org/stable/modules/preprocessing.html\n",
      "Please also refer to the documentation for alternative solver options:\n",
      "    https://scikit-learn.org/stable/modules/linear_model.html#logistic-regression\n",
      "  n_iter_i = _check_optimize_result(\n",
      "/home/pablo/.local/lib/python3.10/site-packages/sklearn/utils/validation.py:1111: DataConversionWarning: A column-vector y was passed when a 1d array was expected. Please change the shape of y to (n_samples, ), for example using ravel().\n",
      "  y = column_or_1d(y, warn=True)\n",
      "/home/pablo/.local/lib/python3.10/site-packages/sklearn/utils/validation.py:1111: DataConversionWarning: A column-vector y was passed when a 1d array was expected. Please change the shape of y to (n_samples, ), for example using ravel().\n",
      "  y = column_or_1d(y, warn=True)\n"
     ]
    },
    {
     "name": "stdout",
     "output_type": "stream",
     "text": [
      "[CV 2/5; 22/36] END 11pipeline__column_transformer__bow__ngram_range=(1, 3), classifier=LogisticRegression(random_state=42), selector__percentile=40;, score=(train=1.000, test=0.286) total time=   1.8s\n",
      "[CV 2/5; 24/36] START 11pipeline__column_transformer__bow__ngram_range=(1, 3), classifier=LogisticRegression(random_state=42), selector__percentile=80\n"
     ]
    },
    {
     "name": "stderr",
     "output_type": "stream",
     "text": [
      "/home/pablo/.local/lib/python3.10/site-packages/sklearn/utils/validation.py:1111: DataConversionWarning: A column-vector y was passed when a 1d array was expected. Please change the shape of y to (n_samples, ), for example using ravel().\n",
      "  y = column_or_1d(y, warn=True)\n",
      "/home/pablo/.local/lib/python3.10/site-packages/sklearn/linear_model/_logistic.py:444: ConvergenceWarning: lbfgs failed to converge (status=1):\n",
      "STOP: TOTAL NO. of ITERATIONS REACHED LIMIT.\n",
      "\n",
      "Increase the number of iterations (max_iter) or scale the data as shown in:\n",
      "    https://scikit-learn.org/stable/modules/preprocessing.html\n",
      "Please also refer to the documentation for alternative solver options:\n",
      "    https://scikit-learn.org/stable/modules/linear_model.html#logistic-regression\n",
      "  n_iter_i = _check_optimize_result(\n"
     ]
    },
    {
     "name": "stdout",
     "output_type": "stream",
     "text": [
      "[CV 1/5; 23/36] END 11pipeline__column_transformer__bow__ngram_range=(1, 3), classifier=LogisticRegression(random_state=42), selector__percentile=60;, score=(train=1.000, test=0.714) total time=   1.7s\n",
      "[CV 3/5; 24/36] START 11pipeline__column_transformer__bow__ngram_range=(1, 3), classifier=LogisticRegression(random_state=42), selector__percentile=80\n",
      "[CV 5/5; 23/36] END 11pipeline__column_transformer__bow__ngram_range=(1, 3), classifier=LogisticRegression(random_state=42), selector__percentile=60;, score=(train=1.000, test=0.429) total time=   0.9s\n",
      "[CV 4/5; 24/36] START 11pipeline__column_transformer__bow__ngram_range=(1, 3), classifier=LogisticRegression(random_state=42), selector__percentile=80\n",
      "[CV 4/5; 22/36] END 11pipeline__column_transformer__bow__ngram_range=(1, 3), classifier=LogisticRegression(random_state=42), selector__percentile=40;, score=(train=1.000, test=0.429) total time=   1.8s\n",
      "[CV 5/5; 24/36] START 11pipeline__column_transformer__bow__ngram_range=(1, 3), classifier=LogisticRegression(random_state=42), selector__percentile=80\n"
     ]
    },
    {
     "name": "stderr",
     "output_type": "stream",
     "text": [
      "/home/pablo/.local/lib/python3.10/site-packages/sklearn/utils/validation.py:1111: DataConversionWarning: A column-vector y was passed when a 1d array was expected. Please change the shape of y to (n_samples, ), for example using ravel().\n",
      "  y = column_or_1d(y, warn=True)\n",
      "/home/pablo/.local/lib/python3.10/site-packages/sklearn/utils/validation.py:1111: DataConversionWarning: A column-vector y was passed when a 1d array was expected. Please change the shape of y to (n_samples, ), for example using ravel().\n",
      "  y = column_or_1d(y, warn=True)\n",
      "/home/pablo/.local/lib/python3.10/site-packages/sklearn/utils/validation.py:1111: DataConversionWarning: A column-vector y was passed when a 1d array was expected. Please change the shape of y to (n_samples, ), for example using ravel().\n",
      "  y = column_or_1d(y, warn=True)\n"
     ]
    },
    {
     "name": "stdout",
     "output_type": "stream",
     "text": [
      "[CV 2/5; 23/36] END 11pipeline__column_transformer__bow__ngram_range=(1, 3), classifier=LogisticRegression(random_state=42), selector__percentile=60;, score=(train=1.000, test=0.286) total time=   2.2s\n",
      "[CV 1/5; 25/36] START 11pipeline__column_transformer__bow__ngram_range=(1, 1), classifier=DecisionTreeClassifier(random_state=42), selector__percentile=20\n"
     ]
    },
    {
     "name": "stderr",
     "output_type": "stream",
     "text": [
      "/home/pablo/.local/lib/python3.10/site-packages/sklearn/linear_model/_logistic.py:444: ConvergenceWarning: lbfgs failed to converge (status=1):\n",
      "STOP: TOTAL NO. of ITERATIONS REACHED LIMIT.\n",
      "\n",
      "Increase the number of iterations (max_iter) or scale the data as shown in:\n",
      "    https://scikit-learn.org/stable/modules/preprocessing.html\n",
      "Please also refer to the documentation for alternative solver options:\n",
      "    https://scikit-learn.org/stable/modules/linear_model.html#logistic-regression\n",
      "  n_iter_i = _check_optimize_result(\n",
      "/home/pablo/.local/lib/python3.10/site-packages/sklearn/utils/validation.py:1111: DataConversionWarning: A column-vector y was passed when a 1d array was expected. Please change the shape of y to (n_samples, ), for example using ravel().\n",
      "  y = column_or_1d(y, warn=True)\n",
      "/home/pablo/.local/lib/python3.10/site-packages/sklearn/utils/validation.py:1111: DataConversionWarning: A column-vector y was passed when a 1d array was expected. Please change the shape of y to (n_samples, ), for example using ravel().\n",
      "  y = column_or_1d(y, warn=True)\n"
     ]
    },
    {
     "name": "stdout",
     "output_type": "stream",
     "text": [
      "[CV 3/5; 23/36] END 11pipeline__column_transformer__bow__ngram_range=(1, 3), classifier=LogisticRegression(random_state=42), selector__percentile=60;, score=(train=1.000, test=0.286) total time=   1.8s\n",
      "[CV 2/5; 25/36] START 11pipeline__column_transformer__bow__ngram_range=(1, 1), classifier=DecisionTreeClassifier(random_state=42), selector__percentile=20\n",
      "[CV 1/5; 24/36] END 11pipeline__column_transformer__bow__ngram_range=(1, 3), classifier=LogisticRegression(random_state=42), selector__percentile=80;, score=(train=1.000, test=0.714) total time=   2.1s\n",
      "[CV 4/5; 23/36] END 11pipeline__column_transformer__bow__ngram_range=(1, 3), classifier=LogisticRegression(random_state=42), selector__percentile=60;, score=(train=1.000, test=0.429) total time=   1.9s\n",
      "[CV 3/5; 25/36] START 11pipeline__column_transformer__bow__ngram_range=(1, 1), classifier=DecisionTreeClassifier(random_state=42), selector__percentile=20\n",
      "[CV 4/5; 25/36] START 11pipeline__column_transformer__bow__ngram_range=(1, 1), classifier=DecisionTreeClassifier(random_state=42), selector__percentile=20\n",
      "[CV 1/5; 25/36] END 11pipeline__column_transformer__bow__ngram_range=(1, 1), classifier=DecisionTreeClassifier(random_state=42), selector__percentile=20;, score=(train=1.000, test=0.571) total time=   0.6s\n",
      "[CV 5/5; 24/36] END 11pipeline__column_transformer__bow__ngram_range=(1, 3), classifier=LogisticRegression(random_state=42), selector__percentile=80;, score=(train=1.000, test=0.429) total time=   1.2s\n",
      "[CV 5/5; 25/36] START 11pipeline__column_transformer__bow__ngram_range=(1, 1), classifier=DecisionTreeClassifier(random_state=42), selector__percentile=20\n",
      "[CV 1/5; 26/36] START 11pipeline__column_transformer__bow__ngram_range=(1, 1), classifier=DecisionTreeClassifier(random_state=42), selector__percentile=40\n"
     ]
    },
    {
     "name": "stderr",
     "output_type": "stream",
     "text": [
      "/home/pablo/.local/lib/python3.10/site-packages/sklearn/utils/validation.py:1111: DataConversionWarning: A column-vector y was passed when a 1d array was expected. Please change the shape of y to (n_samples, ), for example using ravel().\n",
      "  y = column_or_1d(y, warn=True)\n",
      "/home/pablo/.local/lib/python3.10/site-packages/sklearn/utils/validation.py:1111: DataConversionWarning: A column-vector y was passed when a 1d array was expected. Please change the shape of y to (n_samples, ), for example using ravel().\n",
      "  y = column_or_1d(y, warn=True)\n",
      "/home/pablo/.local/lib/python3.10/site-packages/sklearn/utils/validation.py:1111: DataConversionWarning: A column-vector y was passed when a 1d array was expected. Please change the shape of y to (n_samples, ), for example using ravel().\n",
      "  y = column_or_1d(y, warn=True)\n",
      "/home/pablo/.local/lib/python3.10/site-packages/sklearn/utils/validation.py:1111: DataConversionWarning: A column-vector y was passed when a 1d array was expected. Please change the shape of y to (n_samples, ), for example using ravel().\n",
      "  y = column_or_1d(y, warn=True)\n",
      "/home/pablo/.local/lib/python3.10/site-packages/sklearn/linear_model/_logistic.py:444: ConvergenceWarning: lbfgs failed to converge (status=1):\n",
      "STOP: TOTAL NO. of ITERATIONS REACHED LIMIT.\n",
      "\n",
      "Increase the number of iterations (max_iter) or scale the data as shown in:\n",
      "    https://scikit-learn.org/stable/modules/preprocessing.html\n",
      "Please also refer to the documentation for alternative solver options:\n",
      "    https://scikit-learn.org/stable/modules/linear_model.html#logistic-regression\n",
      "  n_iter_i = _check_optimize_result(\n"
     ]
    },
    {
     "name": "stdout",
     "output_type": "stream",
     "text": [
      "[CV 3/5; 24/36] END 11pipeline__column_transformer__bow__ngram_range=(1, 3), classifier=LogisticRegression(random_state=42), selector__percentile=80;, score=(train=1.000, test=0.429) total time=   2.1s\n",
      "[CV 2/5; 26/36] START 11pipeline__column_transformer__bow__ngram_range=(1, 1), classifier=DecisionTreeClassifier(random_state=42), selector__percentile=40\n"
     ]
    },
    {
     "name": "stderr",
     "output_type": "stream",
     "text": [
      "/home/pablo/.local/lib/python3.10/site-packages/sklearn/utils/validation.py:1111: DataConversionWarning: A column-vector y was passed when a 1d array was expected. Please change the shape of y to (n_samples, ), for example using ravel().\n",
      "  y = column_or_1d(y, warn=True)\n"
     ]
    },
    {
     "name": "stdout",
     "output_type": "stream",
     "text": [
      "[CV 1/5; 26/36] END 11pipeline__column_transformer__bow__ngram_range=(1, 1), classifier=DecisionTreeClassifier(random_state=42), selector__percentile=40;, score=(train=1.000, test=0.571) total time=   0.5s\n",
      "[CV 3/5; 26/36] START 11pipeline__column_transformer__bow__ngram_range=(1, 1), classifier=DecisionTreeClassifier(random_state=42), selector__percentile=40\n",
      "[CV 2/5; 25/36] END 11pipeline__column_transformer__bow__ngram_range=(1, 1), classifier=DecisionTreeClassifier(random_state=42), selector__percentile=20;, score=(train=1.000, test=0.143) total time=   0.9s\n",
      "[CV 4/5; 26/36] START 11pipeline__column_transformer__bow__ngram_range=(1, 1), classifier=DecisionTreeClassifier(random_state=42), selector__percentile=40\n",
      "[CV 5/5; 25/36] END 11pipeline__column_transformer__bow__ngram_range=(1, 1), classifier=DecisionTreeClassifier(random_state=42), selector__percentile=20;, score=(train=1.000, test=0.000) total time=   0.6s\n",
      "[CV 5/5; 26/36] START 11pipeline__column_transformer__bow__ngram_range=(1, 1), classifier=DecisionTreeClassifier(random_state=42), selector__percentile=40\n",
      "[CV 3/5; 25/36] END 11pipeline__column_transformer__bow__ngram_range=(1, 1), classifier=DecisionTreeClassifier(random_state=42), selector__percentile=20;, score=(train=1.000, test=0.429) total time=   0.7s\n",
      "[CV 1/5; 27/36] START 11pipeline__column_transformer__bow__ngram_range=(1, 1), classifier=DecisionTreeClassifier(random_state=42), selector__percentile=60\n"
     ]
    },
    {
     "name": "stderr",
     "output_type": "stream",
     "text": [
      "/home/pablo/.local/lib/python3.10/site-packages/sklearn/utils/validation.py:1111: DataConversionWarning: A column-vector y was passed when a 1d array was expected. Please change the shape of y to (n_samples, ), for example using ravel().\n",
      "  y = column_or_1d(y, warn=True)\n",
      "/home/pablo/.local/lib/python3.10/site-packages/sklearn/utils/validation.py:1111: DataConversionWarning: A column-vector y was passed when a 1d array was expected. Please change the shape of y to (n_samples, ), for example using ravel().\n",
      "  y = column_or_1d(y, warn=True)\n",
      "/home/pablo/.local/lib/python3.10/site-packages/sklearn/utils/validation.py:1111: DataConversionWarning: A column-vector y was passed when a 1d array was expected. Please change the shape of y to (n_samples, ), for example using ravel().\n",
      "  y = column_or_1d(y, warn=True)\n"
     ]
    },
    {
     "name": "stdout",
     "output_type": "stream",
     "text": [
      "[CV 2/5; 24/36] END 11pipeline__column_transformer__bow__ngram_range=(1, 3), classifier=LogisticRegression(random_state=42), selector__percentile=80;, score=(train=1.000, test=0.286) total time=   3.0s\n",
      "[CV 4/5; 24/36] END 11pipeline__column_transformer__bow__ngram_range=(1, 3), classifier=LogisticRegression(random_state=42), selector__percentile=80;, score=(train=1.000, test=0.429) total time=   2.3s\n",
      "[CV 2/5; 27/36] START 11pipeline__column_transformer__bow__ngram_range=(1, 1), classifier=DecisionTreeClassifier(random_state=42), selector__percentile=60\n",
      "[CV 3/5; 27/36] START 11pipeline__column_transformer__bow__ngram_range=(1, 1), classifier=DecisionTreeClassifier(random_state=42), selector__percentile=60\n"
     ]
    },
    {
     "name": "stderr",
     "output_type": "stream",
     "text": [
      "/home/pablo/.local/lib/python3.10/site-packages/sklearn/utils/validation.py:1111: DataConversionWarning: A column-vector y was passed when a 1d array was expected. Please change the shape of y to (n_samples, ), for example using ravel().\n",
      "  y = column_or_1d(y, warn=True)\n"
     ]
    },
    {
     "name": "stdout",
     "output_type": "stream",
     "text": [
      "[CV 4/5; 25/36] END 11pipeline__column_transformer__bow__ngram_range=(1, 1), classifier=DecisionTreeClassifier(random_state=42), selector__percentile=20;, score=(train=1.000, test=0.714) total time=   1.0s\n",
      "[CV 4/5; 27/36] START 11pipeline__column_transformer__bow__ngram_range=(1, 1), classifier=DecisionTreeClassifier(random_state=42), selector__percentile=60\n"
     ]
    },
    {
     "name": "stderr",
     "output_type": "stream",
     "text": [
      "/home/pablo/.local/lib/python3.10/site-packages/sklearn/utils/validation.py:1111: DataConversionWarning: A column-vector y was passed when a 1d array was expected. Please change the shape of y to (n_samples, ), for example using ravel().\n",
      "  y = column_or_1d(y, warn=True)\n",
      "/home/pablo/.local/lib/python3.10/site-packages/sklearn/utils/validation.py:1111: DataConversionWarning: A column-vector y was passed when a 1d array was expected. Please change the shape of y to (n_samples, ), for example using ravel().\n",
      "  y = column_or_1d(y, warn=True)\n",
      "/home/pablo/.local/lib/python3.10/site-packages/sklearn/utils/validation.py:1111: DataConversionWarning: A column-vector y was passed when a 1d array was expected. Please change the shape of y to (n_samples, ), for example using ravel().\n",
      "  y = column_or_1d(y, warn=True)\n"
     ]
    },
    {
     "name": "stdout",
     "output_type": "stream",
     "text": [
      "[CV 5/5; 26/36] END 11pipeline__column_transformer__bow__ngram_range=(1, 1), classifier=DecisionTreeClassifier(random_state=42), selector__percentile=40;, score=(train=1.000, test=0.143) total time=   0.5s\n",
      "[CV 5/5; 27/36] START 11pipeline__column_transformer__bow__ngram_range=(1, 1), classifier=DecisionTreeClassifier(random_state=42), selector__percentile=60\n",
      "[CV 3/5; 26/36] END 11pipeline__column_transformer__bow__ngram_range=(1, 1), classifier=DecisionTreeClassifier(random_state=42), selector__percentile=40;, score=(train=1.000, test=0.429) total time=   0.6s\n",
      "[CV 1/5; 28/36] START 11pipeline__column_transformer__bow__ngram_range=(1, 1), classifier=DecisionTreeClassifier(random_state=42), selector__percentile=80\n",
      "[CV 1/5; 27/36] END 11pipeline__column_transformer__bow__ngram_range=(1, 1), classifier=DecisionTreeClassifier(random_state=42), selector__percentile=60;, score=(train=1.000, test=0.571) total time=   0.5s\n",
      "[CV 2/5; 28/36] START 11pipeline__column_transformer__bow__ngram_range=(1, 1), classifier=DecisionTreeClassifier(random_state=42), selector__percentile=80\n",
      "[CV 2/5; 26/36] END 11pipeline__column_transformer__bow__ngram_range=(1, 1), classifier=DecisionTreeClassifier(random_state=42), selector__percentile=40;, score=(train=1.000, test=0.143) total time=   0.8s\n",
      "[CV 3/5; 28/36] START 11pipeline__column_transformer__bow__ngram_range=(1, 1), classifier=DecisionTreeClassifier(random_state=42), selector__percentile=80\n"
     ]
    },
    {
     "name": "stderr",
     "output_type": "stream",
     "text": [
      "/home/pablo/.local/lib/python3.10/site-packages/sklearn/utils/validation.py:1111: DataConversionWarning: A column-vector y was passed when a 1d array was expected. Please change the shape of y to (n_samples, ), for example using ravel().\n",
      "  y = column_or_1d(y, warn=True)\n",
      "/home/pablo/.local/lib/python3.10/site-packages/sklearn/utils/validation.py:1111: DataConversionWarning: A column-vector y was passed when a 1d array was expected. Please change the shape of y to (n_samples, ), for example using ravel().\n",
      "  y = column_or_1d(y, warn=True)\n",
      "/home/pablo/.local/lib/python3.10/site-packages/sklearn/utils/validation.py:1111: DataConversionWarning: A column-vector y was passed when a 1d array was expected. Please change the shape of y to (n_samples, ), for example using ravel().\n",
      "  y = column_or_1d(y, warn=True)\n"
     ]
    },
    {
     "name": "stdout",
     "output_type": "stream",
     "text": [
      "[CV 3/5; 27/36] END 11pipeline__column_transformer__bow__ngram_range=(1, 1), classifier=DecisionTreeClassifier(random_state=42), selector__percentile=60;, score=(train=1.000, test=0.571) total time=   0.7s\n",
      "[CV 4/5; 28/36] START 11pipeline__column_transformer__bow__ngram_range=(1, 1), classifier=DecisionTreeClassifier(random_state=42), selector__percentile=80\n",
      "[CV 5/5; 27/36] END 11pipeline__column_transformer__bow__ngram_range=(1, 1), classifier=DecisionTreeClassifier(random_state=42), selector__percentile=60;, score=(train=1.000, test=0.571) total time=   0.5s\n",
      "[CV 5/5; 28/36] START 11pipeline__column_transformer__bow__ngram_range=(1, 1), classifier=DecisionTreeClassifier(random_state=42), selector__percentile=80\n"
     ]
    },
    {
     "name": "stderr",
     "output_type": "stream",
     "text": [
      "/home/pablo/.local/lib/python3.10/site-packages/sklearn/utils/validation.py:1111: DataConversionWarning: A column-vector y was passed when a 1d array was expected. Please change the shape of y to (n_samples, ), for example using ravel().\n",
      "  y = column_or_1d(y, warn=True)\n",
      "/home/pablo/.local/lib/python3.10/site-packages/sklearn/utils/validation.py:1111: DataConversionWarning: A column-vector y was passed when a 1d array was expected. Please change the shape of y to (n_samples, ), for example using ravel().\n",
      "  y = column_or_1d(y, warn=True)\n"
     ]
    },
    {
     "name": "stdout",
     "output_type": "stream",
     "text": [
      "[CV 4/5; 26/36] END 11pipeline__column_transformer__bow__ngram_range=(1, 1), classifier=DecisionTreeClassifier(random_state=42), selector__percentile=40;, score=(train=1.000, test=0.286) total time=   1.1s[CV 2/5; 27/36] END 11pipeline__column_transformer__bow__ngram_range=(1, 1), classifier=DecisionTreeClassifier(random_state=42), selector__percentile=60;, score=(train=1.000, test=0.143) total time=   0.8s\n",
      "\n",
      "[CV 1/5; 29/36] START 11pipeline__column_transformer__bow__ngram_range=(1, 2), classifier=DecisionTreeClassifier(random_state=42), selector__percentile=20\n",
      "[CV 2/5; 29/36] START 11pipeline__column_transformer__bow__ngram_range=(1, 2), classifier=DecisionTreeClassifier(random_state=42), selector__percentile=20\n",
      "[CV 1/5; 28/36] END 11pipeline__column_transformer__bow__ngram_range=(1, 1), classifier=DecisionTreeClassifier(random_state=42), selector__percentile=80;, score=(train=1.000, test=0.571) total time=   0.6s\n",
      "[CV 3/5; 29/36] START 11pipeline__column_transformer__bow__ngram_range=(1, 2), classifier=DecisionTreeClassifier(random_state=42), selector__percentile=20\n",
      "[CV 3/5; 28/36] END 11pipeline__column_transformer__bow__ngram_range=(1, 1), classifier=DecisionTreeClassifier(random_state=42), selector__percentile=80;, score=(train=1.000, test=0.571) total time=   0.7s\n"
     ]
    },
    {
     "name": "stderr",
     "output_type": "stream",
     "text": [
      "/home/pablo/.local/lib/python3.10/site-packages/sklearn/utils/validation.py:1111: DataConversionWarning: A column-vector y was passed when a 1d array was expected. Please change the shape of y to (n_samples, ), for example using ravel().\n",
      "  y = column_or_1d(y, warn=True)\n",
      "/home/pablo/.local/lib/python3.10/site-packages/sklearn/utils/validation.py:1111: DataConversionWarning: A column-vector y was passed when a 1d array was expected. Please change the shape of y to (n_samples, ), for example using ravel().\n",
      "  y = column_or_1d(y, warn=True)\n"
     ]
    },
    {
     "name": "stdout",
     "output_type": "stream",
     "text": [
      "[CV 4/5; 29/36] START 11pipeline__column_transformer__bow__ngram_range=(1, 2), classifier=DecisionTreeClassifier(random_state=42), selector__percentile=20\n"
     ]
    },
    {
     "name": "stderr",
     "output_type": "stream",
     "text": [
      "/home/pablo/.local/lib/python3.10/site-packages/sklearn/utils/validation.py:1111: DataConversionWarning: A column-vector y was passed when a 1d array was expected. Please change the shape of y to (n_samples, ), for example using ravel().\n",
      "  y = column_or_1d(y, warn=True)\n",
      "/home/pablo/.local/lib/python3.10/site-packages/sklearn/utils/validation.py:1111: DataConversionWarning: A column-vector y was passed when a 1d array was expected. Please change the shape of y to (n_samples, ), for example using ravel().\n",
      "  y = column_or_1d(y, warn=True)\n"
     ]
    },
    {
     "name": "stdout",
     "output_type": "stream",
     "text": [
      "[CV 4/5; 27/36] END 11pipeline__column_transformer__bow__ngram_range=(1, 1), classifier=DecisionTreeClassifier(random_state=42), selector__percentile=60;, score=(train=1.000, test=0.143) total time=   1.0s\n",
      "[CV 5/5; 29/36] START 11pipeline__column_transformer__bow__ngram_range=(1, 2), classifier=DecisionTreeClassifier(random_state=42), selector__percentile=20\n",
      "[CV 5/5; 28/36] END 11pipeline__column_transformer__bow__ngram_range=(1, 1), classifier=DecisionTreeClassifier(random_state=42), selector__percentile=80;, score=(train=1.000, test=0.429) total time=   0.5s\n",
      "[CV 1/5; 30/36] START 11pipeline__column_transformer__bow__ngram_range=(1, 2), classifier=DecisionTreeClassifier(random_state=42), selector__percentile=40\n",
      "[CV 2/5; 28/36] END 11pipeline__column_transformer__bow__ngram_range=(1, 1), classifier=DecisionTreeClassifier(random_state=42), selector__percentile=80;, score=(train=1.000, test=0.143) total time=   0.9s\n",
      "[CV 2/5; 30/36] START 11pipeline__column_transformer__bow__ngram_range=(1, 2), classifier=DecisionTreeClassifier(random_state=42), selector__percentile=40\n"
     ]
    },
    {
     "name": "stderr",
     "output_type": "stream",
     "text": [
      "/home/pablo/.local/lib/python3.10/site-packages/sklearn/utils/validation.py:1111: DataConversionWarning: A column-vector y was passed when a 1d array was expected. Please change the shape of y to (n_samples, ), for example using ravel().\n",
      "  y = column_or_1d(y, warn=True)\n"
     ]
    },
    {
     "name": "stdout",
     "output_type": "stream",
     "text": [
      "[CV 1/5; 29/36] END 11pipeline__column_transformer__bow__ngram_range=(1, 2), classifier=DecisionTreeClassifier(random_state=42), selector__percentile=20;, score=(train=1.000, test=0.714) total time=   0.5s\n",
      "[CV 3/5; 30/36] START 11pipeline__column_transformer__bow__ngram_range=(1, 2), classifier=DecisionTreeClassifier(random_state=42), selector__percentile=40\n"
     ]
    },
    {
     "name": "stderr",
     "output_type": "stream",
     "text": [
      "/home/pablo/.local/lib/python3.10/site-packages/sklearn/utils/validation.py:1111: DataConversionWarning: A column-vector y was passed when a 1d array was expected. Please change the shape of y to (n_samples, ), for example using ravel().\n",
      "  y = column_or_1d(y, warn=True)\n",
      "/home/pablo/.local/lib/python3.10/site-packages/sklearn/utils/validation.py:1111: DataConversionWarning: A column-vector y was passed when a 1d array was expected. Please change the shape of y to (n_samples, ), for example using ravel().\n",
      "  y = column_or_1d(y, warn=True)\n",
      "/home/pablo/.local/lib/python3.10/site-packages/sklearn/utils/validation.py:1111: DataConversionWarning: A column-vector y was passed when a 1d array was expected. Please change the shape of y to (n_samples, ), for example using ravel().\n",
      "  y = column_or_1d(y, warn=True)\n"
     ]
    },
    {
     "name": "stdout",
     "output_type": "stream",
     "text": [
      "[CV 4/5; 28/36] END 11pipeline__column_transformer__bow__ngram_range=(1, 1), classifier=DecisionTreeClassifier(random_state=42), selector__percentile=80;, score=(train=1.000, test=0.429) total time=   0.9s\n",
      "[CV 4/5; 30/36] START 11pipeline__column_transformer__bow__ngram_range=(1, 2), classifier=DecisionTreeClassifier(random_state=42), selector__percentile=40\n",
      "[CV 3/5; 29/36] END 11pipeline__column_transformer__bow__ngram_range=(1, 2), classifier=DecisionTreeClassifier(random_state=42), selector__percentile=20;, score=(train=1.000, test=0.429) total time=   0.7s\n",
      "[CV 5/5; 30/36] START 11pipeline__column_transformer__bow__ngram_range=(1, 2), classifier=DecisionTreeClassifier(random_state=42), selector__percentile=40\n",
      "[CV 5/5; 29/36] END 11pipeline__column_transformer__bow__ngram_range=(1, 2), classifier=DecisionTreeClassifier(random_state=42), selector__percentile=20;, score=(train=1.000, test=0.286) total time=   0.5s\n"
     ]
    },
    {
     "name": "stderr",
     "output_type": "stream",
     "text": [
      "/home/pablo/.local/lib/python3.10/site-packages/sklearn/utils/validation.py:1111: DataConversionWarning: A column-vector y was passed when a 1d array was expected. Please change the shape of y to (n_samples, ), for example using ravel().\n",
      "  y = column_or_1d(y, warn=True)\n",
      "/home/pablo/.local/lib/python3.10/site-packages/sklearn/utils/validation.py:1111: DataConversionWarning: A column-vector y was passed when a 1d array was expected. Please change the shape of y to (n_samples, ), for example using ravel().\n",
      "  y = column_or_1d(y, warn=True)\n"
     ]
    },
    {
     "name": "stdout",
     "output_type": "stream",
     "text": [
      "[CV 1/5; 31/36] START 11pipeline__column_transformer__bow__ngram_range=(1, 2), classifier=DecisionTreeClassifier(random_state=42), selector__percentile=60\n",
      "[CV 2/5; 29/36] END 11pipeline__column_transformer__bow__ngram_range=(1, 2), classifier=DecisionTreeClassifier(random_state=42), selector__percentile=20;, score=(train=1.000, test=0.714) total time=   1.0s\n",
      "[CV 2/5; 31/36] START 11pipeline__column_transformer__bow__ngram_range=(1, 2), classifier=DecisionTreeClassifier(random_state=42), selector__percentile=60\n",
      "[CV 1/5; 30/36] END 11pipeline__column_transformer__bow__ngram_range=(1, 2), classifier=DecisionTreeClassifier(random_state=42), selector__percentile=40;, score=(train=1.000, test=0.571) total time=   0.6s\n",
      "[CV 3/5; 31/36] START 11pipeline__column_transformer__bow__ngram_range=(1, 2), classifier=DecisionTreeClassifier(random_state=42), selector__percentile=60\n"
     ]
    },
    {
     "name": "stderr",
     "output_type": "stream",
     "text": [
      "/home/pablo/.local/lib/python3.10/site-packages/sklearn/utils/validation.py:1111: DataConversionWarning: A column-vector y was passed when a 1d array was expected. Please change the shape of y to (n_samples, ), for example using ravel().\n",
      "  y = column_or_1d(y, warn=True)\n",
      "/home/pablo/.local/lib/python3.10/site-packages/sklearn/utils/validation.py:1111: DataConversionWarning: A column-vector y was passed when a 1d array was expected. Please change the shape of y to (n_samples, ), for example using ravel().\n",
      "  y = column_or_1d(y, warn=True)\n"
     ]
    },
    {
     "name": "stdout",
     "output_type": "stream",
     "text": [
      "[CV 4/5; 29/36] END 11pipeline__column_transformer__bow__ngram_range=(1, 2), classifier=DecisionTreeClassifier(random_state=42), selector__percentile=20;, score=(train=1.000, test=0.429) total time=   1.0s\n",
      "[CV 4/5; 31/36] START 11pipeline__column_transformer__bow__ngram_range=(1, 2), classifier=DecisionTreeClassifier(random_state=42), selector__percentile=60\n",
      "[CV 2/5; 30/36] END 11pipeline__column_transformer__bow__ngram_range=(1, 2), classifier=DecisionTreeClassifier(random_state=42), selector__percentile=40;, score=(train=1.000, test=0.286) total time=   0.9s\n",
      "[CV 5/5; 31/36] START 11pipeline__column_transformer__bow__ngram_range=(1, 2), classifier=DecisionTreeClassifier(random_state=42), selector__percentile=60\n"
     ]
    },
    {
     "name": "stderr",
     "output_type": "stream",
     "text": [
      "/home/pablo/.local/lib/python3.10/site-packages/sklearn/utils/validation.py:1111: DataConversionWarning: A column-vector y was passed when a 1d array was expected. Please change the shape of y to (n_samples, ), for example using ravel().\n",
      "  y = column_or_1d(y, warn=True)\n",
      "/home/pablo/.local/lib/python3.10/site-packages/sklearn/utils/validation.py:1111: DataConversionWarning: A column-vector y was passed when a 1d array was expected. Please change the shape of y to (n_samples, ), for example using ravel().\n",
      "  y = column_or_1d(y, warn=True)\n"
     ]
    },
    {
     "name": "stdout",
     "output_type": "stream",
     "text": [
      "[CV 3/5; 30/36] END 11pipeline__column_transformer__bow__ngram_range=(1, 2), classifier=DecisionTreeClassifier(random_state=42), selector__percentile=40;, score=(train=1.000, test=0.429) total time=   0.8s\n",
      "[CV 1/5; 32/36] START 11pipeline__column_transformer__bow__ngram_range=(1, 2), classifier=DecisionTreeClassifier(random_state=42), selector__percentile=80\n",
      "[CV 5/5; 30/36] END 11pipeline__column_transformer__bow__ngram_range=(1, 2), classifier=DecisionTreeClassifier(random_state=42), selector__percentile=40;, score=(train=1.000, test=0.286) total time=   0.6s\n",
      "[CV 2/5; 32/36] START 11pipeline__column_transformer__bow__ngram_range=(1, 2), classifier=DecisionTreeClassifier(random_state=42), selector__percentile=80\n",
      "[CV 1/5; 31/36] END 11pipeline__column_transformer__bow__ngram_range=(1, 2), classifier=DecisionTreeClassifier(random_state=42), selector__percentile=60;, score=(train=1.000, test=0.571) total time=   0.5s\n",
      "[CV 3/5; 32/36] START 11pipeline__column_transformer__bow__ngram_range=(1, 2), classifier=DecisionTreeClassifier(random_state=42), selector__percentile=80\n"
     ]
    },
    {
     "name": "stderr",
     "output_type": "stream",
     "text": [
      "/home/pablo/.local/lib/python3.10/site-packages/sklearn/utils/validation.py:1111: DataConversionWarning: A column-vector y was passed when a 1d array was expected. Please change the shape of y to (n_samples, ), for example using ravel().\n",
      "  y = column_or_1d(y, warn=True)\n",
      "/home/pablo/.local/lib/python3.10/site-packages/sklearn/utils/validation.py:1111: DataConversionWarning: A column-vector y was passed when a 1d array was expected. Please change the shape of y to (n_samples, ), for example using ravel().\n",
      "  y = column_or_1d(y, warn=True)\n",
      "/home/pablo/.local/lib/python3.10/site-packages/sklearn/utils/validation.py:1111: DataConversionWarning: A column-vector y was passed when a 1d array was expected. Please change the shape of y to (n_samples, ), for example using ravel().\n",
      "  y = column_or_1d(y, warn=True)\n",
      "/home/pablo/.local/lib/python3.10/site-packages/sklearn/utils/validation.py:1111: DataConversionWarning: A column-vector y was passed when a 1d array was expected. Please change the shape of y to (n_samples, ), for example using ravel().\n",
      "  y = column_or_1d(y, warn=True)\n",
      "/home/pablo/.local/lib/python3.10/site-packages/sklearn/utils/validation.py:1111: DataConversionWarning: A column-vector y was passed when a 1d array was expected. Please change the shape of y to (n_samples, ), for example using ravel().\n",
      "  y = column_or_1d(y, warn=True)\n",
      "/home/pablo/.local/lib/python3.10/site-packages/sklearn/utils/validation.py:1111: DataConversionWarning: A column-vector y was passed when a 1d array was expected. Please change the shape of y to (n_samples, ), for example using ravel().\n",
      "  y = column_or_1d(y, warn=True)\n"
     ]
    },
    {
     "name": "stdout",
     "output_type": "stream",
     "text": [
      "[CV 3/5; 31/36] END 11pipeline__column_transformer__bow__ngram_range=(1, 2), classifier=DecisionTreeClassifier(random_state=42), selector__percentile=60;, score=(train=1.000, test=0.571) total time=   0.7s\n",
      "[CV 4/5; 32/36] START 11pipeline__column_transformer__bow__ngram_range=(1, 2), classifier=DecisionTreeClassifier(random_state=42), selector__percentile=80\n",
      "[CV 4/5; 30/36] END 11pipeline__column_transformer__bow__ngram_range=(1, 2), classifier=DecisionTreeClassifier(random_state=42), selector__percentile=40;, score=(train=1.000, test=0.286) total time=   1.0s\n",
      "[CV 5/5; 32/36] START 11pipeline__column_transformer__bow__ngram_range=(1, 2), classifier=DecisionTreeClassifier(random_state=42), selector__percentile=80\n",
      "[CV 5/5; 31/36] END 11pipeline__column_transformer__bow__ngram_range=(1, 2), classifier=DecisionTreeClassifier(random_state=42), selector__percentile=60;, score=(train=1.000, test=0.286) total time=   0.5s\n",
      "[CV 1/5; 33/36] START 11pipeline__column_transformer__bow__ngram_range=(1, 3), classifier=DecisionTreeClassifier(random_state=42), selector__percentile=20\n",
      "[CV 1/5; 32/36] END 11pipeline__column_transformer__bow__ngram_range=(1, 2), classifier=DecisionTreeClassifier(random_state=42), selector__percentile=80;, score=(train=1.000, test=0.571) total time=   0.6s\n",
      "[CV 2/5; 31/36] END 11pipeline__column_transformer__bow__ngram_range=(1, 2), classifier=DecisionTreeClassifier(random_state=42), selector__percentile=60;, score=(train=1.000, test=0.429) total time=   1.1s\n",
      "[CV 2/5; 33/36] START 11pipeline__column_transformer__bow__ngram_range=(1, 3), classifier=DecisionTreeClassifier(random_state=42), selector__percentile=20\n",
      "[CV 3/5; 33/36] START 11pipeline__column_transformer__bow__ngram_range=(1, 3), classifier=DecisionTreeClassifier(random_state=42), selector__percentile=20\n"
     ]
    },
    {
     "name": "stderr",
     "output_type": "stream",
     "text": [
      "/home/pablo/.local/lib/python3.10/site-packages/sklearn/utils/validation.py:1111: DataConversionWarning: A column-vector y was passed when a 1d array was expected. Please change the shape of y to (n_samples, ), for example using ravel().\n",
      "  y = column_or_1d(y, warn=True)\n",
      "/home/pablo/.local/lib/python3.10/site-packages/sklearn/utils/validation.py:1111: DataConversionWarning: A column-vector y was passed when a 1d array was expected. Please change the shape of y to (n_samples, ), for example using ravel().\n",
      "  y = column_or_1d(y, warn=True)\n"
     ]
    },
    {
     "name": "stdout",
     "output_type": "stream",
     "text": [
      "[CV 3/5; 32/36] END 11pipeline__column_transformer__bow__ngram_range=(1, 2), classifier=DecisionTreeClassifier(random_state=42), selector__percentile=80;, score=(train=1.000, test=0.571) total time=   0.7s\n",
      "[CV 4/5; 33/36] START 11pipeline__column_transformer__bow__ngram_range=(1, 3), classifier=DecisionTreeClassifier(random_state=42), selector__percentile=20\n",
      "[CV 2/5; 32/36] END 11pipeline__column_transformer__bow__ngram_range=(1, 2), classifier=DecisionTreeClassifier(random_state=42), selector__percentile=80;, score=(train=1.000, test=0.429) total time=   0.9s\n",
      "[CV 5/5; 33/36] START 11pipeline__column_transformer__bow__ngram_range=(1, 3), classifier=DecisionTreeClassifier(random_state=42), selector__percentile=20\n",
      "[CV 4/5; 31/36] END 11pipeline__column_transformer__bow__ngram_range=(1, 2), classifier=DecisionTreeClassifier(random_state=42), selector__percentile=60;, score=(train=1.000, test=0.429) total time=   1.1s\n",
      "[CV 5/5; 32/36] END 11pipeline__column_transformer__bow__ngram_range=(1, 2), classifier=DecisionTreeClassifier(random_state=42), selector__percentile=80;, score=(train=1.000, test=0.286) total time=   0.5s\n",
      "[CV 1/5; 34/36] START 11pipeline__column_transformer__bow__ngram_range=(1, 3), classifier=DecisionTreeClassifier(random_state=42), selector__percentile=40\n",
      "[CV 2/5; 34/36] START 11pipeline__column_transformer__bow__ngram_range=(1, 3), classifier=DecisionTreeClassifier(random_state=42), selector__percentile=40\n"
     ]
    },
    {
     "name": "stderr",
     "output_type": "stream",
     "text": [
      "/home/pablo/.local/lib/python3.10/site-packages/sklearn/utils/validation.py:1111: DataConversionWarning: A column-vector y was passed when a 1d array was expected. Please change the shape of y to (n_samples, ), for example using ravel().\n",
      "  y = column_or_1d(y, warn=True)\n",
      "/home/pablo/.local/lib/python3.10/site-packages/sklearn/utils/validation.py:1111: DataConversionWarning: A column-vector y was passed when a 1d array was expected. Please change the shape of y to (n_samples, ), for example using ravel().\n",
      "  y = column_or_1d(y, warn=True)\n"
     ]
    },
    {
     "name": "stdout",
     "output_type": "stream",
     "text": [
      "[CV 1/5; 33/36] END 11pipeline__column_transformer__bow__ngram_range=(1, 3), classifier=DecisionTreeClassifier(random_state=42), selector__percentile=20;, score=(train=1.000, test=0.571) total time=   0.5s\n",
      "[CV 3/5; 34/36] START 11pipeline__column_transformer__bow__ngram_range=(1, 3), classifier=DecisionTreeClassifier(random_state=42), selector__percentile=40\n"
     ]
    },
    {
     "name": "stderr",
     "output_type": "stream",
     "text": [
      "/home/pablo/.local/lib/python3.10/site-packages/sklearn/utils/validation.py:1111: DataConversionWarning: A column-vector y was passed when a 1d array was expected. Please change the shape of y to (n_samples, ), for example using ravel().\n",
      "  y = column_or_1d(y, warn=True)\n",
      "/home/pablo/.local/lib/python3.10/site-packages/sklearn/utils/validation.py:1111: DataConversionWarning: A column-vector y was passed when a 1d array was expected. Please change the shape of y to (n_samples, ), for example using ravel().\n",
      "  y = column_or_1d(y, warn=True)\n",
      "/home/pablo/.local/lib/python3.10/site-packages/sklearn/utils/validation.py:1111: DataConversionWarning: A column-vector y was passed when a 1d array was expected. Please change the shape of y to (n_samples, ), for example using ravel().\n",
      "  y = column_or_1d(y, warn=True)\n",
      "/home/pablo/.local/lib/python3.10/site-packages/sklearn/utils/validation.py:1111: DataConversionWarning: A column-vector y was passed when a 1d array was expected. Please change the shape of y to (n_samples, ), for example using ravel().\n",
      "  y = column_or_1d(y, warn=True)\n",
      "/home/pablo/.local/lib/python3.10/site-packages/sklearn/utils/validation.py:1111: DataConversionWarning: A column-vector y was passed when a 1d array was expected. Please change the shape of y to (n_samples, ), for example using ravel().\n",
      "  y = column_or_1d(y, warn=True)\n"
     ]
    },
    {
     "name": "stdout",
     "output_type": "stream",
     "text": [
      "[CV 3/5; 33/36] END 11pipeline__column_transformer__bow__ngram_range=(1, 3), classifier=DecisionTreeClassifier(random_state=42), selector__percentile=20;, score=(train=1.000, test=0.571) total time=   0.9s\n",
      "[CV 4/5; 34/36] START 11pipeline__column_transformer__bow__ngram_range=(1, 3), classifier=DecisionTreeClassifier(random_state=42), selector__percentile=40\n",
      "[CV 5/5; 33/36] END 11pipeline__column_transformer__bow__ngram_range=(1, 3), classifier=DecisionTreeClassifier(random_state=42), selector__percentile=20;, score=(train=1.000, test=0.286) total time=   0.6s\n",
      "[CV 5/5; 34/36] START 11pipeline__column_transformer__bow__ngram_range=(1, 3), classifier=DecisionTreeClassifier(random_state=42), selector__percentile=40\n",
      "[CV 4/5; 32/36] END 11pipeline__column_transformer__bow__ngram_range=(1, 2), classifier=DecisionTreeClassifier(random_state=42), selector__percentile=80;, score=(train=1.000, test=0.286) total time=   1.1s\n",
      "[CV 1/5; 35/36] START 11pipeline__column_transformer__bow__ngram_range=(1, 3), classifier=DecisionTreeClassifier(random_state=42), selector__percentile=60\n"
     ]
    },
    {
     "name": "stderr",
     "output_type": "stream",
     "text": [
      "/home/pablo/.local/lib/python3.10/site-packages/sklearn/utils/validation.py:1111: DataConversionWarning: A column-vector y was passed when a 1d array was expected. Please change the shape of y to (n_samples, ), for example using ravel().\n",
      "  y = column_or_1d(y, warn=True)\n"
     ]
    },
    {
     "name": "stdout",
     "output_type": "stream",
     "text": [
      "[CV 1/5; 34/36] END 11pipeline__column_transformer__bow__ngram_range=(1, 3), classifier=DecisionTreeClassifier(random_state=42), selector__percentile=40;, score=(train=1.000, test=0.571) total time=   0.6s\n",
      "[CV 2/5; 35/36] START 11pipeline__column_transformer__bow__ngram_range=(1, 3), classifier=DecisionTreeClassifier(random_state=42), selector__percentile=60\n",
      "[CV 2/5; 33/36] END 11pipeline__column_transformer__bow__ngram_range=(1, 3), classifier=DecisionTreeClassifier(random_state=42), selector__percentile=20;, score=(train=0.967, test=0.286) total time=   1.1s\n",
      "[CV 3/5; 35/36] START 11pipeline__column_transformer__bow__ngram_range=(1, 3), classifier=DecisionTreeClassifier(random_state=42), selector__percentile=60\n"
     ]
    },
    {
     "name": "stderr",
     "output_type": "stream",
     "text": [
      "/home/pablo/.local/lib/python3.10/site-packages/sklearn/utils/validation.py:1111: DataConversionWarning: A column-vector y was passed when a 1d array was expected. Please change the shape of y to (n_samples, ), for example using ravel().\n",
      "  y = column_or_1d(y, warn=True)\n"
     ]
    },
    {
     "name": "stdout",
     "output_type": "stream",
     "text": [
      "[CV 3/5; 34/36] END 11pipeline__column_transformer__bow__ngram_range=(1, 3), classifier=DecisionTreeClassifier(random_state=42), selector__percentile=40;, score=(train=1.000, test=0.429) total time=   0.8s\n",
      "[CV 4/5; 35/36] START 11pipeline__column_transformer__bow__ngram_range=(1, 3), classifier=DecisionTreeClassifier(random_state=42), selector__percentile=60\n",
      "[CV 4/5; 33/36] END 11pipeline__column_transformer__bow__ngram_range=(1, 3), classifier=DecisionTreeClassifier(random_state=42), selector__percentile=20;, score=(train=1.000, test=0.429) total time=   1.1s\n",
      "[CV 5/5; 35/36] START 11pipeline__column_transformer__bow__ngram_range=(1, 3), classifier=DecisionTreeClassifier(random_state=42), selector__percentile=60\n"
     ]
    },
    {
     "name": "stderr",
     "output_type": "stream",
     "text": [
      "/home/pablo/.local/lib/python3.10/site-packages/sklearn/utils/validation.py:1111: DataConversionWarning: A column-vector y was passed when a 1d array was expected. Please change the shape of y to (n_samples, ), for example using ravel().\n",
      "  y = column_or_1d(y, warn=True)\n"
     ]
    },
    {
     "name": "stdout",
     "output_type": "stream",
     "text": [
      "[CV 2/5; 34/36] END 11pipeline__column_transformer__bow__ngram_range=(1, 3), classifier=DecisionTreeClassifier(random_state=42), selector__percentile=40;, score=(train=1.000, test=0.429) total time=   1.1s\n",
      "[CV 1/5; 36/36] START 11pipeline__column_transformer__bow__ngram_range=(1, 3), classifier=DecisionTreeClassifier(random_state=42), selector__percentile=80\n",
      "[CV 5/5; 34/36] END 11pipeline__column_transformer__bow__ngram_range=(1, 3), classifier=DecisionTreeClassifier(random_state=42), selector__percentile=40;, score=(train=1.000, test=0.429) total time=   0.6s\n",
      "[CV 2/5; 36/36] START 11pipeline__column_transformer__bow__ngram_range=(1, 3), classifier=DecisionTreeClassifier(random_state=42), selector__percentile=80\n"
     ]
    },
    {
     "name": "stderr",
     "output_type": "stream",
     "text": [
      "/home/pablo/.local/lib/python3.10/site-packages/sklearn/utils/validation.py:1111: DataConversionWarning: A column-vector y was passed when a 1d array was expected. Please change the shape of y to (n_samples, ), for example using ravel().\n",
      "  y = column_or_1d(y, warn=True)\n",
      "/home/pablo/.local/lib/python3.10/site-packages/sklearn/utils/validation.py:1111: DataConversionWarning: A column-vector y was passed when a 1d array was expected. Please change the shape of y to (n_samples, ), for example using ravel().\n",
      "  y = column_or_1d(y, warn=True)\n",
      "/home/pablo/.local/lib/python3.10/site-packages/sklearn/utils/validation.py:1111: DataConversionWarning: A column-vector y was passed when a 1d array was expected. Please change the shape of y to (n_samples, ), for example using ravel().\n",
      "  y = column_or_1d(y, warn=True)\n",
      "/home/pablo/.local/lib/python3.10/site-packages/sklearn/utils/validation.py:1111: DataConversionWarning: A column-vector y was passed when a 1d array was expected. Please change the shape of y to (n_samples, ), for example using ravel().\n",
      "  y = column_or_1d(y, warn=True)\n"
     ]
    },
    {
     "name": "stdout",
     "output_type": "stream",
     "text": [
      "[CV 1/5; 35/36] END 11pipeline__column_transformer__bow__ngram_range=(1, 3), classifier=DecisionTreeClassifier(random_state=42), selector__percentile=60;, score=(train=1.000, test=0.571) total time=   0.7s\n",
      "[CV 3/5; 36/36] START 11pipeline__column_transformer__bow__ngram_range=(1, 3), classifier=DecisionTreeClassifier(random_state=42), selector__percentile=80\n"
     ]
    },
    {
     "name": "stderr",
     "output_type": "stream",
     "text": [
      "/home/pablo/.local/lib/python3.10/site-packages/sklearn/utils/validation.py:1111: DataConversionWarning: A column-vector y was passed when a 1d array was expected. Please change the shape of y to (n_samples, ), for example using ravel().\n",
      "  y = column_or_1d(y, warn=True)\n",
      "/home/pablo/.local/lib/python3.10/site-packages/sklearn/utils/validation.py:1111: DataConversionWarning: A column-vector y was passed when a 1d array was expected. Please change the shape of y to (n_samples, ), for example using ravel().\n",
      "  y = column_or_1d(y, warn=True)\n"
     ]
    },
    {
     "name": "stdout",
     "output_type": "stream",
     "text": [
      "[CV 5/5; 35/36] END 11pipeline__column_transformer__bow__ngram_range=(1, 3), classifier=DecisionTreeClassifier(random_state=42), selector__percentile=60;, score=(train=1.000, test=0.286) total time=   0.6s\n",
      "[CV 4/5; 36/36] START 11pipeline__column_transformer__bow__ngram_range=(1, 3), classifier=DecisionTreeClassifier(random_state=42), selector__percentile=80\n",
      "[CV 3/5; 35/36] END 11pipeline__column_transformer__bow__ngram_range=(1, 3), classifier=DecisionTreeClassifier(random_state=42), selector__percentile=60;, score=(train=1.000, test=0.571) total time=   0.9s\n",
      "[CV 5/5; 36/36] START 11pipeline__column_transformer__bow__ngram_range=(1, 3), classifier=DecisionTreeClassifier(random_state=42), selector__percentile=80\n"
     ]
    },
    {
     "name": "stderr",
     "output_type": "stream",
     "text": [
      "/home/pablo/.local/lib/python3.10/site-packages/sklearn/utils/validation.py:1111: DataConversionWarning: A column-vector y was passed when a 1d array was expected. Please change the shape of y to (n_samples, ), for example using ravel().\n",
      "  y = column_or_1d(y, warn=True)\n",
      "/home/pablo/.local/lib/python3.10/site-packages/sklearn/utils/validation.py:1111: DataConversionWarning: A column-vector y was passed when a 1d array was expected. Please change the shape of y to (n_samples, ), for example using ravel().\n",
      "  y = column_or_1d(y, warn=True)\n"
     ]
    },
    {
     "name": "stdout",
     "output_type": "stream",
     "text": [
      "[CV 2/5; 35/36] END 11pipeline__column_transformer__bow__ngram_range=(1, 3), classifier=DecisionTreeClassifier(random_state=42), selector__percentile=60;, score=(train=1.000, test=0.286) total time=   1.0s\n",
      "[CV 1/5; 36/36] END 11pipeline__column_transformer__bow__ngram_range=(1, 3), classifier=DecisionTreeClassifier(random_state=42), selector__percentile=80;, score=(train=1.000, test=0.571) total time=   0.7s\n"
     ]
    },
    {
     "name": "stderr",
     "output_type": "stream",
     "text": [
      "/home/pablo/.local/lib/python3.10/site-packages/sklearn/utils/validation.py:1111: DataConversionWarning: A column-vector y was passed when a 1d array was expected. Please change the shape of y to (n_samples, ), for example using ravel().\n",
      "  y = column_or_1d(y, warn=True)\n"
     ]
    },
    {
     "name": "stdout",
     "output_type": "stream",
     "text": [
      "[CV 4/5; 34/36] END 11pipeline__column_transformer__bow__ngram_range=(1, 3), classifier=DecisionTreeClassifier(random_state=42), selector__percentile=40;, score=(train=1.000, test=0.429) total time=   1.3s\n",
      "[CV 4/5; 35/36] END 11pipeline__column_transformer__bow__ngram_range=(1, 3), classifier=DecisionTreeClassifier(random_state=42), selector__percentile=60;, score=(train=1.000, test=0.429) total time=   1.1s\n",
      "[CV 3/5; 36/36] END 11pipeline__column_transformer__bow__ngram_range=(1, 3), classifier=DecisionTreeClassifier(random_state=42), selector__percentile=80;, score=(train=1.000, test=0.429) total time=   0.7s\n",
      "[CV 5/5; 36/36] END 11pipeline__column_transformer__bow__ngram_range=(1, 3), classifier=DecisionTreeClassifier(random_state=42), selector__percentile=80;, score=(train=1.000, test=0.286) total time=   0.4s\n",
      "[CV 2/5; 36/36] END 11pipeline__column_transformer__bow__ngram_range=(1, 3), classifier=DecisionTreeClassifier(random_state=42), selector__percentile=80;, score=(train=1.000, test=0.429) total time=   1.0s\n"
     ]
    },
    {
     "name": "stderr",
     "output_type": "stream",
     "text": [
      "/home/pablo/.local/lib/python3.10/site-packages/sklearn/utils/validation.py:1111: DataConversionWarning: A column-vector y was passed when a 1d array was expected. Please change the shape of y to (n_samples, ), for example using ravel().\n",
      "  y = column_or_1d(y, warn=True)\n"
     ]
    },
    {
     "name": "stdout",
     "output_type": "stream",
     "text": [
      "[CV 4/5; 36/36] END 11pipeline__column_transformer__bow__ngram_range=(1, 3), classifier=DecisionTreeClassifier(random_state=42), selector__percentile=80;, score=(train=1.000, test=0.429) total time=   1.0s\n",
      "----------\n",
      "iter: 1\n",
      "n_candidates: 12\n",
      "n_resources: 114\n",
      "Fitting 5 folds for each of 12 candidates, totalling 60 fits\n",
      "[CV 1/5; 1/12] START 11pipeline__column_transformer__bow__ngram_range=(1, 2), classifier=SVC(random_state=42), selector__percentile=20\n",
      "[CV 2/5; 1/12] START 11pipeline__column_transformer__bow__ngram_range=(1, 2), classifier=SVC(random_state=42), selector__percentile=20\n",
      "[CV 3/5; 1/12] START 11pipeline__column_transformer__bow__ngram_range=(1, 2), classifier=SVC(random_state=42), selector__percentile=20\n",
      "[CV 4/5; 1/12] START 11pipeline__column_transformer__bow__ngram_range=(1, 2), classifier=SVC(random_state=42), selector__percentile=20\n",
      "[CV 5/5; 1/12] START 11pipeline__column_transformer__bow__ngram_range=(1, 2), classifier=SVC(random_state=42), selector__percentile=20\n",
      "[CV 1/5; 2/12] START 11pipeline__column_transformer__bow__ngram_range=(1, 1), classifier=SVC(random_state=42), selector__percentile=80\n",
      "[CV 2/5; 2/12] START 11pipeline__column_transformer__bow__ngram_range=(1, 1), classifier=SVC(random_state=42), selector__percentile=80\n",
      "[CV 3/5; 2/12] START 11pipeline__column_transformer__bow__ngram_range=(1, 1), classifier=SVC(random_state=42), selector__percentile=80\n"
     ]
    },
    {
     "name": "stderr",
     "output_type": "stream",
     "text": [
      "/home/pablo/.local/lib/python3.10/site-packages/sklearn/utils/validation.py:1111: DataConversionWarning: A column-vector y was passed when a 1d array was expected. Please change the shape of y to (n_samples, ), for example using ravel().\n",
      "  y = column_or_1d(y, warn=True)\n",
      "/home/pablo/.local/lib/python3.10/site-packages/sklearn/utils/validation.py:1111: DataConversionWarning: A column-vector y was passed when a 1d array was expected. Please change the shape of y to (n_samples, ), for example using ravel().\n",
      "  y = column_or_1d(y, warn=True)\n",
      "/home/pablo/.local/lib/python3.10/site-packages/sklearn/utils/validation.py:1111: DataConversionWarning: A column-vector y was passed when a 1d array was expected. Please change the shape of y to (n_samples, ), for example using ravel().\n",
      "  y = column_or_1d(y, warn=True)\n",
      "/home/pablo/.local/lib/python3.10/site-packages/sklearn/utils/validation.py:1111: DataConversionWarning: A column-vector y was passed when a 1d array was expected. Please change the shape of y to (n_samples, ), for example using ravel().\n",
      "  y = column_or_1d(y, warn=True)\n",
      "/home/pablo/.local/lib/python3.10/site-packages/sklearn/utils/validation.py:1111: DataConversionWarning: A column-vector y was passed when a 1d array was expected. Please change the shape of y to (n_samples, ), for example using ravel().\n",
      "  y = column_or_1d(y, warn=True)\n",
      "/home/pablo/.local/lib/python3.10/site-packages/sklearn/utils/validation.py:1111: DataConversionWarning: A column-vector y was passed when a 1d array was expected. Please change the shape of y to (n_samples, ), for example using ravel().\n",
      "  y = column_or_1d(y, warn=True)\n",
      "/home/pablo/.local/lib/python3.10/site-packages/sklearn/utils/validation.py:1111: DataConversionWarning: A column-vector y was passed when a 1d array was expected. Please change the shape of y to (n_samples, ), for example using ravel().\n",
      "  y = column_or_1d(y, warn=True)\n",
      "/home/pablo/.local/lib/python3.10/site-packages/sklearn/utils/validation.py:1111: DataConversionWarning: A column-vector y was passed when a 1d array was expected. Please change the shape of y to (n_samples, ), for example using ravel().\n",
      "  y = column_or_1d(y, warn=True)\n"
     ]
    },
    {
     "name": "stdout",
     "output_type": "stream",
     "text": [
      "[CV 4/5; 1/12] END 11pipeline__column_transformer__bow__ngram_range=(1, 2), classifier=SVC(random_state=42), selector__percentile=20;, score=(train=0.681, test=0.591) total time=   1.6s\n",
      "[CV 4/5; 2/12] START 11pipeline__column_transformer__bow__ngram_range=(1, 1), classifier=SVC(random_state=42), selector__percentile=80\n"
     ]
    },
    {
     "name": "stderr",
     "output_type": "stream",
     "text": [
      "/home/pablo/.local/lib/python3.10/site-packages/sklearn/utils/validation.py:1111: DataConversionWarning: A column-vector y was passed when a 1d array was expected. Please change the shape of y to (n_samples, ), for example using ravel().\n",
      "  y = column_or_1d(y, warn=True)\n"
     ]
    },
    {
     "name": "stdout",
     "output_type": "stream",
     "text": [
      "[CV 1/5; 2/12] END 11pipeline__column_transformer__bow__ngram_range=(1, 1), classifier=SVC(random_state=42), selector__percentile=80;, score=(train=0.582, test=0.500) total time=   2.3s\n",
      "[CV 5/5; 2/12] START 11pipeline__column_transformer__bow__ngram_range=(1, 1), classifier=SVC(random_state=42), selector__percentile=80\n",
      "[CV 5/5; 1/12] END 11pipeline__column_transformer__bow__ngram_range=(1, 2), classifier=SVC(random_state=42), selector__percentile=20;, score=(train=0.538, test=0.591) total time=   2.2s\n",
      "[CV 3/5; 2/12] END 11pipeline__column_transformer__bow__ngram_range=(1, 1), classifier=SVC(random_state=42), selector__percentile=80;, score=(train=0.604, test=0.545) total time=   2.2s\n",
      "[CV 1/5; 3/12] START 11pipeline__column_transformer__bow__ngram_range=(1, 2), classifier=LogisticRegression(random_state=42), selector__percentile=20\n",
      "[CV 2/5; 3/12] START 11pipeline__column_transformer__bow__ngram_range=(1, 2), classifier=LogisticRegression(random_state=42), selector__percentile=20\n",
      "[CV 3/5; 1/12] END 11pipeline__column_transformer__bow__ngram_range=(1, 2), classifier=SVC(random_state=42), selector__percentile=20;, score=(train=0.604, test=0.545) total time=   2.5s\n",
      "[CV 3/5; 3/12] START 11pipeline__column_transformer__bow__ngram_range=(1, 2), classifier=LogisticRegression(random_state=42), selector__percentile=20\n",
      "[CV 2/5; 2/12] END 11pipeline__column_transformer__bow__ngram_range=(1, 1), classifier=SVC(random_state=42), selector__percentile=80;, score=(train=0.626, test=0.636) total time=   2.5s\n",
      "[CV 4/5; 3/12] START 11pipeline__column_transformer__bow__ngram_range=(1, 2), classifier=LogisticRegression(random_state=42), selector__percentile=20\n",
      "[CV 1/5; 1/12] END 11pipeline__column_transformer__bow__ngram_range=(1, 2), classifier=SVC(random_state=42), selector__percentile=20;, score=(train=0.582, test=0.500) total time=   2.8s\n",
      "[CV 5/5; 3/12] START 11pipeline__column_transformer__bow__ngram_range=(1, 2), classifier=LogisticRegression(random_state=42), selector__percentile=20\n",
      "[CV 2/5; 1/12] END 11pipeline__column_transformer__bow__ngram_range=(1, 2), classifier=SVC(random_state=42), selector__percentile=20;, score=(train=0.703, test=0.636) total time=   2.7s\n",
      "[CV 1/5; 4/12] START 11pipeline__column_transformer__bow__ngram_range=(1, 1), classifier=SVC(random_state=42), selector__percentile=60\n",
      "[CV 4/5; 2/12] END 11pipeline__column_transformer__bow__ngram_range=(1, 1), classifier=SVC(random_state=42), selector__percentile=80;, score=(train=0.604, test=0.636) total time=   1.4s\n",
      "[CV 2/5; 4/12] START 11pipeline__column_transformer__bow__ngram_range=(1, 1), classifier=SVC(random_state=42), selector__percentile=60\n"
     ]
    },
    {
     "name": "stderr",
     "output_type": "stream",
     "text": [
      "/home/pablo/.local/lib/python3.10/site-packages/sklearn/utils/validation.py:1111: DataConversionWarning: A column-vector y was passed when a 1d array was expected. Please change the shape of y to (n_samples, ), for example using ravel().\n",
      "  y = column_or_1d(y, warn=True)\n",
      "/home/pablo/.local/lib/python3.10/site-packages/sklearn/utils/validation.py:1111: DataConversionWarning: A column-vector y was passed when a 1d array was expected. Please change the shape of y to (n_samples, ), for example using ravel().\n",
      "  y = column_or_1d(y, warn=True)\n",
      "/home/pablo/.local/lib/python3.10/site-packages/sklearn/utils/validation.py:1111: DataConversionWarning: A column-vector y was passed when a 1d array was expected. Please change the shape of y to (n_samples, ), for example using ravel().\n",
      "  y = column_or_1d(y, warn=True)\n",
      "/home/pablo/.local/lib/python3.10/site-packages/sklearn/linear_model/_logistic.py:444: ConvergenceWarning: lbfgs failed to converge (status=1):\n",
      "STOP: TOTAL NO. of ITERATIONS REACHED LIMIT.\n",
      "\n",
      "Increase the number of iterations (max_iter) or scale the data as shown in:\n",
      "    https://scikit-learn.org/stable/modules/preprocessing.html\n",
      "Please also refer to the documentation for alternative solver options:\n",
      "    https://scikit-learn.org/stable/modules/linear_model.html#logistic-regression\n",
      "  n_iter_i = _check_optimize_result(\n",
      "/home/pablo/.local/lib/python3.10/site-packages/sklearn/utils/validation.py:1111: DataConversionWarning: A column-vector y was passed when a 1d array was expected. Please change the shape of y to (n_samples, ), for example using ravel().\n",
      "  y = column_or_1d(y, warn=True)\n",
      "/home/pablo/.local/lib/python3.10/site-packages/sklearn/utils/validation.py:1111: DataConversionWarning: A column-vector y was passed when a 1d array was expected. Please change the shape of y to (n_samples, ), for example using ravel().\n",
      "  y = column_or_1d(y, warn=True)\n",
      "/home/pablo/.local/lib/python3.10/site-packages/sklearn/utils/validation.py:1111: DataConversionWarning: A column-vector y was passed when a 1d array was expected. Please change the shape of y to (n_samples, ), for example using ravel().\n",
      "  y = column_or_1d(y, warn=True)\n",
      "/home/pablo/.local/lib/python3.10/site-packages/sklearn/utils/validation.py:1111: DataConversionWarning: A column-vector y was passed when a 1d array was expected. Please change the shape of y to (n_samples, ), for example using ravel().\n",
      "  y = column_or_1d(y, warn=True)\n",
      "/home/pablo/.local/lib/python3.10/site-packages/sklearn/linear_model/_logistic.py:444: ConvergenceWarning: lbfgs failed to converge (status=1):\n",
      "STOP: TOTAL NO. of ITERATIONS REACHED LIMIT.\n",
      "\n",
      "Increase the number of iterations (max_iter) or scale the data as shown in:\n",
      "    https://scikit-learn.org/stable/modules/preprocessing.html\n",
      "Please also refer to the documentation for alternative solver options:\n",
      "    https://scikit-learn.org/stable/modules/linear_model.html#logistic-regression\n",
      "  n_iter_i = _check_optimize_result(\n",
      "/home/pablo/.local/lib/python3.10/site-packages/sklearn/linear_model/_logistic.py:444: ConvergenceWarning: lbfgs failed to converge (status=1):\n",
      "STOP: TOTAL NO. of ITERATIONS REACHED LIMIT.\n",
      "\n",
      "Increase the number of iterations (max_iter) or scale the data as shown in:\n",
      "    https://scikit-learn.org/stable/modules/preprocessing.html\n",
      "Please also refer to the documentation for alternative solver options:\n",
      "    https://scikit-learn.org/stable/modules/linear_model.html#logistic-regression\n",
      "  n_iter_i = _check_optimize_result(\n"
     ]
    },
    {
     "name": "stdout",
     "output_type": "stream",
     "text": [
      "[CV 4/5; 3/12] END 11pipeline__column_transformer__bow__ngram_range=(1, 2), classifier=LogisticRegression(random_state=42), selector__percentile=20;, score=(train=1.000, test=0.682) total time=   1.6s\n",
      "[CV 3/5; 4/12] START 11pipeline__column_transformer__bow__ngram_range=(1, 1), classifier=SVC(random_state=42), selector__percentile=60\n"
     ]
    },
    {
     "name": "stderr",
     "output_type": "stream",
     "text": [
      "/home/pablo/.local/lib/python3.10/site-packages/sklearn/utils/validation.py:1111: DataConversionWarning: A column-vector y was passed when a 1d array was expected. Please change the shape of y to (n_samples, ), for example using ravel().\n",
      "  y = column_or_1d(y, warn=True)\n"
     ]
    },
    {
     "name": "stdout",
     "output_type": "stream",
     "text": [
      "[CV 5/5; 2/12] END 11pipeline__column_transformer__bow__ngram_range=(1, 1), classifier=SVC(random_state=42), selector__percentile=80;, score=(train=0.549, test=0.591) total time=   2.0s\n",
      "[CV 4/5; 4/12] START 11pipeline__column_transformer__bow__ngram_range=(1, 1), classifier=SVC(random_state=42), selector__percentile=60\n",
      "[CV 1/5; 3/12] END 11pipeline__column_transformer__bow__ngram_range=(1, 2), classifier=LogisticRegression(random_state=42), selector__percentile=20;, score=(train=1.000, test=0.545) total time=   2.9s\n",
      "[CV 5/5; 4/12] START 11pipeline__column_transformer__bow__ngram_range=(1, 1), classifier=SVC(random_state=42), selector__percentile=60\n"
     ]
    },
    {
     "name": "stderr",
     "output_type": "stream",
     "text": [
      "/home/pablo/.local/lib/python3.10/site-packages/sklearn/utils/validation.py:1111: DataConversionWarning: A column-vector y was passed when a 1d array was expected. Please change the shape of y to (n_samples, ), for example using ravel().\n",
      "  y = column_or_1d(y, warn=True)\n"
     ]
    },
    {
     "name": "stdout",
     "output_type": "stream",
     "text": [
      "[CV 5/5; 3/12] END 11pipeline__column_transformer__bow__ngram_range=(1, 2), classifier=LogisticRegression(random_state=42), selector__percentile=20;, score=(train=1.000, test=0.500) total time=   2.5s\n",
      "[CV 1/5; 5/12] START 11pipeline__column_transformer__bow__ngram_range=(1, 2), classifier=SVC(random_state=42), selector__percentile=80\n",
      "[CV 1/5; 4/12] END 11pipeline__column_transformer__bow__ngram_range=(1, 1), classifier=SVC(random_state=42), selector__percentile=60;, score=(train=0.582, test=0.500) total time=   2.5s\n",
      "[CV 2/5; 5/12] START 11pipeline__column_transformer__bow__ngram_range=(1, 2), classifier=SVC(random_state=42), selector__percentile=80\n"
     ]
    },
    {
     "name": "stderr",
     "output_type": "stream",
     "text": [
      "/home/pablo/.local/lib/python3.10/site-packages/sklearn/utils/validation.py:1111: DataConversionWarning: A column-vector y was passed when a 1d array was expected. Please change the shape of y to (n_samples, ), for example using ravel().\n",
      "  y = column_or_1d(y, warn=True)\n"
     ]
    },
    {
     "name": "stdout",
     "output_type": "stream",
     "text": [
      "[CV 2/5; 3/12] END 11pipeline__column_transformer__bow__ngram_range=(1, 2), classifier=LogisticRegression(random_state=42), selector__percentile=20;, score=(train=1.000, test=0.636) total time=   2.9s\n",
      "[CV 3/5; 5/12] START 11pipeline__column_transformer__bow__ngram_range=(1, 2), classifier=SVC(random_state=42), selector__percentile=80\n",
      "[CV 3/5; 3/12] END 11pipeline__column_transformer__bow__ngram_range=(1, 2), classifier=LogisticRegression(random_state=42), selector__percentile=20;, score=(train=1.000, test=0.591) total time=   2.9s\n",
      "[CV 4/5; 5/12] START 11pipeline__column_transformer__bow__ngram_range=(1, 2), classifier=SVC(random_state=42), selector__percentile=80\n",
      "[CV 2/5; 4/12] END 11pipeline__column_transformer__bow__ngram_range=(1, 1), classifier=SVC(random_state=42), selector__percentile=60;, score=(train=0.626, test=0.636) total time=   2.6s\n",
      "[CV 5/5; 5/12] START 11pipeline__column_transformer__bow__ngram_range=(1, 2), classifier=SVC(random_state=42), selector__percentile=80\n",
      "[CV 4/5; 4/12] END 11pipeline__column_transformer__bow__ngram_range=(1, 1), classifier=SVC(random_state=42), selector__percentile=60;, score=(train=0.604, test=0.636) total time=   1.5s\n",
      "[CV 1/5; 6/12] START 11pipeline__column_transformer__bow__ngram_range=(1, 3), classifier=SVC(random_state=42), selector__percentile=80\n"
     ]
    },
    {
     "name": "stderr",
     "output_type": "stream",
     "text": [
      "/home/pablo/.local/lib/python3.10/site-packages/sklearn/utils/validation.py:1111: DataConversionWarning: A column-vector y was passed when a 1d array was expected. Please change the shape of y to (n_samples, ), for example using ravel().\n",
      "  y = column_or_1d(y, warn=True)\n",
      "/home/pablo/.local/lib/python3.10/site-packages/sklearn/utils/validation.py:1111: DataConversionWarning: A column-vector y was passed when a 1d array was expected. Please change the shape of y to (n_samples, ), for example using ravel().\n",
      "  y = column_or_1d(y, warn=True)\n",
      "/home/pablo/.local/lib/python3.10/site-packages/sklearn/utils/validation.py:1111: DataConversionWarning: A column-vector y was passed when a 1d array was expected. Please change the shape of y to (n_samples, ), for example using ravel().\n",
      "  y = column_or_1d(y, warn=True)\n"
     ]
    },
    {
     "name": "stdout",
     "output_type": "stream",
     "text": [
      "[CV 3/5; 4/12] END 11pipeline__column_transformer__bow__ngram_range=(1, 1), classifier=SVC(random_state=42), selector__percentile=60;, score=(train=0.604, test=0.545) total time=   2.1s\n",
      "[CV 2/5; 6/12] START 11pipeline__column_transformer__bow__ngram_range=(1, 3), classifier=SVC(random_state=42), selector__percentile=80\n"
     ]
    },
    {
     "name": "stderr",
     "output_type": "stream",
     "text": [
      "/home/pablo/.local/lib/python3.10/site-packages/sklearn/utils/validation.py:1111: DataConversionWarning: A column-vector y was passed when a 1d array was expected. Please change the shape of y to (n_samples, ), for example using ravel().\n",
      "  y = column_or_1d(y, warn=True)\n",
      "/home/pablo/.local/lib/python3.10/site-packages/sklearn/utils/validation.py:1111: DataConversionWarning: A column-vector y was passed when a 1d array was expected. Please change the shape of y to (n_samples, ), for example using ravel().\n",
      "  y = column_or_1d(y, warn=True)\n",
      "/home/pablo/.local/lib/python3.10/site-packages/sklearn/utils/validation.py:1111: DataConversionWarning: A column-vector y was passed when a 1d array was expected. Please change the shape of y to (n_samples, ), for example using ravel().\n",
      "  y = column_or_1d(y, warn=True)\n"
     ]
    },
    {
     "name": "stdout",
     "output_type": "stream",
     "text": [
      "[CV 4/5; 5/12] END 11pipeline__column_transformer__bow__ngram_range=(1, 2), classifier=SVC(random_state=42), selector__percentile=80;, score=(train=0.615, test=0.636) total time=   1.7s\n",
      "[CV 3/5; 6/12] START 11pipeline__column_transformer__bow__ngram_range=(1, 3), classifier=SVC(random_state=42), selector__percentile=80\n"
     ]
    },
    {
     "name": "stderr",
     "output_type": "stream",
     "text": [
      "/home/pablo/.local/lib/python3.10/site-packages/sklearn/utils/validation.py:1111: DataConversionWarning: A column-vector y was passed when a 1d array was expected. Please change the shape of y to (n_samples, ), for example using ravel().\n",
      "  y = column_or_1d(y, warn=True)\n"
     ]
    },
    {
     "name": "stdout",
     "output_type": "stream",
     "text": [
      "[CV 5/5; 4/12] END 11pipeline__column_transformer__bow__ngram_range=(1, 1), classifier=SVC(random_state=42), selector__percentile=60;, score=(train=0.549, test=0.591) total time=   2.1s\n",
      "[CV 4/5; 6/12] START 11pipeline__column_transformer__bow__ngram_range=(1, 3), classifier=SVC(random_state=42), selector__percentile=80\n",
      "[CV 1/5; 5/12] END 11pipeline__column_transformer__bow__ngram_range=(1, 2), classifier=SVC(random_state=42), selector__percentile=80;, score=(train=0.582, test=0.500) total time=   2.6s\n",
      "[CV 5/5; 6/12] START 11pipeline__column_transformer__bow__ngram_range=(1, 3), classifier=SVC(random_state=42), selector__percentile=80\n"
     ]
    },
    {
     "name": "stderr",
     "output_type": "stream",
     "text": [
      "/home/pablo/.local/lib/python3.10/site-packages/sklearn/utils/validation.py:1111: DataConversionWarning: A column-vector y was passed when a 1d array was expected. Please change the shape of y to (n_samples, ), for example using ravel().\n",
      "  y = column_or_1d(y, warn=True)\n"
     ]
    },
    {
     "name": "stdout",
     "output_type": "stream",
     "text": [
      "[CV 3/5; 5/12] END 11pipeline__column_transformer__bow__ngram_range=(1, 2), classifier=SVC(random_state=42), selector__percentile=80;, score=(train=0.604, test=0.545) total time=   2.7s\n",
      "[CV 1/5; 7/12] START 11pipeline__column_transformer__bow__ngram_range=(1, 2), classifier=SVC(random_state=42), selector__percentile=60\n"
     ]
    },
    {
     "name": "stderr",
     "output_type": "stream",
     "text": [
      "/home/pablo/.local/lib/python3.10/site-packages/sklearn/utils/validation.py:1111: DataConversionWarning: A column-vector y was passed when a 1d array was expected. Please change the shape of y to (n_samples, ), for example using ravel().\n",
      "  y = column_or_1d(y, warn=True)\n"
     ]
    },
    {
     "name": "stdout",
     "output_type": "stream",
     "text": [
      "[CV 5/5; 5/12] END 11pipeline__column_transformer__bow__ngram_range=(1, 2), classifier=SVC(random_state=42), selector__percentile=80;, score=(train=0.549, test=0.591) total time=   2.4s\n",
      "[CV 2/5; 7/12] START 11pipeline__column_transformer__bow__ngram_range=(1, 2), classifier=SVC(random_state=42), selector__percentile=60\n",
      "[CV 2/5; 5/12] END 11pipeline__column_transformer__bow__ngram_range=(1, 2), classifier=SVC(random_state=42), selector__percentile=80;, score=(train=0.626, test=0.636) total time=   3.0s\n",
      "[CV 3/5; 7/12] START 11pipeline__column_transformer__bow__ngram_range=(1, 2), classifier=SVC(random_state=42), selector__percentile=60\n"
     ]
    },
    {
     "name": "stderr",
     "output_type": "stream",
     "text": [
      "/home/pablo/.local/lib/python3.10/site-packages/sklearn/utils/validation.py:1111: DataConversionWarning: A column-vector y was passed when a 1d array was expected. Please change the shape of y to (n_samples, ), for example using ravel().\n",
      "  y = column_or_1d(y, warn=True)\n"
     ]
    },
    {
     "name": "stdout",
     "output_type": "stream",
     "text": [
      "[CV 1/5; 6/12] END 11pipeline__column_transformer__bow__ngram_range=(1, 3), classifier=SVC(random_state=42), selector__percentile=80;, score=(train=0.582, test=0.500) total time=   3.1s\n",
      "[CV 4/5; 7/12] START 11pipeline__column_transformer__bow__ngram_range=(1, 2), classifier=SVC(random_state=42), selector__percentile=60\n"
     ]
    },
    {
     "name": "stderr",
     "output_type": "stream",
     "text": [
      "/home/pablo/.local/lib/python3.10/site-packages/sklearn/utils/validation.py:1111: DataConversionWarning: A column-vector y was passed when a 1d array was expected. Please change the shape of y to (n_samples, ), for example using ravel().\n",
      "  y = column_or_1d(y, warn=True)\n"
     ]
    },
    {
     "name": "stdout",
     "output_type": "stream",
     "text": [
      "[CV 4/5; 6/12] END 11pipeline__column_transformer__bow__ngram_range=(1, 3), classifier=SVC(random_state=42), selector__percentile=80;, score=(train=0.626, test=0.636) total time=   1.9s\n",
      "[CV 5/5; 7/12] START 11pipeline__column_transformer__bow__ngram_range=(1, 2), classifier=SVC(random_state=42), selector__percentile=60\n"
     ]
    },
    {
     "name": "stderr",
     "output_type": "stream",
     "text": [
      "/home/pablo/.local/lib/python3.10/site-packages/sklearn/utils/validation.py:1111: DataConversionWarning: A column-vector y was passed when a 1d array was expected. Please change the shape of y to (n_samples, ), for example using ravel().\n",
      "  y = column_or_1d(y, warn=True)\n",
      "/home/pablo/.local/lib/python3.10/site-packages/sklearn/utils/validation.py:1111: DataConversionWarning: A column-vector y was passed when a 1d array was expected. Please change the shape of y to (n_samples, ), for example using ravel().\n",
      "  y = column_or_1d(y, warn=True)\n"
     ]
    },
    {
     "name": "stdout",
     "output_type": "stream",
     "text": [
      "[CV 2/5; 6/12] END 11pipeline__column_transformer__bow__ngram_range=(1, 3), classifier=SVC(random_state=42), selector__percentile=80;, score=(train=0.626, test=0.636) total time=   3.3s\n",
      "[CV 1/5; 8/12] START 11pipeline__column_transformer__bow__ngram_range=(1, 2), classifier=DecisionTreeClassifier(random_state=42), selector__percentile=20\n"
     ]
    },
    {
     "name": "stderr",
     "output_type": "stream",
     "text": [
      "/home/pablo/.local/lib/python3.10/site-packages/sklearn/utils/validation.py:1111: DataConversionWarning: A column-vector y was passed when a 1d array was expected. Please change the shape of y to (n_samples, ), for example using ravel().\n",
      "  y = column_or_1d(y, warn=True)\n",
      "/home/pablo/.local/lib/python3.10/site-packages/sklearn/utils/validation.py:1111: DataConversionWarning: A column-vector y was passed when a 1d array was expected. Please change the shape of y to (n_samples, ), for example using ravel().\n",
      "  y = column_or_1d(y, warn=True)\n"
     ]
    },
    {
     "name": "stdout",
     "output_type": "stream",
     "text": [
      "[CV 3/5; 6/12] END 11pipeline__column_transformer__bow__ngram_range=(1, 3), classifier=SVC(random_state=42), selector__percentile=80;, score=(train=0.604, test=0.545) total time=   2.9s\n",
      "[CV 2/5; 8/12] START 11pipeline__column_transformer__bow__ngram_range=(1, 2), classifier=DecisionTreeClassifier(random_state=42), selector__percentile=20\n",
      "[CV 5/5; 6/12] END 11pipeline__column_transformer__bow__ngram_range=(1, 3), classifier=SVC(random_state=42), selector__percentile=80;, score=(train=0.560, test=0.591) total time=   2.5s\n",
      "[CV 3/5; 8/12] START 11pipeline__column_transformer__bow__ngram_range=(1, 2), classifier=DecisionTreeClassifier(random_state=42), selector__percentile=20\n"
     ]
    },
    {
     "name": "stderr",
     "output_type": "stream",
     "text": [
      "/home/pablo/.local/lib/python3.10/site-packages/sklearn/utils/validation.py:1111: DataConversionWarning: A column-vector y was passed when a 1d array was expected. Please change the shape of y to (n_samples, ), for example using ravel().\n",
      "  y = column_or_1d(y, warn=True)\n"
     ]
    },
    {
     "name": "stdout",
     "output_type": "stream",
     "text": [
      "[CV 4/5; 7/12] END 11pipeline__column_transformer__bow__ngram_range=(1, 2), classifier=SVC(random_state=42), selector__percentile=60;, score=(train=0.615, test=0.636) total time=   1.7s\n",
      "[CV 4/5; 8/12] START 11pipeline__column_transformer__bow__ngram_range=(1, 2), classifier=DecisionTreeClassifier(random_state=42), selector__percentile=20\n",
      "[CV 1/5; 7/12] END 11pipeline__column_transformer__bow__ngram_range=(1, 2), classifier=SVC(random_state=42), selector__percentile=60;, score=(train=0.582, test=0.500) total time=   2.8s\n",
      "[CV 5/5; 8/12] START 11pipeline__column_transformer__bow__ngram_range=(1, 2), classifier=DecisionTreeClassifier(random_state=42), selector__percentile=20\n"
     ]
    },
    {
     "name": "stderr",
     "output_type": "stream",
     "text": [
      "/home/pablo/.local/lib/python3.10/site-packages/sklearn/utils/validation.py:1111: DataConversionWarning: A column-vector y was passed when a 1d array was expected. Please change the shape of y to (n_samples, ), for example using ravel().\n",
      "  y = column_or_1d(y, warn=True)\n"
     ]
    },
    {
     "name": "stdout",
     "output_type": "stream",
     "text": [
      "[CV 3/5; 7/12] END 11pipeline__column_transformer__bow__ngram_range=(1, 2), classifier=SVC(random_state=42), selector__percentile=60;, score=(train=0.604, test=0.545) total time=   2.8s\n",
      "[CV 1/5; 9/12] START 11pipeline__column_transformer__bow__ngram_range=(1, 3), classifier=SVC(random_state=42), selector__percentile=40\n"
     ]
    },
    {
     "name": "stderr",
     "output_type": "stream",
     "text": [
      "/home/pablo/.local/lib/python3.10/site-packages/sklearn/utils/validation.py:1111: DataConversionWarning: A column-vector y was passed when a 1d array was expected. Please change the shape of y to (n_samples, ), for example using ravel().\n",
      "  y = column_or_1d(y, warn=True)\n",
      "/home/pablo/.local/lib/python3.10/site-packages/sklearn/utils/validation.py:1111: DataConversionWarning: A column-vector y was passed when a 1d array was expected. Please change the shape of y to (n_samples, ), for example using ravel().\n",
      "  y = column_or_1d(y, warn=True)\n",
      "/home/pablo/.local/lib/python3.10/site-packages/sklearn/utils/validation.py:1111: DataConversionWarning: A column-vector y was passed when a 1d array was expected. Please change the shape of y to (n_samples, ), for example using ravel().\n",
      "  y = column_or_1d(y, warn=True)\n"
     ]
    },
    {
     "name": "stdout",
     "output_type": "stream",
     "text": [
      "[CV 2/5; 7/12] END 11pipeline__column_transformer__bow__ngram_range=(1, 2), classifier=SVC(random_state=42), selector__percentile=60;, score=(train=0.626, test=0.636) total time=   3.1s\n",
      "[CV 2/5; 9/12] START 11pipeline__column_transformer__bow__ngram_range=(1, 3), classifier=SVC(random_state=42), selector__percentile=40\n",
      "[CV 5/5; 7/12] END 11pipeline__column_transformer__bow__ngram_range=(1, 2), classifier=SVC(random_state=42), selector__percentile=60;, score=(train=0.549, test=0.591) total time=   2.3s\n",
      "[CV 3/5; 9/12] START 11pipeline__column_transformer__bow__ngram_range=(1, 3), classifier=SVC(random_state=42), selector__percentile=40\n"
     ]
    },
    {
     "name": "stderr",
     "output_type": "stream",
     "text": [
      "/home/pablo/.local/lib/python3.10/site-packages/sklearn/utils/validation.py:1111: DataConversionWarning: A column-vector y was passed when a 1d array was expected. Please change the shape of y to (n_samples, ), for example using ravel().\n",
      "  y = column_or_1d(y, warn=True)\n"
     ]
    },
    {
     "name": "stdout",
     "output_type": "stream",
     "text": [
      "[CV 4/5; 8/12] END 11pipeline__column_transformer__bow__ngram_range=(1, 2), classifier=DecisionTreeClassifier(random_state=42), selector__percentile=20;, score=(train=1.000, test=0.545) total time=   1.7s\n",
      "[CV 4/5; 9/12] START 11pipeline__column_transformer__bow__ngram_range=(1, 3), classifier=SVC(random_state=42), selector__percentile=40\n",
      "[CV 1/5; 8/12] END 11pipeline__column_transformer__bow__ngram_range=(1, 2), classifier=DecisionTreeClassifier(random_state=42), selector__percentile=20;, score=(train=1.000, test=0.545) total time=   2.8s\n",
      "[CV 5/5; 9/12] START 11pipeline__column_transformer__bow__ngram_range=(1, 3), classifier=SVC(random_state=42), selector__percentile=40\n"
     ]
    },
    {
     "name": "stderr",
     "output_type": "stream",
     "text": [
      "/home/pablo/.local/lib/python3.10/site-packages/sklearn/utils/validation.py:1111: DataConversionWarning: A column-vector y was passed when a 1d array was expected. Please change the shape of y to (n_samples, ), for example using ravel().\n",
      "  y = column_or_1d(y, warn=True)\n"
     ]
    },
    {
     "name": "stdout",
     "output_type": "stream",
     "text": [
      "[CV 3/5; 8/12] END 11pipeline__column_transformer__bow__ngram_range=(1, 2), classifier=DecisionTreeClassifier(random_state=42), selector__percentile=20;, score=(train=1.000, test=0.500) total time=   2.4s\n",
      "[CV 1/5; 10/12] START 11pipeline__column_transformer__bow__ngram_range=(1, 1), classifier=SVC(random_state=42), selector__percentile=40\n"
     ]
    },
    {
     "name": "stderr",
     "output_type": "stream",
     "text": [
      "/home/pablo/.local/lib/python3.10/site-packages/sklearn/utils/validation.py:1111: DataConversionWarning: A column-vector y was passed when a 1d array was expected. Please change the shape of y to (n_samples, ), for example using ravel().\n",
      "  y = column_or_1d(y, warn=True)\n",
      "/home/pablo/.local/lib/python3.10/site-packages/sklearn/utils/validation.py:1111: DataConversionWarning: A column-vector y was passed when a 1d array was expected. Please change the shape of y to (n_samples, ), for example using ravel().\n",
      "  y = column_or_1d(y, warn=True)\n",
      "/home/pablo/.local/lib/python3.10/site-packages/sklearn/utils/validation.py:1111: DataConversionWarning: A column-vector y was passed when a 1d array was expected. Please change the shape of y to (n_samples, ), for example using ravel().\n",
      "  y = column_or_1d(y, warn=True)\n"
     ]
    },
    {
     "name": "stdout",
     "output_type": "stream",
     "text": [
      "[CV 2/5; 8/12] END 11pipeline__column_transformer__bow__ngram_range=(1, 2), classifier=DecisionTreeClassifier(random_state=42), selector__percentile=20;, score=(train=1.000, test=0.591) total time=   2.9s\n",
      "[CV 2/5; 10/12] START 11pipeline__column_transformer__bow__ngram_range=(1, 1), classifier=SVC(random_state=42), selector__percentile=40\n",
      "[CV 5/5; 8/12] END 11pipeline__column_transformer__bow__ngram_range=(1, 2), classifier=DecisionTreeClassifier(random_state=42), selector__percentile=20;, score=(train=1.000, test=0.500) total time=   2.3s\n",
      "[CV 3/5; 10/12] START 11pipeline__column_transformer__bow__ngram_range=(1, 1), classifier=SVC(random_state=42), selector__percentile=40\n"
     ]
    },
    {
     "name": "stderr",
     "output_type": "stream",
     "text": [
      "/home/pablo/.local/lib/python3.10/site-packages/sklearn/utils/validation.py:1111: DataConversionWarning: A column-vector y was passed when a 1d array was expected. Please change the shape of y to (n_samples, ), for example using ravel().\n",
      "  y = column_or_1d(y, warn=True)\n",
      "/home/pablo/.local/lib/python3.10/site-packages/sklearn/utils/validation.py:1111: DataConversionWarning: A column-vector y was passed when a 1d array was expected. Please change the shape of y to (n_samples, ), for example using ravel().\n",
      "  y = column_or_1d(y, warn=True)\n"
     ]
    },
    {
     "name": "stdout",
     "output_type": "stream",
     "text": [
      "[CV 4/5; 9/12] END 11pipeline__column_transformer__bow__ngram_range=(1, 3), classifier=SVC(random_state=42), selector__percentile=40;, score=(train=0.747, test=0.500) total time=   1.8s\n",
      "[CV 4/5; 10/12] START 11pipeline__column_transformer__bow__ngram_range=(1, 1), classifier=SVC(random_state=42), selector__percentile=40\n"
     ]
    },
    {
     "name": "stderr",
     "output_type": "stream",
     "text": [
      "/home/pablo/.local/lib/python3.10/site-packages/sklearn/utils/validation.py:1111: DataConversionWarning: A column-vector y was passed when a 1d array was expected. Please change the shape of y to (n_samples, ), for example using ravel().\n",
      "  y = column_or_1d(y, warn=True)\n"
     ]
    },
    {
     "name": "stdout",
     "output_type": "stream",
     "text": [
      "[CV 1/5; 9/12] END 11pipeline__column_transformer__bow__ngram_range=(1, 3), classifier=SVC(random_state=42), selector__percentile=40;, score=(train=0.582, test=0.500) total time=   3.5s\n",
      "[CV 3/5; 9/12] END 11pipeline__column_transformer__bow__ngram_range=(1, 3), classifier=SVC(random_state=42), selector__percentile=40;, score=(train=0.604, test=0.545) total time=   2.9s\n",
      "[CV 5/5; 10/12] START 11pipeline__column_transformer__bow__ngram_range=(1, 1), classifier=SVC(random_state=42), selector__percentile=40\n",
      "[CV 1/5; 11/12] START 11pipeline__column_transformer__bow__ngram_range=(1, 3), classifier=SVC(random_state=42), selector__percentile=60\n"
     ]
    },
    {
     "name": "stderr",
     "output_type": "stream",
     "text": [
      "/home/pablo/.local/lib/python3.10/site-packages/sklearn/utils/validation.py:1111: DataConversionWarning: A column-vector y was passed when a 1d array was expected. Please change the shape of y to (n_samples, ), for example using ravel().\n",
      "  y = column_or_1d(y, warn=True)\n",
      "/home/pablo/.local/lib/python3.10/site-packages/sklearn/utils/validation.py:1111: DataConversionWarning: A column-vector y was passed when a 1d array was expected. Please change the shape of y to (n_samples, ), for example using ravel().\n",
      "  y = column_or_1d(y, warn=True)\n"
     ]
    },
    {
     "name": "stdout",
     "output_type": "stream",
     "text": [
      "[CV 2/5; 9/12] END 11pipeline__column_transformer__bow__ngram_range=(1, 3), classifier=SVC(random_state=42), selector__percentile=40;, score=(train=0.626, test=0.636) total time=   3.4s\n",
      "[CV 2/5; 11/12] START 11pipeline__column_transformer__bow__ngram_range=(1, 3), classifier=SVC(random_state=42), selector__percentile=60\n",
      "[CV 5/5; 9/12] END 11pipeline__column_transformer__bow__ngram_range=(1, 3), classifier=SVC(random_state=42), selector__percentile=40;, score=(train=0.560, test=0.591) total time=   2.7s\n",
      "[CV 3/5; 11/12] START 11pipeline__column_transformer__bow__ngram_range=(1, 3), classifier=SVC(random_state=42), selector__percentile=60\n",
      "[CV 1/5; 10/12] END 11pipeline__column_transformer__bow__ngram_range=(1, 1), classifier=SVC(random_state=42), selector__percentile=40;, score=(train=0.582, test=0.500) total time=   2.3s\n",
      "[CV 4/5; 11/12] START 11pipeline__column_transformer__bow__ngram_range=(1, 3), classifier=SVC(random_state=42), selector__percentile=60\n",
      "[CV 4/5; 10/12] END 11pipeline__column_transformer__bow__ngram_range=(1, 1), classifier=SVC(random_state=42), selector__percentile=40;, score=(train=0.692, test=0.591) total time=   1.5s\n",
      "[CV 5/5; 11/12] START 11pipeline__column_transformer__bow__ngram_range=(1, 3), classifier=SVC(random_state=42), selector__percentile=60\n"
     ]
    },
    {
     "name": "stderr",
     "output_type": "stream",
     "text": [
      "/home/pablo/.local/lib/python3.10/site-packages/sklearn/utils/validation.py:1111: DataConversionWarning: A column-vector y was passed when a 1d array was expected. Please change the shape of y to (n_samples, ), for example using ravel().\n",
      "  y = column_or_1d(y, warn=True)\n",
      "/home/pablo/.local/lib/python3.10/site-packages/sklearn/utils/validation.py:1111: DataConversionWarning: A column-vector y was passed when a 1d array was expected. Please change the shape of y to (n_samples, ), for example using ravel().\n",
      "  y = column_or_1d(y, warn=True)\n"
     ]
    },
    {
     "name": "stdout",
     "output_type": "stream",
     "text": [
      "[CV 2/5; 10/12] END 11pipeline__column_transformer__bow__ngram_range=(1, 1), classifier=SVC(random_state=42), selector__percentile=40;, score=(train=0.626, test=0.636) total time=   2.7s\n",
      "[CV 1/5; 12/12] START 11pipeline__column_transformer__bow__ngram_range=(1, 2), classifier=SVC(random_state=42), selector__percentile=40\n",
      "[CV 3/5; 10/12] END 11pipeline__column_transformer__bow__ngram_range=(1, 1), classifier=SVC(random_state=42), selector__percentile=40;, score=(train=0.604, test=0.545) total time=   2.5s\n",
      "[CV 2/5; 12/12] START 11pipeline__column_transformer__bow__ngram_range=(1, 2), classifier=SVC(random_state=42), selector__percentile=40\n"
     ]
    },
    {
     "name": "stderr",
     "output_type": "stream",
     "text": [
      "/home/pablo/.local/lib/python3.10/site-packages/sklearn/utils/validation.py:1111: DataConversionWarning: A column-vector y was passed when a 1d array was expected. Please change the shape of y to (n_samples, ), for example using ravel().\n",
      "  y = column_or_1d(y, warn=True)\n",
      "/home/pablo/.local/lib/python3.10/site-packages/sklearn/utils/validation.py:1111: DataConversionWarning: A column-vector y was passed when a 1d array was expected. Please change the shape of y to (n_samples, ), for example using ravel().\n",
      "  y = column_or_1d(y, warn=True)\n",
      "/home/pablo/.local/lib/python3.10/site-packages/sklearn/utils/validation.py:1111: DataConversionWarning: A column-vector y was passed when a 1d array was expected. Please change the shape of y to (n_samples, ), for example using ravel().\n",
      "  y = column_or_1d(y, warn=True)\n",
      "/home/pablo/.local/lib/python3.10/site-packages/sklearn/utils/validation.py:1111: DataConversionWarning: A column-vector y was passed when a 1d array was expected. Please change the shape of y to (n_samples, ), for example using ravel().\n",
      "  y = column_or_1d(y, warn=True)\n",
      "/home/pablo/.local/lib/python3.10/site-packages/sklearn/utils/validation.py:1111: DataConversionWarning: A column-vector y was passed when a 1d array was expected. Please change the shape of y to (n_samples, ), for example using ravel().\n",
      "  y = column_or_1d(y, warn=True)\n"
     ]
    },
    {
     "name": "stdout",
     "output_type": "stream",
     "text": [
      "[CV 5/5; 10/12] END 11pipeline__column_transformer__bow__ngram_range=(1, 1), classifier=SVC(random_state=42), selector__percentile=40;, score=(train=0.538, test=0.591) total time=   2.3s\n",
      "[CV 3/5; 12/12] START 11pipeline__column_transformer__bow__ngram_range=(1, 2), classifier=SVC(random_state=42), selector__percentile=40\n",
      "[CV 4/5; 11/12] END 11pipeline__column_transformer__bow__ngram_range=(1, 3), classifier=SVC(random_state=42), selector__percentile=60;, score=(train=0.626, test=0.636) total time=   1.7s\n",
      "[CV 4/5; 12/12] START 11pipeline__column_transformer__bow__ngram_range=(1, 2), classifier=SVC(random_state=42), selector__percentile=40\n",
      "[CV 1/5; 11/12] END 11pipeline__column_transformer__bow__ngram_range=(1, 3), classifier=SVC(random_state=42), selector__percentile=60;, score=(train=0.582, test=0.500) total time=   3.2s\n",
      "[CV 5/5; 12/12] START 11pipeline__column_transformer__bow__ngram_range=(1, 2), classifier=SVC(random_state=42), selector__percentile=40\n"
     ]
    },
    {
     "name": "stderr",
     "output_type": "stream",
     "text": [
      "/home/pablo/.local/lib/python3.10/site-packages/sklearn/utils/validation.py:1111: DataConversionWarning: A column-vector y was passed when a 1d array was expected. Please change the shape of y to (n_samples, ), for example using ravel().\n",
      "  y = column_or_1d(y, warn=True)\n",
      "/home/pablo/.local/lib/python3.10/site-packages/sklearn/utils/validation.py:1111: DataConversionWarning: A column-vector y was passed when a 1d array was expected. Please change the shape of y to (n_samples, ), for example using ravel().\n",
      "  y = column_or_1d(y, warn=True)\n",
      "/home/pablo/.local/lib/python3.10/site-packages/sklearn/utils/validation.py:1111: DataConversionWarning: A column-vector y was passed when a 1d array was expected. Please change the shape of y to (n_samples, ), for example using ravel().\n",
      "  y = column_or_1d(y, warn=True)\n"
     ]
    },
    {
     "name": "stdout",
     "output_type": "stream",
     "text": [
      "[CV 5/5; 11/12] END 11pipeline__column_transformer__bow__ngram_range=(1, 3), classifier=SVC(random_state=42), selector__percentile=60;, score=(train=0.560, test=0.591) total time=   2.6s\n",
      "[CV 3/5; 11/12] END 11pipeline__column_transformer__bow__ngram_range=(1, 3), classifier=SVC(random_state=42), selector__percentile=60;, score=(train=0.604, test=0.545) total time=   3.0s\n",
      "[CV 2/5; 11/12] END 11pipeline__column_transformer__bow__ngram_range=(1, 3), classifier=SVC(random_state=42), selector__percentile=60;, score=(train=0.626, test=0.636) total time=   3.5s\n",
      "[CV 1/5; 12/12] END 11pipeline__column_transformer__bow__ngram_range=(1, 2), classifier=SVC(random_state=42), selector__percentile=40;, score=(train=0.582, test=0.500) total time=   2.6s\n"
     ]
    },
    {
     "name": "stderr",
     "output_type": "stream",
     "text": [
      "/home/pablo/.local/lib/python3.10/site-packages/sklearn/utils/validation.py:1111: DataConversionWarning: A column-vector y was passed when a 1d array was expected. Please change the shape of y to (n_samples, ), for example using ravel().\n",
      "  y = column_or_1d(y, warn=True)\n"
     ]
    },
    {
     "name": "stdout",
     "output_type": "stream",
     "text": [
      "[CV 4/5; 12/12] END 11pipeline__column_transformer__bow__ngram_range=(1, 2), classifier=SVC(random_state=42), selector__percentile=40;, score=(train=0.714, test=0.500) total time=   1.7s\n",
      "[CV 2/5; 12/12] END 11pipeline__column_transformer__bow__ngram_range=(1, 2), classifier=SVC(random_state=42), selector__percentile=40;, score=(train=0.626, test=0.636) total time=   3.0s\n",
      "[CV 3/5; 12/12] END 11pipeline__column_transformer__bow__ngram_range=(1, 2), classifier=SVC(random_state=42), selector__percentile=40;, score=(train=0.604, test=0.545) total time=   2.5s\n",
      "[CV 5/5; 12/12] END 11pipeline__column_transformer__bow__ngram_range=(1, 2), classifier=SVC(random_state=42), selector__percentile=40;, score=(train=0.549, test=0.591) total time=   2.0s\n",
      "----------\n",
      "iter: 2\n",
      "n_candidates: 4\n",
      "n_resources: 342\n",
      "Fitting 5 folds for each of 4 candidates, totalling 20 fits\n",
      "[CV 1/5; 1/4] START 11pipeline__column_transformer__bow__ngram_range=(1, 3), classifier=SVC(random_state=42), selector__percentile=80\n",
      "[CV 2/5; 1/4] START 11pipeline__column_transformer__bow__ngram_range=(1, 3), classifier=SVC(random_state=42), selector__percentile=80\n",
      "[CV 3/5; 1/4] START 11pipeline__column_transformer__bow__ngram_range=(1, 3), classifier=SVC(random_state=42), selector__percentile=80\n",
      "[CV 4/5; 1/4] START 11pipeline__column_transformer__bow__ngram_range=(1, 3), classifier=SVC(random_state=42), selector__percentile=80\n",
      "[CV 5/5; 1/4] START 11pipeline__column_transformer__bow__ngram_range=(1, 3), classifier=SVC(random_state=42), selector__percentile=80\n",
      "[CV 1/5; 2/4] START 11pipeline__column_transformer__bow__ngram_range=(1, 2), classifier=SVC(random_state=42), selector__percentile=60\n",
      "[CV 2/5; 2/4] START 11pipeline__column_transformer__bow__ngram_range=(1, 2), classifier=SVC(random_state=42), selector__percentile=60\n",
      "[CV 3/5; 2/4] START 11pipeline__column_transformer__bow__ngram_range=(1, 2), classifier=SVC(random_state=42), selector__percentile=60\n"
     ]
    },
    {
     "name": "stderr",
     "output_type": "stream",
     "text": [
      "/home/pablo/.local/lib/python3.10/site-packages/sklearn/utils/validation.py:1111: DataConversionWarning: A column-vector y was passed when a 1d array was expected. Please change the shape of y to (n_samples, ), for example using ravel().\n",
      "  y = column_or_1d(y, warn=True)\n",
      "/home/pablo/.local/lib/python3.10/site-packages/sklearn/utils/validation.py:1111: DataConversionWarning: A column-vector y was passed when a 1d array was expected. Please change the shape of y to (n_samples, ), for example using ravel().\n",
      "  y = column_or_1d(y, warn=True)\n",
      "/home/pablo/.local/lib/python3.10/site-packages/sklearn/utils/validation.py:1111: DataConversionWarning: A column-vector y was passed when a 1d array was expected. Please change the shape of y to (n_samples, ), for example using ravel().\n",
      "  y = column_or_1d(y, warn=True)\n",
      "/home/pablo/.local/lib/python3.10/site-packages/sklearn/utils/validation.py:1111: DataConversionWarning: A column-vector y was passed when a 1d array was expected. Please change the shape of y to (n_samples, ), for example using ravel().\n",
      "  y = column_or_1d(y, warn=True)\n",
      "/home/pablo/.local/lib/python3.10/site-packages/sklearn/utils/validation.py:1111: DataConversionWarning: A column-vector y was passed when a 1d array was expected. Please change the shape of y to (n_samples, ), for example using ravel().\n",
      "  y = column_or_1d(y, warn=True)\n",
      "/home/pablo/.local/lib/python3.10/site-packages/sklearn/utils/validation.py:1111: DataConversionWarning: A column-vector y was passed when a 1d array was expected. Please change the shape of y to (n_samples, ), for example using ravel().\n",
      "  y = column_or_1d(y, warn=True)\n",
      "/home/pablo/.local/lib/python3.10/site-packages/sklearn/utils/validation.py:1111: DataConversionWarning: A column-vector y was passed when a 1d array was expected. Please change the shape of y to (n_samples, ), for example using ravel().\n",
      "  y = column_or_1d(y, warn=True)\n",
      "/home/pablo/.local/lib/python3.10/site-packages/sklearn/utils/validation.py:1111: DataConversionWarning: A column-vector y was passed when a 1d array was expected. Please change the shape of y to (n_samples, ), for example using ravel().\n",
      "  y = column_or_1d(y, warn=True)\n"
     ]
    },
    {
     "name": "stdout",
     "output_type": "stream",
     "text": [
      "[CV 2/5; 2/4] END 11pipeline__column_transformer__bow__ngram_range=(1, 2), classifier=SVC(random_state=42), selector__percentile=60;, score=(train=0.612, test=0.603) total time=   6.9s\n",
      "[CV 4/5; 2/4] START 11pipeline__column_transformer__bow__ngram_range=(1, 2), classifier=SVC(random_state=42), selector__percentile=60\n",
      "[CV 3/5; 2/4] END 11pipeline__column_transformer__bow__ngram_range=(1, 2), classifier=SVC(random_state=42), selector__percentile=60;, score=(train=0.557, test=0.588) total time=   7.5s\n",
      "[CV 5/5; 2/4] START 11pipeline__column_transformer__bow__ngram_range=(1, 2), classifier=SVC(random_state=42), selector__percentile=60\n",
      "[CV 2/5; 1/4] END 11pipeline__column_transformer__bow__ngram_range=(1, 3), classifier=SVC(random_state=42), selector__percentile=80;, score=(train=0.612, test=0.603) total time=   8.0s\n",
      "[CV 1/5; 3/4] START 11pipeline__column_transformer__bow__ngram_range=(1, 3), classifier=SVC(random_state=42), selector__percentile=60\n",
      "[CV 1/5; 2/4] END 11pipeline__column_transformer__bow__ngram_range=(1, 2), classifier=SVC(random_state=42), selector__percentile=60;, score=(train=0.612, test=0.647) total time=   8.0s\n",
      "[CV 2/5; 3/4] START 11pipeline__column_transformer__bow__ngram_range=(1, 3), classifier=SVC(random_state=42), selector__percentile=60\n",
      "[CV 1/5; 1/4] END 11pipeline__column_transformer__bow__ngram_range=(1, 3), classifier=SVC(random_state=42), selector__percentile=80;, score=(train=0.615, test=0.632) total time=   8.8s\n",
      "[CV 3/5; 3/4] START 11pipeline__column_transformer__bow__ngram_range=(1, 3), classifier=SVC(random_state=42), selector__percentile=60\n",
      "[CV 5/5; 1/4] END 11pipeline__column_transformer__bow__ngram_range=(1, 3), classifier=SVC(random_state=42), selector__percentile=80;, score=(train=0.582, test=0.676) total time=   9.3s\n",
      "[CV 4/5; 3/4] START 11pipeline__column_transformer__bow__ngram_range=(1, 3), classifier=SVC(random_state=42), selector__percentile=60\n",
      "[CV 3/5; 1/4] END 11pipeline__column_transformer__bow__ngram_range=(1, 3), classifier=SVC(random_state=42), selector__percentile=80;, score=(train=0.557, test=0.588) total time=   9.4s\n",
      "[CV 5/5; 3/4] START 11pipeline__column_transformer__bow__ngram_range=(1, 3), classifier=SVC(random_state=42), selector__percentile=60\n",
      "[CV 4/5; 1/4] END 11pipeline__column_transformer__bow__ngram_range=(1, 3), classifier=SVC(random_state=42), selector__percentile=80;, score=(train=0.615, test=0.544) total time=   9.8s\n",
      "[CV 1/5; 4/4] START 11pipeline__column_transformer__bow__ngram_range=(1, 2), classifier=LogisticRegression(random_state=42), selector__percentile=20\n"
     ]
    },
    {
     "name": "stderr",
     "output_type": "stream",
     "text": [
      "/home/pablo/.local/lib/python3.10/site-packages/sklearn/utils/validation.py:1111: DataConversionWarning: A column-vector y was passed when a 1d array was expected. Please change the shape of y to (n_samples, ), for example using ravel().\n",
      "  y = column_or_1d(y, warn=True)\n",
      "/home/pablo/.local/lib/python3.10/site-packages/sklearn/utils/validation.py:1111: DataConversionWarning: A column-vector y was passed when a 1d array was expected. Please change the shape of y to (n_samples, ), for example using ravel().\n",
      "  y = column_or_1d(y, warn=True)\n",
      "/home/pablo/.local/lib/python3.10/site-packages/sklearn/utils/validation.py:1111: DataConversionWarning: A column-vector y was passed when a 1d array was expected. Please change the shape of y to (n_samples, ), for example using ravel().\n",
      "  y = column_or_1d(y, warn=True)\n",
      "/home/pablo/.local/lib/python3.10/site-packages/sklearn/utils/validation.py:1111: DataConversionWarning: A column-vector y was passed when a 1d array was expected. Please change the shape of y to (n_samples, ), for example using ravel().\n",
      "  y = column_or_1d(y, warn=True)\n",
      "/home/pablo/.local/lib/python3.10/site-packages/sklearn/utils/validation.py:1111: DataConversionWarning: A column-vector y was passed when a 1d array was expected. Please change the shape of y to (n_samples, ), for example using ravel().\n",
      "  y = column_or_1d(y, warn=True)\n",
      "/home/pablo/.local/lib/python3.10/site-packages/sklearn/utils/validation.py:1111: DataConversionWarning: A column-vector y was passed when a 1d array was expected. Please change the shape of y to (n_samples, ), for example using ravel().\n",
      "  y = column_or_1d(y, warn=True)\n",
      "/home/pablo/.local/lib/python3.10/site-packages/sklearn/utils/validation.py:1111: DataConversionWarning: A column-vector y was passed when a 1d array was expected. Please change the shape of y to (n_samples, ), for example using ravel().\n",
      "  y = column_or_1d(y, warn=True)\n",
      "/home/pablo/.local/lib/python3.10/site-packages/sklearn/utils/validation.py:1111: DataConversionWarning: A column-vector y was passed when a 1d array was expected. Please change the shape of y to (n_samples, ), for example using ravel().\n",
      "  y = column_or_1d(y, warn=True)\n",
      "/home/pablo/.local/lib/python3.10/site-packages/sklearn/linear_model/_logistic.py:444: ConvergenceWarning: lbfgs failed to converge (status=1):\n",
      "STOP: TOTAL NO. of ITERATIONS REACHED LIMIT.\n",
      "\n",
      "Increase the number of iterations (max_iter) or scale the data as shown in:\n",
      "    https://scikit-learn.org/stable/modules/preprocessing.html\n",
      "Please also refer to the documentation for alternative solver options:\n",
      "    https://scikit-learn.org/stable/modules/linear_model.html#logistic-regression\n",
      "  n_iter_i = _check_optimize_result(\n"
     ]
    },
    {
     "name": "stdout",
     "output_type": "stream",
     "text": [
      "[CV 4/5; 2/4] END 11pipeline__column_transformer__bow__ngram_range=(1, 2), classifier=SVC(random_state=42), selector__percentile=60;, score=(train=0.615, test=0.544) total time=   7.8s\n",
      "[CV 2/5; 4/4] START 11pipeline__column_transformer__bow__ngram_range=(1, 2), classifier=LogisticRegression(random_state=42), selector__percentile=20\n",
      "[CV 5/5; 2/4] END 11pipeline__column_transformer__bow__ngram_range=(1, 2), classifier=SVC(random_state=42), selector__percentile=60;, score=(train=0.582, test=0.676) total time=   7.6s\n",
      "[CV 3/5; 4/4] START 11pipeline__column_transformer__bow__ngram_range=(1, 2), classifier=LogisticRegression(random_state=42), selector__percentile=20\n",
      "[CV 2/5; 3/4] END 11pipeline__column_transformer__bow__ngram_range=(1, 3), classifier=SVC(random_state=42), selector__percentile=60;, score=(train=0.612, test=0.603) total time=   8.5s\n",
      "[CV 4/5; 4/4] START 11pipeline__column_transformer__bow__ngram_range=(1, 2), classifier=LogisticRegression(random_state=42), selector__percentile=20\n",
      "[CV 1/5; 3/4] END 11pipeline__column_transformer__bow__ngram_range=(1, 3), classifier=SVC(random_state=42), selector__percentile=60;, score=(train=0.619, test=0.632) total time=   8.8s\n",
      "[CV 5/5; 4/4] START 11pipeline__column_transformer__bow__ngram_range=(1, 2), classifier=LogisticRegression(random_state=42), selector__percentile=20\n",
      "[CV 3/5; 3/4] END 11pipeline__column_transformer__bow__ngram_range=(1, 3), classifier=SVC(random_state=42), selector__percentile=60;, score=(train=0.557, test=0.588) total time=   8.8s\n",
      "[CV 1/5; 4/4] END 11pipeline__column_transformer__bow__ngram_range=(1, 2), classifier=LogisticRegression(random_state=42), selector__percentile=20;, score=(train=0.996, test=0.676) total time=   8.1s\n"
     ]
    },
    {
     "name": "stderr",
     "output_type": "stream",
     "text": [
      "/home/pablo/.local/lib/python3.10/site-packages/sklearn/utils/validation.py:1111: DataConversionWarning: A column-vector y was passed when a 1d array was expected. Please change the shape of y to (n_samples, ), for example using ravel().\n",
      "  y = column_or_1d(y, warn=True)\n",
      "/home/pablo/.local/lib/python3.10/site-packages/sklearn/linear_model/_logistic.py:444: ConvergenceWarning: lbfgs failed to converge (status=1):\n",
      "STOP: TOTAL NO. of ITERATIONS REACHED LIMIT.\n",
      "\n",
      "Increase the number of iterations (max_iter) or scale the data as shown in:\n",
      "    https://scikit-learn.org/stable/modules/preprocessing.html\n",
      "Please also refer to the documentation for alternative solver options:\n",
      "    https://scikit-learn.org/stable/modules/linear_model.html#logistic-regression\n",
      "  n_iter_i = _check_optimize_result(\n"
     ]
    },
    {
     "name": "stdout",
     "output_type": "stream",
     "text": [
      "[CV 5/5; 3/4] END 11pipeline__column_transformer__bow__ngram_range=(1, 3), classifier=SVC(random_state=42), selector__percentile=60;, score=(train=0.582, test=0.676) total time=   9.6s\n",
      "[CV 4/5; 3/4] END 11pipeline__column_transformer__bow__ngram_range=(1, 3), classifier=SVC(random_state=42), selector__percentile=60;, score=(train=0.615, test=0.544) total time=  10.1s\n"
     ]
    },
    {
     "name": "stderr",
     "output_type": "stream",
     "text": [
      "/home/pablo/.local/lib/python3.10/site-packages/sklearn/utils/validation.py:1111: DataConversionWarning: A column-vector y was passed when a 1d array was expected. Please change the shape of y to (n_samples, ), for example using ravel().\n",
      "  y = column_or_1d(y, warn=True)\n",
      "/home/pablo/.local/lib/python3.10/site-packages/sklearn/linear_model/_logistic.py:444: ConvergenceWarning: lbfgs failed to converge (status=1):\n",
      "STOP: TOTAL NO. of ITERATIONS REACHED LIMIT.\n",
      "\n",
      "Increase the number of iterations (max_iter) or scale the data as shown in:\n",
      "    https://scikit-learn.org/stable/modules/preprocessing.html\n",
      "Please also refer to the documentation for alternative solver options:\n",
      "    https://scikit-learn.org/stable/modules/linear_model.html#logistic-regression\n",
      "  n_iter_i = _check_optimize_result(\n",
      "/home/pablo/.local/lib/python3.10/site-packages/sklearn/utils/validation.py:1111: DataConversionWarning: A column-vector y was passed when a 1d array was expected. Please change the shape of y to (n_samples, ), for example using ravel().\n",
      "  y = column_or_1d(y, warn=True)\n",
      "/home/pablo/.local/lib/python3.10/site-packages/sklearn/utils/validation.py:1111: DataConversionWarning: A column-vector y was passed when a 1d array was expected. Please change the shape of y to (n_samples, ), for example using ravel().\n",
      "  y = column_or_1d(y, warn=True)\n",
      "/home/pablo/.local/lib/python3.10/site-packages/sklearn/linear_model/_logistic.py:444: ConvergenceWarning: lbfgs failed to converge (status=1):\n",
      "STOP: TOTAL NO. of ITERATIONS REACHED LIMIT.\n",
      "\n",
      "Increase the number of iterations (max_iter) or scale the data as shown in:\n",
      "    https://scikit-learn.org/stable/modules/preprocessing.html\n",
      "Please also refer to the documentation for alternative solver options:\n",
      "    https://scikit-learn.org/stable/modules/linear_model.html#logistic-regression\n",
      "  n_iter_i = _check_optimize_result(\n",
      "/home/pablo/.local/lib/python3.10/site-packages/sklearn/linear_model/_logistic.py:444: ConvergenceWarning: lbfgs failed to converge (status=1):\n",
      "STOP: TOTAL NO. of ITERATIONS REACHED LIMIT.\n",
      "\n",
      "Increase the number of iterations (max_iter) or scale the data as shown in:\n",
      "    https://scikit-learn.org/stable/modules/preprocessing.html\n",
      "Please also refer to the documentation for alternative solver options:\n",
      "    https://scikit-learn.org/stable/modules/linear_model.html#logistic-regression\n",
      "  n_iter_i = _check_optimize_result(\n"
     ]
    },
    {
     "name": "stdout",
     "output_type": "stream",
     "text": [
      "[CV 2/5; 4/4] END 11pipeline__column_transformer__bow__ngram_range=(1, 2), classifier=LogisticRegression(random_state=42), selector__percentile=20;, score=(train=0.996, test=0.559) total time=   6.4s\n",
      "[CV 3/5; 4/4] END 11pipeline__column_transformer__bow__ngram_range=(1, 2), classifier=LogisticRegression(random_state=42), selector__percentile=20;, score=(train=1.000, test=0.529) total time=   6.8s\n",
      "[CV 5/5; 4/4] END 11pipeline__column_transformer__bow__ngram_range=(1, 2), classifier=LogisticRegression(random_state=42), selector__percentile=20;, score=(train=1.000, test=0.721) total time=   5.6s\n",
      "[CV 4/5; 4/4] END 11pipeline__column_transformer__bow__ngram_range=(1, 2), classifier=LogisticRegression(random_state=42), selector__percentile=20;, score=(train=1.000, test=0.588) total time=   6.3s\n",
      "----------\n",
      "iter: 3\n",
      "n_candidates: 2\n",
      "n_resources: 1026\n",
      "Fitting 5 folds for each of 2 candidates, totalling 10 fits\n",
      "[CV 1/5; 1/2] START 11pipeline__column_transformer__bow__ngram_range=(1, 2), classifier=SVC(random_state=42), selector__percentile=60\n",
      "[CV 2/5; 1/2] START 11pipeline__column_transformer__bow__ngram_range=(1, 2), classifier=SVC(random_state=42), selector__percentile=60\n",
      "[CV 3/5; 1/2] START 11pipeline__column_transformer__bow__ngram_range=(1, 2), classifier=SVC(random_state=42), selector__percentile=60\n",
      "[CV 4/5; 1/2] START 11pipeline__column_transformer__bow__ngram_range=(1, 2), classifier=SVC(random_state=42), selector__percentile=60\n",
      "[CV 5/5; 1/2] START 11pipeline__column_transformer__bow__ngram_range=(1, 2), classifier=SVC(random_state=42), selector__percentile=60\n",
      "[CV 1/5; 2/2] START 11pipeline__column_transformer__bow__ngram_range=(1, 2), classifier=LogisticRegression(random_state=42), selector__percentile=20\n",
      "[CV 2/5; 2/2] START 11pipeline__column_transformer__bow__ngram_range=(1, 2), classifier=LogisticRegression(random_state=42), selector__percentile=20\n",
      "[CV 3/5; 2/2] START 11pipeline__column_transformer__bow__ngram_range=(1, 2), classifier=LogisticRegression(random_state=42), selector__percentile=20\n"
     ]
    },
    {
     "name": "stderr",
     "output_type": "stream",
     "text": [
      "/home/pablo/.local/lib/python3.10/site-packages/sklearn/utils/validation.py:1111: DataConversionWarning: A column-vector y was passed when a 1d array was expected. Please change the shape of y to (n_samples, ), for example using ravel().\n",
      "  y = column_or_1d(y, warn=True)\n",
      "/home/pablo/.local/lib/python3.10/site-packages/sklearn/utils/validation.py:1111: DataConversionWarning: A column-vector y was passed when a 1d array was expected. Please change the shape of y to (n_samples, ), for example using ravel().\n",
      "  y = column_or_1d(y, warn=True)\n",
      "/home/pablo/.local/lib/python3.10/site-packages/sklearn/utils/validation.py:1111: DataConversionWarning: A column-vector y was passed when a 1d array was expected. Please change the shape of y to (n_samples, ), for example using ravel().\n",
      "  y = column_or_1d(y, warn=True)\n",
      "/home/pablo/.local/lib/python3.10/site-packages/sklearn/utils/validation.py:1111: DataConversionWarning: A column-vector y was passed when a 1d array was expected. Please change the shape of y to (n_samples, ), for example using ravel().\n",
      "  y = column_or_1d(y, warn=True)\n",
      "/home/pablo/.local/lib/python3.10/site-packages/sklearn/utils/validation.py:1111: DataConversionWarning: A column-vector y was passed when a 1d array was expected. Please change the shape of y to (n_samples, ), for example using ravel().\n",
      "  y = column_or_1d(y, warn=True)\n",
      "/home/pablo/.local/lib/python3.10/site-packages/sklearn/utils/validation.py:1111: DataConversionWarning: A column-vector y was passed when a 1d array was expected. Please change the shape of y to (n_samples, ), for example using ravel().\n",
      "  y = column_or_1d(y, warn=True)\n",
      "/home/pablo/.local/lib/python3.10/site-packages/sklearn/utils/validation.py:1111: DataConversionWarning: A column-vector y was passed when a 1d array was expected. Please change the shape of y to (n_samples, ), for example using ravel().\n",
      "  y = column_or_1d(y, warn=True)\n",
      "/home/pablo/.local/lib/python3.10/site-packages/sklearn/utils/validation.py:1111: DataConversionWarning: A column-vector y was passed when a 1d array was expected. Please change the shape of y to (n_samples, ), for example using ravel().\n",
      "  y = column_or_1d(y, warn=True)\n",
      "/home/pablo/.local/lib/python3.10/site-packages/sklearn/linear_model/_logistic.py:444: ConvergenceWarning: lbfgs failed to converge (status=1):\n",
      "STOP: TOTAL NO. of ITERATIONS REACHED LIMIT.\n",
      "\n",
      "Increase the number of iterations (max_iter) or scale the data as shown in:\n",
      "    https://scikit-learn.org/stable/modules/preprocessing.html\n",
      "Please also refer to the documentation for alternative solver options:\n",
      "    https://scikit-learn.org/stable/modules/linear_model.html#logistic-regression\n",
      "  n_iter_i = _check_optimize_result(\n",
      "/home/pablo/.local/lib/python3.10/site-packages/sklearn/linear_model/_logistic.py:444: ConvergenceWarning: lbfgs failed to converge (status=1):\n",
      "STOP: TOTAL NO. of ITERATIONS REACHED LIMIT.\n",
      "\n",
      "Increase the number of iterations (max_iter) or scale the data as shown in:\n",
      "    https://scikit-learn.org/stable/modules/preprocessing.html\n",
      "Please also refer to the documentation for alternative solver options:\n",
      "    https://scikit-learn.org/stable/modules/linear_model.html#logistic-regression\n",
      "  n_iter_i = _check_optimize_result(\n",
      "/home/pablo/.local/lib/python3.10/site-packages/sklearn/linear_model/_logistic.py:444: ConvergenceWarning: lbfgs failed to converge (status=1):\n",
      "STOP: TOTAL NO. of ITERATIONS REACHED LIMIT.\n",
      "\n",
      "Increase the number of iterations (max_iter) or scale the data as shown in:\n",
      "    https://scikit-learn.org/stable/modules/preprocessing.html\n",
      "Please also refer to the documentation for alternative solver options:\n",
      "    https://scikit-learn.org/stable/modules/linear_model.html#logistic-regression\n",
      "  n_iter_i = _check_optimize_result(\n"
     ]
    },
    {
     "name": "stdout",
     "output_type": "stream",
     "text": [
      "[CV 3/5; 2/2] END 11pipeline__column_transformer__bow__ngram_range=(1, 2), classifier=LogisticRegression(random_state=42), selector__percentile=20;, score=(train=0.991, test=0.698) total time=  23.1s\n",
      "[CV 4/5; 2/2] START 11pipeline__column_transformer__bow__ngram_range=(1, 2), classifier=LogisticRegression(random_state=42), selector__percentile=20\n",
      "[CV 1/5; 2/2] END 11pipeline__column_transformer__bow__ngram_range=(1, 2), classifier=LogisticRegression(random_state=42), selector__percentile=20;, score=(train=0.994, test=0.712) total time=  25.3s\n",
      "[CV 5/5; 2/2] START 11pipeline__column_transformer__bow__ngram_range=(1, 2), classifier=LogisticRegression(random_state=42), selector__percentile=20\n",
      "[CV 3/5; 1/2] END 11pipeline__column_transformer__bow__ngram_range=(1, 2), classifier=SVC(random_state=42), selector__percentile=60;, score=(train=0.591, test=0.576) total time=  24.9s\n",
      "[CV 2/5; 2/2] END 11pipeline__column_transformer__bow__ngram_range=(1, 2), classifier=LogisticRegression(random_state=42), selector__percentile=20;, score=(train=0.988, test=0.644) total time=  25.3s\n",
      "[CV 1/5; 1/2] END 11pipeline__column_transformer__bow__ngram_range=(1, 2), classifier=SVC(random_state=42), selector__percentile=60;, score=(train=0.591, test=0.576) total time=  25.8s\n",
      "[CV 5/5; 1/2] END 11pipeline__column_transformer__bow__ngram_range=(1, 2), classifier=SVC(random_state=42), selector__percentile=60;, score=(train=0.588, test=0.578) total time=  27.0s\n",
      "[CV 2/5; 1/2] END 11pipeline__column_transformer__bow__ngram_range=(1, 2), classifier=SVC(random_state=42), selector__percentile=60;, score=(train=0.589, test=0.576) total time=  26.7s\n",
      "[CV 4/5; 1/2] END 11pipeline__column_transformer__bow__ngram_range=(1, 2), classifier=SVC(random_state=42), selector__percentile=60;, score=(train=0.590, test=0.578) total time=  26.4s\n"
     ]
    },
    {
     "name": "stderr",
     "output_type": "stream",
     "text": [
      "/home/pablo/.local/lib/python3.10/site-packages/sklearn/utils/validation.py:1111: DataConversionWarning: A column-vector y was passed when a 1d array was expected. Please change the shape of y to (n_samples, ), for example using ravel().\n",
      "  y = column_or_1d(y, warn=True)\n",
      "/home/pablo/.local/lib/python3.10/site-packages/sklearn/linear_model/_logistic.py:444: ConvergenceWarning: lbfgs failed to converge (status=1):\n",
      "STOP: TOTAL NO. of ITERATIONS REACHED LIMIT.\n",
      "\n",
      "Increase the number of iterations (max_iter) or scale the data as shown in:\n",
      "    https://scikit-learn.org/stable/modules/preprocessing.html\n",
      "Please also refer to the documentation for alternative solver options:\n",
      "    https://scikit-learn.org/stable/modules/linear_model.html#logistic-regression\n",
      "  n_iter_i = _check_optimize_result(\n",
      "/home/pablo/.local/lib/python3.10/site-packages/sklearn/utils/validation.py:1111: DataConversionWarning: A column-vector y was passed when a 1d array was expected. Please change the shape of y to (n_samples, ), for example using ravel().\n",
      "  y = column_or_1d(y, warn=True)\n",
      "/home/pablo/.local/lib/python3.10/site-packages/sklearn/linear_model/_logistic.py:444: ConvergenceWarning: lbfgs failed to converge (status=1):\n",
      "STOP: TOTAL NO. of ITERATIONS REACHED LIMIT.\n",
      "\n",
      "Increase the number of iterations (max_iter) or scale the data as shown in:\n",
      "    https://scikit-learn.org/stable/modules/preprocessing.html\n",
      "Please also refer to the documentation for alternative solver options:\n",
      "    https://scikit-learn.org/stable/modules/linear_model.html#logistic-regression\n",
      "  n_iter_i = _check_optimize_result(\n"
     ]
    },
    {
     "name": "stdout",
     "output_type": "stream",
     "text": [
      "[CV 4/5; 2/2] END 11pipeline__column_transformer__bow__ngram_range=(1, 2), classifier=LogisticRegression(random_state=42), selector__percentile=20;, score=(train=0.994, test=0.681) total time=  13.2s\n",
      "[CV 5/5; 2/2] END 11pipeline__column_transformer__bow__ngram_range=(1, 2), classifier=LogisticRegression(random_state=42), selector__percentile=20;, score=(train=0.996, test=0.627) total time=  13.3s\n"
     ]
    },
    {
     "name": "stderr",
     "output_type": "stream",
     "text": [
      "/home/pablo/.local/lib/python3.10/site-packages/sklearn/utils/validation.py:1111: DataConversionWarning: A column-vector y was passed when a 1d array was expected. Please change the shape of y to (n_samples, ), for example using ravel().\n",
      "  y = column_or_1d(y, warn=True)\n",
      "/home/pablo/.local/lib/python3.10/site-packages/sklearn/linear_model/_logistic.py:444: ConvergenceWarning: lbfgs failed to converge (status=1):\n",
      "STOP: TOTAL NO. of ITERATIONS REACHED LIMIT.\n",
      "\n",
      "Increase the number of iterations (max_iter) or scale the data as shown in:\n",
      "    https://scikit-learn.org/stable/modules/preprocessing.html\n",
      "Please also refer to the documentation for alternative solver options:\n",
      "    https://scikit-learn.org/stable/modules/linear_model.html#logistic-regression\n",
      "  n_iter_i = _check_optimize_result(\n"
     ]
    },
    {
     "name": "stdout",
     "output_type": "stream",
     "text": [
      "              precision    recall  f1-score   support\n",
      "\n",
      "         Bad       0.68      0.58      0.63        86\n",
      "        Good       0.74      0.90      0.81       148\n",
      "     Neutral       0.75      0.13      0.22        23\n",
      "\n",
      "    accuracy                           0.72       257\n",
      "   macro avg       0.72      0.54      0.55       257\n",
      "weighted avg       0.72      0.72      0.70       257\n",
      "\n"
     ]
    }
   ],
   "source": [
    "\n",
    "from sklearn.experimental import enable_halving_search_cv\n",
    "from sklearn.model_selection import HalvingGridSearchCV\n",
    "#pipeline = Pipeline(steps=[('11_pipeline',pipeline_colum_transformer),('selector', selector), ('classifier', classificador)])\n",
    "\n",
    "params = [\n",
    "       #SVC\n",
    "       {'classifier': [SVC(random_state=42)],\n",
    "        '11pipeline__column_transformer__bow__ngram_range':[(1,1), (1,2), (1,3)],\n",
    "        'selector__percentile': [20, 40, 60, 80],\n",
    "       },\n",
    "       # Regresion logistica\n",
    "       {'classifier': [LogisticRegression(random_state=42)],\n",
    "        '11pipeline__column_transformer__bow__ngram_range':[(1,1), (1,2), (1,3)],\n",
    "        'selector__percentile': [20, 40, 60, 80],\n",
    "       },\n",
    "       # Decision Tree Classifier\n",
    "       {'classifier': [DecisionTreeClassifier(random_state=42)],\n",
    "        '11pipeline__column_transformer__bow__ngram_range':[(1,1), (1,2), (1,3)],\n",
    "        'selector__percentile': [20, 40, 60, 80],\n",
    "       }       \n",
    "       ]\n",
    "\n",
    "\n",
    "grid_searcher = HalvingGridSearchCV(pipeline,params,verbose=10,n_jobs=-1)\n",
    "grid_searcher.fit(X_train, y_train)\n",
    "y_pred = grid_searcher.predict(X_test)\n",
    "print(classification_report(y_test, y_pred))"
   ]
  },
  {
   "cell_type": "code",
   "execution_count": 18,
   "metadata": {},
   "outputs": [
    {
     "data": {
      "text/plain": [
       "{'11pipeline__column_transformer__bow__ngram_range': (1, 2),\n",
       " 'classifier': LogisticRegression(random_state=42),\n",
       " 'selector__percentile': 20}"
      ]
     },
     "execution_count": 18,
     "metadata": {},
     "output_type": "execute_result"
    }
   ],
   "source": [
    "#vemso qué modelo se ha elegido\n",
    "grid_searcher.best_params_"
   ]
  },
  {
   "cell_type": "markdown",
   "metadata": {
    "cell_id": "9548ab417c8847e4a3d10235845e1ece",
    "deepnote_cell_height": 70.796875,
    "deepnote_cell_type": "markdown",
    "tags": []
   },
   "source": [
    "```\n",
    "    Usando grid search se encontró que el mejor modelo era el de la regresión logística usando ngram_range=(1,2) en el bag of words, y percentil 20 en el selector. Notar que se podría ser más exhaustivo y probar otros modelos y variar distintos parámetros de cualquier sector del pipeline.\n",
    "```"
   ]
  },
  {
   "cell_type": "markdown",
   "metadata": {
    "cell_id": "00042-1dc5444c-59e9-4d79-93fb-3c545fe3b086",
    "deepnote_cell_height": 600.15625,
    "deepnote_cell_type": "markdown",
    "id": "OmQUw2aZ_6z2"
   },
   "source": [
    "## 1.4 Predicción del datos sin etiquetado  [0.5 puntos]\n",
    "\n",
    "<p align=\"center\">\n",
    "  <img src=\"https://pbs.twimg.com/media/DolotxUUYAAbg7f.jpg\" width=\"350\">\n",
    "</p>\n"
   ]
  },
  {
   "cell_type": "markdown",
   "metadata": {
    "cell_id": "00043-bdf593d2-92b5-4d74-869a-8c9541a6e572",
    "deepnote_cell_height": 111.171875,
    "deepnote_cell_type": "markdown",
    "id": "Cj0ERBgTBFWN"
   },
   "source": [
    "LLego el momento de predecir \n",
    "`Vergil`, `Gorilla Girl` y `Batcow`\n",
    "\n",
    "\n",
    "**Nota:** Recuerde que pueden existir campos vacios en `history_text`, por lo que se les recomienda borrar los nan."
   ]
  },
  {
   "cell_type": "markdown",
   "metadata": {
    "cell_id": "00035-1e9b40e0-20dc-4ed1-81ca-b7f8f9679771",
    "deepnote_cell_height": 52.390625,
    "deepnote_cell_type": "markdown",
    "tags": []
   },
   "source": [
    "**Respuesta:**"
   ]
  },
  {
   "cell_type": "code",
   "execution_count": 24,
   "metadata": {
    "cell_id": "00035-1ec91701-af2f-4571-9067-f82dbc6f2989",
    "deepnote_cell_height": 66,
    "deepnote_cell_type": "code",
    "tags": []
   },
   "outputs": [
    {
     "data": {
      "text/html": [
       "<div>\n",
       "<style scoped>\n",
       "    .dataframe tbody tr th:only-of-type {\n",
       "        vertical-align: middle;\n",
       "    }\n",
       "\n",
       "    .dataframe tbody tr th {\n",
       "        vertical-align: top;\n",
       "    }\n",
       "\n",
       "    .dataframe thead th {\n",
       "        text-align: right;\n",
       "    }\n",
       "</style>\n",
       "<table border=\"1\" class=\"dataframe\">\n",
       "  <thead>\n",
       "    <tr style=\"text-align: right;\">\n",
       "      <th></th>\n",
       "      <th>Unnamed: 0</th>\n",
       "      <th>name</th>\n",
       "      <th>real_name</th>\n",
       "      <th>full_name</th>\n",
       "      <th>overall_score</th>\n",
       "      <th>history_text</th>\n",
       "      <th>powers_text</th>\n",
       "      <th>intelligence_score</th>\n",
       "      <th>strength_score</th>\n",
       "      <th>speed_score</th>\n",
       "      <th>...</th>\n",
       "      <th>has_flight</th>\n",
       "      <th>has_accelerated_healing</th>\n",
       "      <th>has_weapons_master</th>\n",
       "      <th>has_intelligence</th>\n",
       "      <th>has_reflexes</th>\n",
       "      <th>has_super_speed</th>\n",
       "      <th>has_durability</th>\n",
       "      <th>has_stamina</th>\n",
       "      <th>has_agility</th>\n",
       "      <th>has_super_strength</th>\n",
       "    </tr>\n",
       "  </thead>\n",
       "  <tbody>\n",
       "    <tr>\n",
       "      <th>16</th>\n",
       "      <td>122</td>\n",
       "      <td>Batcow</td>\n",
       "      <td>None</td>\n",
       "      <td>None</td>\n",
       "      <td>3</td>\n",
       "      <td>Bat-Cow was originally a cow that was found by...</td>\n",
       "      <td>NaN</td>\n",
       "      <td>70</td>\n",
       "      <td>10</td>\n",
       "      <td>25</td>\n",
       "      <td>...</td>\n",
       "      <td>0.0</td>\n",
       "      <td>0.0</td>\n",
       "      <td>0.0</td>\n",
       "      <td>0.0</td>\n",
       "      <td>0.0</td>\n",
       "      <td>0.0</td>\n",
       "      <td>0.0</td>\n",
       "      <td>0.0</td>\n",
       "      <td>0.0</td>\n",
       "      <td>0.0</td>\n",
       "    </tr>\n",
       "    <tr>\n",
       "      <th>40</th>\n",
       "      <td>529</td>\n",
       "      <td>Gorilla Girl</td>\n",
       "      <td>Fahnbullah Eddy</td>\n",
       "      <td>Fahnbullah Eddy</td>\n",
       "      <td>7</td>\n",
       "      <td>A carnival performer with the ability to turn ...</td>\n",
       "      <td>Gorilla Girl can transform into a talking gori...</td>\n",
       "      <td>90</td>\n",
       "      <td>35</td>\n",
       "      <td>60</td>\n",
       "      <td>...</td>\n",
       "      <td>0.0</td>\n",
       "      <td>0.0</td>\n",
       "      <td>0.0</td>\n",
       "      <td>0.0</td>\n",
       "      <td>0.0</td>\n",
       "      <td>0.0</td>\n",
       "      <td>0.0</td>\n",
       "      <td>0.0</td>\n",
       "      <td>1.0</td>\n",
       "      <td>1.0</td>\n",
       "    </tr>\n",
       "    <tr>\n",
       "      <th>78</th>\n",
       "      <td>1368</td>\n",
       "      <td>Vergil</td>\n",
       "      <td>Vergil Sparda</td>\n",
       "      <td>NaN</td>\n",
       "      <td>16</td>\n",
       "      <td>Vergil, later also known as Nelo Angelo, is on...</td>\n",
       "      <td>NaN</td>\n",
       "      <td>90</td>\n",
       "      <td>75</td>\n",
       "      <td>95</td>\n",
       "      <td>...</td>\n",
       "      <td>0.0</td>\n",
       "      <td>1.0</td>\n",
       "      <td>1.0</td>\n",
       "      <td>1.0</td>\n",
       "      <td>1.0</td>\n",
       "      <td>1.0</td>\n",
       "      <td>1.0</td>\n",
       "      <td>1.0</td>\n",
       "      <td>1.0</td>\n",
       "      <td>1.0</td>\n",
       "    </tr>\n",
       "    <tr>\n",
       "      <th>83</th>\n",
       "      <td>122</td>\n",
       "      <td>Batcow</td>\n",
       "      <td>None</td>\n",
       "      <td>None</td>\n",
       "      <td>3</td>\n",
       "      <td>Bat-Cow was originally a cow that was found by...</td>\n",
       "      <td>NaN</td>\n",
       "      <td>70</td>\n",
       "      <td>10</td>\n",
       "      <td>25</td>\n",
       "      <td>...</td>\n",
       "      <td>0.0</td>\n",
       "      <td>0.0</td>\n",
       "      <td>0.0</td>\n",
       "      <td>0.0</td>\n",
       "      <td>0.0</td>\n",
       "      <td>0.0</td>\n",
       "      <td>0.0</td>\n",
       "      <td>0.0</td>\n",
       "      <td>0.0</td>\n",
       "      <td>0.0</td>\n",
       "    </tr>\n",
       "  </tbody>\n",
       "</table>\n",
       "<p>4 rows × 82 columns</p>\n",
       "</div>"
      ],
      "text/plain": [
       "    Unnamed: 0          name        real_name        full_name overall_score  \\\n",
       "16         122        Batcow             None             None             3   \n",
       "40         529  Gorilla Girl  Fahnbullah Eddy  Fahnbullah Eddy             7   \n",
       "78        1368        Vergil    Vergil Sparda              NaN            16   \n",
       "83         122        Batcow             None             None             3   \n",
       "\n",
       "                                         history_text  \\\n",
       "16  Bat-Cow was originally a cow that was found by...   \n",
       "40  A carnival performer with the ability to turn ...   \n",
       "78  Vergil, later also known as Nelo Angelo, is on...   \n",
       "83  Bat-Cow was originally a cow that was found by...   \n",
       "\n",
       "                                          powers_text  intelligence_score  \\\n",
       "16                                                NaN                  70   \n",
       "40  Gorilla Girl can transform into a talking gori...                  90   \n",
       "78                                                NaN                  90   \n",
       "83                                                NaN                  70   \n",
       "\n",
       "    strength_score  speed_score  ...  has_flight  has_accelerated_healing  \\\n",
       "16              10           25  ...         0.0                      0.0   \n",
       "40              35           60  ...         0.0                      0.0   \n",
       "78              75           95  ...         0.0                      1.0   \n",
       "83              10           25  ...         0.0                      0.0   \n",
       "\n",
       "    has_weapons_master has_intelligence has_reflexes has_super_speed  \\\n",
       "16                 0.0              0.0          0.0             0.0   \n",
       "40                 0.0              0.0          0.0             0.0   \n",
       "78                 1.0              1.0          1.0             1.0   \n",
       "83                 0.0              0.0          0.0             0.0   \n",
       "\n",
       "   has_durability has_stamina has_agility  has_super_strength  \n",
       "16            0.0         0.0         0.0                 0.0  \n",
       "40            0.0         0.0         1.0                 1.0  \n",
       "78            1.0         1.0         1.0                 1.0  \n",
       "83            0.0         0.0         0.0                 0.0  \n",
       "\n",
       "[4 rows x 82 columns]"
      ]
     },
     "metadata": {},
     "output_type": "display_data"
    },
    {
     "name": "stdout",
     "output_type": "stream",
     "text": [
      "['Good' 'Good' 'Good' 'Good']\n"
     ]
    }
   ],
   "source": [
    "#### Código aquí ####\n",
    "df_to_predict=df_comics_no_label[df_comics_no_label['name'].isin(['Vergil', 'Gorilla Girl', 'Batcow'])]\n",
    "display(df_to_predict)\n",
    "#predecimos\n",
    "print(grid_searcher.predict(df_to_predict))\n"
   ]
  },
  {
   "cell_type": "markdown",
   "metadata": {},
   "source": [
    "    Según lo predicho, todos los de la listas son Good"
   ]
  },
  {
   "cell_type": "markdown",
   "metadata": {
    "cell_id": "00045-bf830861-7edd-434b-93f5-af4b0404ce83",
    "deepnote_cell_height": 269,
    "deepnote_cell_type": "markdown",
    "id": "Rg4ZMq8ezAH6"
   },
   "source": [
    "<p align=\"center\">\n",
    "  <img src=\"https://media1.tenor.com/images/fb5bf7cc5a4acb91b4177672886a88ba/tenor.gif?itemid=5591338\">\n",
    "</p>"
   ]
  },
  {
   "cell_type": "markdown",
   "metadata": {
    "created_in_deepnote_cell": true,
    "deepnote_cell_type": "markdown",
    "tags": []
   },
   "source": [
    "<a style='text-decoration:none;line-height:16px;display:flex;color:#5B5B62;padding:10px;justify-content:end;' href='https://deepnote.com?utm_source=created-in-deepnote-cell&projectId=87110296-876e-426f-b91d-aaf681223468' target=\"_blank\">\n",
    "<img alt='Created in deepnote.com' style='display:inline;max-height:16px;margin:0px;margin-right:7.5px;' src='data:image/svg+xml;base64,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' > </img>\n",
    "Created in <span style='font-weight:600;margin-left:4px;'>Deepnote</span></a>"
   ]
  }
 ],
 "metadata": {
  "colab": {
   "collapsed_sections": [
    "LCOUC4jss148",
    "GtG74Cphq56p"
   ],
   "name": "Laboratorio4.ipynb",
   "provenance": [],
   "toc_visible": true
  },
  "deepnote": {},
  "deepnote_execution_queue": [],
  "deepnote_notebook_id": "038fcdf2-d87a-4a74-89c6-f5afff22afb6",
  "kernelspec": {
   "display_name": "Python 3.10.4 64-bit",
   "language": "python",
   "name": "python3"
  },
  "language_info": {
   "codemirror_mode": {
    "name": "ipython",
    "version": 3
   },
   "file_extension": ".py",
   "mimetype": "text/x-python",
   "name": "python",
   "nbconvert_exporter": "python",
   "pygments_lexer": "ipython3",
   "version": "3.10.4"
  },
  "toc": {
   "base_numbering": 1,
   "nav_menu": {},
   "number_sections": true,
   "sideBar": true,
   "skip_h1_title": true,
   "title_cell": "Tabla de Contenidos",
   "title_sidebar": "Contenidos",
   "toc_cell": false,
   "toc_position": {
    "height": "calc(100% - 180px)",
    "left": "10px",
    "top": "150px",
    "width": "241.867px"
   },
   "toc_section_display": true,
   "toc_window_display": true
  },
  "varInspector": {
   "cols": {
    "lenName": 16,
    "lenType": 16,
    "lenVar": 40
   },
   "kernels_config": {
    "python": {
     "delete_cmd_postfix": "",
     "delete_cmd_prefix": "del ",
     "library": "var_list.py",
     "varRefreshCmd": "print(var_dic_list())"
    },
    "r": {
     "delete_cmd_postfix": ") ",
     "delete_cmd_prefix": "rm(",
     "library": "var_list.r",
     "varRefreshCmd": "cat(var_dic_list()) "
    }
   },
   "types_to_exclude": [
    "module",
    "function",
    "builtin_function_or_method",
    "instance",
    "_Feature"
   ],
   "window_display": false
  },
  "vscode": {
   "interpreter": {
    "hash": "e7370f93d1d0cde622a1f8e1c04877d8463912d04d973331ad4851f04de6915a"
   }
  }
 },
 "nbformat": 4,
 "nbformat_minor": 0
}
