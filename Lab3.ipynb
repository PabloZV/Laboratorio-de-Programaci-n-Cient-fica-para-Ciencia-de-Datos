{
 "cells": [
  {
   "cell_type": "markdown",
   "metadata": {
    "cell_id": "00000-ae4bce0d-d467-4e5f-a49a-58fb5129bd6c",
    "deepnote_cell_height": 156.390625,
    "deepnote_cell_type": "markdown",
    "id": "XUZ1dFPHzAHl"
   },
   "source": [
    "<h1><center>Laboratorio 3: El Pandas no muerde (act. I) 🐼</center></h1>\n",
    "\n",
    "<center><strong>MDS7202: Laboratorio de Programación Científica para Ciencia de Datos</strong></center>"
   ]
  },
  {
   "cell_type": "markdown",
   "metadata": {
    "cell_id": "00001-c0f83a9b-e822-4864-8c65-718da74b60b9",
    "deepnote_cell_height": 165.171875,
    "deepnote_cell_type": "markdown",
    "id": "UD8X1uhGzAHq"
   },
   "source": [
    "### Cuerpo Docente:\n",
    "\n",
    "- Profesor: Pablo Badilla\n",
    "- Auxiliar: Ignacio Meza D.\n",
    "- Ayudante: Patricio Ortiz"
   ]
  },
  {
   "cell_type": "markdown",
   "metadata": {
    "cell_id": "00002-155246d6-4c8d-43be-872f-880dede73522",
    "deepnote_cell_height": 171.78125,
    "deepnote_cell_type": "markdown",
    "id": "tXflExjqzAHr"
   },
   "source": [
    "### Equipo: SUPER IMPORTANTE - notebooks sin nombre no serán revisados\n",
    "\n",
    "- Nombre de alumno 1: Pablo Esteban Zúñiga Varela\n",
    "- Nombre de alumno 2:\n"
   ]
  },
  {
   "cell_type": "markdown",
   "metadata": {
    "cell_id": "00003-97391d1f-df36-4c70-90b7-bfd91cd6e49e",
    "deepnote_cell_height": 63,
    "deepnote_cell_type": "markdown",
    "id": "AD-V0bbZzAHr"
   },
   "source": [
    "### **Link de repositorio de GitHub:** `https://github.com/PabloZV/Laboratorio-de-Programacion-Cientifica-para-Ciencia-de-Datos`"
   ]
  },
  {
   "cell_type": "markdown",
   "metadata": {
    "cell_id": "00004-0e0866f8-5d50-4988-906a-d868ede07df1",
    "deepnote_cell_height": 263.734375,
    "deepnote_cell_type": "markdown",
    "tags": []
   },
   "source": [
    "### Reglas:\n",
    "\n",
    "- Fecha de entrega: 22 de abril (atrasos hasta el 28 de abril, 1 pto de descuento por día)\n",
    "- **Grupos de máximo 2 personas**\n",
    "- **Ausentes** deberán realizar la actividad solos. \n",
    "- Cualquier duda fuera del horario de clases al foro. Mensajes al equipo docente serán respondidos por este medio.\n",
    "- Prohibidas las copias. \n",
    "- Pueden usar cualquer matrial del curso que estimen conveniente."
   ]
  },
  {
   "cell_type": "markdown",
   "metadata": {
    "cell_id": "00005-ea6a4d75-61c0-4a2b-ac8d-1ac736216350",
    "deepnote_cell_height": 114.390625,
    "deepnote_cell_type": "markdown",
    "tags": []
   },
   "source": [
    "### Temas a tratar\n",
    "\n",
    "- Introducción al manejo de datos tabulares por medio de la libreria `pandas`."
   ]
  },
  {
   "cell_type": "markdown",
   "metadata": {
    "cell_id": "00006-fbe17074-fb3c-4ddb-bb19-2bfd042bf921",
    "deepnote_cell_height": 243.34375,
    "deepnote_cell_type": "markdown",
    "id": "6uBLPj1PzAHs"
   },
   "source": [
    "### Objetivos principales del laboratorio\n",
    "\n",
    "- Entender, aplicar y aprovechar las ventajas que nos ofrece la libreria `pandas` para manejar datos tabulares.\n",
    "- Aprender a utilizar la documentación de pandas (y en general, de cualquier librería de python) como también a buscar soluciones en la web.\n",
    "\n",
    "> **Nota**: El laboratorio deberá ser desarrollado sin el uso indiscriminado de iteradores nativos de python (aka \"for\", \"while\"). La idea es que aprendan a exprimir al máximo las funciones optimizadas que nos entrega `pandas`, las cuales vale mencionar, son bastante más eficientes que los iteradores nativos sobre DataFrames."
   ]
  },
  {
   "cell_type": "markdown",
   "metadata": {
    "cell_id": "00007-93c4d22f-7d4f-4cc0-bca9-a2c35a9b8b3e",
    "deepnote_cell_height": 62,
    "deepnote_cell_type": "markdown",
    "id": "MhISwri4zAHy"
   },
   "source": [
    "### Librerias utiles para el Lab 😸"
   ]
  },
  {
   "cell_type": "code",
   "execution_count": 1,
   "metadata": {
    "ExecuteTime": {
     "end_time": "2021-03-29T00:08:16.884674Z",
     "start_time": "2021-03-29T00:08:16.349846Z"
    },
    "cell_id": "00008-58834915-07fa-4589-93b7-f1fb0c08b816",
    "colab": {
     "base_uri": "https://localhost:8080/"
    },
    "deepnote_cell_height": 336.5625,
    "deepnote_cell_type": "code",
    "deepnote_to_be_reexecuted": false,
    "executionInfo": {
     "elapsed": 4847,
     "status": "ok",
     "timestamp": 1619205948702,
     "user": {
      "displayName": "IGNACIO ALEJANDRO MEZA",
      "photoUrl": "",
      "userId": "17011121633069169364"
     },
     "user_tz": 240
    },
    "execution_millis": 4154,
    "execution_start": 1632493418117,
    "id": "uyc33dKdzAHy",
    "outputId": "0b8ebbb5-c76c-45a4-9d3e-1b6dba06a278",
    "source_hash": "8da0b14b"
   },
   "outputs": [],
   "source": [
    "# Libreria Core del lab.\n",
    "import numpy as np\n",
    "import pandas as pd\n",
    "from IPython.display import display\n",
    "\n",
    "#Libreria para plotear\n",
    "!pip install --upgrade plotly\n",
    "import plotly.express as px\n",
    "\n",
    "# Librerias utiles\n",
    "from sklearn.preprocessing import StandardScaler"
   ]
  },
  {
   "cell_type": "markdown",
   "metadata": {
    "cell_id": "00009-429ae3f2-fb38-4b64-b588-014a84e630dd",
    "deepnote_cell_height": 82,
    "deepnote_cell_type": "markdown",
    "id": "xpOTbQcxbSiy"
   },
   "source": [
    "# 1. Rendimiento en Estudiantes 📚"
   ]
  },
  {
   "cell_type": "markdown",
   "metadata": {
    "cell_id": "00010-37be44cf-4558-4ba9-83df-767bf4f1905d",
    "deepnote_cell_height": 46,
    "deepnote_cell_type": "markdown",
    "id": "3Q93vbNS25bM"
   },
   "source": []
  },
  {
   "cell_type": "markdown",
   "metadata": {
    "cell_id": "00011-2ad31a90-832d-4d5e-9c29-4e5d686375fa",
    "deepnote_cell_height": 97.171875,
    "deepnote_cell_type": "markdown",
    "id": "jnmZfFpxTTYX"
   },
   "source": [
    "Para este laboratorio deberán trabajar con el dataset `students_grades.json` el cual contiene información sobre el rendimiento de alumnos en distintos ramos. \n",
    "El objetivo principal será el de realizar un trabajo de limpieza de prepración y exploración de datos utilizando exclusivamente `DataFrames` y sus métodos asociados. \n",
    "\n",
    "\n"
   ]
  },
  {
   "cell_type": "code",
   "execution_count": 2,
   "metadata": {
    "cell_id": "00012-6ef52018-06ac-4eb8-8b0a-4142b81e04aa",
    "colab": {
     "base_uri": "https://localhost:8080/"
    },
    "deepnote_cell_height": 220.1875,
    "deepnote_cell_type": "code",
    "deepnote_to_be_reexecuted": false,
    "executionInfo": {
     "elapsed": 625,
     "status": "ok",
     "timestamp": 1619205948705,
     "user": {
      "displayName": "IGNACIO ALEJANDRO MEZA",
      "photoUrl": "",
      "userId": "17011121633069169364"
     },
     "user_tz": 240
    },
    "execution_millis": 8,
    "execution_start": 1632493422315,
    "id": "Jqq-s010Iwl1",
    "outputId": "d90c065b-1e2f-43f6-81eb-c92ed177f5f5",
    "source_hash": "c60dc4a7"
   },
   "outputs": [
    {
     "name": "stdout",
     "output_type": "stream",
     "text": [
      "Ignorando conexión drive-colab\n"
     ]
    }
   ],
   "source": [
    "# Si usted está utilizando Colabolatory le puede ser útil este código para cargar los archivos.\n",
    "try:\n",
    "    from google.colab import drive\n",
    "    drive.mount(\"/content/drive\")\n",
    "    path = 'Dirección donde tiene los archivos en el Drive'\n",
    "except: \n",
    "    print('Ignorando conexión drive-colab')"
   ]
  },
  {
   "cell_type": "markdown",
   "metadata": {
    "cell_id": "00013-61182eec-37fa-401b-8e56-9aec91671835",
    "deepnote_cell_height": 413.109375,
    "deepnote_cell_type": "markdown",
    "id": "Y7sGYwOpN1VJ"
   },
   "source": [
    "## 1.1 Carga e Inspección de Datos [1.5 Puntos]\n",
    "\n",
    "\n",
    "<p align=\"center\">\n",
    "  <img src=\"https://drive.google.com/uc?export=view&id=1hZZaPQlZe4VupFOXt76_wjuUA5NpUhrw\" width=\"300\" height=\"300\">\n",
    "</p>\n"
   ]
  },
  {
   "cell_type": "markdown",
   "metadata": {
    "cell_id": "00014-19b7ef4c-d646-4d3c-bc96-0fcf03730924",
    "deepnote_cell_height": 867.28125,
    "deepnote_cell_type": "markdown",
    "tags": []
   },
   "source": [
    "*Don Caguayo*, rector de la Universidad de la Cachaña, les comenta que actualmente la Universidad no tiene una subdirección de análisis de datos, pero que tiene un gran interés en formar una. Es por esto, que se contacta con ud. y su equipo para iniciar de forma exploratoria diversas tareas de análisis y consolidación de datos respectivos al rendimiento de sus alumnos.\n",
    "\n",
    "Previo a su primera reunión con el rector, el rector le envía una copia de la base de datos, la cuál a usted y su equipo le encantaría examinar. Para esto, la primera tarea que debe realizar es abrir y cargar el dataset. \n",
    "\n",
    "\n",
    "> **Notar que es sumamente importante el formato que posee cada columna** para su manipulación y que posiblemente ustedes deberán especificar algunos tipos de datos a mano. Ver la documentación del método `read_json` para mayor información.\n",
    "\n",
    "A continuación se muestra un ejemplo de los dos primeros registros del dataset:\n",
    "\n",
    "```json\n",
    "[\n",
    "  {\n",
    "    \"names\": \"Rita Courtney\",\n",
    "    \"gender\": \"female\",\n",
    "    \"race/ethnicity\": \"group B\",\n",
    "    \"parental level of education\": \"some high school\",\n",
    "    \"lunch\": \"standard\",\n",
    "    \"test preparation course\": \"none\",\n",
    "    \"math score\": 37,\n",
    "    \"reading score\": 46,\n",
    "    \"writing score\": 46\n",
    "  },\n",
    "  {\n",
    "    \"names\": \"Madeline Fuller\",\n",
    "    \"gender\": \"female\",\n",
    "    \"race/ethnicity\": \"group C\",\n",
    "    \"parental level of education\": \"some high school\",\n",
    "    \"lunch\": \"standard\",\n",
    "    \"test preparation course\": \"none\",\n",
    "    \"math score\": 124,\n",
    "    \"reading score\": 142,\n",
    "    \"writing score\": 142\n",
    "  }\n",
    "]\n",
    "```\n",
    "\n",
    "\n",
    "\n"
   ]
  },
  {
   "cell_type": "code",
   "execution_count": 3,
   "metadata": {
    "cell_id": "00014-cf0912c5-504c-459e-a7cb-0bfae6cff886",
    "deepnote_cell_height": 66,
    "deepnote_cell_type": "code",
    "owner_user_id": "d50c3174-babb-4861-9c71-7e3af66458b8",
    "tags": []
   },
   "outputs": [],
   "source": [
    "import pandas as pd\n",
    "df_grades = pd.read_json (r'students_grades.json')\n"
   ]
  },
  {
   "cell_type": "markdown",
   "metadata": {
    "cell_id": "00014-21b2a755-ee5d-4b46-88cc-1d6ec13f2d8e",
    "deepnote_cell_height": 621.125,
    "deepnote_cell_type": "markdown",
    "id": "sgVJGeVMMshn"
   },
   "source": [
    "\n",
    "<p align=\"center\">\n",
    "  <img src=\"https://i.giphy.com/media/4FQMuOKR6zQRO/giphy.webp\">\n",
    "</p>\n",
    "\n",
    "\n",
    "Posteriormente, el rector les comenta que la sección de TI posee una base de datos con más de **875** filas, en donde cada fila representa un alumno matriculado. Sin embargo, cree fuertemente que existen errores en esta: solo tiene registro de **875** matriculas. Por este motivo, especula que se han realizado malas prácticas al registrar dichos datos.\n",
    "\n",
    "En consecuencia, el rector les solicita a ustedes como tarea inicial que exploren la base de datos y encuentre posibles falencias dentro de sus registros. Para esto, usted debe estar al tanto que las notas están en una escala que van del **0 al 100** (porcentaje de logro) y **no es posible que un alumno haya dado más de una vez el mismo examen**. Cualquier alumno que posea un valor diferente a esta escala, debería ser eliminado de la base de datos.\n"
   ]
  },
  {
   "cell_type": "markdown",
   "metadata": {
    "cell_id": "00015-e3e66248-1ff0-488e-8455-35ab2d49d172",
    "deepnote_cell_height": 773.546875,
    "deepnote_cell_type": "markdown",
    "tags": []
   },
   "source": [
    "> **Instrucciones**\n",
    "\n",
    "**Cree una función** que tome un `DataFrame` y que le permita revisar si las diferentes variables que lo componen son coherentes y si es posible observar anomalías en estas. \n",
    "\n",
    "**To-Do**\n",
    "1. [X] Imprimir un mensaje con las dimensiones del Dataframe.\n",
    "2. [ ] Imprimir un mensaje con los nombres de las columnas que conforman el DataFrame.\n",
    "3. [ ] Mostrar los primeros 5, los últimos 5 elementos del DataFrame y realice un muestreo de 5 elementos de forma aleatoria.\n",
    "4. [ ] Mostrar una descripción rápida de las variables numéricas del DataFrame (utilice un método visto en clases).\n",
    "5. [ ] Imprimir un mensaje con la cantidad de valores nulos (investigue el método `isna()` y `sum()` de los DataFrames).\n",
    "6. [ ] Imprimir un mensaje que detalle la cantidad de valores unicos (investigue `nunique()`) .\n",
    "7. [ ] Imprimir un mensaje con el total de filas que contengan nombres duplicados (investigue `duplicated()` y su parámetro `subset`).\n",
    "8. [ ] Mostrar las filas que contengan nombres sean duplicados (investigue `duplicated()` y su parámetro `subset`).\n",
    "9. [ ] A traves de `.plot.box()` plotear el boxplot de las notas. De ser necesario, invetigue como funcionan los gráficos de caja (esta sección es provista).\n",
    "10. [ ] Finalmente responda la siguiente pregunta:\n",
    "\n",
    "> ¿Que anomalias es posible observar de los datos que componen el DataFrame? ¿Existen valores nulos o duplicados? ¿Qué puede interpretar de la distribución de las notas en el boxplot? (), comente esto en la celda ubicada debajo de **justificación**.\n",
    "\n",
    "> **Nota:** Para imprmir utilice `print(...)`. Para mostrar `DataFrames`, utilice `display(...)` ya que este permite mostrar estos elementos como tablas.\n",
    "\n",
    "> **Nota 2:** Utilice la documentación de [pandas](https://pandas.pydata.org/docs/index.html) como también StackOverflow para resolver cualquier problema o inconveniente.\n",
    "\n",
    "> **Nota 3:** Si no ha trabajado con boxplot antes, el siguiente link puede serle de mucha ayuda: [boxplot](https://medium.com/dayem-siddiqui/understanding-and-interpreting-box-plots-d07aab9d1b6c) "
   ]
  },
  {
   "cell_type": "markdown",
   "metadata": {
    "cell_id": "00016-f844817e-2dbb-4ef6-8b07-bfb37043bb52",
    "deepnote_cell_height": 52.390625,
    "deepnote_cell_type": "markdown",
    "tags": []
   },
   "source": [
    "**Respuesta:**"
   ]
  },
  {
   "cell_type": "code",
   "execution_count": 4,
   "metadata": {
    "cell_id": "00017-5f922af5-3edd-4012-8688-1573576c2703",
    "deepnote_cell_height": 102,
    "deepnote_cell_type": "code",
    "tags": []
   },
   "outputs": [],
   "source": [
    "import matplotlib.pyplot as plt\n",
    "\n",
    "def exploratory_data_analysis(dataframe:pd.DataFrame):\n",
    "    print(f'Dimensiones:\\n{dataframe.shape}')\n",
    "    print(f'Columnas:\\n[{\",\".join(dataframe.columns)}]')\n",
    "    print(f'Primeros 5 elementos:)')\n",
    "    display(dataframe.head(5))\n",
    "    print(f'Ultimos 5 elementos:')\n",
    "    display(dataframe.tail(5))\n",
    "    print(f'5 Elementos aleatorios:')\n",
    "    display(dataframe.sample(5))\n",
    "    print(f'Descripción rápida:')\n",
    "    display(dataframe.describe())\n",
    "    print(f'Cantidad de valores nulos:')\n",
    "    display(dataframe.isna().sum())\n",
    "    print(f'Cantidad de valores únicos:\\n{dataframe.nunique()}')\n",
    "    datos_con_nombres_duplicados=dataframe[dataframe.duplicated(['names'], keep=False)]\n",
    "    print(f'Cantidad de filas con nombres duplicados:\\n{datos_con_nombres_duplicados.shape[0]}')\n",
    "    print(f'Filas con valores duplicados:\\n ')\n",
    "    display(datos_con_nombres_duplicados.sort_values(['names']))\n",
    "    print('Boxplot de notas')\n",
    "    pd.DataFrame(pd.to_numeric(dataframe['math score'])).boxplot('math score')\n",
    "    plt.figure()\n",
    "    pd.DataFrame(pd.to_numeric(dataframe['reading score'])).boxplot('reading score')\n",
    "    plt.figure()\n",
    "    pd.DataFrame(pd.to_numeric(dataframe['writing score'])).boxplot('writing score')\n"
   ]
  },
  {
   "cell_type": "markdown",
   "metadata": {
    "cell_id": "00021-f548a297-97a4-4d9b-9501-ae5571aa3068",
    "deepnote_cell_height": 52.390625,
    "deepnote_cell_type": "markdown",
    "id": "nxRj-Hi2QUHQ"
   },
   "source": [
    "**Justificación:**"
   ]
  },
  {
   "cell_type": "markdown",
   "metadata": {
    "cell_id": "00022-a0fee108-5903-4074-8b11-104b98a94a67",
    "deepnote_cell_height": 70.796875,
    "deepnote_cell_type": "markdown",
    "id": "CR2ZEOcbQW9X"
   },
   "source": [
    "```\n",
    "Se observa la anomalía de que casi un tercio de los nombres están reptidos. También que la cantidad de valores duplicados (493) es mayor a la cantidad de nombres que se repiten (1400-1153=247), esto quiere decir que hay nombres que serepiten varias veces. También notar que las notas deberían ser valores numéricos, pero se están considerando como str, y que hay notas sobre el 100, cosa que por enunciado no debería ocurrir. No hay valores nulos, aunque algunos están catalogados como none, esto podría ser una categoría legítima de los datos. En los Boxplot se observa una cantidad no menor de outliers en cada boxplot, y que las distribuciones de reading, writing y math scores son muy similares.\n",
    "```"
   ]
  },
  {
   "cell_type": "markdown",
   "metadata": {
    "cell_id": "00017-b4a9f1a1-c50d-47f6-95af-4ce1416feed7",
    "deepnote_cell_height": 52.390625,
    "deepnote_cell_type": "markdown",
    "id": "45jxMTJHNPC3"
   },
   "source": [
    "**Respuesta Esperada:**"
   ]
  },
  {
   "cell_type": "code",
   "execution_count": 5,
   "metadata": {
    "cell_id": "00020-9bc24dfa-b47a-4545-8336-6470008a1527",
    "colab": {
     "base_uri": "https://localhost:8080/",
     "height": 1000
    },
    "deepnote_cell_height": 990.3125,
    "deepnote_cell_type": "code",
    "deepnote_to_be_reexecuted": false,
    "executionInfo": {
     "elapsed": 565,
     "status": "ok",
     "timestamp": 1619205954456,
     "user": {
      "displayName": "IGNACIO ALEJANDRO MEZA",
      "photoUrl": "",
      "userId": "17011121633069169364"
     },
     "user_tz": 240
    },
    "execution_millis": 1940,
    "execution_start": 1632493422320,
    "id": "Vu2Y7Q4wuBXg",
    "outputId": "589784c1-3dc8-4c6a-c63d-2d0aa4211878",
    "source_hash": "fc6a5c17"
   },
   "outputs": [
    {
     "name": "stdout",
     "output_type": "stream",
     "text": [
      "Dimensiones:\n",
      "(1400, 9)\n",
      "Columnas:\n",
      "[names,gender,race/ethnicity,parental level of education,lunch,test preparation course,math score,reading score,writing score]\n",
      "Primeros 5 elementos:)\n"
     ]
    },
    {
     "data": {
      "text/html": [
       "<div>\n",
       "<style scoped>\n",
       "    .dataframe tbody tr th:only-of-type {\n",
       "        vertical-align: middle;\n",
       "    }\n",
       "\n",
       "    .dataframe tbody tr th {\n",
       "        vertical-align: top;\n",
       "    }\n",
       "\n",
       "    .dataframe thead th {\n",
       "        text-align: right;\n",
       "    }\n",
       "</style>\n",
       "<table border=\"1\" class=\"dataframe\">\n",
       "  <thead>\n",
       "    <tr style=\"text-align: right;\">\n",
       "      <th></th>\n",
       "      <th>names</th>\n",
       "      <th>gender</th>\n",
       "      <th>race/ethnicity</th>\n",
       "      <th>parental level of education</th>\n",
       "      <th>lunch</th>\n",
       "      <th>test preparation course</th>\n",
       "      <th>math score</th>\n",
       "      <th>reading score</th>\n",
       "      <th>writing score</th>\n",
       "    </tr>\n",
       "  </thead>\n",
       "  <tbody>\n",
       "    <tr>\n",
       "      <th>0</th>\n",
       "      <td>Rita Courtney</td>\n",
       "      <td>female</td>\n",
       "      <td>group B</td>\n",
       "      <td>some high school</td>\n",
       "      <td>standard</td>\n",
       "      <td>none</td>\n",
       "      <td>37</td>\n",
       "      <td>46</td>\n",
       "      <td>46</td>\n",
       "    </tr>\n",
       "    <tr>\n",
       "      <th>1</th>\n",
       "      <td>Madeline Fuller</td>\n",
       "      <td>female</td>\n",
       "      <td>group C</td>\n",
       "      <td>some high school</td>\n",
       "      <td>standard</td>\n",
       "      <td>none</td>\n",
       "      <td>124</td>\n",
       "      <td>142</td>\n",
       "      <td>142</td>\n",
       "    </tr>\n",
       "    <tr>\n",
       "      <th>2</th>\n",
       "      <td>Daniel Rester</td>\n",
       "      <td>male</td>\n",
       "      <td>group E</td>\n",
       "      <td>associate's degree</td>\n",
       "      <td>standard</td>\n",
       "      <td>none</td>\n",
       "      <td>156</td>\n",
       "      <td>196</td>\n",
       "      <td>193</td>\n",
       "    </tr>\n",
       "    <tr>\n",
       "      <th>3</th>\n",
       "      <td>Charles Linstrom</td>\n",
       "      <td>male</td>\n",
       "      <td>group A</td>\n",
       "      <td>bachelor's degree</td>\n",
       "      <td>standard</td>\n",
       "      <td>completed</td>\n",
       "      <td>80</td>\n",
       "      <td>78</td>\n",
       "      <td>81</td>\n",
       "    </tr>\n",
       "    <tr>\n",
       "      <th>4</th>\n",
       "      <td>Geraldine Hale</td>\n",
       "      <td>female</td>\n",
       "      <td>group A</td>\n",
       "      <td>associate's degree</td>\n",
       "      <td>standard</td>\n",
       "      <td>none</td>\n",
       "      <td>131</td>\n",
       "      <td>166</td>\n",
       "      <td>166</td>\n",
       "    </tr>\n",
       "  </tbody>\n",
       "</table>\n",
       "</div>"
      ],
      "text/plain": [
       "              names  gender race/ethnicity parental level of education  \\\n",
       "0     Rita Courtney  female        group B            some high school   \n",
       "1   Madeline Fuller  female        group C            some high school   \n",
       "2     Daniel Rester    male        group E          associate's degree   \n",
       "3  Charles Linstrom    male        group A           bachelor's degree   \n",
       "4    Geraldine Hale  female        group A          associate's degree   \n",
       "\n",
       "      lunch test preparation course math score reading score writing score  \n",
       "0  standard                    none         37            46            46  \n",
       "1  standard                    none        124           142           142  \n",
       "2  standard                    none        156           196           193  \n",
       "3  standard               completed         80            78            81  \n",
       "4  standard                    none        131           166           166  "
      ]
     },
     "metadata": {},
     "output_type": "display_data"
    },
    {
     "name": "stdout",
     "output_type": "stream",
     "text": [
      "Ultimos 5 elementos:\n"
     ]
    },
    {
     "data": {
      "text/html": [
       "<div>\n",
       "<style scoped>\n",
       "    .dataframe tbody tr th:only-of-type {\n",
       "        vertical-align: middle;\n",
       "    }\n",
       "\n",
       "    .dataframe tbody tr th {\n",
       "        vertical-align: top;\n",
       "    }\n",
       "\n",
       "    .dataframe thead th {\n",
       "        text-align: right;\n",
       "    }\n",
       "</style>\n",
       "<table border=\"1\" class=\"dataframe\">\n",
       "  <thead>\n",
       "    <tr style=\"text-align: right;\">\n",
       "      <th></th>\n",
       "      <th>names</th>\n",
       "      <th>gender</th>\n",
       "      <th>race/ethnicity</th>\n",
       "      <th>parental level of education</th>\n",
       "      <th>lunch</th>\n",
       "      <th>test preparation course</th>\n",
       "      <th>math score</th>\n",
       "      <th>reading score</th>\n",
       "      <th>writing score</th>\n",
       "    </tr>\n",
       "  </thead>\n",
       "  <tbody>\n",
       "    <tr>\n",
       "      <th>1395</th>\n",
       "      <td>Alexander Dillon</td>\n",
       "      <td>male</td>\n",
       "      <td>group D</td>\n",
       "      <td>associate's degree</td>\n",
       "      <td>standard</td>\n",
       "      <td>none</td>\n",
       "      <td>193</td>\n",
       "      <td>142</td>\n",
       "      <td>193</td>\n",
       "    </tr>\n",
       "    <tr>\n",
       "      <th>1396</th>\n",
       "      <td>Marina Zeigler</td>\n",
       "      <td>female</td>\n",
       "      <td>group C</td>\n",
       "      <td>bachelor's degree</td>\n",
       "      <td>free/reduced</td>\n",
       "      <td>completed</td>\n",
       "      <td>66</td>\n",
       "      <td>74</td>\n",
       "      <td>81</td>\n",
       "    </tr>\n",
       "    <tr>\n",
       "      <th>1397</th>\n",
       "      <td>Laurie Carter</td>\n",
       "      <td>female</td>\n",
       "      <td>group B</td>\n",
       "      <td>some high school</td>\n",
       "      <td>standard</td>\n",
       "      <td>completed</td>\n",
       "      <td>54</td>\n",
       "      <td>61</td>\n",
       "      <td>62</td>\n",
       "    </tr>\n",
       "    <tr>\n",
       "      <th>1398</th>\n",
       "      <td>Joseph Mccoy</td>\n",
       "      <td>male</td>\n",
       "      <td>group D</td>\n",
       "      <td>some college</td>\n",
       "      <td>free/reduced</td>\n",
       "      <td>none</td>\n",
       "      <td>193</td>\n",
       "      <td>196</td>\n",
       "      <td>193</td>\n",
       "    </tr>\n",
       "    <tr>\n",
       "      <th>1399</th>\n",
       "      <td>Amanda Perez</td>\n",
       "      <td>female</td>\n",
       "      <td>group A</td>\n",
       "      <td>high school</td>\n",
       "      <td>standard</td>\n",
       "      <td>completed</td>\n",
       "      <td>68</td>\n",
       "      <td>80</td>\n",
       "      <td>76</td>\n",
       "    </tr>\n",
       "  </tbody>\n",
       "</table>\n",
       "</div>"
      ],
      "text/plain": [
       "                 names  gender race/ethnicity parental level of education  \\\n",
       "1395  Alexander Dillon    male        group D          associate's degree   \n",
       "1396    Marina Zeigler  female        group C           bachelor's degree   \n",
       "1397     Laurie Carter  female        group B            some high school   \n",
       "1398      Joseph Mccoy    male        group D                some college   \n",
       "1399      Amanda Perez  female        group A                 high school   \n",
       "\n",
       "             lunch test preparation course math score reading score  \\\n",
       "1395      standard                    none        193           142   \n",
       "1396  free/reduced               completed         66            74   \n",
       "1397      standard               completed         54            61   \n",
       "1398  free/reduced                    none        193           196   \n",
       "1399      standard               completed         68            80   \n",
       "\n",
       "     writing score  \n",
       "1395           193  \n",
       "1396            81  \n",
       "1397            62  \n",
       "1398           193  \n",
       "1399            76  "
      ]
     },
     "metadata": {},
     "output_type": "display_data"
    },
    {
     "name": "stdout",
     "output_type": "stream",
     "text": [
      "5 Elementos aleatorios:\n"
     ]
    },
    {
     "data": {
      "text/html": [
       "<div>\n",
       "<style scoped>\n",
       "    .dataframe tbody tr th:only-of-type {\n",
       "        vertical-align: middle;\n",
       "    }\n",
       "\n",
       "    .dataframe tbody tr th {\n",
       "        vertical-align: top;\n",
       "    }\n",
       "\n",
       "    .dataframe thead th {\n",
       "        text-align: right;\n",
       "    }\n",
       "</style>\n",
       "<table border=\"1\" class=\"dataframe\">\n",
       "  <thead>\n",
       "    <tr style=\"text-align: right;\">\n",
       "      <th></th>\n",
       "      <th>names</th>\n",
       "      <th>gender</th>\n",
       "      <th>race/ethnicity</th>\n",
       "      <th>parental level of education</th>\n",
       "      <th>lunch</th>\n",
       "      <th>test preparation course</th>\n",
       "      <th>math score</th>\n",
       "      <th>reading score</th>\n",
       "      <th>writing score</th>\n",
       "    </tr>\n",
       "  </thead>\n",
       "  <tbody>\n",
       "    <tr>\n",
       "      <th>265</th>\n",
       "      <td>David Moss</td>\n",
       "      <td>male</td>\n",
       "      <td>group D</td>\n",
       "      <td>some college</td>\n",
       "      <td>standard</td>\n",
       "      <td>completed</td>\n",
       "      <td>85</td>\n",
       "      <td>81</td>\n",
       "      <td>85</td>\n",
       "    </tr>\n",
       "    <tr>\n",
       "      <th>112</th>\n",
       "      <td>John Salter</td>\n",
       "      <td>male</td>\n",
       "      <td>group D</td>\n",
       "      <td>some college</td>\n",
       "      <td>standard</td>\n",
       "      <td>none</td>\n",
       "      <td>44</td>\n",
       "      <td>54</td>\n",
       "      <td>53</td>\n",
       "    </tr>\n",
       "    <tr>\n",
       "      <th>72</th>\n",
       "      <td>Charles Kong</td>\n",
       "      <td>male</td>\n",
       "      <td>group C</td>\n",
       "      <td>associate's degree</td>\n",
       "      <td>standard</td>\n",
       "      <td>completed</td>\n",
       "      <td>131</td>\n",
       "      <td>142</td>\n",
       "      <td>193</td>\n",
       "    </tr>\n",
       "    <tr>\n",
       "      <th>784</th>\n",
       "      <td>Paul Smith</td>\n",
       "      <td>male</td>\n",
       "      <td>group B</td>\n",
       "      <td>high school</td>\n",
       "      <td>standard</td>\n",
       "      <td>none</td>\n",
       "      <td>70</td>\n",
       "      <td>65</td>\n",
       "      <td>60</td>\n",
       "    </tr>\n",
       "    <tr>\n",
       "      <th>1224</th>\n",
       "      <td>Susan Proctor</td>\n",
       "      <td>female</td>\n",
       "      <td>group D</td>\n",
       "      <td>master's degree</td>\n",
       "      <td>standard</td>\n",
       "      <td>none</td>\n",
       "      <td>124</td>\n",
       "      <td>193</td>\n",
       "      <td>193</td>\n",
       "    </tr>\n",
       "  </tbody>\n",
       "</table>\n",
       "</div>"
      ],
      "text/plain": [
       "              names  gender race/ethnicity parental level of education  \\\n",
       "265      David Moss    male        group D                some college   \n",
       "112     John Salter    male        group D                some college   \n",
       "72     Charles Kong    male        group C          associate's degree   \n",
       "784      Paul Smith    male        group B                 high school   \n",
       "1224  Susan Proctor  female        group D             master's degree   \n",
       "\n",
       "         lunch test preparation course math score reading score writing score  \n",
       "265   standard               completed         85            81            85  \n",
       "112   standard                    none         44            54            53  \n",
       "72    standard               completed        131           142           193  \n",
       "784   standard                    none         70            65            60  \n",
       "1224  standard                    none        124           193           193  "
      ]
     },
     "metadata": {},
     "output_type": "display_data"
    },
    {
     "name": "stdout",
     "output_type": "stream",
     "text": [
      "Descripción rápida:\n"
     ]
    },
    {
     "data": {
      "text/html": [
       "<div>\n",
       "<style scoped>\n",
       "    .dataframe tbody tr th:only-of-type {\n",
       "        vertical-align: middle;\n",
       "    }\n",
       "\n",
       "    .dataframe tbody tr th {\n",
       "        vertical-align: top;\n",
       "    }\n",
       "\n",
       "    .dataframe thead th {\n",
       "        text-align: right;\n",
       "    }\n",
       "</style>\n",
       "<table border=\"1\" class=\"dataframe\">\n",
       "  <thead>\n",
       "    <tr style=\"text-align: right;\">\n",
       "      <th></th>\n",
       "      <th>names</th>\n",
       "      <th>gender</th>\n",
       "      <th>race/ethnicity</th>\n",
       "      <th>parental level of education</th>\n",
       "      <th>lunch</th>\n",
       "      <th>test preparation course</th>\n",
       "      <th>math score</th>\n",
       "      <th>reading score</th>\n",
       "      <th>writing score</th>\n",
       "    </tr>\n",
       "  </thead>\n",
       "  <tbody>\n",
       "    <tr>\n",
       "      <th>count</th>\n",
       "      <td>1400</td>\n",
       "      <td>1400</td>\n",
       "      <td>1400</td>\n",
       "      <td>1400</td>\n",
       "      <td>1400</td>\n",
       "      <td>1400</td>\n",
       "      <td>1400</td>\n",
       "      <td>1400</td>\n",
       "      <td>1400</td>\n",
       "    </tr>\n",
       "    <tr>\n",
       "      <th>unique</th>\n",
       "      <td>1153</td>\n",
       "      <td>2</td>\n",
       "      <td>5</td>\n",
       "      <td>6</td>\n",
       "      <td>2</td>\n",
       "      <td>2</td>\n",
       "      <td>97</td>\n",
       "      <td>89</td>\n",
       "      <td>93</td>\n",
       "    </tr>\n",
       "    <tr>\n",
       "      <th>top</th>\n",
       "      <td>Robert Frazier</td>\n",
       "      <td>female</td>\n",
       "      <td>group C</td>\n",
       "      <td>some college</td>\n",
       "      <td>standard</td>\n",
       "      <td>none</td>\n",
       "      <td>193</td>\n",
       "      <td>193</td>\n",
       "      <td>193</td>\n",
       "    </tr>\n",
       "    <tr>\n",
       "      <th>freq</th>\n",
       "      <td>3</td>\n",
       "      <td>723</td>\n",
       "      <td>452</td>\n",
       "      <td>334</td>\n",
       "      <td>904</td>\n",
       "      <td>898</td>\n",
       "      <td>120</td>\n",
       "      <td>117</td>\n",
       "      <td>133</td>\n",
       "    </tr>\n",
       "  </tbody>\n",
       "</table>\n",
       "</div>"
      ],
      "text/plain": [
       "                 names  gender race/ethnicity parental level of education  \\\n",
       "count             1400    1400           1400                        1400   \n",
       "unique            1153       2              5                           6   \n",
       "top     Robert Frazier  female        group C                some college   \n",
       "freq                 3     723            452                         334   \n",
       "\n",
       "           lunch test preparation course  math score  reading score  \\\n",
       "count       1400                    1400        1400           1400   \n",
       "unique         2                       2          97             89   \n",
       "top     standard                    none         193            193   \n",
       "freq         904                     898         120            117   \n",
       "\n",
       "        writing score  \n",
       "count            1400  \n",
       "unique             93  \n",
       "top               193  \n",
       "freq              133  "
      ]
     },
     "metadata": {},
     "output_type": "display_data"
    },
    {
     "name": "stdout",
     "output_type": "stream",
     "text": [
      "Cantidad de valores nulos:\n"
     ]
    },
    {
     "data": {
      "text/plain": [
       "names                          0\n",
       "gender                         0\n",
       "race/ethnicity                 0\n",
       "parental level of education    0\n",
       "lunch                          0\n",
       "test preparation course        0\n",
       "math score                     0\n",
       "reading score                  0\n",
       "writing score                  0\n",
       "dtype: int64"
      ]
     },
     "metadata": {},
     "output_type": "display_data"
    },
    {
     "name": "stdout",
     "output_type": "stream",
     "text": [
      "Cantidad de valores únicos:\n",
      "names                          1153\n",
      "gender                            2\n",
      "race/ethnicity                    5\n",
      "parental level of education       6\n",
      "lunch                             2\n",
      "test preparation course           2\n",
      "math score                       97\n",
      "reading score                    89\n",
      "writing score                    93\n",
      "dtype: int64\n",
      "Cantidad de filas con nombres duplicados:\n",
      "493\n",
      "Filas con valores duplicados:\n",
      " \n"
     ]
    },
    {
     "data": {
      "text/html": [
       "<div>\n",
       "<style scoped>\n",
       "    .dataframe tbody tr th:only-of-type {\n",
       "        vertical-align: middle;\n",
       "    }\n",
       "\n",
       "    .dataframe tbody tr th {\n",
       "        vertical-align: top;\n",
       "    }\n",
       "\n",
       "    .dataframe thead th {\n",
       "        text-align: right;\n",
       "    }\n",
       "</style>\n",
       "<table border=\"1\" class=\"dataframe\">\n",
       "  <thead>\n",
       "    <tr style=\"text-align: right;\">\n",
       "      <th></th>\n",
       "      <th>names</th>\n",
       "      <th>gender</th>\n",
       "      <th>race/ethnicity</th>\n",
       "      <th>parental level of education</th>\n",
       "      <th>lunch</th>\n",
       "      <th>test preparation course</th>\n",
       "      <th>math score</th>\n",
       "      <th>reading score</th>\n",
       "      <th>writing score</th>\n",
       "    </tr>\n",
       "  </thead>\n",
       "  <tbody>\n",
       "    <tr>\n",
       "      <th>422</th>\n",
       "      <td>Aaron Oakden</td>\n",
       "      <td>male</td>\n",
       "      <td>group D</td>\n",
       "      <td>high school</td>\n",
       "      <td>free/reduced</td>\n",
       "      <td>none</td>\n",
       "      <td>66</td>\n",
       "      <td>74</td>\n",
       "      <td>69</td>\n",
       "    </tr>\n",
       "    <tr>\n",
       "      <th>441</th>\n",
       "      <td>Aaron Oakden</td>\n",
       "      <td>male</td>\n",
       "      <td>group D</td>\n",
       "      <td>high school</td>\n",
       "      <td>free/reduced</td>\n",
       "      <td>none</td>\n",
       "      <td></td>\n",
       "      <td>193</td>\n",
       "      <td>124</td>\n",
       "    </tr>\n",
       "    <tr>\n",
       "      <th>329</th>\n",
       "      <td>Adam Romero</td>\n",
       "      <td>male</td>\n",
       "      <td>group C</td>\n",
       "      <td>high school</td>\n",
       "      <td>standard</td>\n",
       "      <td>completed</td>\n",
       "      <td>53</td>\n",
       "      <td>52</td>\n",
       "      <td>49</td>\n",
       "    </tr>\n",
       "    <tr>\n",
       "      <th>1393</th>\n",
       "      <td>Adam Romero</td>\n",
       "      <td>male</td>\n",
       "      <td>group C</td>\n",
       "      <td>high school</td>\n",
       "      <td>standard</td>\n",
       "      <td>completed</td>\n",
       "      <td>124</td>\n",
       "      <td>193</td>\n",
       "      <td>49</td>\n",
       "    </tr>\n",
       "    <tr>\n",
       "      <th>1395</th>\n",
       "      <td>Alexander Dillon</td>\n",
       "      <td>male</td>\n",
       "      <td>group D</td>\n",
       "      <td>associate's degree</td>\n",
       "      <td>standard</td>\n",
       "      <td>none</td>\n",
       "      <td>193</td>\n",
       "      <td>142</td>\n",
       "      <td>193</td>\n",
       "    </tr>\n",
       "    <tr>\n",
       "      <th>...</th>\n",
       "      <td>...</td>\n",
       "      <td>...</td>\n",
       "      <td>...</td>\n",
       "      <td>...</td>\n",
       "      <td>...</td>\n",
       "      <td>...</td>\n",
       "      <td>...</td>\n",
       "      <td>...</td>\n",
       "      <td>...</td>\n",
       "    </tr>\n",
       "    <tr>\n",
       "      <th>1023</th>\n",
       "      <td>William Saska</td>\n",
       "      <td>male</td>\n",
       "      <td>group B</td>\n",
       "      <td>associate's degree</td>\n",
       "      <td>standard</td>\n",
       "      <td>none</td>\n",
       "      <td>193</td>\n",
       "      <td>42</td>\n",
       "      <td>142</td>\n",
       "    </tr>\n",
       "    <tr>\n",
       "      <th>42</th>\n",
       "      <td>Willie Neff</td>\n",
       "      <td>female</td>\n",
       "      <td>group E</td>\n",
       "      <td>associate's degree</td>\n",
       "      <td>free/reduced</td>\n",
       "      <td>none</td>\n",
       "      <td>73</td>\n",
       "      <td>76</td>\n",
       "      <td>78</td>\n",
       "    </tr>\n",
       "    <tr>\n",
       "      <th>476</th>\n",
       "      <td>Willie Neff</td>\n",
       "      <td>female</td>\n",
       "      <td>group E</td>\n",
       "      <td>associate's degree</td>\n",
       "      <td>free/reduced</td>\n",
       "      <td>none</td>\n",
       "      <td></td>\n",
       "      <td>193</td>\n",
       "      <td>142</td>\n",
       "    </tr>\n",
       "    <tr>\n",
       "      <th>1060</th>\n",
       "      <td>Zachary Glenn</td>\n",
       "      <td>male</td>\n",
       "      <td>group E</td>\n",
       "      <td>some college</td>\n",
       "      <td>standard</td>\n",
       "      <td>completed</td>\n",
       "      <td>188</td>\n",
       "      <td>124</td>\n",
       "      <td>142</td>\n",
       "    </tr>\n",
       "    <tr>\n",
       "      <th>1355</th>\n",
       "      <td>Zachary Glenn</td>\n",
       "      <td>male</td>\n",
       "      <td>group E</td>\n",
       "      <td>some college</td>\n",
       "      <td>standard</td>\n",
       "      <td>completed</td>\n",
       "      <td>99</td>\n",
       "      <td>87</td>\n",
       "      <td>81</td>\n",
       "    </tr>\n",
       "  </tbody>\n",
       "</table>\n",
       "<p>493 rows × 9 columns</p>\n",
       "</div>"
      ],
      "text/plain": [
       "                 names  gender race/ethnicity parental level of education  \\\n",
       "422       Aaron Oakden    male        group D                 high school   \n",
       "441       Aaron Oakden    male        group D                 high school   \n",
       "329        Adam Romero    male        group C                 high school   \n",
       "1393       Adam Romero    male        group C                 high school   \n",
       "1395  Alexander Dillon    male        group D          associate's degree   \n",
       "...                ...     ...            ...                         ...   \n",
       "1023     William Saska    male        group B          associate's degree   \n",
       "42         Willie Neff  female        group E          associate's degree   \n",
       "476        Willie Neff  female        group E          associate's degree   \n",
       "1060     Zachary Glenn    male        group E                some college   \n",
       "1355     Zachary Glenn    male        group E                some college   \n",
       "\n",
       "             lunch test preparation course math score reading score  \\\n",
       "422   free/reduced                    none         66            74   \n",
       "441   free/reduced                    none                      193   \n",
       "329       standard               completed         53            52   \n",
       "1393      standard               completed        124           193   \n",
       "1395      standard                    none        193           142   \n",
       "...            ...                     ...        ...           ...   \n",
       "1023      standard                    none        193            42   \n",
       "42    free/reduced                    none         73            76   \n",
       "476   free/reduced                    none                      193   \n",
       "1060      standard               completed        188           124   \n",
       "1355      standard               completed         99            87   \n",
       "\n",
       "     writing score  \n",
       "422             69  \n",
       "441            124  \n",
       "329             49  \n",
       "1393            49  \n",
       "1395           193  \n",
       "...            ...  \n",
       "1023           142  \n",
       "42              78  \n",
       "476            142  \n",
       "1060           142  \n",
       "1355            81  \n",
       "\n",
       "[493 rows x 9 columns]"
      ]
     },
     "metadata": {},
     "output_type": "display_data"
    },
    {
     "name": "stdout",
     "output_type": "stream",
     "text": [
      "Boxplot de notas\n"
     ]
    },
    {
     "data": {
      "image/png": "[encoded data removed]",
      "text/plain": [
       "<Figure size 432x288 with 1 Axes>"
      ]
     },
     "metadata": {
      "needs_background": "light"
     },
     "output_type": "display_data"
    },
    {
     "data": {
      "image/png": "[encoded data removed]",
      "text/plain": [
       "<Figure size 432x288 with 1 Axes>"
      ]
     },
     "metadata": {
      "needs_background": "light"
     },
     "output_type": "display_data"
    },
    {
     "data": {
      "image/png": "[encoded data removed]",
      "text/plain": [
       "<Figure size 432x288 with 1 Axes>"
      ]
     },
     "metadata": {
      "needs_background": "light"
     },
     "output_type": "display_data"
    }
   ],
   "source": [
    "exploratory_data_analysis(df_grades)"
   ]
  },
  {
   "cell_type": "markdown",
   "metadata": {
    "cell_id": "00023-ff3bb417-54d5-425c-9dfc-d6bb2115277e",
    "deepnote_cell_height": 486,
    "deepnote_cell_type": "markdown",
    "id": "YJfqPXFZjQiA"
   },
   "source": [
    "## 1.2 Limpieza de Datos [1 punto]\n",
    "\n",
    "<p align=\"center\">\n",
    "  <img src=\"https://blogdatlas.files.wordpress.com/2020/07/datlas_mx_blog_limpieza_bds_data-scrubbing-service.gif\">\n",
    "</p>\n"
   ]
  },
  {
   "cell_type": "markdown",
   "metadata": {
    "cell_id": "00024-a0d43035-41b5-4b1c-99c6-f93dc8847789",
    "deepnote_cell_height": 290.515625,
    "deepnote_cell_type": "markdown",
    "id": "syO5lHKvv6Wt"
   },
   "source": [
    "En base a lo realizado anteriormente, realice una limpieza de los dataset. Asuma los supuestos señalados en la pregunta anterior para limpiar el `DataFrame` y cree una función que le permita limpiar los datos. Una vez limpiado cada uno de los `DataFrames` compruebe nuevamente los datos con la función creada en la sección 1.1.\n",
    "\n",
    "**To-Do:**\n",
    "\n",
    "- [ ] Crear función que permita limpiar el dataset.\n",
    "- [ ] Comprobar que no existen anomalías en los datos a traves de la función de la sección 1.1.\n",
    "\n",
    "**Hint**\n",
    "\n",
    "Puede ser útil los métodos ```.drop_duplicates()``` y ```.dropna()``` como también utilizar queries con máscaras booleanas.\n"
   ]
  },
  {
   "cell_type": "markdown",
   "metadata": {
    "cell_id": "00025-7728a191-b359-4030-ac04-3b7d9070c53d",
    "deepnote_cell_height": 52.390625,
    "deepnote_cell_type": "markdown",
    "tags": []
   },
   "source": [
    "**Respuesta:**"
   ]
  },
  {
   "cell_type": "code",
   "execution_count": 6,
   "metadata": {
    "cell_id": "00027-afa227d9-32aa-49eb-9ae8-7c2fb625253a",
    "colab": {
     "base_uri": "https://localhost:8080/",
     "height": 419
    },
    "deepnote_cell_height": 115,
    "deepnote_cell_type": "code",
    "deepnote_to_be_reexecuted": false,
    "executionInfo": {
     "elapsed": 571,
     "status": "ok",
     "timestamp": 1619205960363,
     "user": {
      "displayName": "IGNACIO ALEJANDRO MEZA",
      "photoUrl": "",
      "userId": "17011121633069169364"
     },
     "user_tz": 240
    },
    "execution_millis": 73,
    "execution_start": 1632493424310,
    "id": "Vl6MkQYHhXao",
    "outputId": "f070312b-113e-4e31-f676-3ed33e06ef91",
    "source_hash": "2f2b6eb"
   },
   "outputs": [
    {
     "name": "stdout",
     "output_type": "stream",
     "text": [
      "Dimensiones:\n",
      "(875, 9)\n",
      "Columnas:\n",
      "[names,gender,race/ethnicity,parental level of education,lunch,test preparation course,math score,reading score,writing score]\n",
      "Primeros 5 elementos:)\n"
     ]
    },
    {
     "data": {
      "text/html": [
       "<div>\n",
       "<style scoped>\n",
       "    .dataframe tbody tr th:only-of-type {\n",
       "        vertical-align: middle;\n",
       "    }\n",
       "\n",
       "    .dataframe tbody tr th {\n",
       "        vertical-align: top;\n",
       "    }\n",
       "\n",
       "    .dataframe thead th {\n",
       "        text-align: right;\n",
       "    }\n",
       "</style>\n",
       "<table border=\"1\" class=\"dataframe\">\n",
       "  <thead>\n",
       "    <tr style=\"text-align: right;\">\n",
       "      <th></th>\n",
       "      <th>names</th>\n",
       "      <th>gender</th>\n",
       "      <th>race/ethnicity</th>\n",
       "      <th>parental level of education</th>\n",
       "      <th>lunch</th>\n",
       "      <th>test preparation course</th>\n",
       "      <th>math score</th>\n",
       "      <th>reading score</th>\n",
       "      <th>writing score</th>\n",
       "    </tr>\n",
       "  </thead>\n",
       "  <tbody>\n",
       "    <tr>\n",
       "      <th>0</th>\n",
       "      <td>Rita Courtney</td>\n",
       "      <td>female</td>\n",
       "      <td>group B</td>\n",
       "      <td>some high school</td>\n",
       "      <td>standard</td>\n",
       "      <td>none</td>\n",
       "      <td>37.0</td>\n",
       "      <td>46.0</td>\n",
       "      <td>46.0</td>\n",
       "    </tr>\n",
       "    <tr>\n",
       "      <th>3</th>\n",
       "      <td>Charles Linstrom</td>\n",
       "      <td>male</td>\n",
       "      <td>group A</td>\n",
       "      <td>bachelor's degree</td>\n",
       "      <td>standard</td>\n",
       "      <td>completed</td>\n",
       "      <td>80.0</td>\n",
       "      <td>78.0</td>\n",
       "      <td>81.0</td>\n",
       "    </tr>\n",
       "    <tr>\n",
       "      <th>5</th>\n",
       "      <td>Brian Young</td>\n",
       "      <td>male</td>\n",
       "      <td>group C</td>\n",
       "      <td>some high school</td>\n",
       "      <td>standard</td>\n",
       "      <td>none</td>\n",
       "      <td>73.0</td>\n",
       "      <td>66.0</td>\n",
       "      <td>63.0</td>\n",
       "    </tr>\n",
       "    <tr>\n",
       "      <th>6</th>\n",
       "      <td>Howard Jimenez</td>\n",
       "      <td>male</td>\n",
       "      <td>group E</td>\n",
       "      <td>some high school</td>\n",
       "      <td>standard</td>\n",
       "      <td>completed</td>\n",
       "      <td>81.0</td>\n",
       "      <td>75.0</td>\n",
       "      <td>76.0</td>\n",
       "    </tr>\n",
       "    <tr>\n",
       "      <th>7</th>\n",
       "      <td>Wayne Wilson</td>\n",
       "      <td>male</td>\n",
       "      <td>group B</td>\n",
       "      <td>some high school</td>\n",
       "      <td>standard</td>\n",
       "      <td>completed</td>\n",
       "      <td>94.0</td>\n",
       "      <td>86.0</td>\n",
       "      <td>87.0</td>\n",
       "    </tr>\n",
       "  </tbody>\n",
       "</table>\n",
       "</div>"
      ],
      "text/plain": [
       "              names  gender race/ethnicity parental level of education  \\\n",
       "0     Rita Courtney  female        group B            some high school   \n",
       "3  Charles Linstrom    male        group A           bachelor's degree   \n",
       "5       Brian Young    male        group C            some high school   \n",
       "6    Howard Jimenez    male        group E            some high school   \n",
       "7      Wayne Wilson    male        group B            some high school   \n",
       "\n",
       "      lunch test preparation course  math score  reading score  writing score  \n",
       "0  standard                    none        37.0           46.0           46.0  \n",
       "3  standard               completed        80.0           78.0           81.0  \n",
       "5  standard                    none        73.0           66.0           63.0  \n",
       "6  standard               completed        81.0           75.0           76.0  \n",
       "7  standard               completed        94.0           86.0           87.0  "
      ]
     },
     "metadata": {},
     "output_type": "display_data"
    },
    {
     "name": "stdout",
     "output_type": "stream",
     "text": [
      "Ultimos 5 elementos:\n"
     ]
    },
    {
     "data": {
      "text/html": [
       "<div>\n",
       "<style scoped>\n",
       "    .dataframe tbody tr th:only-of-type {\n",
       "        vertical-align: middle;\n",
       "    }\n",
       "\n",
       "    .dataframe tbody tr th {\n",
       "        vertical-align: top;\n",
       "    }\n",
       "\n",
       "    .dataframe thead th {\n",
       "        text-align: right;\n",
       "    }\n",
       "</style>\n",
       "<table border=\"1\" class=\"dataframe\">\n",
       "  <thead>\n",
       "    <tr style=\"text-align: right;\">\n",
       "      <th></th>\n",
       "      <th>names</th>\n",
       "      <th>gender</th>\n",
       "      <th>race/ethnicity</th>\n",
       "      <th>parental level of education</th>\n",
       "      <th>lunch</th>\n",
       "      <th>test preparation course</th>\n",
       "      <th>math score</th>\n",
       "      <th>reading score</th>\n",
       "      <th>writing score</th>\n",
       "    </tr>\n",
       "  </thead>\n",
       "  <tbody>\n",
       "    <tr>\n",
       "      <th>1392</th>\n",
       "      <td>Richard Young</td>\n",
       "      <td>male</td>\n",
       "      <td>group D</td>\n",
       "      <td>high school</td>\n",
       "      <td>standard</td>\n",
       "      <td>none</td>\n",
       "      <td>69.0</td>\n",
       "      <td>75.0</td>\n",
       "      <td>71.0</td>\n",
       "    </tr>\n",
       "    <tr>\n",
       "      <th>1394</th>\n",
       "      <td>Wanda Russell</td>\n",
       "      <td>female</td>\n",
       "      <td>group B</td>\n",
       "      <td>high school</td>\n",
       "      <td>free/reduced</td>\n",
       "      <td>completed</td>\n",
       "      <td>23.0</td>\n",
       "      <td>44.0</td>\n",
       "      <td>36.0</td>\n",
       "    </tr>\n",
       "    <tr>\n",
       "      <th>1396</th>\n",
       "      <td>Marina Zeigler</td>\n",
       "      <td>female</td>\n",
       "      <td>group C</td>\n",
       "      <td>bachelor's degree</td>\n",
       "      <td>free/reduced</td>\n",
       "      <td>completed</td>\n",
       "      <td>66.0</td>\n",
       "      <td>74.0</td>\n",
       "      <td>81.0</td>\n",
       "    </tr>\n",
       "    <tr>\n",
       "      <th>1397</th>\n",
       "      <td>Laurie Carter</td>\n",
       "      <td>female</td>\n",
       "      <td>group B</td>\n",
       "      <td>some high school</td>\n",
       "      <td>standard</td>\n",
       "      <td>completed</td>\n",
       "      <td>54.0</td>\n",
       "      <td>61.0</td>\n",
       "      <td>62.0</td>\n",
       "    </tr>\n",
       "    <tr>\n",
       "      <th>1399</th>\n",
       "      <td>Amanda Perez</td>\n",
       "      <td>female</td>\n",
       "      <td>group A</td>\n",
       "      <td>high school</td>\n",
       "      <td>standard</td>\n",
       "      <td>completed</td>\n",
       "      <td>68.0</td>\n",
       "      <td>80.0</td>\n",
       "      <td>76.0</td>\n",
       "    </tr>\n",
       "  </tbody>\n",
       "</table>\n",
       "</div>"
      ],
      "text/plain": [
       "               names  gender race/ethnicity parental level of education  \\\n",
       "1392   Richard Young    male        group D                 high school   \n",
       "1394   Wanda Russell  female        group B                 high school   \n",
       "1396  Marina Zeigler  female        group C           bachelor's degree   \n",
       "1397   Laurie Carter  female        group B            some high school   \n",
       "1399    Amanda Perez  female        group A                 high school   \n",
       "\n",
       "             lunch test preparation course  math score  reading score  \\\n",
       "1392      standard                    none        69.0           75.0   \n",
       "1394  free/reduced               completed        23.0           44.0   \n",
       "1396  free/reduced               completed        66.0           74.0   \n",
       "1397      standard               completed        54.0           61.0   \n",
       "1399      standard               completed        68.0           80.0   \n",
       "\n",
       "      writing score  \n",
       "1392           71.0  \n",
       "1394           36.0  \n",
       "1396           81.0  \n",
       "1397           62.0  \n",
       "1399           76.0  "
      ]
     },
     "metadata": {},
     "output_type": "display_data"
    },
    {
     "name": "stdout",
     "output_type": "stream",
     "text": [
      "5 Elementos aleatorios:\n"
     ]
    },
    {
     "data": {
      "text/html": [
       "<div>\n",
       "<style scoped>\n",
       "    .dataframe tbody tr th:only-of-type {\n",
       "        vertical-align: middle;\n",
       "    }\n",
       "\n",
       "    .dataframe tbody tr th {\n",
       "        vertical-align: top;\n",
       "    }\n",
       "\n",
       "    .dataframe thead th {\n",
       "        text-align: right;\n",
       "    }\n",
       "</style>\n",
       "<table border=\"1\" class=\"dataframe\">\n",
       "  <thead>\n",
       "    <tr style=\"text-align: right;\">\n",
       "      <th></th>\n",
       "      <th>names</th>\n",
       "      <th>gender</th>\n",
       "      <th>race/ethnicity</th>\n",
       "      <th>parental level of education</th>\n",
       "      <th>lunch</th>\n",
       "      <th>test preparation course</th>\n",
       "      <th>math score</th>\n",
       "      <th>reading score</th>\n",
       "      <th>writing score</th>\n",
       "    </tr>\n",
       "  </thead>\n",
       "  <tbody>\n",
       "    <tr>\n",
       "      <th>253</th>\n",
       "      <td>Tanya Favela</td>\n",
       "      <td>female</td>\n",
       "      <td>group D</td>\n",
       "      <td>associate's degree</td>\n",
       "      <td>free/reduced</td>\n",
       "      <td>completed</td>\n",
       "      <td>57.0</td>\n",
       "      <td>74.0</td>\n",
       "      <td>76.0</td>\n",
       "    </tr>\n",
       "    <tr>\n",
       "      <th>442</th>\n",
       "      <td>Celeste Petch</td>\n",
       "      <td>female</td>\n",
       "      <td>group E</td>\n",
       "      <td>associate's degree</td>\n",
       "      <td>free/reduced</td>\n",
       "      <td>none</td>\n",
       "      <td>50.0</td>\n",
       "      <td>56.0</td>\n",
       "      <td>54.0</td>\n",
       "    </tr>\n",
       "    <tr>\n",
       "      <th>1250</th>\n",
       "      <td>Bertha Nelson</td>\n",
       "      <td>female</td>\n",
       "      <td>group B</td>\n",
       "      <td>some high school</td>\n",
       "      <td>standard</td>\n",
       "      <td>none</td>\n",
       "      <td>41.0</td>\n",
       "      <td>55.0</td>\n",
       "      <td>51.0</td>\n",
       "    </tr>\n",
       "    <tr>\n",
       "      <th>172</th>\n",
       "      <td>Janice Wells</td>\n",
       "      <td>female</td>\n",
       "      <td>group D</td>\n",
       "      <td>high school</td>\n",
       "      <td>free/reduced</td>\n",
       "      <td>completed</td>\n",
       "      <td>65.0</td>\n",
       "      <td>61.0</td>\n",
       "      <td>71.0</td>\n",
       "    </tr>\n",
       "    <tr>\n",
       "      <th>45</th>\n",
       "      <td>Mary Piotrowski</td>\n",
       "      <td>female</td>\n",
       "      <td>group E</td>\n",
       "      <td>some college</td>\n",
       "      <td>free/reduced</td>\n",
       "      <td>completed</td>\n",
       "      <td>75.0</td>\n",
       "      <td>88.0</td>\n",
       "      <td>85.0</td>\n",
       "    </tr>\n",
       "  </tbody>\n",
       "</table>\n",
       "</div>"
      ],
      "text/plain": [
       "                names  gender race/ethnicity parental level of education  \\\n",
       "253      Tanya Favela  female        group D          associate's degree   \n",
       "442     Celeste Petch  female        group E          associate's degree   \n",
       "1250    Bertha Nelson  female        group B            some high school   \n",
       "172      Janice Wells  female        group D                 high school   \n",
       "45    Mary Piotrowski  female        group E                some college   \n",
       "\n",
       "             lunch test preparation course  math score  reading score  \\\n",
       "253   free/reduced               completed        57.0           74.0   \n",
       "442   free/reduced                    none        50.0           56.0   \n",
       "1250      standard                    none        41.0           55.0   \n",
       "172   free/reduced               completed        65.0           61.0   \n",
       "45    free/reduced               completed        75.0           88.0   \n",
       "\n",
       "      writing score  \n",
       "253            76.0  \n",
       "442            54.0  \n",
       "1250           51.0  \n",
       "172            71.0  \n",
       "45             85.0  "
      ]
     },
     "metadata": {},
     "output_type": "display_data"
    },
    {
     "name": "stdout",
     "output_type": "stream",
     "text": [
      "Descripción rápida:\n"
     ]
    },
    {
     "data": {
      "text/html": [
       "<div>\n",
       "<style scoped>\n",
       "    .dataframe tbody tr th:only-of-type {\n",
       "        vertical-align: middle;\n",
       "    }\n",
       "\n",
       "    .dataframe tbody tr th {\n",
       "        vertical-align: top;\n",
       "    }\n",
       "\n",
       "    .dataframe thead th {\n",
       "        text-align: right;\n",
       "    }\n",
       "</style>\n",
       "<table border=\"1\" class=\"dataframe\">\n",
       "  <thead>\n",
       "    <tr style=\"text-align: right;\">\n",
       "      <th></th>\n",
       "      <th>math score</th>\n",
       "      <th>reading score</th>\n",
       "      <th>writing score</th>\n",
       "    </tr>\n",
       "  </thead>\n",
       "  <tbody>\n",
       "    <tr>\n",
       "      <th>count</th>\n",
       "      <td>875.000000</td>\n",
       "      <td>875.000000</td>\n",
       "      <td>875.000000</td>\n",
       "    </tr>\n",
       "    <tr>\n",
       "      <th>mean</th>\n",
       "      <td>66.225143</td>\n",
       "      <td>69.195429</td>\n",
       "      <td>68.114286</td>\n",
       "    </tr>\n",
       "    <tr>\n",
       "      <th>std</th>\n",
       "      <td>15.076716</td>\n",
       "      <td>14.629270</td>\n",
       "      <td>15.174220</td>\n",
       "    </tr>\n",
       "    <tr>\n",
       "      <th>min</th>\n",
       "      <td>0.000000</td>\n",
       "      <td>17.000000</td>\n",
       "      <td>10.000000</td>\n",
       "    </tr>\n",
       "    <tr>\n",
       "      <th>25%</th>\n",
       "      <td>57.000000</td>\n",
       "      <td>59.000000</td>\n",
       "      <td>57.500000</td>\n",
       "    </tr>\n",
       "    <tr>\n",
       "      <th>50%</th>\n",
       "      <td>66.000000</td>\n",
       "      <td>70.000000</td>\n",
       "      <td>69.000000</td>\n",
       "    </tr>\n",
       "    <tr>\n",
       "      <th>75%</th>\n",
       "      <td>76.500000</td>\n",
       "      <td>79.000000</td>\n",
       "      <td>79.000000</td>\n",
       "    </tr>\n",
       "    <tr>\n",
       "      <th>max</th>\n",
       "      <td>100.000000</td>\n",
       "      <td>100.000000</td>\n",
       "      <td>100.000000</td>\n",
       "    </tr>\n",
       "  </tbody>\n",
       "</table>\n",
       "</div>"
      ],
      "text/plain": [
       "       math score  reading score  writing score\n",
       "count  875.000000     875.000000     875.000000\n",
       "mean    66.225143      69.195429      68.114286\n",
       "std     15.076716      14.629270      15.174220\n",
       "min      0.000000      17.000000      10.000000\n",
       "25%     57.000000      59.000000      57.500000\n",
       "50%     66.000000      70.000000      69.000000\n",
       "75%     76.500000      79.000000      79.000000\n",
       "max    100.000000     100.000000     100.000000"
      ]
     },
     "metadata": {},
     "output_type": "display_data"
    },
    {
     "name": "stdout",
     "output_type": "stream",
     "text": [
      "Cantidad de valores nulos:\n"
     ]
    },
    {
     "data": {
      "text/plain": [
       "names                          0\n",
       "gender                         0\n",
       "race/ethnicity                 0\n",
       "parental level of education    0\n",
       "lunch                          0\n",
       "test preparation course        0\n",
       "math score                     0\n",
       "reading score                  0\n",
       "writing score                  0\n",
       "dtype: int64"
      ]
     },
     "metadata": {},
     "output_type": "display_data"
    },
    {
     "name": "stdout",
     "output_type": "stream",
     "text": [
      "Cantidad de valores únicos:\n",
      "names                          875\n",
      "gender                           2\n",
      "race/ethnicity                   5\n",
      "parental level of education      6\n",
      "lunch                            2\n",
      "test preparation course          2\n",
      "math score                      79\n",
      "reading score                   72\n",
      "writing score                   77\n",
      "dtype: int64\n",
      "Cantidad de filas con nombres duplicados:\n",
      "0\n",
      "Filas con valores duplicados:\n",
      " \n"
     ]
    },
    {
     "data": {
      "text/html": [
       "<div>\n",
       "<style scoped>\n",
       "    .dataframe tbody tr th:only-of-type {\n",
       "        vertical-align: middle;\n",
       "    }\n",
       "\n",
       "    .dataframe tbody tr th {\n",
       "        vertical-align: top;\n",
       "    }\n",
       "\n",
       "    .dataframe thead th {\n",
       "        text-align: right;\n",
       "    }\n",
       "</style>\n",
       "<table border=\"1\" class=\"dataframe\">\n",
       "  <thead>\n",
       "    <tr style=\"text-align: right;\">\n",
       "      <th></th>\n",
       "      <th>names</th>\n",
       "      <th>gender</th>\n",
       "      <th>race/ethnicity</th>\n",
       "      <th>parental level of education</th>\n",
       "      <th>lunch</th>\n",
       "      <th>test preparation course</th>\n",
       "      <th>math score</th>\n",
       "      <th>reading score</th>\n",
       "      <th>writing score</th>\n",
       "    </tr>\n",
       "  </thead>\n",
       "  <tbody>\n",
       "  </tbody>\n",
       "</table>\n",
       "</div>"
      ],
      "text/plain": [
       "Empty DataFrame\n",
       "Columns: [names, gender, race/ethnicity, parental level of education, lunch, test preparation course, math score, reading score, writing score]\n",
       "Index: []"
      ]
     },
     "metadata": {},
     "output_type": "display_data"
    },
    {
     "name": "stdout",
     "output_type": "stream",
     "text": [
      "Boxplot de notas\n"
     ]
    },
    {
     "data": {
      "image/png": "[encoded data removed]",
      "text/plain": [
       "<Figure size 432x288 with 1 Axes>"
      ]
     },
     "metadata": {
      "needs_background": "light"
     },
     "output_type": "display_data"
    },
    {
     "data": {
      "image/png": "[encoded data removed]",
      "text/plain": [
       "<Figure size 432x288 with 1 Axes>"
      ]
     },
     "metadata": {
      "needs_background": "light"
     },
     "output_type": "display_data"
    },
    {
     "data": {
      "image/png": "[encoded data removed]",
      "text/plain": [
       "<Figure size 432x288 with 1 Axes>"
      ]
     },
     "metadata": {
      "needs_background": "light"
     },
     "output_type": "display_data"
    }
   ],
   "source": [
    "def clean_data(dataframe):\n",
    "    df=dataframe.copy()\n",
    "    df=df.drop_duplicates(subset=['names'])\n",
    "    for score_name in ['math score','reading score','writing score']:\n",
    "        df[score_name]=pd.to_numeric(df[score_name])\n",
    "        df=df[df[score_name] <= 100]   \n",
    "        df=df[df[score_name] >= 0] \n",
    "    df=df.dropna()\n",
    "    return df\n",
    "\n",
    "\n",
    "clear_df_grades = clean_data(df_grades)\n",
    "clear_df_grades\n",
    "exploratory_data_analysis(clear_df_grades)"
   ]
  },
  {
   "cell_type": "markdown",
   "metadata": {
    "cell_id": "00028-7d461c3c-584a-437b-a3b0-8eb3a9a60b08",
    "deepnote_cell_height": 66.390625,
    "deepnote_cell_type": "markdown",
    "id": "iAnb7kcRj9gJ"
   },
   "source": [
    "> Utilice la función creada en el punto 1.1 para verificar sus resultados."
   ]
  },
  {
   "cell_type": "markdown",
   "metadata": {
    "cell_id": "00030-826810d6-9106-4a3f-9272-16f541b88ac0",
    "deepnote_cell_height": 52.390625,
    "deepnote_cell_type": "markdown",
    "id": "mPmHNen3jZCX"
   },
   "source": [
    "**Justificación:**"
   ]
  },
  {
   "cell_type": "markdown",
   "metadata": {
    "cell_id": "00031-04187309-a1db-4ad3-a90b-75b312d9b39f",
    "deepnote_cell_height": 70.796875,
    "deepnote_cell_type": "markdown",
    "id": "uCK_RZEajZHI"
   },
   "source": [
    "```\n",
    "Escriba aquí su justificación\n",
    "```"
   ]
  },
  {
   "cell_type": "markdown",
   "metadata": {
    "cell_id": "00032-35743f33-7587-4206-903d-5922c094c121",
    "deepnote_cell_height": 380,
    "deepnote_cell_type": "markdown",
    "id": "2tnenh4uOF6k"
   },
   "source": [
    "## 1.3 Trabajando con Datos\n",
    "\n",
    "<p align=\"center\">\n",
    "  <img src=\"https://media3.giphy.com/media/YQitE4YNQNahy/giphy-downsized-large.gif\">\n",
    "</p>"
   ]
  },
  {
   "cell_type": "markdown",
   "metadata": {
    "cell_id": "00033-ae1d6c24-6c73-49d9-961d-4f6a9da3f5a1",
    "deepnote_cell_height": 62,
    "deepnote_cell_type": "markdown",
    "id": "Qecw0sKor_Au"
   },
   "source": [
    "### 1.3.1 Transformación de notas a \"Nota Chilena\" [0.5 Puntos]"
   ]
  },
  {
   "cell_type": "markdown",
   "metadata": {
    "cell_id": "00034-0c2d3679-984b-4d24-8ab0-fc8de61bb42e",
    "deepnote_cell_height": 256.734375,
    "deepnote_cell_type": "markdown",
    "id": "BfmD-9yi4PnX"
   },
   "source": [
    "En una de las reuniones con Don Caguayo este les comenta su intención de pasar todas sus notas a la \"Escala Chilena\". Para esto les facilita la siguiente ecuación:\n",
    "\n",
    "$$Nota \\, Chilena= \\% \\, de \\, logro*0.06 + 1$$\n",
    "\n",
    "Utilizando la ecuación entregada, cree una función que le permita pasar a la escala Chilena las notas que se escapan del rango [1,7] y entregue las notas redondeadas al segundo decimal.\n",
    "\n",
    "**To-Do**\n",
    "\n",
    "- [ ] Tranforme los valores a la escala chilena."
   ]
  },
  {
   "cell_type": "markdown",
   "metadata": {
    "cell_id": "00035-7dd5d2b3-12e5-4cb8-a9ab-e3f0e4870b94",
    "deepnote_cell_height": 52.390625,
    "deepnote_cell_type": "markdown",
    "tags": []
   },
   "source": [
    "**Respuesta:**"
   ]
  },
  {
   "cell_type": "code",
   "execution_count": 7,
   "metadata": {
    "cell_id": "00036-4f869d3b-f09e-4986-8f77-604d440d0b99",
    "deepnote_cell_height": 99,
    "deepnote_cell_type": "code",
    "deepnote_to_be_reexecuted": false,
    "executionInfo": {
     "elapsed": 669,
     "status": "ok",
     "timestamp": 1619205969195,
     "user": {
      "displayName": "IGNACIO ALEJANDRO MEZA",
      "photoUrl": "",
      "userId": "17011121633069169364"
     },
     "user_tz": 240
    },
    "execution_millis": 1,
    "execution_start": 1632493424541,
    "id": "GQ0gDEvd3T1m",
    "source_hash": "e84f9f19"
   },
   "outputs": [
    {
     "data": {
      "text/html": [
       "<div>\n",
       "<style scoped>\n",
       "    .dataframe tbody tr th:only-of-type {\n",
       "        vertical-align: middle;\n",
       "    }\n",
       "\n",
       "    .dataframe tbody tr th {\n",
       "        vertical-align: top;\n",
       "    }\n",
       "\n",
       "    .dataframe thead th {\n",
       "        text-align: right;\n",
       "    }\n",
       "</style>\n",
       "<table border=\"1\" class=\"dataframe\">\n",
       "  <thead>\n",
       "    <tr style=\"text-align: right;\">\n",
       "      <th></th>\n",
       "      <th>names</th>\n",
       "      <th>gender</th>\n",
       "      <th>race/ethnicity</th>\n",
       "      <th>parental level of education</th>\n",
       "      <th>lunch</th>\n",
       "      <th>test preparation course</th>\n",
       "      <th>math score</th>\n",
       "      <th>reading score</th>\n",
       "      <th>writing score</th>\n",
       "    </tr>\n",
       "  </thead>\n",
       "  <tbody>\n",
       "    <tr>\n",
       "      <th>0</th>\n",
       "      <td>Rita Courtney</td>\n",
       "      <td>female</td>\n",
       "      <td>group B</td>\n",
       "      <td>some high school</td>\n",
       "      <td>standard</td>\n",
       "      <td>none</td>\n",
       "      <td>37.0</td>\n",
       "      <td>46.0</td>\n",
       "      <td>46.0</td>\n",
       "    </tr>\n",
       "    <tr>\n",
       "      <th>3</th>\n",
       "      <td>Charles Linstrom</td>\n",
       "      <td>male</td>\n",
       "      <td>group A</td>\n",
       "      <td>bachelor's degree</td>\n",
       "      <td>standard</td>\n",
       "      <td>completed</td>\n",
       "      <td>80.0</td>\n",
       "      <td>78.0</td>\n",
       "      <td>81.0</td>\n",
       "    </tr>\n",
       "    <tr>\n",
       "      <th>5</th>\n",
       "      <td>Brian Young</td>\n",
       "      <td>male</td>\n",
       "      <td>group C</td>\n",
       "      <td>some high school</td>\n",
       "      <td>standard</td>\n",
       "      <td>none</td>\n",
       "      <td>73.0</td>\n",
       "      <td>66.0</td>\n",
       "      <td>63.0</td>\n",
       "    </tr>\n",
       "    <tr>\n",
       "      <th>6</th>\n",
       "      <td>Howard Jimenez</td>\n",
       "      <td>male</td>\n",
       "      <td>group E</td>\n",
       "      <td>some high school</td>\n",
       "      <td>standard</td>\n",
       "      <td>completed</td>\n",
       "      <td>81.0</td>\n",
       "      <td>75.0</td>\n",
       "      <td>76.0</td>\n",
       "    </tr>\n",
       "    <tr>\n",
       "      <th>7</th>\n",
       "      <td>Wayne Wilson</td>\n",
       "      <td>male</td>\n",
       "      <td>group B</td>\n",
       "      <td>some high school</td>\n",
       "      <td>standard</td>\n",
       "      <td>completed</td>\n",
       "      <td>94.0</td>\n",
       "      <td>86.0</td>\n",
       "      <td>87.0</td>\n",
       "    </tr>\n",
       "    <tr>\n",
       "      <th>...</th>\n",
       "      <td>...</td>\n",
       "      <td>...</td>\n",
       "      <td>...</td>\n",
       "      <td>...</td>\n",
       "      <td>...</td>\n",
       "      <td>...</td>\n",
       "      <td>...</td>\n",
       "      <td>...</td>\n",
       "      <td>...</td>\n",
       "    </tr>\n",
       "    <tr>\n",
       "      <th>1392</th>\n",
       "      <td>Richard Young</td>\n",
       "      <td>male</td>\n",
       "      <td>group D</td>\n",
       "      <td>high school</td>\n",
       "      <td>standard</td>\n",
       "      <td>none</td>\n",
       "      <td>69.0</td>\n",
       "      <td>75.0</td>\n",
       "      <td>71.0</td>\n",
       "    </tr>\n",
       "    <tr>\n",
       "      <th>1394</th>\n",
       "      <td>Wanda Russell</td>\n",
       "      <td>female</td>\n",
       "      <td>group B</td>\n",
       "      <td>high school</td>\n",
       "      <td>free/reduced</td>\n",
       "      <td>completed</td>\n",
       "      <td>23.0</td>\n",
       "      <td>44.0</td>\n",
       "      <td>36.0</td>\n",
       "    </tr>\n",
       "    <tr>\n",
       "      <th>1396</th>\n",
       "      <td>Marina Zeigler</td>\n",
       "      <td>female</td>\n",
       "      <td>group C</td>\n",
       "      <td>bachelor's degree</td>\n",
       "      <td>free/reduced</td>\n",
       "      <td>completed</td>\n",
       "      <td>66.0</td>\n",
       "      <td>74.0</td>\n",
       "      <td>81.0</td>\n",
       "    </tr>\n",
       "    <tr>\n",
       "      <th>1397</th>\n",
       "      <td>Laurie Carter</td>\n",
       "      <td>female</td>\n",
       "      <td>group B</td>\n",
       "      <td>some high school</td>\n",
       "      <td>standard</td>\n",
       "      <td>completed</td>\n",
       "      <td>54.0</td>\n",
       "      <td>61.0</td>\n",
       "      <td>62.0</td>\n",
       "    </tr>\n",
       "    <tr>\n",
       "      <th>1399</th>\n",
       "      <td>Amanda Perez</td>\n",
       "      <td>female</td>\n",
       "      <td>group A</td>\n",
       "      <td>high school</td>\n",
       "      <td>standard</td>\n",
       "      <td>completed</td>\n",
       "      <td>68.0</td>\n",
       "      <td>80.0</td>\n",
       "      <td>76.0</td>\n",
       "    </tr>\n",
       "  </tbody>\n",
       "</table>\n",
       "<p>875 rows × 9 columns</p>\n",
       "</div>"
      ],
      "text/plain": [
       "                 names  gender race/ethnicity parental level of education  \\\n",
       "0        Rita Courtney  female        group B            some high school   \n",
       "3     Charles Linstrom    male        group A           bachelor's degree   \n",
       "5          Brian Young    male        group C            some high school   \n",
       "6       Howard Jimenez    male        group E            some high school   \n",
       "7         Wayne Wilson    male        group B            some high school   \n",
       "...                ...     ...            ...                         ...   \n",
       "1392     Richard Young    male        group D                 high school   \n",
       "1394     Wanda Russell  female        group B                 high school   \n",
       "1396    Marina Zeigler  female        group C           bachelor's degree   \n",
       "1397     Laurie Carter  female        group B            some high school   \n",
       "1399      Amanda Perez  female        group A                 high school   \n",
       "\n",
       "             lunch test preparation course  math score  reading score  \\\n",
       "0         standard                    none        37.0           46.0   \n",
       "3         standard               completed        80.0           78.0   \n",
       "5         standard                    none        73.0           66.0   \n",
       "6         standard               completed        81.0           75.0   \n",
       "7         standard               completed        94.0           86.0   \n",
       "...            ...                     ...         ...            ...   \n",
       "1392      standard                    none        69.0           75.0   \n",
       "1394  free/reduced               completed        23.0           44.0   \n",
       "1396  free/reduced               completed        66.0           74.0   \n",
       "1397      standard               completed        54.0           61.0   \n",
       "1399      standard               completed        68.0           80.0   \n",
       "\n",
       "      writing score  \n",
       "0              46.0  \n",
       "3              81.0  \n",
       "5              63.0  \n",
       "6              76.0  \n",
       "7              87.0  \n",
       "...             ...  \n",
       "1392           71.0  \n",
       "1394           36.0  \n",
       "1396           81.0  \n",
       "1397           62.0  \n",
       "1399           76.0  \n",
       "\n",
       "[875 rows x 9 columns]"
      ]
     },
     "metadata": {},
     "output_type": "display_data"
    },
    {
     "data": {
      "text/plain": [
       "0       2.59\n",
       "3       5.60\n",
       "5       5.11\n",
       "6       5.67\n",
       "7       6.58\n",
       "        ... \n",
       "1392    4.83\n",
       "1394    1.61\n",
       "1396    4.62\n",
       "1397    3.78\n",
       "1399    4.76\n",
       "Name: math score, Length: 875, dtype: float64"
      ]
     },
     "metadata": {},
     "output_type": "display_data"
    },
    {
     "data": {
      "text/html": [
       "<div>\n",
       "<style scoped>\n",
       "    .dataframe tbody tr th:only-of-type {\n",
       "        vertical-align: middle;\n",
       "    }\n",
       "\n",
       "    .dataframe tbody tr th {\n",
       "        vertical-align: top;\n",
       "    }\n",
       "\n",
       "    .dataframe thead th {\n",
       "        text-align: right;\n",
       "    }\n",
       "</style>\n",
       "<table border=\"1\" class=\"dataframe\">\n",
       "  <thead>\n",
       "    <tr style=\"text-align: right;\">\n",
       "      <th></th>\n",
       "      <th>names</th>\n",
       "      <th>gender</th>\n",
       "      <th>race/ethnicity</th>\n",
       "      <th>parental level of education</th>\n",
       "      <th>lunch</th>\n",
       "      <th>test preparation course</th>\n",
       "      <th>math score</th>\n",
       "      <th>reading score</th>\n",
       "      <th>writing score</th>\n",
       "    </tr>\n",
       "  </thead>\n",
       "  <tbody>\n",
       "    <tr>\n",
       "      <th>0</th>\n",
       "      <td>Rita Courtney</td>\n",
       "      <td>female</td>\n",
       "      <td>group B</td>\n",
       "      <td>some high school</td>\n",
       "      <td>standard</td>\n",
       "      <td>none</td>\n",
       "      <td>37.0</td>\n",
       "      <td>46.0</td>\n",
       "      <td>46.0</td>\n",
       "    </tr>\n",
       "    <tr>\n",
       "      <th>3</th>\n",
       "      <td>Charles Linstrom</td>\n",
       "      <td>male</td>\n",
       "      <td>group A</td>\n",
       "      <td>bachelor's degree</td>\n",
       "      <td>standard</td>\n",
       "      <td>completed</td>\n",
       "      <td>80.0</td>\n",
       "      <td>78.0</td>\n",
       "      <td>81.0</td>\n",
       "    </tr>\n",
       "    <tr>\n",
       "      <th>5</th>\n",
       "      <td>Brian Young</td>\n",
       "      <td>male</td>\n",
       "      <td>group C</td>\n",
       "      <td>some high school</td>\n",
       "      <td>standard</td>\n",
       "      <td>none</td>\n",
       "      <td>73.0</td>\n",
       "      <td>66.0</td>\n",
       "      <td>63.0</td>\n",
       "    </tr>\n",
       "    <tr>\n",
       "      <th>6</th>\n",
       "      <td>Howard Jimenez</td>\n",
       "      <td>male</td>\n",
       "      <td>group E</td>\n",
       "      <td>some high school</td>\n",
       "      <td>standard</td>\n",
       "      <td>completed</td>\n",
       "      <td>81.0</td>\n",
       "      <td>75.0</td>\n",
       "      <td>76.0</td>\n",
       "    </tr>\n",
       "    <tr>\n",
       "      <th>7</th>\n",
       "      <td>Wayne Wilson</td>\n",
       "      <td>male</td>\n",
       "      <td>group B</td>\n",
       "      <td>some high school</td>\n",
       "      <td>standard</td>\n",
       "      <td>completed</td>\n",
       "      <td>94.0</td>\n",
       "      <td>86.0</td>\n",
       "      <td>87.0</td>\n",
       "    </tr>\n",
       "    <tr>\n",
       "      <th>...</th>\n",
       "      <td>...</td>\n",
       "      <td>...</td>\n",
       "      <td>...</td>\n",
       "      <td>...</td>\n",
       "      <td>...</td>\n",
       "      <td>...</td>\n",
       "      <td>...</td>\n",
       "      <td>...</td>\n",
       "      <td>...</td>\n",
       "    </tr>\n",
       "    <tr>\n",
       "      <th>1392</th>\n",
       "      <td>Richard Young</td>\n",
       "      <td>male</td>\n",
       "      <td>group D</td>\n",
       "      <td>high school</td>\n",
       "      <td>standard</td>\n",
       "      <td>none</td>\n",
       "      <td>69.0</td>\n",
       "      <td>75.0</td>\n",
       "      <td>71.0</td>\n",
       "    </tr>\n",
       "    <tr>\n",
       "      <th>1394</th>\n",
       "      <td>Wanda Russell</td>\n",
       "      <td>female</td>\n",
       "      <td>group B</td>\n",
       "      <td>high school</td>\n",
       "      <td>free/reduced</td>\n",
       "      <td>completed</td>\n",
       "      <td>23.0</td>\n",
       "      <td>44.0</td>\n",
       "      <td>36.0</td>\n",
       "    </tr>\n",
       "    <tr>\n",
       "      <th>1396</th>\n",
       "      <td>Marina Zeigler</td>\n",
       "      <td>female</td>\n",
       "      <td>group C</td>\n",
       "      <td>bachelor's degree</td>\n",
       "      <td>free/reduced</td>\n",
       "      <td>completed</td>\n",
       "      <td>66.0</td>\n",
       "      <td>74.0</td>\n",
       "      <td>81.0</td>\n",
       "    </tr>\n",
       "    <tr>\n",
       "      <th>1397</th>\n",
       "      <td>Laurie Carter</td>\n",
       "      <td>female</td>\n",
       "      <td>group B</td>\n",
       "      <td>some high school</td>\n",
       "      <td>standard</td>\n",
       "      <td>completed</td>\n",
       "      <td>54.0</td>\n",
       "      <td>61.0</td>\n",
       "      <td>62.0</td>\n",
       "    </tr>\n",
       "    <tr>\n",
       "      <th>1399</th>\n",
       "      <td>Amanda Perez</td>\n",
       "      <td>female</td>\n",
       "      <td>group A</td>\n",
       "      <td>high school</td>\n",
       "      <td>standard</td>\n",
       "      <td>completed</td>\n",
       "      <td>68.0</td>\n",
       "      <td>80.0</td>\n",
       "      <td>76.0</td>\n",
       "    </tr>\n",
       "  </tbody>\n",
       "</table>\n",
       "<p>875 rows × 9 columns</p>\n",
       "</div>"
      ],
      "text/plain": [
       "                 names  gender race/ethnicity parental level of education  \\\n",
       "0        Rita Courtney  female        group B            some high school   \n",
       "3     Charles Linstrom    male        group A           bachelor's degree   \n",
       "5          Brian Young    male        group C            some high school   \n",
       "6       Howard Jimenez    male        group E            some high school   \n",
       "7         Wayne Wilson    male        group B            some high school   \n",
       "...                ...     ...            ...                         ...   \n",
       "1392     Richard Young    male        group D                 high school   \n",
       "1394     Wanda Russell  female        group B                 high school   \n",
       "1396    Marina Zeigler  female        group C           bachelor's degree   \n",
       "1397     Laurie Carter  female        group B            some high school   \n",
       "1399      Amanda Perez  female        group A                 high school   \n",
       "\n",
       "             lunch test preparation course  math score  reading score  \\\n",
       "0         standard                    none        37.0           46.0   \n",
       "3         standard               completed        80.0           78.0   \n",
       "5         standard                    none        73.0           66.0   \n",
       "6         standard               completed        81.0           75.0   \n",
       "7         standard               completed        94.0           86.0   \n",
       "...            ...                     ...         ...            ...   \n",
       "1392      standard                    none        69.0           75.0   \n",
       "1394  free/reduced               completed        23.0           44.0   \n",
       "1396  free/reduced               completed        66.0           74.0   \n",
       "1397      standard               completed        54.0           61.0   \n",
       "1399      standard               completed        68.0           80.0   \n",
       "\n",
       "      writing score  \n",
       "0              46.0  \n",
       "3              81.0  \n",
       "5              63.0  \n",
       "6              76.0  \n",
       "7              87.0  \n",
       "...             ...  \n",
       "1392           71.0  \n",
       "1394           36.0  \n",
       "1396           81.0  \n",
       "1397           62.0  \n",
       "1399           76.0  \n",
       "\n",
       "[875 rows x 9 columns]"
      ]
     },
     "metadata": {},
     "output_type": "display_data"
    }
   ],
   "source": [
    "def nota_chilena(dataframe_in, columna):\n",
    "  dataframe_in=clean_data(dataframe_in)\n",
    "  dataframe_in=dataframe_in.round(2)\n",
    "  dataframe_in.loc[dataframe_in[columna] >7, columna] *= 7/100\n",
    "  dataframe_in.loc[dataframe_in[columna] <1, columna] *= 7/100\n",
    "  return dataframe_in[columna]\n",
    "clear_df_grades = clean_data(df_grades)\n",
    "display(clear_df_grades)\n",
    "nota_chilena(clear_df_grades,'math score')\n",
    "display(nota_chilena(clear_df_grades,'math score'))\n",
    "display(clear_df_grades)"
   ]
  },
  {
   "cell_type": "markdown",
   "metadata": {
    "cell_id": "00038-3045a9c7-3dc1-4909-a993-3346ce27103d",
    "deepnote_cell_height": 62,
    "deepnote_cell_type": "markdown",
    "id": "QGe-Hb2UTAE1"
   },
   "source": [
    "### 1.3.2 Obtención de promedio de alumnos [0.5]"
   ]
  },
  {
   "cell_type": "markdown",
   "metadata": {
    "cell_id": "00039-5e16ce47-71fb-4750-9d81-c7bdb854141d",
    "deepnote_cell_height": 228.734375,
    "deepnote_cell_type": "markdown",
    "id": "AEkWI5K-OZgt"
   },
   "source": [
    "Con todas las notas adjuntadas, la prestigiosa Universidad De la Cachaña necesita obtener el promedio general de cada uno de los alumnos. Para esto se le solicita que calcule el promedio con cada una de las asignaturas y el promedio se anexe como una nueva columna al final del DataFrame original. Cabe señalar que las notas deben ser redondeadas al segundo decimal.\n",
    "\n",
    "**To-Do:**\n",
    "- [ ] Crear función que nos permite obtener el promedio de cada uno de los alumnos y anexar esta información en el DataFrame original.\n"
   ]
  },
  {
   "cell_type": "markdown",
   "metadata": {
    "cell_id": "00040-ed949f3e-dd9b-44a7-aa8c-b75d7651546d",
    "deepnote_cell_height": 52.390625,
    "deepnote_cell_type": "markdown",
    "tags": []
   },
   "source": [
    "**Respuesta:**"
   ]
  },
  {
   "cell_type": "code",
   "execution_count": 8,
   "metadata": {
    "cell_id": "00041-71c0f72b-1361-4b83-a3d2-cd5a916f0bb0",
    "deepnote_cell_height": 99,
    "deepnote_cell_type": "code",
    "deepnote_to_be_reexecuted": false,
    "executionInfo": {
     "elapsed": 644,
     "status": "ok",
     "timestamp": 1619205973016,
     "user": {
      "displayName": "IGNACIO ALEJANDRO MEZA",
      "photoUrl": "",
      "userId": "17011121633069169364"
     },
     "user_tz": 240
    },
    "execution_millis": 0,
    "execution_start": 1632493424597,
    "id": "b6CTPp5TAMhE",
    "source_hash": "810948b"
   },
   "outputs": [],
   "source": [
    "def alumnos_promedio(dataframe_in):\n",
    "  #for score_name in ['math score','reading score','writing score']:\n",
    "  dataframe_in['GPA']=nota_chilena(dataframe_in,'math score')/3 + nota_chilena(dataframe_in,'reading score')/3 + nota_chilena(dataframe_in,'writing score')/3\n",
    "  dataframe_in=dataframe_in.round(2)\n",
    "  return dataframe_in['GPA']"
   ]
  },
  {
   "cell_type": "markdown",
   "metadata": {
    "cell_id": "00042-507bb30d-9670-4be3-9854-1617ba8f2095",
    "deepnote_cell_height": 52.390625,
    "deepnote_cell_type": "markdown",
    "id": "hrakfq02Si8z"
   },
   "source": [
    "**Respuesta Esperada:**"
   ]
  },
  {
   "cell_type": "code",
   "execution_count": 9,
   "metadata": {
    "cell_id": "00043-e16930f7-fe82-453a-8e9a-7421732ac929",
    "colab": {
     "base_uri": "https://localhost:8080/",
     "height": 204
    },
    "deepnote_cell_height": 115,
    "deepnote_cell_type": "code",
    "deepnote_to_be_reexecuted": false,
    "executionInfo": {
     "elapsed": 783,
     "status": "ok",
     "timestamp": 1619205975187,
     "user": {
      "displayName": "IGNACIO ALEJANDRO MEZA",
      "photoUrl": "",
      "userId": "17011121633069169364"
     },
     "user_tz": 240
    },
    "execution_millis": 43,
    "execution_start": 1632493424603,
    "id": "g9Fiwt8USiac",
    "outputId": "1e4da1d8-62d8-41b1-923d-68bfd65bed38",
    "source_hash": "55e53e3b"
   },
   "outputs": [
    {
     "data": {
      "text/plain": [
       "0    3.01\n",
       "3    5.58\n",
       "5    4.71\n",
       "6    5.41\n",
       "7    6.23\n",
       "Name: GPA, dtype: float64"
      ]
     },
     "execution_count": 9,
     "metadata": {},
     "output_type": "execute_result"
    }
   ],
   "source": [
    "averages = alumnos_promedio(clear_df_grades)\n",
    "averages.head()\n"
   ]
  },
  {
   "cell_type": "markdown",
   "metadata": {
    "cell_id": "00044-362969a2-b0d5-4d45-a6f1-0293e36c0417",
    "deepnote_cell_height": 94,
    "deepnote_cell_type": "markdown",
    "id": "uA0ZXAWyBoLX"
   },
   "source": [
    "### 1.3.3 Reprobados y Destacados [1.5 Punto, 0.5 Cada DataFrame]"
   ]
  },
  {
   "cell_type": "markdown",
   "metadata": {
    "cell_id": "00045-7514bdf0-01ec-4c0a-83d1-12a2a8c8d3c3",
    "deepnote_cell_height": 447.859375,
    "deepnote_cell_type": "markdown",
    "id": "k1FKahC3_g5_"
   },
   "source": [
    "Contentos con su desempeño, la Universidad les solicita que obtengan los alumnos quienes han reprobado el año y los que han tenido desempeño de destacado. Para esto se considerará que un alumno ha reprobado el año cuando el promedio de notas es inferior a 4.0 en la Escala Chilena, y se considerará destacado si posee notas superiores a 5.8 en todas las asignaturas (o sea notas superiores a 5.8 en `math score`, `reading score` y `writing score`).\n",
    "\n",
    "Cree una función que permita obtener tres Dataframes: \n",
    "- El primero deberá poseer solamente los alumnos que han reprobado en la prestigiosa universidad.\n",
    "- El segundo debe entregar un DataFrame similar al original, pero marcado con una \"R\" el promedio de notas de los alumnos reprobados.\n",
    "- El tercero será un Data Frame con los alumnos destacados ordenados de mayor a menor.\n",
    "\n",
    "**To-Do:**\n",
    "\n",
    "- [ ] Obtener DataFrame con los alumnos que reprobaron el año.\n",
    "- [ ] Obtener DataFrame similar al original, pero marcados con una \"R\" el atributo GPA de los alumnos reprobados.\n",
    "- [ ] Obtener DataFrame con los alumnos destacados ordenados de mayor a menor."
   ]
  },
  {
   "cell_type": "markdown",
   "metadata": {
    "cell_id": "00046-8337183c-cd19-4dc0-b936-9dadeda8418e",
    "deepnote_cell_height": 52.390625,
    "deepnote_cell_type": "markdown",
    "tags": []
   },
   "source": [
    "**Respuesta:**"
   ]
  },
  {
   "cell_type": "code",
   "execution_count": 10,
   "metadata": {
    "cell_id": "00047-d6f8abcb-8fba-4e2a-9dde-de6844e4868b",
    "deepnote_cell_height": 117,
    "deepnote_cell_type": "code",
    "deepnote_to_be_reexecuted": false,
    "executionInfo": {
     "elapsed": 641,
     "status": "ok",
     "timestamp": 1619205977306,
     "user": {
      "displayName": "IGNACIO ALEJANDRO MEZA",
      "photoUrl": "",
      "userId": "17011121633069169364"
     },
     "user_tz": 240
    },
    "execution_millis": 2,
    "execution_start": 1632493424637,
    "id": "Yw52wzwMAXHW",
    "source_hash": "e3c68478"
   },
   "outputs": [],
   "source": [
    "def reprobados_destacados(dataframe_in):\n",
    "    clear_df_grades = clean_data(dataframe_in)\n",
    "    alumnos_promedio(clear_df_grades)\n",
    "    data_con_promedios=clear_df_grades.copy()\n",
    "    data_con_promedios['GPA']=alumnos_promedio(clear_df_grades.copy())\n",
    "    reprobados = data_con_promedios[data_con_promedios['GPA']<4].copy()\n",
    "    reprobados_R=data_con_promedios.copy()\n",
    "    reprobados_R.loc[reprobados_R['GPA'] <4, 'GPA'] = 'R'\n",
    "    destacados=data_con_promedios[data_con_promedios['GPA']>5.8].sort_values(by='GPA',ascending=False).copy()\n",
    "    return reprobados,reprobados_R,destacados\n",
    "dataframe1, dataframe2, dataframe3 = reprobados_destacados(df_grades)\n"
   ]
  },
  {
   "cell_type": "code",
   "execution_count": 11,
   "metadata": {
    "cell_id": "00048-58c77591-f1eb-4497-af40-252bcc9ed099",
    "colab": {
     "base_uri": "https://localhost:8080/",
     "height": 419
    },
    "deepnote_cell_height": 115,
    "deepnote_cell_type": "code",
    "deepnote_to_be_reexecuted": false,
    "executionInfo": {
     "elapsed": 611,
     "status": "ok",
     "timestamp": 1619205978676,
     "user": {
      "displayName": "IGNACIO ALEJANDRO MEZA",
      "photoUrl": "",
      "userId": "17011121633069169364"
     },
     "user_tz": 240
    },
    "execution_millis": 69,
    "execution_start": 1632493424642,
    "id": "LlxNXK11XBGn",
    "outputId": "a4572fe2-0758-4c0c-c9f3-cb444233134f",
    "source_hash": "73b6de2"
   },
   "outputs": [
    {
     "data": {
      "text/html": [
       "<div>\n",
       "<style scoped>\n",
       "    .dataframe tbody tr th:only-of-type {\n",
       "        vertical-align: middle;\n",
       "    }\n",
       "\n",
       "    .dataframe tbody tr th {\n",
       "        vertical-align: top;\n",
       "    }\n",
       "\n",
       "    .dataframe thead th {\n",
       "        text-align: right;\n",
       "    }\n",
       "</style>\n",
       "<table border=\"1\" class=\"dataframe\">\n",
       "  <thead>\n",
       "    <tr style=\"text-align: right;\">\n",
       "      <th></th>\n",
       "      <th>names</th>\n",
       "      <th>gender</th>\n",
       "      <th>race/ethnicity</th>\n",
       "      <th>parental level of education</th>\n",
       "      <th>lunch</th>\n",
       "      <th>test preparation course</th>\n",
       "      <th>math score</th>\n",
       "      <th>reading score</th>\n",
       "      <th>writing score</th>\n",
       "      <th>GPA</th>\n",
       "    </tr>\n",
       "  </thead>\n",
       "  <tbody>\n",
       "    <tr>\n",
       "      <th>0</th>\n",
       "      <td>Rita Courtney</td>\n",
       "      <td>female</td>\n",
       "      <td>group B</td>\n",
       "      <td>some high school</td>\n",
       "      <td>standard</td>\n",
       "      <td>none</td>\n",
       "      <td>37.0</td>\n",
       "      <td>46.0</td>\n",
       "      <td>46.0</td>\n",
       "      <td>3.01</td>\n",
       "    </tr>\n",
       "    <tr>\n",
       "      <th>13</th>\n",
       "      <td>Mikki Amaya</td>\n",
       "      <td>female</td>\n",
       "      <td>group A</td>\n",
       "      <td>high school</td>\n",
       "      <td>free/reduced</td>\n",
       "      <td>completed</td>\n",
       "      <td>34.0</td>\n",
       "      <td>48.0</td>\n",
       "      <td>41.0</td>\n",
       "      <td>2.87</td>\n",
       "    </tr>\n",
       "    <tr>\n",
       "      <th>26</th>\n",
       "      <td>Samuel Dougal</td>\n",
       "      <td>male</td>\n",
       "      <td>group C</td>\n",
       "      <td>master's degree</td>\n",
       "      <td>free/reduced</td>\n",
       "      <td>completed</td>\n",
       "      <td>46.0</td>\n",
       "      <td>42.0</td>\n",
       "      <td>46.0</td>\n",
       "      <td>3.13</td>\n",
       "    </tr>\n",
       "    <tr>\n",
       "      <th>37</th>\n",
       "      <td>Connie Shinn</td>\n",
       "      <td>female</td>\n",
       "      <td>group B</td>\n",
       "      <td>associate's degree</td>\n",
       "      <td>free/reduced</td>\n",
       "      <td>none</td>\n",
       "      <td>46.0</td>\n",
       "      <td>61.0</td>\n",
       "      <td>55.0</td>\n",
       "      <td>3.78</td>\n",
       "    </tr>\n",
       "    <tr>\n",
       "      <th>52</th>\n",
       "      <td>Lisa Watters</td>\n",
       "      <td>female</td>\n",
       "      <td>group D</td>\n",
       "      <td>master's degree</td>\n",
       "      <td>free/reduced</td>\n",
       "      <td>none</td>\n",
       "      <td>40.0</td>\n",
       "      <td>59.0</td>\n",
       "      <td>54.0</td>\n",
       "      <td>3.57</td>\n",
       "    </tr>\n",
       "    <tr>\n",
       "      <th>...</th>\n",
       "      <td>...</td>\n",
       "      <td>...</td>\n",
       "      <td>...</td>\n",
       "      <td>...</td>\n",
       "      <td>...</td>\n",
       "      <td>...</td>\n",
       "      <td>...</td>\n",
       "      <td>...</td>\n",
       "      <td>...</td>\n",
       "      <td>...</td>\n",
       "    </tr>\n",
       "    <tr>\n",
       "      <th>1371</th>\n",
       "      <td>Charles Harian</td>\n",
       "      <td>male</td>\n",
       "      <td>group C</td>\n",
       "      <td>some high school</td>\n",
       "      <td>free/reduced</td>\n",
       "      <td>completed</td>\n",
       "      <td>45.0</td>\n",
       "      <td>52.0</td>\n",
       "      <td>49.0</td>\n",
       "      <td>3.41</td>\n",
       "    </tr>\n",
       "    <tr>\n",
       "      <th>1373</th>\n",
       "      <td>Wendy Gunnell</td>\n",
       "      <td>female</td>\n",
       "      <td>group D</td>\n",
       "      <td>some high school</td>\n",
       "      <td>free/reduced</td>\n",
       "      <td>none</td>\n",
       "      <td>27.0</td>\n",
       "      <td>34.0</td>\n",
       "      <td>32.0</td>\n",
       "      <td>2.17</td>\n",
       "    </tr>\n",
       "    <tr>\n",
       "      <th>1389</th>\n",
       "      <td>Diana Costa</td>\n",
       "      <td>female</td>\n",
       "      <td>group C</td>\n",
       "      <td>high school</td>\n",
       "      <td>free/reduced</td>\n",
       "      <td>none</td>\n",
       "      <td>41.0</td>\n",
       "      <td>46.0</td>\n",
       "      <td>43.0</td>\n",
       "      <td>3.03</td>\n",
       "    </tr>\n",
       "    <tr>\n",
       "      <th>1391</th>\n",
       "      <td>Amy Sieving</td>\n",
       "      <td>female</td>\n",
       "      <td>group C</td>\n",
       "      <td>high school</td>\n",
       "      <td>standard</td>\n",
       "      <td>none</td>\n",
       "      <td>29.0</td>\n",
       "      <td>29.0</td>\n",
       "      <td>30.0</td>\n",
       "      <td>2.05</td>\n",
       "    </tr>\n",
       "    <tr>\n",
       "      <th>1394</th>\n",
       "      <td>Wanda Russell</td>\n",
       "      <td>female</td>\n",
       "      <td>group B</td>\n",
       "      <td>high school</td>\n",
       "      <td>free/reduced</td>\n",
       "      <td>completed</td>\n",
       "      <td>23.0</td>\n",
       "      <td>44.0</td>\n",
       "      <td>36.0</td>\n",
       "      <td>2.40</td>\n",
       "    </tr>\n",
       "  </tbody>\n",
       "</table>\n",
       "<p>197 rows × 10 columns</p>\n",
       "</div>"
      ],
      "text/plain": [
       "               names  gender race/ethnicity parental level of education  \\\n",
       "0      Rita Courtney  female        group B            some high school   \n",
       "13       Mikki Amaya  female        group A                 high school   \n",
       "26     Samuel Dougal    male        group C             master's degree   \n",
       "37      Connie Shinn  female        group B          associate's degree   \n",
       "52      Lisa Watters  female        group D             master's degree   \n",
       "...              ...     ...            ...                         ...   \n",
       "1371  Charles Harian    male        group C            some high school   \n",
       "1373   Wendy Gunnell  female        group D            some high school   \n",
       "1389     Diana Costa  female        group C                 high school   \n",
       "1391     Amy Sieving  female        group C                 high school   \n",
       "1394   Wanda Russell  female        group B                 high school   \n",
       "\n",
       "             lunch test preparation course  math score  reading score  \\\n",
       "0         standard                    none        37.0           46.0   \n",
       "13    free/reduced               completed        34.0           48.0   \n",
       "26    free/reduced               completed        46.0           42.0   \n",
       "37    free/reduced                    none        46.0           61.0   \n",
       "52    free/reduced                    none        40.0           59.0   \n",
       "...            ...                     ...         ...            ...   \n",
       "1371  free/reduced               completed        45.0           52.0   \n",
       "1373  free/reduced                    none        27.0           34.0   \n",
       "1389  free/reduced                    none        41.0           46.0   \n",
       "1391      standard                    none        29.0           29.0   \n",
       "1394  free/reduced               completed        23.0           44.0   \n",
       "\n",
       "      writing score   GPA  \n",
       "0              46.0  3.01  \n",
       "13             41.0  2.87  \n",
       "26             46.0  3.13  \n",
       "37             55.0  3.78  \n",
       "52             54.0  3.57  \n",
       "...             ...   ...  \n",
       "1371           49.0  3.41  \n",
       "1373           32.0  2.17  \n",
       "1389           43.0  3.03  \n",
       "1391           30.0  2.05  \n",
       "1394           36.0  2.40  \n",
       "\n",
       "[197 rows x 10 columns]"
      ]
     },
     "execution_count": 11,
     "metadata": {},
     "output_type": "execute_result"
    }
   ],
   "source": [
    "dataframe1, dataframe2, dataframe3 = reprobados_destacados(df_grades)\n",
    "dataframe1"
   ]
  },
  {
   "cell_type": "code",
   "execution_count": 12,
   "metadata": {
    "cell_id": "00049-8240c0ec-b1ea-41d3-8b5e-4970d3ef59dc",
    "colab": {
     "base_uri": "https://localhost:8080/",
     "height": 419
    },
    "deepnote_cell_height": 97,
    "deepnote_cell_type": "code",
    "deepnote_to_be_reexecuted": false,
    "executionInfo": {
     "elapsed": 492,
     "status": "ok",
     "timestamp": 1619192503533,
     "user": {
      "displayName": "IGNACIO ALEJANDRO MEZA",
      "photoUrl": "",
      "userId": "17011121633069169364"
     },
     "user_tz": 240
    },
    "execution_millis": 67,
    "execution_start": 1632493424700,
    "id": "tpG_2VzNEpf7",
    "outputId": "08aaa113-1055-4075-a0f5-5b8f1a1b9b1f",
    "source_hash": "6205a86b"
   },
   "outputs": [
    {
     "data": {
      "text/html": [
       "<div>\n",
       "<style scoped>\n",
       "    .dataframe tbody tr th:only-of-type {\n",
       "        vertical-align: middle;\n",
       "    }\n",
       "\n",
       "    .dataframe tbody tr th {\n",
       "        vertical-align: top;\n",
       "    }\n",
       "\n",
       "    .dataframe thead th {\n",
       "        text-align: right;\n",
       "    }\n",
       "</style>\n",
       "<table border=\"1\" class=\"dataframe\">\n",
       "  <thead>\n",
       "    <tr style=\"text-align: right;\">\n",
       "      <th></th>\n",
       "      <th>names</th>\n",
       "      <th>gender</th>\n",
       "      <th>race/ethnicity</th>\n",
       "      <th>parental level of education</th>\n",
       "      <th>lunch</th>\n",
       "      <th>test preparation course</th>\n",
       "      <th>math score</th>\n",
       "      <th>reading score</th>\n",
       "      <th>writing score</th>\n",
       "      <th>GPA</th>\n",
       "    </tr>\n",
       "  </thead>\n",
       "  <tbody>\n",
       "    <tr>\n",
       "      <th>0</th>\n",
       "      <td>Rita Courtney</td>\n",
       "      <td>female</td>\n",
       "      <td>group B</td>\n",
       "      <td>some high school</td>\n",
       "      <td>standard</td>\n",
       "      <td>none</td>\n",
       "      <td>37.0</td>\n",
       "      <td>46.0</td>\n",
       "      <td>46.0</td>\n",
       "      <td>R</td>\n",
       "    </tr>\n",
       "    <tr>\n",
       "      <th>3</th>\n",
       "      <td>Charles Linstrom</td>\n",
       "      <td>male</td>\n",
       "      <td>group A</td>\n",
       "      <td>bachelor's degree</td>\n",
       "      <td>standard</td>\n",
       "      <td>completed</td>\n",
       "      <td>80.0</td>\n",
       "      <td>78.0</td>\n",
       "      <td>81.0</td>\n",
       "      <td>5.58</td>\n",
       "    </tr>\n",
       "    <tr>\n",
       "      <th>5</th>\n",
       "      <td>Brian Young</td>\n",
       "      <td>male</td>\n",
       "      <td>group C</td>\n",
       "      <td>some high school</td>\n",
       "      <td>standard</td>\n",
       "      <td>none</td>\n",
       "      <td>73.0</td>\n",
       "      <td>66.0</td>\n",
       "      <td>63.0</td>\n",
       "      <td>4.71</td>\n",
       "    </tr>\n",
       "    <tr>\n",
       "      <th>6</th>\n",
       "      <td>Howard Jimenez</td>\n",
       "      <td>male</td>\n",
       "      <td>group E</td>\n",
       "      <td>some high school</td>\n",
       "      <td>standard</td>\n",
       "      <td>completed</td>\n",
       "      <td>81.0</td>\n",
       "      <td>75.0</td>\n",
       "      <td>76.0</td>\n",
       "      <td>5.41</td>\n",
       "    </tr>\n",
       "    <tr>\n",
       "      <th>7</th>\n",
       "      <td>Wayne Wilson</td>\n",
       "      <td>male</td>\n",
       "      <td>group B</td>\n",
       "      <td>some high school</td>\n",
       "      <td>standard</td>\n",
       "      <td>completed</td>\n",
       "      <td>94.0</td>\n",
       "      <td>86.0</td>\n",
       "      <td>87.0</td>\n",
       "      <td>6.23</td>\n",
       "    </tr>\n",
       "    <tr>\n",
       "      <th>...</th>\n",
       "      <td>...</td>\n",
       "      <td>...</td>\n",
       "      <td>...</td>\n",
       "      <td>...</td>\n",
       "      <td>...</td>\n",
       "      <td>...</td>\n",
       "      <td>...</td>\n",
       "      <td>...</td>\n",
       "      <td>...</td>\n",
       "      <td>...</td>\n",
       "    </tr>\n",
       "    <tr>\n",
       "      <th>1392</th>\n",
       "      <td>Richard Young</td>\n",
       "      <td>male</td>\n",
       "      <td>group D</td>\n",
       "      <td>high school</td>\n",
       "      <td>standard</td>\n",
       "      <td>none</td>\n",
       "      <td>69.0</td>\n",
       "      <td>75.0</td>\n",
       "      <td>71.0</td>\n",
       "      <td>5.02</td>\n",
       "    </tr>\n",
       "    <tr>\n",
       "      <th>1394</th>\n",
       "      <td>Wanda Russell</td>\n",
       "      <td>female</td>\n",
       "      <td>group B</td>\n",
       "      <td>high school</td>\n",
       "      <td>free/reduced</td>\n",
       "      <td>completed</td>\n",
       "      <td>23.0</td>\n",
       "      <td>44.0</td>\n",
       "      <td>36.0</td>\n",
       "      <td>R</td>\n",
       "    </tr>\n",
       "    <tr>\n",
       "      <th>1396</th>\n",
       "      <td>Marina Zeigler</td>\n",
       "      <td>female</td>\n",
       "      <td>group C</td>\n",
       "      <td>bachelor's degree</td>\n",
       "      <td>free/reduced</td>\n",
       "      <td>completed</td>\n",
       "      <td>66.0</td>\n",
       "      <td>74.0</td>\n",
       "      <td>81.0</td>\n",
       "      <td>5.16</td>\n",
       "    </tr>\n",
       "    <tr>\n",
       "      <th>1397</th>\n",
       "      <td>Laurie Carter</td>\n",
       "      <td>female</td>\n",
       "      <td>group B</td>\n",
       "      <td>some high school</td>\n",
       "      <td>standard</td>\n",
       "      <td>completed</td>\n",
       "      <td>54.0</td>\n",
       "      <td>61.0</td>\n",
       "      <td>62.0</td>\n",
       "      <td>4.13</td>\n",
       "    </tr>\n",
       "    <tr>\n",
       "      <th>1399</th>\n",
       "      <td>Amanda Perez</td>\n",
       "      <td>female</td>\n",
       "      <td>group A</td>\n",
       "      <td>high school</td>\n",
       "      <td>standard</td>\n",
       "      <td>completed</td>\n",
       "      <td>68.0</td>\n",
       "      <td>80.0</td>\n",
       "      <td>76.0</td>\n",
       "      <td>5.23</td>\n",
       "    </tr>\n",
       "  </tbody>\n",
       "</table>\n",
       "<p>875 rows × 10 columns</p>\n",
       "</div>"
      ],
      "text/plain": [
       "                 names  gender race/ethnicity parental level of education  \\\n",
       "0        Rita Courtney  female        group B            some high school   \n",
       "3     Charles Linstrom    male        group A           bachelor's degree   \n",
       "5          Brian Young    male        group C            some high school   \n",
       "6       Howard Jimenez    male        group E            some high school   \n",
       "7         Wayne Wilson    male        group B            some high school   \n",
       "...                ...     ...            ...                         ...   \n",
       "1392     Richard Young    male        group D                 high school   \n",
       "1394     Wanda Russell  female        group B                 high school   \n",
       "1396    Marina Zeigler  female        group C           bachelor's degree   \n",
       "1397     Laurie Carter  female        group B            some high school   \n",
       "1399      Amanda Perez  female        group A                 high school   \n",
       "\n",
       "             lunch test preparation course  math score  reading score  \\\n",
       "0         standard                    none        37.0           46.0   \n",
       "3         standard               completed        80.0           78.0   \n",
       "5         standard                    none        73.0           66.0   \n",
       "6         standard               completed        81.0           75.0   \n",
       "7         standard               completed        94.0           86.0   \n",
       "...            ...                     ...         ...            ...   \n",
       "1392      standard                    none        69.0           75.0   \n",
       "1394  free/reduced               completed        23.0           44.0   \n",
       "1396  free/reduced               completed        66.0           74.0   \n",
       "1397      standard               completed        54.0           61.0   \n",
       "1399      standard               completed        68.0           80.0   \n",
       "\n",
       "      writing score   GPA  \n",
       "0              46.0     R  \n",
       "3              81.0  5.58  \n",
       "5              63.0  4.71  \n",
       "6              76.0  5.41  \n",
       "7              87.0  6.23  \n",
       "...             ...   ...  \n",
       "1392           71.0  5.02  \n",
       "1394           36.0     R  \n",
       "1396           81.0  5.16  \n",
       "1397           62.0  4.13  \n",
       "1399           76.0  5.23  \n",
       "\n",
       "[875 rows x 10 columns]"
      ]
     },
     "execution_count": 12,
     "metadata": {},
     "output_type": "execute_result"
    }
   ],
   "source": [
    "dataframe2"
   ]
  },
  {
   "cell_type": "code",
   "execution_count": 13,
   "metadata": {
    "cell_id": "00050-19596313-6c35-480a-b2e2-0e17df76f2b9",
    "deepnote_cell_height": 97,
    "deepnote_cell_type": "code",
    "deepnote_to_be_reexecuted": false,
    "execution_millis": 44,
    "execution_start": 1632493424750,
    "source_hash": "142d1b25",
    "tags": []
   },
   "outputs": [
    {
     "data": {
      "text/html": [
       "<div>\n",
       "<style scoped>\n",
       "    .dataframe tbody tr th:only-of-type {\n",
       "        vertical-align: middle;\n",
       "    }\n",
       "\n",
       "    .dataframe tbody tr th {\n",
       "        vertical-align: top;\n",
       "    }\n",
       "\n",
       "    .dataframe thead th {\n",
       "        text-align: right;\n",
       "    }\n",
       "</style>\n",
       "<table border=\"1\" class=\"dataframe\">\n",
       "  <thead>\n",
       "    <tr style=\"text-align: right;\">\n",
       "      <th></th>\n",
       "      <th>names</th>\n",
       "      <th>gender</th>\n",
       "      <th>race/ethnicity</th>\n",
       "      <th>parental level of education</th>\n",
       "      <th>lunch</th>\n",
       "      <th>test preparation course</th>\n",
       "      <th>math score</th>\n",
       "      <th>reading score</th>\n",
       "      <th>writing score</th>\n",
       "      <th>GPA</th>\n",
       "    </tr>\n",
       "  </thead>\n",
       "  <tbody>\n",
       "    <tr>\n",
       "      <th>677</th>\n",
       "      <td>Richard Pryor</td>\n",
       "      <td>male</td>\n",
       "      <td>group E</td>\n",
       "      <td>bachelor's degree</td>\n",
       "      <td>standard</td>\n",
       "      <td>completed</td>\n",
       "      <td>100.0</td>\n",
       "      <td>100.0</td>\n",
       "      <td>100.0</td>\n",
       "      <td>7.00</td>\n",
       "    </tr>\n",
       "    <tr>\n",
       "      <th>1352</th>\n",
       "      <td>Sandra Pompey</td>\n",
       "      <td>female</td>\n",
       "      <td>group E</td>\n",
       "      <td>associate's degree</td>\n",
       "      <td>standard</td>\n",
       "      <td>none</td>\n",
       "      <td>100.0</td>\n",
       "      <td>100.0</td>\n",
       "      <td>100.0</td>\n",
       "      <td>7.00</td>\n",
       "    </tr>\n",
       "    <tr>\n",
       "      <th>384</th>\n",
       "      <td>Elizabeth Beasley</td>\n",
       "      <td>female</td>\n",
       "      <td>group E</td>\n",
       "      <td>bachelor's degree</td>\n",
       "      <td>standard</td>\n",
       "      <td>none</td>\n",
       "      <td>100.0</td>\n",
       "      <td>100.0</td>\n",
       "      <td>100.0</td>\n",
       "      <td>7.00</td>\n",
       "    </tr>\n",
       "    <tr>\n",
       "      <th>475</th>\n",
       "      <td>Emma Gray</td>\n",
       "      <td>female</td>\n",
       "      <td>group E</td>\n",
       "      <td>bachelor's degree</td>\n",
       "      <td>standard</td>\n",
       "      <td>completed</td>\n",
       "      <td>99.0</td>\n",
       "      <td>100.0</td>\n",
       "      <td>100.0</td>\n",
       "      <td>6.98</td>\n",
       "    </tr>\n",
       "    <tr>\n",
       "      <th>279</th>\n",
       "      <td>Emma Brasher</td>\n",
       "      <td>female</td>\n",
       "      <td>group D</td>\n",
       "      <td>some high school</td>\n",
       "      <td>standard</td>\n",
       "      <td>completed</td>\n",
       "      <td>97.0</td>\n",
       "      <td>100.0</td>\n",
       "      <td>100.0</td>\n",
       "      <td>6.93</td>\n",
       "    </tr>\n",
       "    <tr>\n",
       "      <th>...</th>\n",
       "      <td>...</td>\n",
       "      <td>...</td>\n",
       "      <td>...</td>\n",
       "      <td>...</td>\n",
       "      <td>...</td>\n",
       "      <td>...</td>\n",
       "      <td>...</td>\n",
       "      <td>...</td>\n",
       "      <td>...</td>\n",
       "      <td>...</td>\n",
       "    </tr>\n",
       "    <tr>\n",
       "      <th>393</th>\n",
       "      <td>Christopher Martinez</td>\n",
       "      <td>male</td>\n",
       "      <td>group C</td>\n",
       "      <td>bachelor's degree</td>\n",
       "      <td>standard</td>\n",
       "      <td>completed</td>\n",
       "      <td>83.0</td>\n",
       "      <td>82.0</td>\n",
       "      <td>84.0</td>\n",
       "      <td>5.81</td>\n",
       "    </tr>\n",
       "    <tr>\n",
       "      <th>820</th>\n",
       "      <td>Nicole Obrien</td>\n",
       "      <td>female</td>\n",
       "      <td>group B</td>\n",
       "      <td>bachelor's degree</td>\n",
       "      <td>free/reduced</td>\n",
       "      <td>none</td>\n",
       "      <td>77.0</td>\n",
       "      <td>85.0</td>\n",
       "      <td>87.0</td>\n",
       "      <td>5.81</td>\n",
       "    </tr>\n",
       "    <tr>\n",
       "      <th>1044</th>\n",
       "      <td>Karen Wagaman</td>\n",
       "      <td>female</td>\n",
       "      <td>group B</td>\n",
       "      <td>associate's degree</td>\n",
       "      <td>standard</td>\n",
       "      <td>none</td>\n",
       "      <td>80.0</td>\n",
       "      <td>86.0</td>\n",
       "      <td>83.0</td>\n",
       "      <td>5.81</td>\n",
       "    </tr>\n",
       "    <tr>\n",
       "      <th>1077</th>\n",
       "      <td>Danny Goodyear</td>\n",
       "      <td>male</td>\n",
       "      <td>group B</td>\n",
       "      <td>some college</td>\n",
       "      <td>standard</td>\n",
       "      <td>completed</td>\n",
       "      <td>88.0</td>\n",
       "      <td>85.0</td>\n",
       "      <td>76.0</td>\n",
       "      <td>5.81</td>\n",
       "    </tr>\n",
       "    <tr>\n",
       "      <th>1167</th>\n",
       "      <td>Julia Hagan</td>\n",
       "      <td>female</td>\n",
       "      <td>group C</td>\n",
       "      <td>bachelor's degree</td>\n",
       "      <td>free/reduced</td>\n",
       "      <td>completed</td>\n",
       "      <td>74.0</td>\n",
       "      <td>86.0</td>\n",
       "      <td>89.0</td>\n",
       "      <td>5.81</td>\n",
       "    </tr>\n",
       "  </tbody>\n",
       "</table>\n",
       "<p>129 rows × 10 columns</p>\n",
       "</div>"
      ],
      "text/plain": [
       "                     names  gender race/ethnicity parental level of education  \\\n",
       "677          Richard Pryor    male        group E           bachelor's degree   \n",
       "1352         Sandra Pompey  female        group E          associate's degree   \n",
       "384      Elizabeth Beasley  female        group E           bachelor's degree   \n",
       "475              Emma Gray  female        group E           bachelor's degree   \n",
       "279           Emma Brasher  female        group D            some high school   \n",
       "...                    ...     ...            ...                         ...   \n",
       "393   Christopher Martinez    male        group C           bachelor's degree   \n",
       "820          Nicole Obrien  female        group B           bachelor's degree   \n",
       "1044         Karen Wagaman  female        group B          associate's degree   \n",
       "1077        Danny Goodyear    male        group B                some college   \n",
       "1167           Julia Hagan  female        group C           bachelor's degree   \n",
       "\n",
       "             lunch test preparation course  math score  reading score  \\\n",
       "677       standard               completed       100.0          100.0   \n",
       "1352      standard                    none       100.0          100.0   \n",
       "384       standard                    none       100.0          100.0   \n",
       "475       standard               completed        99.0          100.0   \n",
       "279       standard               completed        97.0          100.0   \n",
       "...            ...                     ...         ...            ...   \n",
       "393       standard               completed        83.0           82.0   \n",
       "820   free/reduced                    none        77.0           85.0   \n",
       "1044      standard                    none        80.0           86.0   \n",
       "1077      standard               completed        88.0           85.0   \n",
       "1167  free/reduced               completed        74.0           86.0   \n",
       "\n",
       "      writing score   GPA  \n",
       "677           100.0  7.00  \n",
       "1352          100.0  7.00  \n",
       "384           100.0  7.00  \n",
       "475           100.0  6.98  \n",
       "279           100.0  6.93  \n",
       "...             ...   ...  \n",
       "393            84.0  5.81  \n",
       "820            87.0  5.81  \n",
       "1044           83.0  5.81  \n",
       "1077           76.0  5.81  \n",
       "1167           89.0  5.81  \n",
       "\n",
       "[129 rows x 10 columns]"
      ]
     },
     "execution_count": 13,
     "metadata": {},
     "output_type": "execute_result"
    }
   ],
   "source": [
    "dataframe3"
   ]
  },
  {
   "cell_type": "markdown",
   "metadata": {
    "cell_id": "00051-1765b59c-25ca-4dc5-ac88-29805642f748",
    "deepnote_cell_height": 52.390625,
    "deepnote_cell_type": "markdown",
    "id": "jb9sjfJlwolM"
   },
   "source": [
    "**Respuesta:**"
   ]
  },
  {
   "cell_type": "markdown",
   "metadata": {
    "cell_id": "00052-4e2f07e8-ce26-4d48-ba89-4c04132729ca",
    "deepnote_cell_height": 70.796875,
    "deepnote_cell_type": "markdown",
    "id": "vDl7h7JbwrKh"
   },
   "source": [
    "```\n",
    "Escriba aqui su respuesta\n",
    "```"
   ]
  },
  {
   "cell_type": "markdown",
   "metadata": {
    "cell_id": "00053-c26e032f-9917-4088-ac1d-9ba2983ba419",
    "deepnote_cell_height": 62,
    "deepnote_cell_type": "markdown",
    "tags": []
   },
   "source": [
    "### 1.3.4 Consultas de Alumnos [0.5 Puntos]"
   ]
  },
  {
   "cell_type": "markdown",
   "metadata": {
    "cell_id": "00054-265dbcea-43c7-4418-b289-48906d0c1626",
    "deepnote_cell_height": 295.90625,
    "deepnote_cell_type": "markdown",
    "tags": []
   },
   "source": [
    "Algunos padres (extremadamente entrometidos y...) preocupados por el desempeño de sus hijos, desean saber estos han aprobado o no el año. Como la tarea de buscar a mano cada uno de estos alumnos en el `DataFrame` resulta demasiado tedioso, el rector le solicita crear una función que tenga como entrada el `DataFrame` donde se realizará la busqueda y una lista con los nombres de los alumnos, luego la función deberá retornar un `DataFrame` con los nombres de los alumnos y el promedio general de cada uno. \n",
    "\n",
    "Creada la función busque el promedio general de los siguientes alumnos en el segundo Data frame creado en la sección 1.3.3:\n",
    "\n",
    "`['Lucille Stanphill','Marcus Mcfarland', 'Matthew Freeman', 'Dana Mojica', 'Paul Hyder', 'Jeffrey Korn', 'Robert Strain',\n",
    "'Ronald Jett', 'Lorena Reed', 'Hazel Posey']`\n",
    "\n",
    "**Hint:** Puede serle de utilidad utilizar `isin()`."
   ]
  },
  {
   "cell_type": "markdown",
   "metadata": {
    "cell_id": "00055-f296cada-4f15-4a9b-900c-cde55391c32b",
    "deepnote_cell_height": 52.390625,
    "deepnote_cell_type": "markdown",
    "tags": []
   },
   "source": [
    "**Respuesta:**"
   ]
  },
  {
   "cell_type": "code",
   "execution_count": 14,
   "metadata": {
    "cell_id": "00056-1625f6ad-80ec-45be-9bbb-c08ddd6df2fb",
    "deepnote_cell_height": 385,
    "deepnote_cell_type": "code",
    "deepnote_to_be_reexecuted": false,
    "execution_millis": 21,
    "execution_start": 1632493424802,
    "source_hash": "f3ff8aa7",
    "tags": []
   },
   "outputs": [
    {
     "data": {
      "text/html": [
       "<div>\n",
       "<style scoped>\n",
       "    .dataframe tbody tr th:only-of-type {\n",
       "        vertical-align: middle;\n",
       "    }\n",
       "\n",
       "    .dataframe tbody tr th {\n",
       "        vertical-align: top;\n",
       "    }\n",
       "\n",
       "    .dataframe thead th {\n",
       "        text-align: right;\n",
       "    }\n",
       "</style>\n",
       "<table border=\"1\" class=\"dataframe\">\n",
       "  <thead>\n",
       "    <tr style=\"text-align: right;\">\n",
       "      <th></th>\n",
       "      <th>names</th>\n",
       "      <th>gender</th>\n",
       "      <th>race/ethnicity</th>\n",
       "      <th>parental level of education</th>\n",
       "      <th>lunch</th>\n",
       "      <th>test preparation course</th>\n",
       "      <th>math score</th>\n",
       "      <th>reading score</th>\n",
       "      <th>writing score</th>\n",
       "      <th>GPA</th>\n",
       "    </tr>\n",
       "  </thead>\n",
       "  <tbody>\n",
       "    <tr>\n",
       "      <th>296</th>\n",
       "      <td>Lucille Stanphill</td>\n",
       "      <td>female</td>\n",
       "      <td>group C</td>\n",
       "      <td>high school</td>\n",
       "      <td>standard</td>\n",
       "      <td>none</td>\n",
       "      <td>81.0</td>\n",
       "      <td>84.0</td>\n",
       "      <td>82.0</td>\n",
       "      <td>5.76</td>\n",
       "    </tr>\n",
       "    <tr>\n",
       "      <th>564</th>\n",
       "      <td>Marcus Mcfarland</td>\n",
       "      <td>male</td>\n",
       "      <td>group C</td>\n",
       "      <td>bachelor's degree</td>\n",
       "      <td>standard</td>\n",
       "      <td>completed</td>\n",
       "      <td>63.0</td>\n",
       "      <td>64.0</td>\n",
       "      <td>66.0</td>\n",
       "      <td>4.5</td>\n",
       "    </tr>\n",
       "    <tr>\n",
       "      <th>637</th>\n",
       "      <td>Matthew Freeman</td>\n",
       "      <td>male</td>\n",
       "      <td>group B</td>\n",
       "      <td>high school</td>\n",
       "      <td>standard</td>\n",
       "      <td>completed</td>\n",
       "      <td>52.0</td>\n",
       "      <td>49.0</td>\n",
       "      <td>46.0</td>\n",
       "      <td>R</td>\n",
       "    </tr>\n",
       "    <tr>\n",
       "      <th>640</th>\n",
       "      <td>Dana Mojica</td>\n",
       "      <td>female</td>\n",
       "      <td>group D</td>\n",
       "      <td>high school</td>\n",
       "      <td>free/reduced</td>\n",
       "      <td>none</td>\n",
       "      <td>39.0</td>\n",
       "      <td>52.0</td>\n",
       "      <td>46.0</td>\n",
       "      <td>R</td>\n",
       "    </tr>\n",
       "    <tr>\n",
       "      <th>1054</th>\n",
       "      <td>Robert Strain</td>\n",
       "      <td>male</td>\n",
       "      <td>group C</td>\n",
       "      <td>associate's degree</td>\n",
       "      <td>free/reduced</td>\n",
       "      <td>none</td>\n",
       "      <td>55.0</td>\n",
       "      <td>61.0</td>\n",
       "      <td>54.0</td>\n",
       "      <td>R</td>\n",
       "    </tr>\n",
       "    <tr>\n",
       "      <th>1065</th>\n",
       "      <td>Ronald Jett</td>\n",
       "      <td>male</td>\n",
       "      <td>group D</td>\n",
       "      <td>high school</td>\n",
       "      <td>free/reduced</td>\n",
       "      <td>none</td>\n",
       "      <td>42.0</td>\n",
       "      <td>39.0</td>\n",
       "      <td>34.0</td>\n",
       "      <td>R</td>\n",
       "    </tr>\n",
       "    <tr>\n",
       "      <th>1068</th>\n",
       "      <td>Hazel Posey</td>\n",
       "      <td>female</td>\n",
       "      <td>group B</td>\n",
       "      <td>some high school</td>\n",
       "      <td>free/reduced</td>\n",
       "      <td>none</td>\n",
       "      <td>24.0</td>\n",
       "      <td>38.0</td>\n",
       "      <td>27.0</td>\n",
       "      <td>R</td>\n",
       "    </tr>\n",
       "    <tr>\n",
       "      <th>1195</th>\n",
       "      <td>Lorena Reed</td>\n",
       "      <td>female</td>\n",
       "      <td>group C</td>\n",
       "      <td>high school</td>\n",
       "      <td>free/reduced</td>\n",
       "      <td>none</td>\n",
       "      <td>36.0</td>\n",
       "      <td>53.0</td>\n",
       "      <td>43.0</td>\n",
       "      <td>R</td>\n",
       "    </tr>\n",
       "  </tbody>\n",
       "</table>\n",
       "</div>"
      ],
      "text/plain": [
       "                  names  gender race/ethnicity parental level of education  \\\n",
       "296   Lucille Stanphill  female        group C                 high school   \n",
       "564    Marcus Mcfarland    male        group C           bachelor's degree   \n",
       "637     Matthew Freeman    male        group B                 high school   \n",
       "640         Dana Mojica  female        group D                 high school   \n",
       "1054      Robert Strain    male        group C          associate's degree   \n",
       "1065        Ronald Jett    male        group D                 high school   \n",
       "1068        Hazel Posey  female        group B            some high school   \n",
       "1195        Lorena Reed  female        group C                 high school   \n",
       "\n",
       "             lunch test preparation course  math score  reading score  \\\n",
       "296       standard                    none        81.0           84.0   \n",
       "564       standard               completed        63.0           64.0   \n",
       "637       standard               completed        52.0           49.0   \n",
       "640   free/reduced                    none        39.0           52.0   \n",
       "1054  free/reduced                    none        55.0           61.0   \n",
       "1065  free/reduced                    none        42.0           39.0   \n",
       "1068  free/reduced                    none        24.0           38.0   \n",
       "1195  free/reduced                    none        36.0           53.0   \n",
       "\n",
       "      writing score   GPA  \n",
       "296            82.0  5.76  \n",
       "564            66.0   4.5  \n",
       "637            46.0     R  \n",
       "640            46.0     R  \n",
       "1054           54.0     R  \n",
       "1065           34.0     R  \n",
       "1068           27.0     R  \n",
       "1195           43.0     R  "
      ]
     },
     "execution_count": 14,
     "metadata": {},
     "output_type": "execute_result"
    }
   ],
   "source": [
    "def consulta_gpa(dataframe_in, lista_alumnos):\n",
    "    _, df, _ = reprobados_destacados(dataframe_in)\n",
    "    return df[df['names'].isin(lista_alumnos)].copy()\n",
    "\n",
    "lista_alumnos = [\n",
    "    \"Lucille Stanphill\",\n",
    "    \"Marcus Mcfarland\",\n",
    "    \"Matthew Freeman\",\n",
    "    \"Dana Mojica\",\n",
    "    \"Paul Hyder\",\n",
    "    \"Jeffrey Korn\",\n",
    "    \"Robert Strain\",\n",
    "    \"Ronald Jett\",\n",
    "    \"Lorena Reed\",\n",
    "    \"Hazel Posey\",\n",
    "]\n",
    "consulta_gpa(dataframe2, lista_alumnos)"
   ]
  },
  {
   "cell_type": "markdown",
   "metadata": {
    "cell_id": "00057-ce0783ee-ebbf-47e2-a857-88811fd99f73",
    "deepnote_cell_height": 62,
    "deepnote_cell_type": "markdown",
    "tags": []
   },
   "source": [
    "### 1.3.5 Quintiles de Rendimiento [0.5 Puntos]"
   ]
  },
  {
   "cell_type": "markdown",
   "metadata": {
    "cell_id": "00058-f22b06aa-362f-481f-a003-b9e5796120b0",
    "deepnote_cell_height": 237.125,
    "deepnote_cell_type": "markdown",
    "tags": []
   },
   "source": [
    "El rector, intrigado por saber si existe una relación entre el nivel educacional de los padres y las notas de sus hijos les plantea estudiar dicha relación. Para esto, les solicita que desde el `DataFrame` que posee a todos los alumnos (`DataFrame` obtenido tras la limpieza), generen una nueva columna que clasifique en quintiles de rendimiento para sus alumnos: `['Bajísimo', 'Bajo', 'Medio', 'Alto', 'Muy alto']`. (investigar `qcut()`)\n",
    "\n",
    "Hecho esto, grafique a través de un scatter plot el nivel educacional de los padres v/s el promedio de los alumnos, utilice los cuantiles generados anteriormente para mostrar en que cuantil se encuentra cada uno de los datos.\n",
    "\n",
    "Realizado el grafico, responda la siguiente pregunta: **¿Es posible visualizar alguna tendencia en el gráfico?.**\n",
    "\n"
   ]
  },
  {
   "cell_type": "markdown",
   "metadata": {
    "cell_id": "00059-9f08f4c4-c59b-443a-83c3-677c0e9be877",
    "deepnote_cell_height": 52.390625,
    "deepnote_cell_type": "markdown",
    "tags": []
   },
   "source": [
    "**Respuesta:**"
   ]
  },
  {
   "cell_type": "code",
   "execution_count": 15,
   "metadata": {
    "cell_id": "00061-795d8f8c-5718-4f38-adc1-4a1733bd3ccb",
    "deepnote_cell_height": 367,
    "deepnote_cell_type": "code",
    "deepnote_to_be_reexecuted": false,
    "execution_millis": 134,
    "execution_start": 1632493424819,
    "source_hash": "8fe13806",
    "tags": []
   },
   "outputs": [
    {
     "data": {
      "text/html": [
       "<div>\n",
       "<style scoped>\n",
       "    .dataframe tbody tr th:only-of-type {\n",
       "        vertical-align: middle;\n",
       "    }\n",
       "\n",
       "    .dataframe tbody tr th {\n",
       "        vertical-align: top;\n",
       "    }\n",
       "\n",
       "    .dataframe thead th {\n",
       "        text-align: right;\n",
       "    }\n",
       "</style>\n",
       "<table border=\"1\" class=\"dataframe\">\n",
       "  <thead>\n",
       "    <tr style=\"text-align: right;\">\n",
       "      <th></th>\n",
       "      <th>names</th>\n",
       "      <th>gender</th>\n",
       "      <th>race/ethnicity</th>\n",
       "      <th>parental level of education</th>\n",
       "      <th>lunch</th>\n",
       "      <th>test preparation course</th>\n",
       "      <th>math score</th>\n",
       "      <th>reading score</th>\n",
       "      <th>writing score</th>\n",
       "      <th>GPA</th>\n",
       "      <th>GPA cuantiles</th>\n",
       "    </tr>\n",
       "  </thead>\n",
       "  <tbody>\n",
       "    <tr>\n",
       "      <th>0</th>\n",
       "      <td>Rita Courtney</td>\n",
       "      <td>female</td>\n",
       "      <td>group B</td>\n",
       "      <td>some high school</td>\n",
       "      <td>standard</td>\n",
       "      <td>none</td>\n",
       "      <td>37.0</td>\n",
       "      <td>46.0</td>\n",
       "      <td>46.0</td>\n",
       "      <td>3.010000</td>\n",
       "      <td>Bajísimo</td>\n",
       "    </tr>\n",
       "    <tr>\n",
       "      <th>3</th>\n",
       "      <td>Charles Linstrom</td>\n",
       "      <td>male</td>\n",
       "      <td>group A</td>\n",
       "      <td>bachelor's degree</td>\n",
       "      <td>standard</td>\n",
       "      <td>completed</td>\n",
       "      <td>80.0</td>\n",
       "      <td>78.0</td>\n",
       "      <td>81.0</td>\n",
       "      <td>5.576667</td>\n",
       "      <td>Muy alto</td>\n",
       "    </tr>\n",
       "    <tr>\n",
       "      <th>5</th>\n",
       "      <td>Brian Young</td>\n",
       "      <td>male</td>\n",
       "      <td>group C</td>\n",
       "      <td>some high school</td>\n",
       "      <td>standard</td>\n",
       "      <td>none</td>\n",
       "      <td>73.0</td>\n",
       "      <td>66.0</td>\n",
       "      <td>63.0</td>\n",
       "      <td>4.713333</td>\n",
       "      <td>Medio</td>\n",
       "    </tr>\n",
       "    <tr>\n",
       "      <th>6</th>\n",
       "      <td>Howard Jimenez</td>\n",
       "      <td>male</td>\n",
       "      <td>group E</td>\n",
       "      <td>some high school</td>\n",
       "      <td>standard</td>\n",
       "      <td>completed</td>\n",
       "      <td>81.0</td>\n",
       "      <td>75.0</td>\n",
       "      <td>76.0</td>\n",
       "      <td>5.413333</td>\n",
       "      <td>Alto</td>\n",
       "    </tr>\n",
       "    <tr>\n",
       "      <th>7</th>\n",
       "      <td>Wayne Wilson</td>\n",
       "      <td>male</td>\n",
       "      <td>group B</td>\n",
       "      <td>some high school</td>\n",
       "      <td>standard</td>\n",
       "      <td>completed</td>\n",
       "      <td>94.0</td>\n",
       "      <td>86.0</td>\n",
       "      <td>87.0</td>\n",
       "      <td>6.230000</td>\n",
       "      <td>Muy alto</td>\n",
       "    </tr>\n",
       "    <tr>\n",
       "      <th>...</th>\n",
       "      <td>...</td>\n",
       "      <td>...</td>\n",
       "      <td>...</td>\n",
       "      <td>...</td>\n",
       "      <td>...</td>\n",
       "      <td>...</td>\n",
       "      <td>...</td>\n",
       "      <td>...</td>\n",
       "      <td>...</td>\n",
       "      <td>...</td>\n",
       "      <td>...</td>\n",
       "    </tr>\n",
       "    <tr>\n",
       "      <th>1392</th>\n",
       "      <td>Richard Young</td>\n",
       "      <td>male</td>\n",
       "      <td>group D</td>\n",
       "      <td>high school</td>\n",
       "      <td>standard</td>\n",
       "      <td>none</td>\n",
       "      <td>69.0</td>\n",
       "      <td>75.0</td>\n",
       "      <td>71.0</td>\n",
       "      <td>5.016667</td>\n",
       "      <td>Medio</td>\n",
       "    </tr>\n",
       "    <tr>\n",
       "      <th>1394</th>\n",
       "      <td>Wanda Russell</td>\n",
       "      <td>female</td>\n",
       "      <td>group B</td>\n",
       "      <td>high school</td>\n",
       "      <td>free/reduced</td>\n",
       "      <td>completed</td>\n",
       "      <td>23.0</td>\n",
       "      <td>44.0</td>\n",
       "      <td>36.0</td>\n",
       "      <td>2.403333</td>\n",
       "      <td>Bajísimo</td>\n",
       "    </tr>\n",
       "    <tr>\n",
       "      <th>1396</th>\n",
       "      <td>Marina Zeigler</td>\n",
       "      <td>female</td>\n",
       "      <td>group C</td>\n",
       "      <td>bachelor's degree</td>\n",
       "      <td>free/reduced</td>\n",
       "      <td>completed</td>\n",
       "      <td>66.0</td>\n",
       "      <td>74.0</td>\n",
       "      <td>81.0</td>\n",
       "      <td>5.156667</td>\n",
       "      <td>Alto</td>\n",
       "    </tr>\n",
       "    <tr>\n",
       "      <th>1397</th>\n",
       "      <td>Laurie Carter</td>\n",
       "      <td>female</td>\n",
       "      <td>group B</td>\n",
       "      <td>some high school</td>\n",
       "      <td>standard</td>\n",
       "      <td>completed</td>\n",
       "      <td>54.0</td>\n",
       "      <td>61.0</td>\n",
       "      <td>62.0</td>\n",
       "      <td>4.130000</td>\n",
       "      <td>Bajo</td>\n",
       "    </tr>\n",
       "    <tr>\n",
       "      <th>1399</th>\n",
       "      <td>Amanda Perez</td>\n",
       "      <td>female</td>\n",
       "      <td>group A</td>\n",
       "      <td>high school</td>\n",
       "      <td>standard</td>\n",
       "      <td>completed</td>\n",
       "      <td>68.0</td>\n",
       "      <td>80.0</td>\n",
       "      <td>76.0</td>\n",
       "      <td>5.226667</td>\n",
       "      <td>Alto</td>\n",
       "    </tr>\n",
       "  </tbody>\n",
       "</table>\n",
       "<p>875 rows × 11 columns</p>\n",
       "</div>"
      ],
      "text/plain": [
       "                 names  gender race/ethnicity parental level of education  \\\n",
       "0        Rita Courtney  female        group B            some high school   \n",
       "3     Charles Linstrom    male        group A           bachelor's degree   \n",
       "5          Brian Young    male        group C            some high school   \n",
       "6       Howard Jimenez    male        group E            some high school   \n",
       "7         Wayne Wilson    male        group B            some high school   \n",
       "...                ...     ...            ...                         ...   \n",
       "1392     Richard Young    male        group D                 high school   \n",
       "1394     Wanda Russell  female        group B                 high school   \n",
       "1396    Marina Zeigler  female        group C           bachelor's degree   \n",
       "1397     Laurie Carter  female        group B            some high school   \n",
       "1399      Amanda Perez  female        group A                 high school   \n",
       "\n",
       "             lunch test preparation course  math score  reading score  \\\n",
       "0         standard                    none        37.0           46.0   \n",
       "3         standard               completed        80.0           78.0   \n",
       "5         standard                    none        73.0           66.0   \n",
       "6         standard               completed        81.0           75.0   \n",
       "7         standard               completed        94.0           86.0   \n",
       "...            ...                     ...         ...            ...   \n",
       "1392      standard                    none        69.0           75.0   \n",
       "1394  free/reduced               completed        23.0           44.0   \n",
       "1396  free/reduced               completed        66.0           74.0   \n",
       "1397      standard               completed        54.0           61.0   \n",
       "1399      standard               completed        68.0           80.0   \n",
       "\n",
       "      writing score       GPA GPA cuantiles  \n",
       "0              46.0  3.010000      Bajísimo  \n",
       "3              81.0  5.576667      Muy alto  \n",
       "5              63.0  4.713333         Medio  \n",
       "6              76.0  5.413333          Alto  \n",
       "7              87.0  6.230000      Muy alto  \n",
       "...             ...       ...           ...  \n",
       "1392           71.0  5.016667         Medio  \n",
       "1394           36.0  2.403333      Bajísimo  \n",
       "1396           81.0  5.156667          Alto  \n",
       "1397           62.0  4.130000          Bajo  \n",
       "1399           76.0  5.226667          Alto  \n",
       "\n",
       "[875 rows x 11 columns]"
      ]
     },
     "metadata": {},
     "output_type": "display_data"
    },
    {
     "data": {
      "application/vnd.plotly.v1+json": {
       "config": {
        "plotlyServerURL": "https://plot.ly"
       },
       "data": [
        {
         "customdata": [
          [
           "female"
          ],
          [
           "female"
          ],
          [
           "male"
          ],
          [
           "male"
          ],
          [
           "male"
          ],
          [
           "female"
          ],
          [
           "female"
          ],
          [
           "female"
          ],
          [
           "female"
          ],
          [
           "male"
          ],
          [
           "male"
          ],
          [
           "female"
          ],
          [
           "female"
          ],
          [
           "female"
          ],
          [
           "male"
          ],
          [
           "female"
          ],
          [
           "female"
          ],
          [
           "male"
          ],
          [
           "female"
          ],
          [
           "male"
          ],
          [
           "male"
          ],
          [
           "male"
          ],
          [
           "female"
          ],
          [
           "male"
          ],
          [
           "male"
          ],
          [
           "male"
          ],
          [
           "male"
          ],
          [
           "female"
          ],
          [
           "male"
          ],
          [
           "female"
          ],
          [
           "male"
          ],
          [
           "female"
          ],
          [
           "female"
          ],
          [
           "female"
          ],
          [
           "male"
          ],
          [
           "female"
          ],
          [
           "male"
          ],
          [
           "male"
          ],
          [
           "female"
          ],
          [
           "female"
          ],
          [
           "male"
          ],
          [
           "male"
          ],
          [
           "male"
          ],
          [
           "female"
          ],
          [
           "female"
          ],
          [
           "male"
          ],
          [
           "male"
          ],
          [
           "male"
          ],
          [
           "female"
          ],
          [
           "male"
          ],
          [
           "male"
          ],
          [
           "female"
          ],
          [
           "male"
          ],
          [
           "male"
          ],
          [
           "male"
          ],
          [
           "male"
          ],
          [
           "male"
          ],
          [
           "male"
          ],
          [
           "male"
          ],
          [
           "female"
          ],
          [
           "male"
          ],
          [
           "male"
          ],
          [
           "male"
          ],
          [
           "male"
          ],
          [
           "male"
          ],
          [
           "male"
          ],
          [
           "male"
          ],
          [
           "male"
          ],
          [
           "male"
          ],
          [
           "male"
          ],
          [
           "female"
          ],
          [
           "male"
          ],
          [
           "female"
          ],
          [
           "male"
          ],
          [
           "male"
          ],
          [
           "male"
          ],
          [
           "female"
          ],
          [
           "male"
          ],
          [
           "male"
          ],
          [
           "female"
          ],
          [
           "male"
          ],
          [
           "male"
          ],
          [
           "male"
          ],
          [
           "female"
          ],
          [
           "male"
          ],
          [
           "male"
          ],
          [
           "female"
          ],
          [
           "female"
          ],
          [
           "female"
          ],
          [
           "male"
          ],
          [
           "male"
          ],
          [
           "female"
          ],
          [
           "male"
          ],
          [
           "female"
          ],
          [
           "male"
          ],
          [
           "male"
          ],
          [
           "male"
          ],
          [
           "male"
          ],
          [
           "male"
          ],
          [
           "female"
          ],
          [
           "male"
          ],
          [
           "female"
          ],
          [
           "female"
          ],
          [
           "male"
          ],
          [
           "male"
          ],
          [
           "female"
          ],
          [
           "female"
          ],
          [
           "male"
          ],
          [
           "male"
          ],
          [
           "male"
          ],
          [
           "male"
          ],
          [
           "female"
          ],
          [
           "male"
          ],
          [
           "male"
          ],
          [
           "male"
          ],
          [
           "female"
          ],
          [
           "female"
          ],
          [
           "male"
          ],
          [
           "female"
          ],
          [
           "male"
          ],
          [
           "female"
          ],
          [
           "male"
          ],
          [
           "male"
          ],
          [
           "female"
          ],
          [
           "male"
          ],
          [
           "female"
          ],
          [
           "male"
          ],
          [
           "male"
          ],
          [
           "female"
          ],
          [
           "male"
          ],
          [
           "female"
          ],
          [
           "female"
          ],
          [
           "female"
          ],
          [
           "male"
          ],
          [
           "female"
          ],
          [
           "female"
          ],
          [
           "male"
          ],
          [
           "female"
          ],
          [
           "female"
          ],
          [
           "female"
          ],
          [
           "male"
          ],
          [
           "male"
          ],
          [
           "female"
          ],
          [
           "male"
          ],
          [
           "female"
          ],
          [
           "male"
          ],
          [
           "male"
          ],
          [
           "female"
          ],
          [
           "male"
          ],
          [
           "female"
          ],
          [
           "female"
          ],
          [
           "female"
          ],
          [
           "male"
          ],
          [
           "male"
          ],
          [
           "female"
          ],
          [
           "male"
          ],
          [
           "female"
          ],
          [
           "male"
          ],
          [
           "male"
          ],
          [
           "female"
          ],
          [
           "male"
          ],
          [
           "male"
          ],
          [
           "male"
          ],
          [
           "female"
          ],
          [
           "male"
          ],
          [
           "male"
          ],
          [
           "female"
          ],
          [
           "female"
          ],
          [
           "male"
          ],
          [
           "male"
          ],
          [
           "male"
          ],
          [
           "male"
          ],
          [
           "female"
          ],
          [
           "male"
          ],
          [
           "female"
          ],
          [
           "male"
          ]
         ],
         "hovertemplate": "GPA cuantiles=Bajísimo<br>GPA=%{x}<br>parental level of education=%{y}<br>gender=%{customdata[0]}<extra></extra>",
         "legendgroup": "Bajísimo",
         "marker": {
          "color": "tomato",
          "symbol": "circle"
         },
         "mode": "markers",
         "name": "Bajísimo",
         "orientation": "h",
         "showlegend": true,
         "type": "scatter",
         "x": [
          0.41300000000000003,
          1.1097333333333335,
          1.6100000000000003,
          1.6333333333333335,
          1.8200000000000003,
          1.8200000000000003,
          2.0533333333333337,
          2.0766666666666667,
          2.0766666666666667,
          2.1,
          2.146666666666667,
          2.17,
          2.1933333333333334,
          2.216666666666667,
          2.2633333333333336,
          2.4033333333333338,
          2.4266666666666667,
          2.6133333333333337,
          2.6366666666666667,
          2.66,
          2.6833333333333336,
          2.706666666666667,
          2.7300000000000004,
          2.753333333333334,
          2.776666666666667,
          2.7766666666666673,
          2.8000000000000003,
          2.8466666666666667,
          2.846666666666667,
          2.87,
          2.87,
          2.8933333333333335,
          2.963333333333334,
          3.0100000000000007,
          3.0333333333333337,
          3.0333333333333337,
          3.0333333333333337,
          3.0333333333333337,
          3.08,
          3.0800000000000005,
          3.1033333333333335,
          3.1266666666666665,
          3.126666666666667,
          3.126666666666667,
          3.126666666666667,
          3.1500000000000004,
          3.173333333333334,
          3.173333333333334,
          3.196666666666667,
          3.2200000000000006,
          3.2200000000000006,
          3.2200000000000006,
          3.243333333333333,
          3.243333333333333,
          3.243333333333333,
          3.2433333333333336,
          3.2433333333333336,
          3.266666666666667,
          3.266666666666667,
          3.266666666666667,
          3.2666666666666675,
          3.29,
          3.3133333333333335,
          3.3133333333333335,
          3.336666666666667,
          3.336666666666667,
          3.3600000000000003,
          3.3600000000000003,
          3.3600000000000003,
          3.3600000000000003,
          3.3833333333333337,
          3.3833333333333337,
          3.3833333333333337,
          3.3833333333333337,
          3.4066666666666667,
          3.406666666666667,
          3.406666666666667,
          3.406666666666667,
          3.43,
          3.4300000000000006,
          3.4300000000000006,
          3.4300000000000006,
          3.453333333333333,
          3.453333333333333,
          3.4533333333333336,
          3.4766666666666675,
          3.5,
          3.5,
          3.5,
          3.5,
          3.5233333333333334,
          3.5233333333333334,
          3.5233333333333334,
          3.5233333333333334,
          3.5233333333333334,
          3.5233333333333334,
          3.523333333333334,
          3.546666666666667,
          3.546666666666667,
          3.546666666666667,
          3.5700000000000003,
          3.5700000000000003,
          3.5700000000000003,
          3.5700000000000003,
          3.5700000000000007,
          3.5933333333333337,
          3.5933333333333337,
          3.5933333333333337,
          3.5933333333333337,
          3.5933333333333337,
          3.5933333333333337,
          3.6166666666666667,
          3.616666666666667,
          3.616666666666667,
          3.616666666666667,
          3.616666666666667,
          3.616666666666667,
          3.616666666666667,
          3.616666666666667,
          3.616666666666667,
          3.6400000000000006,
          3.6400000000000006,
          3.6400000000000006,
          3.6400000000000006,
          3.6633333333333336,
          3.663333333333334,
          3.663333333333334,
          3.663333333333334,
          3.6866666666666665,
          3.6866666666666665,
          3.686666666666667,
          3.6866666666666674,
          3.6866666666666674,
          3.6866666666666674,
          3.6866666666666674,
          3.7100000000000004,
          3.710000000000001,
          3.7333333333333334,
          3.7333333333333334,
          3.7333333333333334,
          3.733333333333334,
          3.756666666666667,
          3.756666666666667,
          3.756666666666667,
          3.7566666666666673,
          3.7566666666666677,
          3.7800000000000002,
          3.7800000000000002,
          3.7800000000000002,
          3.7800000000000002,
          3.7800000000000002,
          3.8033333333333337,
          3.8033333333333337,
          3.8033333333333337,
          3.8033333333333337,
          3.826666666666667,
          3.826666666666667,
          3.826666666666667,
          3.826666666666667,
          3.826666666666667,
          3.826666666666667,
          3.826666666666667,
          3.826666666666667,
          3.8500000000000005,
          3.8500000000000005,
          3.8733333333333335,
          3.8733333333333335,
          3.873333333333334,
          3.873333333333334,
          3.873333333333334,
          3.8966666666666665,
          3.8966666666666665,
          3.896666666666667,
          3.8966666666666674,
          3.8966666666666674,
          3.8966666666666674
         ],
         "xaxis": "x",
         "y": [
          "some high school",
          "high school",
          "high school",
          "some college",
          "some high school",
          "some high school",
          "high school",
          "some high school",
          "some college",
          "some college",
          "high school",
          "some high school",
          "some college",
          "associate's degree",
          "high school",
          "high school",
          "some high school",
          "some high school",
          "some high school",
          "some college",
          "high school",
          "high school",
          "bachelor's degree",
          "some high school",
          "some high school",
          "associate's degree",
          "some college",
          "some college",
          "some college",
          "high school",
          "associate's degree",
          "some high school",
          "some high school",
          "some high school",
          "associate's degree",
          "high school",
          "some high school",
          "some high school",
          "some high school",
          "high school",
          "associate's degree",
          "high school",
          "master's degree",
          "high school",
          "some high school",
          "associate's degree",
          "associate's degree",
          "high school",
          "high school",
          "associate's degree",
          "associate's degree",
          "associate's degree",
          "high school",
          "some high school",
          "high school",
          "some college",
          "some college",
          "bachelor's degree",
          "high school",
          "associate's degree",
          "bachelor's degree",
          "high school",
          "some college",
          "some high school",
          "associate's degree",
          "high school",
          "high school",
          "associate's degree",
          "some high school",
          "high school",
          "some high school",
          "bachelor's degree",
          "high school",
          "some high school",
          "some high school",
          "some high school",
          "associate's degree",
          "some high school",
          "high school",
          "some high school",
          "high school",
          "high school",
          "associate's degree",
          "bachelor's degree",
          "associate's degree",
          "high school",
          "associate's degree",
          "some high school",
          "high school",
          "bachelor's degree",
          "high school",
          "bachelor's degree",
          "some college",
          "some college",
          "associate's degree",
          "some college",
          "some college",
          "some college",
          "some college",
          "master's degree",
          "some college",
          "some college",
          "master's degree",
          "some college",
          "some college",
          "some college",
          "some high school",
          "high school",
          "associate's degree",
          "high school",
          "master's degree",
          "associate's degree",
          "some high school",
          "high school",
          "associate's degree",
          "associate's degree",
          "master's degree",
          "high school",
          "some high school",
          "associate's degree",
          "some high school",
          "high school",
          "associate's degree",
          "associate's degree",
          "some high school",
          "high school",
          "some college",
          "some college",
          "high school",
          "high school",
          "high school",
          "associate's degree",
          "some high school",
          "high school",
          "high school",
          "associate's degree",
          "associate's degree",
          "associate's degree",
          "associate's degree",
          "some high school",
          "some high school",
          "high school",
          "associate's degree",
          "bachelor's degree",
          "associate's degree",
          "high school",
          "some high school",
          "some college",
          "high school",
          "some high school",
          "associate's degree",
          "high school",
          "master's degree",
          "some high school",
          "high school",
          "associate's degree",
          "high school",
          "some college",
          "bachelor's degree",
          "associate's degree",
          "some college",
          "high school",
          "high school",
          "high school",
          "some college",
          "associate's degree",
          "some high school",
          "bachelor's degree",
          "bachelor's degree",
          "high school",
          "associate's degree",
          "high school",
          "high school",
          "bachelor's degree",
          "associate's degree",
          "associate's degree"
         ],
         "yaxis": "y"
        },
        {
         "customdata": [
          [
           "male"
          ],
          [
           "female"
          ],
          [
           "male"
          ],
          [
           "male"
          ],
          [
           "female"
          ],
          [
           "female"
          ],
          [
           "female"
          ],
          [
           "male"
          ],
          [
           "male"
          ],
          [
           "female"
          ],
          [
           "female"
          ],
          [
           "female"
          ],
          [
           "male"
          ],
          [
           "female"
          ],
          [
           "female"
          ],
          [
           "male"
          ],
          [
           "female"
          ],
          [
           "female"
          ],
          [
           "male"
          ],
          [
           "male"
          ],
          [
           "male"
          ],
          [
           "female"
          ],
          [
           "male"
          ],
          [
           "male"
          ],
          [
           "male"
          ],
          [
           "female"
          ],
          [
           "male"
          ],
          [
           "male"
          ],
          [
           "male"
          ],
          [
           "male"
          ],
          [
           "male"
          ],
          [
           "female"
          ],
          [
           "female"
          ],
          [
           "male"
          ],
          [
           "female"
          ],
          [
           "male"
          ],
          [
           "male"
          ],
          [
           "female"
          ],
          [
           "male"
          ],
          [
           "male"
          ],
          [
           "male"
          ],
          [
           "male"
          ],
          [
           "female"
          ],
          [
           "male"
          ],
          [
           "male"
          ],
          [
           "male"
          ],
          [
           "male"
          ],
          [
           "female"
          ],
          [
           "male"
          ],
          [
           "female"
          ],
          [
           "female"
          ],
          [
           "female"
          ],
          [
           "female"
          ],
          [
           "female"
          ],
          [
           "female"
          ],
          [
           "male"
          ],
          [
           "male"
          ],
          [
           "male"
          ],
          [
           "male"
          ],
          [
           "female"
          ],
          [
           "male"
          ],
          [
           "male"
          ],
          [
           "female"
          ],
          [
           "male"
          ],
          [
           "female"
          ],
          [
           "female"
          ],
          [
           "female"
          ],
          [
           "female"
          ],
          [
           "female"
          ],
          [
           "male"
          ],
          [
           "male"
          ],
          [
           "female"
          ],
          [
           "female"
          ],
          [
           "female"
          ],
          [
           "male"
          ],
          [
           "male"
          ],
          [
           "male"
          ],
          [
           "male"
          ],
          [
           "male"
          ],
          [
           "female"
          ],
          [
           "male"
          ],
          [
           "female"
          ],
          [
           "male"
          ],
          [
           "female"
          ],
          [
           "male"
          ],
          [
           "male"
          ],
          [
           "female"
          ],
          [
           "male"
          ],
          [
           "male"
          ],
          [
           "male"
          ],
          [
           "female"
          ],
          [
           "male"
          ],
          [
           "male"
          ],
          [
           "male"
          ],
          [
           "female"
          ],
          [
           "female"
          ],
          [
           "male"
          ],
          [
           "male"
          ],
          [
           "male"
          ],
          [
           "male"
          ],
          [
           "male"
          ],
          [
           "female"
          ],
          [
           "male"
          ],
          [
           "female"
          ],
          [
           "male"
          ],
          [
           "female"
          ],
          [
           "male"
          ],
          [
           "female"
          ],
          [
           "male"
          ],
          [
           "male"
          ],
          [
           "female"
          ],
          [
           "female"
          ],
          [
           "female"
          ],
          [
           "female"
          ],
          [
           "female"
          ],
          [
           "male"
          ],
          [
           "female"
          ],
          [
           "male"
          ],
          [
           "male"
          ],
          [
           "female"
          ],
          [
           "male"
          ],
          [
           "male"
          ],
          [
           "male"
          ],
          [
           "female"
          ],
          [
           "female"
          ],
          [
           "female"
          ],
          [
           "male"
          ],
          [
           "male"
          ],
          [
           "male"
          ],
          [
           "female"
          ],
          [
           "female"
          ],
          [
           "female"
          ],
          [
           "male"
          ],
          [
           "male"
          ],
          [
           "male"
          ],
          [
           "male"
          ],
          [
           "female"
          ],
          [
           "male"
          ],
          [
           "female"
          ],
          [
           "female"
          ],
          [
           "male"
          ],
          [
           "male"
          ],
          [
           "female"
          ],
          [
           "female"
          ],
          [
           "female"
          ],
          [
           "male"
          ],
          [
           "male"
          ],
          [
           "male"
          ],
          [
           "male"
          ],
          [
           "male"
          ],
          [
           "female"
          ],
          [
           "female"
          ],
          [
           "male"
          ],
          [
           "male"
          ],
          [
           "female"
          ],
          [
           "female"
          ],
          [
           "male"
          ],
          [
           "male"
          ],
          [
           "female"
          ],
          [
           "male"
          ],
          [
           "male"
          ],
          [
           "female"
          ],
          [
           "male"
          ],
          [
           "female"
          ],
          [
           "female"
          ],
          [
           "female"
          ],
          [
           "female"
          ],
          [
           "female"
          ],
          [
           "male"
          ],
          [
           "female"
          ],
          [
           "female"
          ],
          [
           "female"
          ],
          [
           "male"
          ],
          [
           "male"
          ],
          [
           "female"
          ],
          [
           "female"
          ],
          [
           "male"
          ]
         ],
         "hovertemplate": "GPA cuantiles=Bajo<br>GPA=%{x}<br>parental level of education=%{y}<br>gender=%{customdata[0]}<extra></extra>",
         "legendgroup": "Bajo",
         "marker": {
          "color": "orange",
          "symbol": "circle"
         },
         "mode": "markers",
         "name": "Bajo",
         "orientation": "h",
         "showlegend": true,
         "type": "scatter",
         "x": [
          3.92,
          3.92,
          3.92,
          3.9200000000000004,
          3.9200000000000004,
          3.9200000000000004,
          3.920000000000001,
          3.920000000000001,
          3.920000000000001,
          3.9433333333333334,
          3.9433333333333334,
          3.9433333333333334,
          3.9433333333333334,
          3.943333333333334,
          3.966666666666667,
          3.966666666666667,
          3.9666666666666677,
          3.99,
          3.99,
          3.9900000000000007,
          3.990000000000001,
          4.013333333333334,
          4.013333333333334,
          4.013333333333334,
          4.013333333333334,
          4.013333333333334,
          4.013333333333334,
          4.013333333333334,
          4.013333333333334,
          4.036666666666667,
          4.036666666666667,
          4.036666666666667,
          4.036666666666667,
          4.036666666666667,
          4.036666666666668,
          4.0600000000000005,
          4.0600000000000005,
          4.083333333333334,
          4.083333333333334,
          4.083333333333334,
          4.083333333333334,
          4.083333333333334,
          4.083333333333334,
          4.083333333333334,
          4.1066666666666665,
          4.106666666666667,
          4.106666666666667,
          4.106666666666667,
          4.106666666666667,
          4.106666666666667,
          4.106666666666667,
          4.106666666666667,
          4.106666666666667,
          4.13,
          4.13,
          4.130000000000001,
          4.130000000000001,
          4.130000000000001,
          4.130000000000001,
          4.130000000000001,
          4.130000000000001,
          4.153333333333333,
          4.153333333333334,
          4.153333333333334,
          4.153333333333334,
          4.176666666666667,
          4.176666666666667,
          4.176666666666668,
          4.176666666666668,
          4.2,
          4.2,
          4.2,
          4.2,
          4.2,
          4.200000000000001,
          4.200000000000001,
          4.223333333333334,
          4.223333333333334,
          4.223333333333334,
          4.2233333333333345,
          4.2233333333333345,
          4.246666666666667,
          4.246666666666667,
          4.246666666666667,
          4.246666666666667,
          4.246666666666667,
          4.246666666666667,
          4.246666666666668,
          4.2700000000000005,
          4.2700000000000005,
          4.2700000000000005,
          4.2700000000000005,
          4.2700000000000005,
          4.293333333333333,
          4.293333333333333,
          4.293333333333334,
          4.293333333333334,
          4.293333333333334,
          4.293333333333334,
          4.293333333333334,
          4.316666666666666,
          4.316666666666666,
          4.316666666666667,
          4.316666666666667,
          4.316666666666667,
          4.316666666666667,
          4.316666666666667,
          4.34,
          4.34,
          4.34,
          4.34,
          4.34,
          4.340000000000001,
          4.363333333333334,
          4.363333333333334,
          4.363333333333334,
          4.363333333333334,
          4.363333333333334,
          4.363333333333334,
          4.363333333333334,
          4.386666666666667,
          4.386666666666668,
          4.386666666666668,
          4.41,
          4.41,
          4.41,
          4.41,
          4.410000000000001,
          4.410000000000001,
          4.433333333333334,
          4.433333333333334,
          4.4333333333333345,
          4.4333333333333345,
          4.456666666666667,
          4.456666666666667,
          4.456666666666667,
          4.456666666666667,
          4.456666666666668,
          4.456666666666668,
          4.48,
          4.48,
          4.48,
          4.48,
          4.48,
          4.48,
          4.48,
          4.48,
          4.48,
          4.503333333333333,
          4.503333333333334,
          4.503333333333334,
          4.503333333333334,
          4.503333333333334,
          4.503333333333334,
          4.503333333333334,
          4.503333333333334,
          4.503333333333334,
          4.503333333333334,
          4.526666666666666,
          4.526666666666667,
          4.526666666666667,
          4.526666666666667,
          4.526666666666667,
          4.526666666666667,
          4.526666666666667,
          4.526666666666667,
          4.526666666666667,
          4.526666666666667,
          4.526666666666667,
          4.550000000000001,
          4.550000000000001,
          4.550000000000001,
          4.550000000000001,
          4.550000000000001,
          4.550000000000001,
          4.550000000000001,
          4.550000000000001
         ],
         "xaxis": "x",
         "y": [
          "high school",
          "bachelor's degree",
          "bachelor's degree",
          "associate's degree",
          "some college",
          "associate's degree",
          "some college",
          "high school",
          "associate's degree",
          "some high school",
          "some college",
          "bachelor's degree",
          "some college",
          "bachelor's degree",
          "some high school",
          "associate's degree",
          "high school",
          "some college",
          "high school",
          "associate's degree",
          "high school",
          "master's degree",
          "associate's degree",
          "high school",
          "some college",
          "high school",
          "some college",
          "high school",
          "some high school",
          "some high school",
          "some high school",
          "some high school",
          "associate's degree",
          "some high school",
          "associate's degree",
          "some high school",
          "some high school",
          "some college",
          "some high school",
          "associate's degree",
          "some college",
          "some college",
          "bachelor's degree",
          "some college",
          "high school",
          "high school",
          "associate's degree",
          "associate's degree",
          "some high school",
          "some college",
          "some college",
          "some high school",
          "associate's degree",
          "some college",
          "master's degree",
          "associate's degree",
          "some college",
          "some college",
          "some high school",
          "some high school",
          "some high school",
          "some college",
          "some college",
          "associate's degree",
          "master's degree",
          "high school",
          "some high school",
          "bachelor's degree",
          "high school",
          "some high school",
          "some college",
          "high school",
          "some high school",
          "high school",
          "some college",
          "high school",
          "high school",
          "some college",
          "bachelor's degree",
          "bachelor's degree",
          "some college",
          "some high school",
          "some college",
          "master's degree",
          "bachelor's degree",
          "some college",
          "associate's degree",
          "some college",
          "some high school",
          "some college",
          "some college",
          "bachelor's degree",
          "master's degree",
          "associate's degree",
          "some college",
          "master's degree",
          "some college",
          "some college",
          "some high school",
          "bachelor's degree",
          "some high school",
          "master's degree",
          "high school",
          "some college",
          "associate's degree",
          "some college",
          "associate's degree",
          "associate's degree",
          "bachelor's degree",
          "some college",
          "high school",
          "some high school",
          "bachelor's degree",
          "high school",
          "some college",
          "some college",
          "high school",
          "high school",
          "some college",
          "some high school",
          "high school",
          "bachelor's degree",
          "high school",
          "high school",
          "some college",
          "master's degree",
          "associate's degree",
          "associate's degree",
          "some college",
          "master's degree",
          "high school",
          "associate's degree",
          "some high school",
          "high school",
          "some college",
          "some college",
          "high school",
          "associate's degree",
          "some college",
          "associate's degree",
          "bachelor's degree",
          "some high school",
          "some high school",
          "some college",
          "high school",
          "associate's degree",
          "high school",
          "some college",
          "associate's degree",
          "associate's degree",
          "master's degree",
          "high school",
          "bachelor's degree",
          "bachelor's degree",
          "associate's degree",
          "master's degree",
          "some high school",
          "some high school",
          "some college",
          "some high school",
          "associate's degree",
          "high school",
          "master's degree",
          "bachelor's degree",
          "associate's degree",
          "some college",
          "associate's degree",
          "associate's degree",
          "high school",
          "some college",
          "some college",
          "some college",
          "high school",
          "high school",
          "high school",
          "associate's degree",
          "some college"
         ],
         "yaxis": "y"
        },
        {
         "customdata": [
          [
           "male"
          ],
          [
           "male"
          ],
          [
           "female"
          ],
          [
           "male"
          ],
          [
           "female"
          ],
          [
           "female"
          ],
          [
           "male"
          ],
          [
           "male"
          ],
          [
           "female"
          ],
          [
           "female"
          ],
          [
           "male"
          ],
          [
           "female"
          ],
          [
           "female"
          ],
          [
           "female"
          ],
          [
           "male"
          ],
          [
           "male"
          ],
          [
           "male"
          ],
          [
           "male"
          ],
          [
           "male"
          ],
          [
           "female"
          ],
          [
           "female"
          ],
          [
           "female"
          ],
          [
           "female"
          ],
          [
           "female"
          ],
          [
           "female"
          ],
          [
           "male"
          ],
          [
           "female"
          ],
          [
           "male"
          ],
          [
           "female"
          ],
          [
           "male"
          ],
          [
           "male"
          ],
          [
           "female"
          ],
          [
           "female"
          ],
          [
           "female"
          ],
          [
           "female"
          ],
          [
           "female"
          ],
          [
           "female"
          ],
          [
           "male"
          ],
          [
           "male"
          ],
          [
           "female"
          ],
          [
           "male"
          ],
          [
           "female"
          ],
          [
           "female"
          ],
          [
           "female"
          ],
          [
           "male"
          ],
          [
           "male"
          ],
          [
           "male"
          ],
          [
           "male"
          ],
          [
           "female"
          ],
          [
           "male"
          ],
          [
           "male"
          ],
          [
           "female"
          ],
          [
           "female"
          ],
          [
           "female"
          ],
          [
           "male"
          ],
          [
           "male"
          ],
          [
           "female"
          ],
          [
           "female"
          ],
          [
           "male"
          ],
          [
           "male"
          ],
          [
           "female"
          ],
          [
           "male"
          ],
          [
           "male"
          ],
          [
           "male"
          ],
          [
           "male"
          ],
          [
           "female"
          ],
          [
           "male"
          ],
          [
           "female"
          ],
          [
           "female"
          ],
          [
           "male"
          ],
          [
           "female"
          ],
          [
           "male"
          ],
          [
           "male"
          ],
          [
           "male"
          ],
          [
           "male"
          ],
          [
           "male"
          ],
          [
           "female"
          ],
          [
           "male"
          ],
          [
           "female"
          ],
          [
           "male"
          ],
          [
           "male"
          ],
          [
           "male"
          ],
          [
           "male"
          ],
          [
           "female"
          ],
          [
           "female"
          ],
          [
           "female"
          ],
          [
           "male"
          ],
          [
           "male"
          ],
          [
           "female"
          ],
          [
           "female"
          ],
          [
           "male"
          ],
          [
           "female"
          ],
          [
           "female"
          ],
          [
           "male"
          ],
          [
           "female"
          ],
          [
           "female"
          ],
          [
           "male"
          ],
          [
           "female"
          ],
          [
           "male"
          ],
          [
           "female"
          ],
          [
           "female"
          ],
          [
           "female"
          ],
          [
           "male"
          ],
          [
           "male"
          ],
          [
           "male"
          ],
          [
           "male"
          ],
          [
           "female"
          ],
          [
           "male"
          ],
          [
           "female"
          ],
          [
           "female"
          ],
          [
           "female"
          ],
          [
           "female"
          ],
          [
           "female"
          ],
          [
           "male"
          ],
          [
           "male"
          ],
          [
           "male"
          ],
          [
           "male"
          ],
          [
           "male"
          ],
          [
           "male"
          ],
          [
           "female"
          ],
          [
           "female"
          ],
          [
           "male"
          ],
          [
           "female"
          ],
          [
           "female"
          ],
          [
           "male"
          ],
          [
           "female"
          ],
          [
           "male"
          ],
          [
           "male"
          ],
          [
           "female"
          ],
          [
           "male"
          ],
          [
           "female"
          ],
          [
           "female"
          ],
          [
           "female"
          ],
          [
           "female"
          ],
          [
           "male"
          ],
          [
           "female"
          ],
          [
           "female"
          ],
          [
           "male"
          ],
          [
           "male"
          ],
          [
           "female"
          ],
          [
           "female"
          ],
          [
           "female"
          ],
          [
           "female"
          ],
          [
           "female"
          ],
          [
           "female"
          ],
          [
           "female"
          ],
          [
           "male"
          ],
          [
           "male"
          ],
          [
           "male"
          ],
          [
           "male"
          ],
          [
           "male"
          ],
          [
           "female"
          ],
          [
           "male"
          ],
          [
           "male"
          ],
          [
           "female"
          ],
          [
           "female"
          ],
          [
           "female"
          ],
          [
           "male"
          ],
          [
           "female"
          ],
          [
           "female"
          ],
          [
           "male"
          ],
          [
           "female"
          ],
          [
           "female"
          ],
          [
           "male"
          ],
          [
           "female"
          ],
          [
           "male"
          ],
          [
           "male"
          ],
          [
           "male"
          ],
          [
           "male"
          ],
          [
           "female"
          ],
          [
           "male"
          ],
          [
           "female"
          ],
          [
           "male"
          ],
          [
           "female"
          ],
          [
           "female"
          ]
         ],
         "hovertemplate": "GPA cuantiles=Medio<br>GPA=%{x}<br>parental level of education=%{y}<br>gender=%{customdata[0]}<extra></extra>",
         "legendgroup": "Medio",
         "marker": {
          "color": "yellow",
          "symbol": "circle"
         },
         "mode": "markers",
         "name": "Medio",
         "orientation": "h",
         "showlegend": true,
         "type": "scatter",
         "x": [
          4.573333333333333,
          4.573333333333334,
          4.573333333333334,
          4.573333333333334,
          4.573333333333334,
          4.573333333333334,
          4.573333333333334,
          4.573333333333334,
          4.573333333333334,
          4.596666666666667,
          4.596666666666667,
          4.596666666666667,
          4.596666666666668,
          4.596666666666668,
          4.596666666666668,
          4.596666666666668,
          4.62,
          4.62,
          4.62,
          4.62,
          4.62,
          4.62,
          4.62,
          4.62,
          4.620000000000001,
          4.6433333333333335,
          4.6433333333333335,
          4.6433333333333335,
          4.643333333333334,
          4.643333333333334,
          4.666666666666667,
          4.666666666666667,
          4.666666666666667,
          4.666666666666667,
          4.666666666666667,
          4.666666666666668,
          4.666666666666668,
          4.69,
          4.69,
          4.69,
          4.69,
          4.69,
          4.69,
          4.690000000000001,
          4.690000000000001,
          4.713333333333333,
          4.713333333333334,
          4.713333333333334,
          4.713333333333334,
          4.736666666666667,
          4.736666666666667,
          4.736666666666667,
          4.736666666666667,
          4.736666666666667,
          4.736666666666667,
          4.736666666666667,
          4.76,
          4.760000000000001,
          4.760000000000001,
          4.760000000000001,
          4.760000000000001,
          4.760000000000001,
          4.760000000000001,
          4.760000000000001,
          4.760000000000001,
          4.760000000000001,
          4.760000000000001,
          4.760000000000001,
          4.783333333333333,
          4.783333333333333,
          4.783333333333333,
          4.783333333333334,
          4.783333333333334,
          4.783333333333334,
          4.783333333333334,
          4.783333333333334,
          4.783333333333334,
          4.783333333333334,
          4.806666666666667,
          4.806666666666667,
          4.806666666666667,
          4.806666666666667,
          4.806666666666667,
          4.8066666666666675,
          4.8066666666666675,
          4.8066666666666675,
          4.8066666666666675,
          4.8066666666666675,
          4.8066666666666675,
          4.8066666666666675,
          4.83,
          4.83,
          4.83,
          4.83,
          4.83,
          4.83,
          4.83,
          4.830000000000001,
          4.830000000000001,
          4.830000000000001,
          4.830000000000001,
          4.8533333333333335,
          4.8533333333333335,
          4.8533333333333335,
          4.8533333333333335,
          4.8533333333333335,
          4.8533333333333335,
          4.8533333333333335,
          4.8533333333333335,
          4.853333333333334,
          4.853333333333334,
          4.876666666666667,
          4.876666666666667,
          4.876666666666667,
          4.876666666666667,
          4.876666666666668,
          4.9,
          4.9,
          4.9,
          4.9,
          4.9,
          4.9,
          4.9,
          4.9,
          4.9,
          4.9,
          4.900000000000001,
          4.900000000000001,
          4.923333333333334,
          4.923333333333334,
          4.923333333333334,
          4.923333333333334,
          4.923333333333334,
          4.923333333333334,
          4.923333333333334,
          4.923333333333335,
          4.946666666666667,
          4.946666666666667,
          4.946666666666667,
          4.946666666666667,
          4.97,
          4.970000000000001,
          4.970000000000001,
          4.970000000000001,
          4.970000000000001,
          4.970000000000001,
          4.970000000000001,
          4.970000000000001,
          4.970000000000001,
          4.970000000000001,
          4.970000000000001,
          4.993333333333333,
          4.993333333333333,
          4.993333333333334,
          4.993333333333334,
          4.993333333333334,
          4.993333333333334,
          4.993333333333334,
          4.993333333333334,
          4.993333333333334,
          4.993333333333334,
          5.016666666666667,
          5.0166666666666675,
          5.0166666666666675,
          5.0166666666666675,
          5.0166666666666675,
          5.0166666666666675,
          5.0166666666666675,
          5.0166666666666675,
          5.04,
          5.04,
          5.04,
          5.04,
          5.04,
          5.04
         ],
         "xaxis": "x",
         "y": [
          "bachelor's degree",
          "bachelor's degree",
          "high school",
          "some high school",
          "some high school",
          "some college",
          "some college",
          "some high school",
          "some college",
          "high school",
          "some high school",
          "high school",
          "some college",
          "high school",
          "associate's degree",
          "some college",
          "high school",
          "high school",
          "some high school",
          "high school",
          "high school",
          "some high school",
          "bachelor's degree",
          "associate's degree",
          "associate's degree",
          "associate's degree",
          "associate's degree",
          "some high school",
          "high school",
          "bachelor's degree",
          "bachelor's degree",
          "some college",
          "associate's degree",
          "some high school",
          "associate's degree",
          "some college",
          "high school",
          "some college",
          "some college",
          "high school",
          "some high school",
          "high school",
          "some high school",
          "bachelor's degree",
          "some college",
          "some high school",
          "high school",
          "associate's degree",
          "bachelor's degree",
          "bachelor's degree",
          "high school",
          "bachelor's degree",
          "some high school",
          "high school",
          "bachelor's degree",
          "some college",
          "some high school",
          "some college",
          "high school",
          "bachelor's degree",
          "some college",
          "high school",
          "high school",
          "some high school",
          "bachelor's degree",
          "associate's degree",
          "high school",
          "associate's degree",
          "associate's degree",
          "some high school",
          "high school",
          "high school",
          "some high school",
          "master's degree",
          "high school",
          "associate's degree",
          "some college",
          "some college",
          "high school",
          "associate's degree",
          "high school",
          "associate's degree",
          "some college",
          "some high school",
          "associate's degree",
          "associate's degree",
          "associate's degree",
          "bachelor's degree",
          "some college",
          "some college",
          "high school",
          "associate's degree",
          "bachelor's degree",
          "associate's degree",
          "some college",
          "associate's degree",
          "associate's degree",
          "some high school",
          "some high school",
          "master's degree",
          "bachelor's degree",
          "associate's degree",
          "some college",
          "some high school",
          "some college",
          "some high school",
          "some college",
          "associate's degree",
          "high school",
          "high school",
          "bachelor's degree",
          "associate's degree",
          "associate's degree",
          "high school",
          "high school",
          "some high school",
          "high school",
          "high school",
          "some high school",
          "master's degree",
          "high school",
          "some college",
          "high school",
          "some high school",
          "some college",
          "some college",
          "bachelor's degree",
          "master's degree",
          "some college",
          "high school",
          "bachelor's degree",
          "bachelor's degree",
          "bachelor's degree",
          "associate's degree",
          "some college",
          "some high school",
          "master's degree",
          "bachelor's degree",
          "high school",
          "some college",
          "some college",
          "high school",
          "some college",
          "bachelor's degree",
          "some college",
          "high school",
          "some college",
          "associate's degree",
          "high school",
          "high school",
          "bachelor's degree",
          "associate's degree",
          "associate's degree",
          "associate's degree",
          "bachelor's degree",
          "bachelor's degree",
          "associate's degree",
          "associate's degree",
          "associate's degree",
          "some high school",
          "some high school",
          "some high school",
          "master's degree",
          "associate's degree",
          "some college",
          "high school",
          "high school",
          "high school",
          "some high school",
          "associate's degree",
          "bachelor's degree",
          "some high school",
          "some college",
          "associate's degree",
          "associate's degree"
         ],
         "yaxis": "y"
        },
        {
         "customdata": [
          [
           "female"
          ],
          [
           "male"
          ],
          [
           "female"
          ],
          [
           "female"
          ],
          [
           "female"
          ],
          [
           "male"
          ],
          [
           "female"
          ],
          [
           "female"
          ],
          [
           "female"
          ],
          [
           "female"
          ],
          [
           "female"
          ],
          [
           "male"
          ],
          [
           "male"
          ],
          [
           "female"
          ],
          [
           "female"
          ],
          [
           "female"
          ],
          [
           "female"
          ],
          [
           "female"
          ],
          [
           "male"
          ],
          [
           "female"
          ],
          [
           "male"
          ],
          [
           "female"
          ],
          [
           "male"
          ],
          [
           "male"
          ],
          [
           "female"
          ],
          [
           "female"
          ],
          [
           "male"
          ],
          [
           "female"
          ],
          [
           "female"
          ],
          [
           "male"
          ],
          [
           "female"
          ],
          [
           "male"
          ],
          [
           "male"
          ],
          [
           "female"
          ],
          [
           "male"
          ],
          [
           "male"
          ],
          [
           "male"
          ],
          [
           "male"
          ],
          [
           "male"
          ],
          [
           "female"
          ],
          [
           "female"
          ],
          [
           "male"
          ],
          [
           "male"
          ],
          [
           "female"
          ],
          [
           "female"
          ],
          [
           "male"
          ],
          [
           "female"
          ],
          [
           "male"
          ],
          [
           "female"
          ],
          [
           "female"
          ],
          [
           "female"
          ],
          [
           "female"
          ],
          [
           "female"
          ],
          [
           "female"
          ],
          [
           "female"
          ],
          [
           "female"
          ],
          [
           "female"
          ],
          [
           "female"
          ],
          [
           "female"
          ],
          [
           "male"
          ],
          [
           "male"
          ],
          [
           "female"
          ],
          [
           "female"
          ],
          [
           "male"
          ],
          [
           "female"
          ],
          [
           "female"
          ],
          [
           "male"
          ],
          [
           "female"
          ],
          [
           "female"
          ],
          [
           "male"
          ],
          [
           "male"
          ],
          [
           "male"
          ],
          [
           "male"
          ],
          [
           "female"
          ],
          [
           "female"
          ],
          [
           "female"
          ],
          [
           "male"
          ],
          [
           "female"
          ],
          [
           "male"
          ],
          [
           "female"
          ],
          [
           "female"
          ],
          [
           "male"
          ],
          [
           "female"
          ],
          [
           "female"
          ],
          [
           "female"
          ],
          [
           "male"
          ],
          [
           "female"
          ],
          [
           "female"
          ],
          [
           "female"
          ],
          [
           "female"
          ],
          [
           "male"
          ],
          [
           "female"
          ],
          [
           "female"
          ],
          [
           "female"
          ],
          [
           "female"
          ],
          [
           "male"
          ],
          [
           "female"
          ],
          [
           "male"
          ],
          [
           "male"
          ],
          [
           "female"
          ],
          [
           "male"
          ],
          [
           "male"
          ],
          [
           "female"
          ],
          [
           "female"
          ],
          [
           "female"
          ],
          [
           "male"
          ],
          [
           "male"
          ],
          [
           "female"
          ],
          [
           "male"
          ],
          [
           "female"
          ],
          [
           "female"
          ],
          [
           "male"
          ],
          [
           "female"
          ],
          [
           "female"
          ],
          [
           "female"
          ],
          [
           "female"
          ],
          [
           "female"
          ],
          [
           "female"
          ],
          [
           "male"
          ],
          [
           "female"
          ],
          [
           "female"
          ],
          [
           "female"
          ],
          [
           "female"
          ],
          [
           "male"
          ],
          [
           "female"
          ],
          [
           "male"
          ],
          [
           "male"
          ],
          [
           "female"
          ],
          [
           "female"
          ],
          [
           "female"
          ],
          [
           "male"
          ],
          [
           "male"
          ],
          [
           "male"
          ],
          [
           "male"
          ],
          [
           "male"
          ],
          [
           "female"
          ],
          [
           "male"
          ],
          [
           "male"
          ],
          [
           "female"
          ],
          [
           "female"
          ],
          [
           "female"
          ],
          [
           "male"
          ],
          [
           "female"
          ],
          [
           "female"
          ],
          [
           "female"
          ],
          [
           "male"
          ],
          [
           "female"
          ],
          [
           "female"
          ],
          [
           "female"
          ],
          [
           "female"
          ],
          [
           "female"
          ],
          [
           "male"
          ],
          [
           "female"
          ],
          [
           "female"
          ],
          [
           "female"
          ],
          [
           "male"
          ],
          [
           "female"
          ],
          [
           "male"
          ],
          [
           "male"
          ],
          [
           "female"
          ],
          [
           "male"
          ],
          [
           "female"
          ],
          [
           "female"
          ],
          [
           "female"
          ],
          [
           "male"
          ],
          [
           "male"
          ],
          [
           "female"
          ],
          [
           "male"
          ],
          [
           "male"
          ],
          [
           "female"
          ],
          [
           "female"
          ],
          [
           "male"
          ],
          [
           "male"
          ],
          [
           "male"
          ]
         ],
         "hovertemplate": "GPA cuantiles=Alto<br>GPA=%{x}<br>parental level of education=%{y}<br>gender=%{customdata[0]}<extra></extra>",
         "legendgroup": "Alto",
         "marker": {
          "color": "greenyellow",
          "symbol": "circle"
         },
         "mode": "markers",
         "name": "Alto",
         "orientation": "h",
         "showlegend": true,
         "type": "scatter",
         "x": [
          5.040000000000001,
          5.040000000000001,
          5.040000000000001,
          5.0633333333333335,
          5.0633333333333335,
          5.0633333333333335,
          5.063333333333334,
          5.063333333333334,
          5.063333333333334,
          5.086666666666667,
          5.086666666666667,
          5.086666666666667,
          5.086666666666667,
          5.086666666666667,
          5.086666666666668,
          5.086666666666668,
          5.086666666666668,
          5.086666666666668,
          5.11,
          5.11,
          5.11,
          5.11,
          5.11,
          5.11,
          5.11,
          5.11,
          5.110000000000001,
          5.110000000000001,
          5.110000000000001,
          5.110000000000001,
          5.133333333333334,
          5.133333333333334,
          5.133333333333334,
          5.133333333333334,
          5.133333333333334,
          5.133333333333334,
          5.133333333333334,
          5.133333333333335,
          5.133333333333335,
          5.156666666666667,
          5.156666666666667,
          5.156666666666667,
          5.156666666666667,
          5.156666666666667,
          5.180000000000001,
          5.180000000000001,
          5.180000000000001,
          5.180000000000001,
          5.180000000000001,
          5.180000000000001,
          5.203333333333333,
          5.203333333333333,
          5.203333333333333,
          5.203333333333334,
          5.203333333333334,
          5.203333333333334,
          5.203333333333334,
          5.203333333333334,
          5.203333333333334,
          5.203333333333334,
          5.226666666666667,
          5.2266666666666675,
          5.2266666666666675,
          5.2266666666666675,
          5.2266666666666675,
          5.2266666666666675,
          5.2266666666666675,
          5.25,
          5.25,
          5.250000000000001,
          5.250000000000001,
          5.250000000000001,
          5.250000000000001,
          5.250000000000001,
          5.250000000000001,
          5.250000000000001,
          5.273333333333333,
          5.273333333333333,
          5.273333333333334,
          5.273333333333334,
          5.273333333333334,
          5.273333333333334,
          5.296666666666667,
          5.296666666666667,
          5.296666666666667,
          5.296666666666667,
          5.296666666666668,
          5.296666666666668,
          5.296666666666668,
          5.296666666666668,
          5.296666666666668,
          5.32,
          5.32,
          5.32,
          5.32,
          5.32,
          5.32,
          5.32,
          5.32,
          5.320000000000001,
          5.343333333333334,
          5.343333333333334,
          5.343333333333334,
          5.343333333333334,
          5.343333333333334,
          5.343333333333334,
          5.366666666666667,
          5.366666666666667,
          5.366666666666667,
          5.366666666666667,
          5.390000000000001,
          5.390000000000001,
          5.390000000000001,
          5.390000000000001,
          5.390000000000001,
          5.390000000000001,
          5.413333333333333,
          5.413333333333334,
          5.413333333333334,
          5.413333333333334,
          5.413333333333334,
          5.413333333333334,
          5.413333333333334,
          5.413333333333334,
          5.413333333333334,
          5.413333333333334,
          5.413333333333334,
          5.436666666666667,
          5.436666666666667,
          5.436666666666667,
          5.436666666666667,
          5.46,
          5.46,
          5.46,
          5.460000000000001,
          5.460000000000001,
          5.460000000000001,
          5.460000000000001,
          5.460000000000001,
          5.483333333333333,
          5.483333333333333,
          5.483333333333333,
          5.483333333333333,
          5.483333333333333,
          5.483333333333334,
          5.483333333333334,
          5.483333333333334,
          5.506666666666667,
          5.506666666666667,
          5.506666666666667,
          5.506666666666667,
          5.506666666666667,
          5.506666666666668,
          5.506666666666668,
          5.53,
          5.53,
          5.53,
          5.53,
          5.530000000000001,
          5.530000000000001,
          5.530000000000001,
          5.553333333333334,
          5.553333333333334,
          5.553333333333334,
          5.553333333333334,
          5.553333333333334,
          5.553333333333334,
          5.553333333333334,
          5.553333333333335,
          5.576666666666667,
          5.576666666666667,
          5.576666666666667,
          5.576666666666667,
          5.576666666666667
         ],
         "xaxis": "x",
         "y": [
          "some high school",
          "some college",
          "associate's degree",
          "associate's degree",
          "some college",
          "high school",
          "some college",
          "associate's degree",
          "some college",
          "some high school",
          "some college",
          "master's degree",
          "some high school",
          "high school",
          "associate's degree",
          "some college",
          "bachelor's degree",
          "high school",
          "master's degree",
          "high school",
          "high school",
          "high school",
          "some college",
          "bachelor's degree",
          "bachelor's degree",
          "high school",
          "some high school",
          "bachelor's degree",
          "some high school",
          "some college",
          "some high school",
          "some high school",
          "associate's degree",
          "some high school",
          "some college",
          "master's degree",
          "some high school",
          "associate's degree",
          "some college",
          "bachelor's degree",
          "some college",
          "high school",
          "high school",
          "bachelor's degree",
          "some college",
          "bachelor's degree",
          "some high school",
          "bachelor's degree",
          "some high school",
          "some college",
          "high school",
          "associate's degree",
          "some college",
          "some college",
          "some college",
          "some college",
          "some college",
          "some college",
          "some college",
          "associate's degree",
          "some college",
          "some high school",
          "high school",
          "associate's degree",
          "high school",
          "high school",
          "associate's degree",
          "some high school",
          "some high school",
          "bachelor's degree",
          "associate's degree",
          "bachelor's degree",
          "associate's degree",
          "associate's degree",
          "associate's degree",
          "bachelor's degree",
          "high school",
          "associate's degree",
          "associate's degree",
          "some college",
          "high school",
          "some college",
          "some college",
          "associate's degree",
          "associate's degree",
          "some college",
          "high school",
          "some college",
          "master's degree",
          "bachelor's degree",
          "high school",
          "some high school",
          "some high school",
          "associate's degree",
          "some college",
          "some college",
          "some high school",
          "bachelor's degree",
          "associate's degree",
          "high school",
          "some high school",
          "some college",
          "high school",
          "associate's degree",
          "some college",
          "some high school",
          "associate's degree",
          "bachelor's degree",
          "some high school",
          "high school",
          "some high school",
          "some college",
          "some high school",
          "some college",
          "some high school",
          "some high school",
          "bachelor's degree",
          "associate's degree",
          "some high school",
          "some college",
          "associate's degree",
          "associate's degree",
          "associate's degree",
          "associate's degree",
          "some high school",
          "associate's degree",
          "associate's degree",
          "associate's degree",
          "some college",
          "bachelor's degree",
          "associate's degree",
          "bachelor's degree",
          "some high school",
          "associate's degree",
          "high school",
          "associate's degree",
          "master's degree",
          "associate's degree",
          "some college",
          "some college",
          "master's degree",
          "high school",
          "some college",
          "some college",
          "associate's degree",
          "high school",
          "high school",
          "bachelor's degree",
          "high school",
          "bachelor's degree",
          "some college",
          "some college",
          "some high school",
          "some high school",
          "associate's degree",
          "some high school",
          "some college",
          "associate's degree",
          "some high school",
          "associate's degree",
          "high school",
          "associate's degree",
          "associate's degree",
          "master's degree",
          "some high school",
          "master's degree",
          "some high school",
          "some college",
          "high school",
          "bachelor's degree",
          "bachelor's degree",
          "some college",
          "bachelor's degree",
          "associate's degree"
         ],
         "yaxis": "y"
        },
        {
         "customdata": [
          [
           "male"
          ],
          [
           "female"
          ],
          [
           "female"
          ],
          [
           "female"
          ],
          [
           "female"
          ],
          [
           "male"
          ],
          [
           "male"
          ],
          [
           "male"
          ],
          [
           "male"
          ],
          [
           "male"
          ],
          [
           "male"
          ],
          [
           "male"
          ],
          [
           "female"
          ],
          [
           "female"
          ],
          [
           "female"
          ],
          [
           "male"
          ],
          [
           "male"
          ],
          [
           "female"
          ],
          [
           "male"
          ],
          [
           "female"
          ],
          [
           "male"
          ],
          [
           "male"
          ],
          [
           "male"
          ],
          [
           "male"
          ],
          [
           "male"
          ],
          [
           "male"
          ],
          [
           "female"
          ],
          [
           "male"
          ],
          [
           "male"
          ],
          [
           "female"
          ],
          [
           "female"
          ],
          [
           "female"
          ],
          [
           "female"
          ],
          [
           "female"
          ],
          [
           "male"
          ],
          [
           "male"
          ],
          [
           "male"
          ],
          [
           "female"
          ],
          [
           "male"
          ],
          [
           "female"
          ],
          [
           "male"
          ],
          [
           "female"
          ],
          [
           "female"
          ],
          [
           "male"
          ],
          [
           "female"
          ],
          [
           "female"
          ],
          [
           "male"
          ],
          [
           "male"
          ],
          [
           "female"
          ],
          [
           "female"
          ],
          [
           "male"
          ],
          [
           "male"
          ],
          [
           "female"
          ],
          [
           "female"
          ],
          [
           "female"
          ],
          [
           "male"
          ],
          [
           "male"
          ],
          [
           "female"
          ],
          [
           "male"
          ],
          [
           "male"
          ],
          [
           "female"
          ],
          [
           "male"
          ],
          [
           "male"
          ],
          [
           "female"
          ],
          [
           "female"
          ],
          [
           "male"
          ],
          [
           "female"
          ],
          [
           "female"
          ],
          [
           "female"
          ],
          [
           "female"
          ],
          [
           "female"
          ],
          [
           "female"
          ],
          [
           "male"
          ],
          [
           "male"
          ],
          [
           "male"
          ],
          [
           "male"
          ],
          [
           "female"
          ],
          [
           "female"
          ],
          [
           "male"
          ],
          [
           "female"
          ],
          [
           "female"
          ],
          [
           "male"
          ],
          [
           "male"
          ],
          [
           "female"
          ],
          [
           "female"
          ],
          [
           "female"
          ],
          [
           "male"
          ],
          [
           "male"
          ],
          [
           "female"
          ],
          [
           "male"
          ],
          [
           "male"
          ],
          [
           "female"
          ],
          [
           "male"
          ],
          [
           "female"
          ],
          [
           "female"
          ],
          [
           "male"
          ],
          [
           "female"
          ],
          [
           "female"
          ],
          [
           "male"
          ],
          [
           "female"
          ],
          [
           "male"
          ],
          [
           "female"
          ],
          [
           "male"
          ],
          [
           "male"
          ],
          [
           "female"
          ],
          [
           "male"
          ],
          [
           "male"
          ],
          [
           "female"
          ],
          [
           "female"
          ],
          [
           "male"
          ],
          [
           "female"
          ],
          [
           "female"
          ],
          [
           "female"
          ],
          [
           "female"
          ],
          [
           "male"
          ],
          [
           "female"
          ],
          [
           "female"
          ],
          [
           "female"
          ],
          [
           "male"
          ],
          [
           "male"
          ],
          [
           "female"
          ],
          [
           "male"
          ],
          [
           "male"
          ],
          [
           "female"
          ],
          [
           "female"
          ],
          [
           "female"
          ],
          [
           "female"
          ],
          [
           "female"
          ],
          [
           "female"
          ],
          [
           "female"
          ],
          [
           "female"
          ],
          [
           "female"
          ],
          [
           "female"
          ],
          [
           "male"
          ],
          [
           "female"
          ],
          [
           "male"
          ],
          [
           "female"
          ],
          [
           "male"
          ],
          [
           "female"
          ],
          [
           "male"
          ],
          [
           "female"
          ],
          [
           "female"
          ],
          [
           "female"
          ],
          [
           "female"
          ],
          [
           "male"
          ],
          [
           "male"
          ],
          [
           "female"
          ],
          [
           "female"
          ],
          [
           "female"
          ],
          [
           "male"
          ],
          [
           "male"
          ],
          [
           "female"
          ],
          [
           "female"
          ],
          [
           "male"
          ],
          [
           "female"
          ],
          [
           "female"
          ],
          [
           "female"
          ],
          [
           "female"
          ],
          [
           "female"
          ],
          [
           "female"
          ],
          [
           "female"
          ],
          [
           "female"
          ],
          [
           "female"
          ],
          [
           "male"
          ],
          [
           "female"
          ],
          [
           "male"
          ],
          [
           "female"
          ],
          [
           "female"
          ],
          [
           "female"
          ],
          [
           "female"
          ],
          [
           "female"
          ],
          [
           "female"
          ],
          [
           "male"
          ]
         ],
         "hovertemplate": "GPA cuantiles=Muy alto<br>GPA=%{x}<br>parental level of education=%{y}<br>gender=%{customdata[0]}<extra></extra>",
         "legendgroup": "Muy alto",
         "marker": {
          "color": "green",
          "symbol": "circle"
         },
         "mode": "markers",
         "name": "Muy alto",
         "orientation": "h",
         "showlegend": true,
         "type": "scatter",
         "x": [
          5.576666666666668,
          5.6000000000000005,
          5.6000000000000005,
          5.6000000000000005,
          5.623333333333333,
          5.623333333333334,
          5.623333333333334,
          5.623333333333334,
          5.623333333333334,
          5.623333333333334,
          5.623333333333334,
          5.6466666666666665,
          5.6466666666666665,
          5.6466666666666665,
          5.646666666666667,
          5.646666666666667,
          5.646666666666667,
          5.646666666666667,
          5.67,
          5.693333333333333,
          5.693333333333333,
          5.693333333333333,
          5.693333333333334,
          5.716666666666667,
          5.716666666666667,
          5.716666666666668,
          5.74,
          5.740000000000001,
          5.763333333333334,
          5.763333333333334,
          5.763333333333334,
          5.763333333333334,
          5.763333333333334,
          5.763333333333334,
          5.763333333333334,
          5.763333333333334,
          5.763333333333334,
          5.763333333333334,
          5.7633333333333345,
          5.786666666666667,
          5.786666666666667,
          5.786666666666667,
          5.786666666666667,
          5.786666666666667,
          5.8100000000000005,
          5.8100000000000005,
          5.8100000000000005,
          5.8100000000000005,
          5.8100000000000005,
          5.8100000000000005,
          5.8100000000000005,
          5.8100000000000005,
          5.8100000000000005,
          5.833333333333334,
          5.833333333333334,
          5.833333333333334,
          5.833333333333334,
          5.833333333333334,
          5.856666666666667,
          5.856666666666667,
          5.88,
          5.88,
          5.880000000000001,
          5.880000000000001,
          5.880000000000001,
          5.880000000000001,
          5.880000000000001,
          5.880000000000001,
          5.903333333333333,
          5.903333333333334,
          5.926666666666667,
          5.926666666666668,
          5.95,
          5.95,
          5.95,
          5.950000000000001,
          5.973333333333334,
          5.973333333333334,
          5.973333333333334,
          5.996666666666666,
          5.996666666666666,
          5.996666666666667,
          5.996666666666668,
          5.996666666666668,
          5.996666666666668,
          6.02,
          6.02,
          6.0200000000000005,
          6.0200000000000005,
          6.043333333333333,
          6.043333333333334,
          6.043333333333334,
          6.043333333333335,
          6.066666666666666,
          6.066666666666666,
          6.066666666666667,
          6.09,
          6.090000000000001,
          6.090000000000001,
          6.090000000000001,
          6.090000000000001,
          6.113333333333333,
          6.113333333333333,
          6.113333333333334,
          6.113333333333334,
          6.136666666666667,
          6.136666666666667,
          6.16,
          6.16,
          6.183333333333334,
          6.183333333333334,
          6.183333333333334,
          6.183333333333334,
          6.1833333333333345,
          6.206666666666667,
          6.206666666666667,
          6.206666666666667,
          6.206666666666667,
          6.206666666666667,
          6.23,
          6.23,
          6.23,
          6.230000000000001,
          6.253333333333334,
          6.253333333333334,
          6.253333333333334,
          6.253333333333334,
          6.276666666666667,
          6.276666666666667,
          6.300000000000001,
          6.323333333333334,
          6.323333333333334,
          6.323333333333334,
          6.346666666666668,
          6.370000000000001,
          6.393333333333333,
          6.393333333333334,
          6.416666666666666,
          6.416666666666666,
          6.416666666666667,
          6.416666666666667,
          6.416666666666667,
          6.440000000000001,
          6.463333333333333,
          6.486666666666666,
          6.486666666666666,
          6.486666666666666,
          6.533333333333333,
          6.533333333333333,
          6.556666666666667,
          6.58,
          6.58,
          6.58,
          6.580000000000001,
          6.696666666666667,
          6.720000000000001,
          6.743333333333334,
          6.743333333333334,
          6.7666666666666675,
          6.790000000000001,
          6.790000000000001,
          6.813333333333334,
          6.836666666666668,
          6.836666666666668,
          6.836666666666668,
          6.906666666666668,
          6.906666666666668,
          6.93,
          6.9300000000000015,
          6.976666666666667,
          7,
          7,
          7
         ],
         "xaxis": "x",
         "y": [
          "bachelor's degree",
          "high school",
          "some college",
          "high school",
          "some high school",
          "some college",
          "associate's degree",
          "high school",
          "some high school",
          "associate's degree",
          "some high school",
          "some college",
          "some high school",
          "bachelor's degree",
          "some high school",
          "some high school",
          "high school",
          "bachelor's degree",
          "associate's degree",
          "some high school",
          "associate's degree",
          "high school",
          "associate's degree",
          "associate's degree",
          "some college",
          "some high school",
          "bachelor's degree",
          "master's degree",
          "some high school",
          "some college",
          "some college",
          "high school",
          "associate's degree",
          "some college",
          "some high school",
          "some high school",
          "some college",
          "some college",
          "high school",
          "high school",
          "some high school",
          "some college",
          "high school",
          "high school",
          "associate's degree",
          "bachelor's degree",
          "some college",
          "associate's degree",
          "some college",
          "high school",
          "bachelor's degree",
          "bachelor's degree",
          "bachelor's degree",
          "high school",
          "some high school",
          "some high school",
          "some high school",
          "master's degree",
          "bachelor's degree",
          "some college",
          "some high school",
          "some college",
          "some college",
          "some high school",
          "some high school",
          "associate's degree",
          "bachelor's degree",
          "associate's degree",
          "associate's degree",
          "associate's degree",
          "some college",
          "some college",
          "master's degree",
          "associate's degree",
          "bachelor's degree",
          "high school",
          "some college",
          "some high school",
          "associate's degree",
          "bachelor's degree",
          "associate's degree",
          "some college",
          "some high school",
          "associate's degree",
          "some college",
          "associate's degree",
          "master's degree",
          "bachelor's degree",
          "some college",
          "some high school",
          "master's degree",
          "master's degree",
          "high school",
          "bachelor's degree",
          "some high school",
          "some high school",
          "associate's degree",
          "bachelor's degree",
          "associate's degree",
          "associate's degree",
          "master's degree",
          "some college",
          "associate's degree",
          "associate's degree",
          "associate's degree",
          "high school",
          "master's degree",
          "associate's degree",
          "master's degree",
          "bachelor's degree",
          "some college",
          "master's degree",
          "associate's degree",
          "bachelor's degree",
          "some college",
          "bachelor's degree",
          "some college",
          "associate's degree",
          "some college",
          "associate's degree",
          "some high school",
          "some college",
          "some high school",
          "associate's degree",
          "master's degree",
          "high school",
          "associate's degree",
          "some college",
          "associate's degree",
          "some high school",
          "associate's degree",
          "associate's degree",
          "bachelor's degree",
          "associate's degree",
          "associate's degree",
          "some college",
          "some high school",
          "associate's degree",
          "some college",
          "associate's degree",
          "some college",
          "associate's degree",
          "associate's degree",
          "some college",
          "bachelor's degree",
          "some college",
          "master's degree",
          "master's degree",
          "associate's degree",
          "associate's degree",
          "associate's degree",
          "high school",
          "master's degree",
          "some college",
          "high school",
          "associate's degree",
          "bachelor's degree",
          "some college",
          "bachelor's degree",
          "associate's degree",
          "bachelor's degree",
          "master's degree",
          "master's degree",
          "associate's degree",
          "bachelor's degree",
          "some college",
          "bachelor's degree",
          "some college",
          "some high school",
          "bachelor's degree",
          "associate's degree",
          "bachelor's degree",
          "bachelor's degree"
         ],
         "yaxis": "y"
        }
       ],
       "layout": {
        "legend": {
         "title": {
          "text": "GPA cuantiles"
         },
         "tracegroupgap": 0
        },
        "template": {
         "data": {
          "bar": [
           {
            "error_x": {
             "color": "#2a3f5f"
            },
            "error_y": {
             "color": "#2a3f5f"
            },
            "marker": {
             "line": {
              "color": "#E5ECF6",
              "width": 0.5
             },
             "pattern": {
              "fillmode": "overlay",
              "size": 10,
              "solidity": 0.2
             }
            },
            "type": "bar"
           }
          ],
          "barpolar": [
           {
            "marker": {
             "line": {
              "color": "#E5ECF6",
              "width": 0.5
             },
             "pattern": {
              "fillmode": "overlay",
              "size": 10,
              "solidity": 0.2
             }
            },
            "type": "barpolar"
           }
          ],
          "carpet": [
           {
            "aaxis": {
             "endlinecolor": "#2a3f5f",
             "gridcolor": "white",
             "linecolor": "white",
             "minorgridcolor": "white",
             "startlinecolor": "#2a3f5f"
            },
            "baxis": {
             "endlinecolor": "#2a3f5f",
             "gridcolor": "white",
             "linecolor": "white",
             "minorgridcolor": "white",
             "startlinecolor": "#2a3f5f"
            },
            "type": "carpet"
           }
          ],
          "choropleth": [
           {
            "colorbar": {
             "outlinewidth": 0,
             "ticks": ""
            },
            "type": "choropleth"
           }
          ],
          "contour": [
           {
            "colorbar": {
             "outlinewidth": 0,
             "ticks": ""
            },
            "colorscale": [
             [
              0,
              "#0d0887"
             ],
             [
              0.1111111111111111,
              "#46039f"
             ],
             [
              0.2222222222222222,
              "#7201a8"
             ],
             [
              0.3333333333333333,
              "#9c179e"
             ],
             [
              0.4444444444444444,
              "#bd3786"
             ],
             [
              0.5555555555555556,
              "#d8576b"
             ],
             [
              0.6666666666666666,
              "#ed7953"
             ],
             [
              0.7777777777777778,
              "#fb9f3a"
             ],
             [
              0.8888888888888888,
              "#fdca26"
             ],
             [
              1,
              "#f0f921"
             ]
            ],
            "type": "contour"
           }
          ],
          "contourcarpet": [
           {
            "colorbar": {
             "outlinewidth": 0,
             "ticks": ""
            },
            "type": "contourcarpet"
           }
          ],
          "heatmap": [
           {
            "colorbar": {
             "outlinewidth": 0,
             "ticks": ""
            },
            "colorscale": [
             [
              0,
              "#0d0887"
             ],
             [
              0.1111111111111111,
              "#46039f"
             ],
             [
              0.2222222222222222,
              "#7201a8"
             ],
             [
              0.3333333333333333,
              "#9c179e"
             ],
             [
              0.4444444444444444,
              "#bd3786"
             ],
             [
              0.5555555555555556,
              "#d8576b"
             ],
             [
              0.6666666666666666,
              "#ed7953"
             ],
             [
              0.7777777777777778,
              "#fb9f3a"
             ],
             [
              0.8888888888888888,
              "#fdca26"
             ],
             [
              1,
              "#f0f921"
             ]
            ],
            "type": "heatmap"
           }
          ],
          "heatmapgl": [
           {
            "colorbar": {
             "outlinewidth": 0,
             "ticks": ""
            },
            "colorscale": [
             [
              0,
              "#0d0887"
             ],
             [
              0.1111111111111111,
              "#46039f"
             ],
             [
              0.2222222222222222,
              "#7201a8"
             ],
             [
              0.3333333333333333,
              "#9c179e"
             ],
             [
              0.4444444444444444,
              "#bd3786"
             ],
             [
              0.5555555555555556,
              "#d8576b"
             ],
             [
              0.6666666666666666,
              "#ed7953"
             ],
             [
              0.7777777777777778,
              "#fb9f3a"
             ],
             [
              0.8888888888888888,
              "#fdca26"
             ],
             [
              1,
              "#f0f921"
             ]
            ],
            "type": "heatmapgl"
           }
          ],
          "histogram": [
           {
            "marker": {
             "pattern": {
              "fillmode": "overlay",
              "size": 10,
              "solidity": 0.2
             }
            },
            "type": "histogram"
           }
          ],
          "histogram2d": [
           {
            "colorbar": {
             "outlinewidth": 0,
             "ticks": ""
            },
            "colorscale": [
             [
              0,
              "#0d0887"
             ],
             [
              0.1111111111111111,
              "#46039f"
             ],
             [
              0.2222222222222222,
              "#7201a8"
             ],
             [
              0.3333333333333333,
              "#9c179e"
             ],
             [
              0.4444444444444444,
              "#bd3786"
             ],
             [
              0.5555555555555556,
              "#d8576b"
             ],
             [
              0.6666666666666666,
              "#ed7953"
             ],
             [
              0.7777777777777778,
              "#fb9f3a"
             ],
             [
              0.8888888888888888,
              "#fdca26"
             ],
             [
              1,
              "#f0f921"
             ]
            ],
            "type": "histogram2d"
           }
          ],
          "histogram2dcontour": [
           {
            "colorbar": {
             "outlinewidth": 0,
             "ticks": ""
            },
            "colorscale": [
             [
              0,
              "#0d0887"
             ],
             [
              0.1111111111111111,
              "#46039f"
             ],
             [
              0.2222222222222222,
              "#7201a8"
             ],
             [
              0.3333333333333333,
              "#9c179e"
             ],
             [
              0.4444444444444444,
              "#bd3786"
             ],
             [
              0.5555555555555556,
              "#d8576b"
             ],
             [
              0.6666666666666666,
              "#ed7953"
             ],
             [
              0.7777777777777778,
              "#fb9f3a"
             ],
             [
              0.8888888888888888,
              "#fdca26"
             ],
             [
              1,
              "#f0f921"
             ]
            ],
            "type": "histogram2dcontour"
           }
          ],
          "mesh3d": [
           {
            "colorbar": {
             "outlinewidth": 0,
             "ticks": ""
            },
            "type": "mesh3d"
           }
          ],
          "parcoords": [
           {
            "line": {
             "colorbar": {
              "outlinewidth": 0,
              "ticks": ""
             }
            },
            "type": "parcoords"
           }
          ],
          "pie": [
           {
            "automargin": true,
            "type": "pie"
           }
          ],
          "scatter": [
           {
            "fillpattern": {
             "fillmode": "overlay",
             "size": 10,
             "solidity": 0.2
            },
            "type": "scatter"
           }
          ],
          "scatter3d": [
           {
            "line": {
             "colorbar": {
              "outlinewidth": 0,
              "ticks": ""
             }
            },
            "marker": {
             "colorbar": {
              "outlinewidth": 0,
              "ticks": ""
             }
            },
            "type": "scatter3d"
           }
          ],
          "scattercarpet": [
           {
            "marker": {
             "colorbar": {
              "outlinewidth": 0,
              "ticks": ""
             }
            },
            "type": "scattercarpet"
           }
          ],
          "scattergeo": [
           {
            "marker": {
             "colorbar": {
              "outlinewidth": 0,
              "ticks": ""
             }
            },
            "type": "scattergeo"
           }
          ],
          "scattergl": [
           {
            "marker": {
             "colorbar": {
              "outlinewidth": 0,
              "ticks": ""
             }
            },
            "type": "scattergl"
           }
          ],
          "scattermapbox": [
           {
            "marker": {
             "colorbar": {
              "outlinewidth": 0,
              "ticks": ""
             }
            },
            "type": "scattermapbox"
           }
          ],
          "scatterpolar": [
           {
            "marker": {
             "colorbar": {
              "outlinewidth": 0,
              "ticks": ""
             }
            },
            "type": "scatterpolar"
           }
          ],
          "scatterpolargl": [
           {
            "marker": {
             "colorbar": {
              "outlinewidth": 0,
              "ticks": ""
             }
            },
            "type": "scatterpolargl"
           }
          ],
          "scatterternary": [
           {
            "marker": {
             "colorbar": {
              "outlinewidth": 0,
              "ticks": ""
             }
            },
            "type": "scatterternary"
           }
          ],
          "surface": [
           {
            "colorbar": {
             "outlinewidth": 0,
             "ticks": ""
            },
            "colorscale": [
             [
              0,
              "#0d0887"
             ],
             [
              0.1111111111111111,
              "#46039f"
             ],
             [
              0.2222222222222222,
              "#7201a8"
             ],
             [
              0.3333333333333333,
              "#9c179e"
             ],
             [
              0.4444444444444444,
              "#bd3786"
             ],
             [
              0.5555555555555556,
              "#d8576b"
             ],
             [
              0.6666666666666666,
              "#ed7953"
             ],
             [
              0.7777777777777778,
              "#fb9f3a"
             ],
             [
              0.8888888888888888,
              "#fdca26"
             ],
             [
              1,
              "#f0f921"
             ]
            ],
            "type": "surface"
           }
          ],
          "table": [
           {
            "cells": {
             "fill": {
              "color": "#EBF0F8"
             },
             "line": {
              "color": "white"
             }
            },
            "header": {
             "fill": {
              "color": "#C8D4E3"
             },
             "line": {
              "color": "white"
             }
            },
            "type": "table"
           }
          ]
         },
         "layout": {
          "annotationdefaults": {
           "arrowcolor": "#2a3f5f",
           "arrowhead": 0,
           "arrowwidth": 1
          },
          "autotypenumbers": "strict",
          "coloraxis": {
           "colorbar": {
            "outlinewidth": 0,
            "ticks": ""
           }
          },
          "colorscale": {
           "diverging": [
            [
             0,
             "#8e0152"
            ],
            [
             0.1,
             "#c51b7d"
            ],
            [
             0.2,
             "#de77ae"
            ],
            [
             0.3,
             "#f1b6da"
            ],
            [
             0.4,
             "#fde0ef"
            ],
            [
             0.5,
             "#f7f7f7"
            ],
            [
             0.6,
             "#e6f5d0"
            ],
            [
             0.7,
             "#b8e186"
            ],
            [
             0.8,
             "#7fbc41"
            ],
            [
             0.9,
             "#4d9221"
            ],
            [
             1,
             "#276419"
            ]
           ],
           "sequential": [
            [
             0,
             "#0d0887"
            ],
            [
             0.1111111111111111,
             "#46039f"
            ],
            [
             0.2222222222222222,
             "#7201a8"
            ],
            [
             0.3333333333333333,
             "#9c179e"
            ],
            [
             0.4444444444444444,
             "#bd3786"
            ],
            [
             0.5555555555555556,
             "#d8576b"
            ],
            [
             0.6666666666666666,
             "#ed7953"
            ],
            [
             0.7777777777777778,
             "#fb9f3a"
            ],
            [
             0.8888888888888888,
             "#fdca26"
            ],
            [
             1,
             "#f0f921"
            ]
           ],
           "sequentialminus": [
            [
             0,
             "#0d0887"
            ],
            [
             0.1111111111111111,
             "#46039f"
            ],
            [
             0.2222222222222222,
             "#7201a8"
            ],
            [
             0.3333333333333333,
             "#9c179e"
            ],
            [
             0.4444444444444444,
             "#bd3786"
            ],
            [
             0.5555555555555556,
             "#d8576b"
            ],
            [
             0.6666666666666666,
             "#ed7953"
            ],
            [
             0.7777777777777778,
             "#fb9f3a"
            ],
            [
             0.8888888888888888,
             "#fdca26"
            ],
            [
             1,
             "#f0f921"
            ]
           ]
          },
          "colorway": [
           "#636efa",
           "#EF553B",
           "#00cc96",
           "#ab63fa",
           "#FFA15A",
           "#19d3f3",
           "#FF6692",
           "#B6E880",
           "#FF97FF",
           "#FECB52"
          ],
          "font": {
           "color": "#2a3f5f"
          },
          "geo": {
           "bgcolor": "white",
           "lakecolor": "white",
           "landcolor": "#E5ECF6",
           "showlakes": true,
           "showland": true,
           "subunitcolor": "white"
          },
          "hoverlabel": {
           "align": "left"
          },
          "hovermode": "closest",
          "mapbox": {
           "style": "light"
          },
          "paper_bgcolor": "white",
          "plot_bgcolor": "#E5ECF6",
          "polar": {
           "angularaxis": {
            "gridcolor": "white",
            "linecolor": "white",
            "ticks": ""
           },
           "bgcolor": "#E5ECF6",
           "radialaxis": {
            "gridcolor": "white",
            "linecolor": "white",
            "ticks": ""
           }
          },
          "scene": {
           "xaxis": {
            "backgroundcolor": "#E5ECF6",
            "gridcolor": "white",
            "gridwidth": 2,
            "linecolor": "white",
            "showbackground": true,
            "ticks": "",
            "zerolinecolor": "white"
           },
           "yaxis": {
            "backgroundcolor": "#E5ECF6",
            "gridcolor": "white",
            "gridwidth": 2,
            "linecolor": "white",
            "showbackground": true,
            "ticks": "",
            "zerolinecolor": "white"
           },
           "zaxis": {
            "backgroundcolor": "#E5ECF6",
            "gridcolor": "white",
            "gridwidth": 2,
            "linecolor": "white",
            "showbackground": true,
            "ticks": "",
            "zerolinecolor": "white"
           }
          },
          "shapedefaults": {
           "line": {
            "color": "#2a3f5f"
           }
          },
          "ternary": {
           "aaxis": {
            "gridcolor": "white",
            "linecolor": "white",
            "ticks": ""
           },
           "baxis": {
            "gridcolor": "white",
            "linecolor": "white",
            "ticks": ""
           },
           "bgcolor": "#E5ECF6",
           "caxis": {
            "gridcolor": "white",
            "linecolor": "white",
            "ticks": ""
           }
          },
          "title": {
           "x": 0.05
          },
          "xaxis": {
           "automargin": true,
           "gridcolor": "white",
           "linecolor": "white",
           "ticks": "",
           "title": {
            "standoff": 15
           },
           "zerolinecolor": "white",
           "zerolinewidth": 2
          },
          "yaxis": {
           "automargin": true,
           "gridcolor": "white",
           "linecolor": "white",
           "ticks": "",
           "title": {
            "standoff": 15
           },
           "zerolinecolor": "white",
           "zerolinewidth": 2
          }
         }
        },
        "title": {
         "text": "GPA por Nivel de educación de los padres"
        },
        "xaxis": {
         "anchor": "y",
         "domain": [
          0,
          1
         ],
         "title": {
          "text": "GPA"
         }
        },
        "yaxis": {
         "anchor": "x",
         "domain": [
          0,
          1
         ],
         "title": {
          "text": "parental level of education"
         }
        }
       }
      }
     },
     "metadata": {},
     "output_type": "display_data"
    }
   ],
   "source": [
    "# Código para quintiles \n",
    "# La variable que contenga los quintiles debe llamarse GPA cuantiles para que el gráfico funcione.\n",
    "clear_df_grades = clean_data(df_grades)\n",
    "alumnos_promedio(clear_df_grades)\n",
    "data_con_promedios=clear_df_grades.copy()\n",
    "data_con_promedios['GPA cuantiles']=pd.qcut(data_con_promedios['GPA'], 5, labels=['Bajísimo', 'Bajo', 'Medio', 'Alto', 'Muy alto'])\n",
    "display(data_con_promedios)\n",
    "# Código de gráfico \n",
    "import plotly.express as px\n",
    "fig = px.scatter(\n",
    "    data_con_promedios.sort_values(by=\"GPA\"),\n",
    "    x=\"GPA\",\n",
    "    y=\"parental level of education\",\n",
    "    hover_data=[\"gender\"],\n",
    "    color=\"GPA cuantiles\",\n",
    "    title=\"GPA por Nivel de educación de los padres\",\n",
    "    color_discrete_sequence=[\"tomato\", \"orange\", \"yellow\", \"greenyellow\", \"green\"]\n",
    ")\n",
    "\n",
    "fig\n"
   ]
  },
  {
   "cell_type": "markdown",
   "metadata": {
    "cell_id": "00062-ad093927-5bf2-4f2f-bc1d-55aee96cf311",
    "deepnote_cell_height": 70.796875,
    "deepnote_cell_type": "markdown",
    "tags": []
   },
   "source": [
    "```\n",
    "Se observa una tendencia a tener mejores notas en los alumnos cuyos apdresz terminaron el colegio. Se observa además que hay menor cantidad de GPA Bajísimo en la medida que los apdres tienen un payor nivel educacional. Además destacar que los las distribuciones de notas de alumnos con padres con enseñanza highschool o superior son muy parecidas. Finalmente, hay menos datos en la medida que aumenta la educación de los padres, esto es porque para tener un master primero hay ue tener un bachelor, para tener un bachelor hay que haber hecho college, para haber hecho college hay que haber terminado higschool, etc... por lo que es natural que haya menos padres con mayor educación, pues hay menos personas con mayor educación  que la de menor educación.\n",
    "\n",
    "```"
   ]
  },
  {
   "cell_type": "markdown",
   "metadata": {
    "cell_id": "00063-0d54c0f4-3d67-4c1d-92c0-dcc7882faae0",
    "deepnote_cell_height": 553.78125,
    "deepnote_cell_type": "markdown",
    "id": "Rg4ZMq8ezAH6"
   },
   "source": [
    "# Conclusión\n",
    "Eso ha sido todo para el lab de hoy, recuerden que el laboratorio tiene un plazo de entrega de una semana. Cualquier duda del laboratorio, no duden en contactarnos por mail o U-cursos.\n",
    "\n",
    "<p align=\"center\">\n",
    "  <img src=\"https://media1.tenor.com/images/2f7df460196625edc45b8380d158e5ee/tenor.gif?itemid=16669403\">\n",
    "</p>"
   ]
  },
  {
   "cell_type": "markdown",
   "metadata": {
    "cell_id": "00064-230f1ae7-660b-4bae-822a-fee59dada1d1",
    "deepnote_cell_height": 171.390625,
    "deepnote_cell_type": "markdown",
    "id": "wCL1lACBzAH7"
   },
   "source": [
    "<br>\n",
    "<center>\n",
    "<img src=\"https://i.kym-cdn.com/photos/images/original/001/194/195/b18.png\" width=100 height=50 />\n",
    "</center>\n",
    "<br>"
   ]
  },
  {
   "cell_type": "markdown",
   "metadata": {
    "created_in_deepnote_cell": true,
    "deepnote_cell_type": "markdown",
    "tags": []
   },
   "source": [
    "<a style='text-decoration:none;line-height:16px;display:flex;color:#5B5B62;padding:10px;justify-content:end;' href='https://deepnote.com?utm_source=created-in-deepnote-cell&projectId=87110296-876e-426f-b91d-aaf681223468' target=\"_blank\">\n",
    "<img alt='Created in deepnote.com' style='display:inline;max-height:16px;margin:0px;margin-right:7.5px;' src='data:image/svg+xml;base64,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' > </img>\n",
    "Created in <span style='font-weight:600;margin-left:4px;'>Deepnote</span></a>"
   ]
  }
 ],
 "metadata": {
  "colab": {
   "collapsed_sections": [],
   "name": "Laboratorio2.ipynb",
   "provenance": [],
   "toc_visible": true
  },
  "deepnote": {},
  "deepnote_execution_queue": [],
  "deepnote_notebook_id": "7ce98c1f-486d-455c-8cea-d01f96f5dab9",
  "kernelspec": {
   "display_name": "Python 3",
   "language": "python",
   "name": "python3"
  },
  "language_info": {
   "codemirror_mode": {
    "name": "ipython",
    "version": 3
   },
   "file_extension": ".py",
   "mimetype": "text/x-python",
   "name": "python",
   "nbconvert_exporter": "python",
   "pygments_lexer": "ipython3",
   "version": "3.9.6"
  },
  "toc": {
   "base_numbering": 1,
   "nav_menu": {},
   "number_sections": true,
   "sideBar": true,
   "skip_h1_title": true,
   "title_cell": "Tabla de Contenidos",
   "title_sidebar": "Contenidos",
   "toc_cell": false,
   "toc_position": {
    "height": "calc(100% - 180px)",
    "left": "10px",
    "top": "150px",
    "width": "241.867px"
   },
   "toc_section_display": true,
   "toc_window_display": true
  },
  "varInspector": {
   "cols": {
    "lenName": 16,
    "lenType": 16,
    "lenVar": 40
   },
   "kernels_config": {
    "python": {
     "delete_cmd_postfix": "",
     "delete_cmd_prefix": "del ",
     "library": "var_list.py",
     "varRefreshCmd": "print(var_dic_list())"
    },
    "r": {
     "delete_cmd_postfix": ") ",
     "delete_cmd_prefix": "rm(",
     "library": "var_list.r",
     "varRefreshCmd": "cat(var_dic_list()) "
    }
   },
   "types_to_exclude": [
    "module",
    "function",
    "builtin_function_or_method",
    "instance",
    "_Feature"
   ],
   "window_display": false
  }
 },
 "nbformat": 4,
 "nbformat_minor": 0
}
